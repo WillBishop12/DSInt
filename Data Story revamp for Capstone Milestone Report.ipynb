{
 "cells": [
  {
   "cell_type": "code",
   "execution_count": 1,
   "metadata": {
    "collapsed": true
   },
   "outputs": [],
   "source": [
    "import pandas as pd\n",
    "import numpy as np\n",
    "import matplotlib.pyplot as plt\n",
    "%matplotlib inline"
   ]
  },
  {
   "cell_type": "code",
   "execution_count": 2,
   "metadata": {
    "collapsed": true
   },
   "outputs": [],
   "source": [
    "OnTimeData = pd.read_csv('Sample_2011_2016_car-mark-lat-long')"
   ]
  },
  {
   "cell_type": "code",
   "execution_count": 3,
   "metadata": {
    "collapsed": true
   },
   "outputs": [],
   "source": [
    "#We need to get rid of the two separate values for ExpressJet\n",
    "OnTimeData[\"Carrier Name\"] = OnTimeData[\"Carrier Name\"].replace(\"ExpressJet Airlines Inc. (1)\",\n",
    "                                                               \"ExpressJet Airlines Inc.\")"
   ]
  },
  {
   "cell_type": "code",
   "execution_count": 3,
   "metadata": {
    "collapsed": false
   },
   "outputs": [
    {
     "data": {
      "text/html": [
       "<div>\n",
       "<table border=\"1\" class=\"dataframe\">\n",
       "  <thead>\n",
       "    <tr style=\"text-align: right;\">\n",
       "      <th></th>\n",
       "      <th>Unnamed: 0</th>\n",
       "      <th>Unnamed: 0.1</th>\n",
       "      <th>Year</th>\n",
       "      <th>Quarter</th>\n",
       "      <th>Month</th>\n",
       "      <th>DayofMonth</th>\n",
       "      <th>DayOfWeek</th>\n",
       "      <th>FlightDate</th>\n",
       "      <th>UniqueCarrier</th>\n",
       "      <th>AirlineID</th>\n",
       "      <th>...</th>\n",
       "      <th>iata_faa_x</th>\n",
       "      <th>orig_lat</th>\n",
       "      <th>orig_long</th>\n",
       "      <th>orig_elev</th>\n",
       "      <th>orig_zone</th>\n",
       "      <th>iata_faa_y</th>\n",
       "      <th>dest_lat</th>\n",
       "      <th>dest_long</th>\n",
       "      <th>dest_elev</th>\n",
       "      <th>dest_zone</th>\n",
       "    </tr>\n",
       "  </thead>\n",
       "  <tbody>\n",
       "    <tr>\n",
       "      <th>0</th>\n",
       "      <td>0</td>\n",
       "      <td>0</td>\n",
       "      <td>2011</td>\n",
       "      <td>2</td>\n",
       "      <td>6</td>\n",
       "      <td>26</td>\n",
       "      <td>7</td>\n",
       "      <td>2011-06-26</td>\n",
       "      <td>MQ</td>\n",
       "      <td>20398</td>\n",
       "      <td>...</td>\n",
       "      <td>ORD</td>\n",
       "      <td>41.978603</td>\n",
       "      <td>-87.904842</td>\n",
       "      <td>668</td>\n",
       "      <td>-6</td>\n",
       "      <td>IAH</td>\n",
       "      <td>29.984433</td>\n",
       "      <td>-95.341442</td>\n",
       "      <td>97</td>\n",
       "      <td>-6</td>\n",
       "    </tr>\n",
       "    <tr>\n",
       "      <th>1</th>\n",
       "      <td>1</td>\n",
       "      <td>1</td>\n",
       "      <td>2011</td>\n",
       "      <td>2</td>\n",
       "      <td>6</td>\n",
       "      <td>16</td>\n",
       "      <td>4</td>\n",
       "      <td>2011-06-16</td>\n",
       "      <td>MQ</td>\n",
       "      <td>20398</td>\n",
       "      <td>...</td>\n",
       "      <td>ORD</td>\n",
       "      <td>41.978603</td>\n",
       "      <td>-87.904842</td>\n",
       "      <td>668</td>\n",
       "      <td>-6</td>\n",
       "      <td>IAH</td>\n",
       "      <td>29.984433</td>\n",
       "      <td>-95.341442</td>\n",
       "      <td>97</td>\n",
       "      <td>-6</td>\n",
       "    </tr>\n",
       "    <tr>\n",
       "      <th>2</th>\n",
       "      <td>2</td>\n",
       "      <td>2</td>\n",
       "      <td>2011</td>\n",
       "      <td>2</td>\n",
       "      <td>6</td>\n",
       "      <td>30</td>\n",
       "      <td>4</td>\n",
       "      <td>2011-06-30</td>\n",
       "      <td>MQ</td>\n",
       "      <td>20398</td>\n",
       "      <td>...</td>\n",
       "      <td>ORD</td>\n",
       "      <td>41.978603</td>\n",
       "      <td>-87.904842</td>\n",
       "      <td>668</td>\n",
       "      <td>-6</td>\n",
       "      <td>IAH</td>\n",
       "      <td>29.984433</td>\n",
       "      <td>-95.341442</td>\n",
       "      <td>97</td>\n",
       "      <td>-6</td>\n",
       "    </tr>\n",
       "    <tr>\n",
       "      <th>3</th>\n",
       "      <td>3</td>\n",
       "      <td>3</td>\n",
       "      <td>2011</td>\n",
       "      <td>2</td>\n",
       "      <td>6</td>\n",
       "      <td>30</td>\n",
       "      <td>4</td>\n",
       "      <td>2011-06-30</td>\n",
       "      <td>MQ</td>\n",
       "      <td>20398</td>\n",
       "      <td>...</td>\n",
       "      <td>ORD</td>\n",
       "      <td>41.978603</td>\n",
       "      <td>-87.904842</td>\n",
       "      <td>668</td>\n",
       "      <td>-6</td>\n",
       "      <td>IAH</td>\n",
       "      <td>29.984433</td>\n",
       "      <td>-95.341442</td>\n",
       "      <td>97</td>\n",
       "      <td>-6</td>\n",
       "    </tr>\n",
       "    <tr>\n",
       "      <th>4</th>\n",
       "      <td>4</td>\n",
       "      <td>4</td>\n",
       "      <td>2011</td>\n",
       "      <td>2</td>\n",
       "      <td>6</td>\n",
       "      <td>7</td>\n",
       "      <td>2</td>\n",
       "      <td>2011-06-07</td>\n",
       "      <td>MQ</td>\n",
       "      <td>20398</td>\n",
       "      <td>...</td>\n",
       "      <td>ORD</td>\n",
       "      <td>41.978603</td>\n",
       "      <td>-87.904842</td>\n",
       "      <td>668</td>\n",
       "      <td>-6</td>\n",
       "      <td>IAH</td>\n",
       "      <td>29.984433</td>\n",
       "      <td>-95.341442</td>\n",
       "      <td>97</td>\n",
       "      <td>-6</td>\n",
       "    </tr>\n",
       "  </tbody>\n",
       "</table>\n",
       "<p>5 rows × 79 columns</p>\n",
       "</div>"
      ],
      "text/plain": [
       "   Unnamed: 0  Unnamed: 0.1  Year  Quarter  Month  DayofMonth  DayOfWeek  \\\n",
       "0           0             0  2011        2      6          26          7   \n",
       "1           1             1  2011        2      6          16          4   \n",
       "2           2             2  2011        2      6          30          4   \n",
       "3           3             3  2011        2      6          30          4   \n",
       "4           4             4  2011        2      6           7          2   \n",
       "\n",
       "   FlightDate UniqueCarrier  AirlineID    ...     iata_faa_x   orig_lat  \\\n",
       "0  2011-06-26            MQ      20398    ...            ORD  41.978603   \n",
       "1  2011-06-16            MQ      20398    ...            ORD  41.978603   \n",
       "2  2011-06-30            MQ      20398    ...            ORD  41.978603   \n",
       "3  2011-06-30            MQ      20398    ...            ORD  41.978603   \n",
       "4  2011-06-07            MQ      20398    ...            ORD  41.978603   \n",
       "\n",
       "   orig_long  orig_elev  orig_zone  iata_faa_y   dest_lat  dest_long  \\\n",
       "0 -87.904842        668         -6         IAH  29.984433 -95.341442   \n",
       "1 -87.904842        668         -6         IAH  29.984433 -95.341442   \n",
       "2 -87.904842        668         -6         IAH  29.984433 -95.341442   \n",
       "3 -87.904842        668         -6         IAH  29.984433 -95.341442   \n",
       "4 -87.904842        668         -6         IAH  29.984433 -95.341442   \n",
       "\n",
       "  dest_elev  dest_zone  \n",
       "0        97         -6  \n",
       "1        97         -6  \n",
       "2        97         -6  \n",
       "3        97         -6  \n",
       "4        97         -6  \n",
       "\n",
       "[5 rows x 79 columns]"
      ]
     },
     "execution_count": 3,
     "metadata": {},
     "output_type": "execute_result"
    }
   ],
   "source": [
    "\"\"\"1. A first look at the data\"\"\"\n",
    "OnTimeData.head()"
   ]
  },
  {
   "cell_type": "code",
   "execution_count": 4,
   "metadata": {
    "collapsed": false
   },
   "outputs": [
    {
     "data": {
      "text/plain": [
       "Index([u'Unnamed: 0', u'Unnamed: 0.1', u'Year', u'Quarter', u'Month',\n",
       "       u'DayofMonth', u'DayOfWeek', u'FlightDate', u'UniqueCarrier',\n",
       "       u'AirlineID', u'Carrier', u'TailNum', u'FlightNum', u'OriginAirportID',\n",
       "       u'OriginAirportSeqID', u'OriginCityMarketID', u'Origin',\n",
       "       u'OriginCityName', u'OriginState', u'OriginStateFips',\n",
       "       u'OriginStateName', u'OriginWac', u'DestAirportID', u'DestAirportSeqID',\n",
       "       u'DestCityMarketID', u'Dest', u'DestCityName', u'DestState',\n",
       "       u'DestStateFips', u'DestStateName', u'DestWac', u'CRSDepTime',\n",
       "       u'DepTime', u'DepDelay', u'DepDelayMinutes', u'DepDel15',\n",
       "       u'DepartureDelayGroups', u'DepTimeBlk', u'TaxiOut', u'WheelsOff',\n",
       "       u'WheelsOn', u'TaxiIn', u'CRSArrTime', u'ArrTime', u'ArrDelay',\n",
       "       u'ArrDelayMinutes', u'ArrDel15', u'ArrivalDelayGroups', u'ArrTimeBlk',\n",
       "       u'Cancelled', u'CancellationCode', u'CRSElapsedTime',\n",
       "       u'ActualElapsedTime', u'AirTime', u'Flights', u'Distance',\n",
       "       u'DistanceGroup', u'CarrierDelay', u'WeatherDelay', u'NASDelay',\n",
       "       u'SecurityDelay', u'LateAircraftDelay', u'FirstDepTime',\n",
       "       u'TotalAddGTime', u'LongestAddGTime', u'Carrier Name',\n",
       "       u'ArrFlightsPerCity', u'DestMarket', u'OrigMarket', u'iata_faa_x',\n",
       "       u'orig_lat', u'orig_long', u'orig_elev', u'orig_zone', u'iata_faa_y',\n",
       "       u'dest_lat', u'dest_long', u'dest_elev', u'dest_zone'],\n",
       "      dtype='object')"
      ]
     },
     "execution_count": 4,
     "metadata": {},
     "output_type": "execute_result"
    }
   ],
   "source": [
    "OnTimeData.columns"
   ]
  },
  {
   "cell_type": "code",
   "execution_count": 5,
   "metadata": {
    "collapsed": false
   },
   "outputs": [
    {
     "data": {
      "text/plain": [
       " 0     0.209198\n",
       " 1     0.073401\n",
       " 2     0.035510\n",
       " 3     0.020984\n",
       " 4     0.013770\n",
       " 5     0.009824\n",
       " 6     0.007123\n",
       " 7     0.005343\n",
       " 8     0.004101\n",
       " 9     0.003149\n",
       " 10    0.002423\n",
       " 11    0.001849\n",
       " 12    0.007448\n",
       "-2     0.168844\n",
       "-1     0.419061\n",
       "Name: ArrivalDelayGroups, dtype: float64"
      ]
     },
     "execution_count": 5,
     "metadata": {},
     "output_type": "execute_result"
    }
   ],
   "source": [
    "\"\"\"2. Descriptive statistics\"\"\"\n",
    "#Count arrival delay 15-minute groups as a percentage of the data\n",
    "OnTimeData.ArrivalDelayGroups.value_counts(normalize=True, sort=False)"
   ]
  },
  {
   "cell_type": "code",
   "execution_count": 7,
   "metadata": {
    "collapsed": false
   },
   "outputs": [
    {
     "data": {
      "text/plain": [
       "array([[<matplotlib.axes._subplots.AxesSubplot object at 0x000000002A295978>]], dtype=object)"
      ]
     },
     "execution_count": 7,
     "metadata": {},
     "output_type": "execute_result"
    },
    {
     "data": {
      "image/png": "[encoded data removed]",
      "text/plain": [
       "<matplotlib.figure.Figure at 0x183f2eb8>"
      ]
     },
     "metadata": {},
     "output_type": "display_data"
    }
   ],
   "source": [
    "#Histogram of arrival delay 15-minute groups\n",
    "OnTimeData.hist(\"ArrivalDelayGroups\", bins=15, normed=True)"
   ]
  },
  {
   "cell_type": "code",
   "execution_count": 8,
   "metadata": {
    "collapsed": false
   },
   "outputs": [
    {
     "data": {
      "text/plain": [
       "0.18831115593050807"
      ]
     },
     "execution_count": 8,
     "metadata": {},
     "output_type": "execute_result"
    }
   ],
   "source": [
    "#Percentage of flights delayed at least 15 minutes\n",
    "np.mean(OnTimeData.ArrDel15)"
   ]
  },
  {
   "cell_type": "code",
   "execution_count": 9,
   "metadata": {
    "collapsed": false
   },
   "outputs": [
    {
     "data": {
      "text/plain": [
       "Southwest Airlines Co.          297094\n",
       "Delta Air Lines Inc.            197870\n",
       "ExpressJet Airlines Inc.        156876\n",
       "SkyWest Airlines Inc.           151260\n",
       "American Airlines Inc.          151075\n",
       "United Air Lines Inc.           122357\n",
       "Envoy Air                        92879\n",
       "US Airways Inc.                  83070\n",
       "JetBlue Airways                  61702\n",
       "Alaska Airlines Inc.             39916\n",
       "AirTran Airways Corporation      31224\n",
       "Frontier Airlines Inc.           20858\n",
       "Hawaiian Airlines Inc.           18486\n",
       "Mesa Airlines Inc.               18364\n",
       "Virgin America                   12936\n",
       "ExpressJet Airlines Inc. (1)     12254\n",
       "Spirit Air Lines                  8480\n",
       "Continental Air Lines Inc.        7201\n",
       "Endeavor Air Inc.                 6532\n",
       "Name: Carrier Name, dtype: int64"
      ]
     },
     "execution_count": 9,
     "metadata": {},
     "output_type": "execute_result"
    }
   ],
   "source": [
    "#List airlines by number of flights in the data set\n",
    "OnTimeData[\"Carrier Name\"].value_counts()"
   ]
  },
  {
   "cell_type": "code",
   "execution_count": 21,
   "metadata": {
    "collapsed": false
   },
   "outputs": [
    {
     "data": {
      "text/plain": [
       "Southwest Airlines Co.         297094\n",
       "Delta Air Lines Inc.           197870\n",
       "ExpressJet Airlines Inc.       169130\n",
       "SkyWest Airlines Inc.          151260\n",
       "American Airlines Inc.         151075\n",
       "United Air Lines Inc.          122357\n",
       "Envoy Air                       92879\n",
       "US Airways Inc.                 83070\n",
       "JetBlue Airways                 61702\n",
       "Alaska Airlines Inc.            39916\n",
       "AirTran Airways Corporation     31224\n",
       "Frontier Airlines Inc.          20858\n",
       "Hawaiian Airlines Inc.          18486\n",
       "Mesa Airlines Inc.              18364\n",
       "Virgin America                  12936\n",
       "Spirit Air Lines                 8480\n",
       "Continental Air Lines Inc.       7201\n",
       "Endeavor Air Inc.                6532\n",
       "Name: Carrier Name, dtype: int64"
      ]
     },
     "execution_count": 21,
     "metadata": {},
     "output_type": "execute_result"
    }
   ],
   "source": [
    "OnTimeData[\"Carrier Name\"].value_counts()"
   ]
  },
  {
   "cell_type": "code",
   "execution_count": 22,
   "metadata": {
    "collapsed": false
   },
   "outputs": [
    {
     "data": {
      "text/plain": [
       "Southwest Airlines Co.         0.199334\n",
       "Delta Air Lines Inc.           0.132760\n",
       "ExpressJet Airlines Inc.       0.113477\n",
       "SkyWest Airlines Inc.          0.101487\n",
       "American Airlines Inc.         0.101363\n",
       "United Air Lines Inc.          0.082095\n",
       "Envoy Air                      0.062317\n",
       "US Airways Inc.                0.055735\n",
       "JetBlue Airways                0.041399\n",
       "Alaska Airlines Inc.           0.026781\n",
       "AirTran Airways Corporation    0.020950\n",
       "Frontier Airlines Inc.         0.013995\n",
       "Hawaiian Airlines Inc.         0.012403\n",
       "Mesa Airlines Inc.             0.012321\n",
       "Virgin America                 0.008679\n",
       "Spirit Air Lines               0.005690\n",
       "Continental Air Lines Inc.     0.004831\n",
       "Endeavor Air Inc.              0.004383\n",
       "Name: Carrier Name, dtype: float64"
      ]
     },
     "execution_count": 22,
     "metadata": {},
     "output_type": "execute_result"
    }
   ],
   "source": [
    "#Airlines by percentage of flights\n",
    "OnTimeData[\"Carrier Name\"].value_counts(normalize=True)"
   ]
  },
  {
   "cell_type": "code",
   "execution_count": 23,
   "metadata": {
    "collapsed": false
   },
   "outputs": [
    {
     "data": {
      "text/plain": [
       "Carrier Name\n",
       "Spirit Air Lines               0.299121\n",
       "Frontier Airlines Inc.         0.240126\n",
       "JetBlue Airways                0.224305\n",
       "ExpressJet Airlines Inc.       0.223300\n",
       "Envoy Air                      0.217871\n",
       "Continental Air Lines Inc.     0.211998\n",
       "United Air Lines Inc.          0.204212\n",
       "American Airlines Inc.         0.198692\n",
       "Southwest Airlines Co.         0.194953\n",
       "SkyWest Airlines Inc.          0.183913\n",
       "Virgin America                 0.181485\n",
       "Endeavor Air Inc.              0.172435\n",
       "US Airways Inc.                0.168809\n",
       "Mesa Airlines Inc.             0.160941\n",
       "AirTran Airways Corporation    0.151417\n",
       "Delta Air Lines Inc.           0.140672\n",
       "Alaska Airlines Inc.           0.120817\n",
       "Hawaiian Airlines Inc.         0.079330\n",
       "Name: ArrDel15, dtype: float64"
      ]
     },
     "execution_count": 23,
     "metadata": {},
     "output_type": "execute_result"
    }
   ],
   "source": [
    "#List airlines by percentage of flights delayed 15 minutes\n",
    "OnTimeData.groupby(\"Carrier Name\").mean()[\"ArrDel15\"].sort_values(ascending=False)"
   ]
  },
  {
   "cell_type": "code",
   "execution_count": 12,
   "metadata": {
    "collapsed": false
   },
   "outputs": [
    {
     "data": {
      "text/plain": [
       "<matplotlib.axes._subplots.AxesSubplot at 0x2d9d29e8>"
      ]
     },
     "execution_count": 12,
     "metadata": {},
     "output_type": "execute_result"
    },
    {
     "data": {
      "image/png": "[encoded data removed]",
      "text/plain": [
       "<matplotlib.figure.Figure at 0x33902978>"
      ]
     },
     "metadata": {},
     "output_type": "display_data"
    }
   ],
   "source": [
    "#Arrival delay rates by scheduled arrival time\n",
    "OnTimeData.groupby(\"ArrTimeBlk\").mean().plot(y='ArrDel15', kind='bar')\n",
    "\n",
    "#Obvious pattern: more delays later in the day, tapering off slightly late at night."
   ]
  },
  {
   "cell_type": "code",
   "execution_count": 37,
   "metadata": {
    "collapsed": false
   },
   "outputs": [
    {
     "data": {
      "text/plain": [
       "<matplotlib.axes._subplots.AxesSubplot at 0x39acb9b0>"
      ]
     },
     "execution_count": 37,
     "metadata": {},
     "output_type": "execute_result"
    },
    {
     "data": {
      "image/png": "[encoded data removed]",
      "text/plain": [
       "<matplotlib.figure.Figure at 0x3bead518>"
      ]
     },
     "metadata": {},
     "output_type": "display_data"
    }
   ],
   "source": [
    "#By scheduled departure time\n",
    "OnTimeData.groupby(\"DepTimeBlk\").mean().plot(y='ArrDel15', kind='bar')"
   ]
  },
  {
   "cell_type": "code",
   "execution_count": 13,
   "metadata": {
    "collapsed": false
   },
   "outputs": [
    {
     "data": {
      "text/plain": [
       "'\\nairlines = OnTimeData[\"Carrier Name\"].unique()\\ni = 0\\nwhile i in range(len(airlines)):\\n    a = airlines[i]\\n    airframe = OnTimeData[OnTimeData[\"Carrier Name\"] == a]\\n    #need \"dropna\" to avoid error\\n    fig = sns.distplot(airframe[\"ArrivalDelayGroups\"].dropna(), norm_hist=True, kde=False, \\n                 bins=15, axlabel=\"Arrival delay groups for \"+a).get_figure()\\n    #fig.set_title(\\'Arrival delay groups for %s\\' % a)\\n    fig.savefig(\\'Delays %s.png\\' % a)\\n    fig.clf()\\n    i += 1\\n'"
      ]
     },
     "execution_count": 13,
     "metadata": {},
     "output_type": "execute_result"
    }
   ],
   "source": [
    "#Distribution of arrival times by airline: see individual graphs.  Here is the code used to create them:\n",
    "\"\"\"\n",
    "airlines = OnTimeData[\"Carrier Name\"].unique()\n",
    "i = 0\n",
    "while i in range(len(airlines)):\n",
    "    a = airlines[i]\n",
    "    airframe = OnTimeData[OnTimeData[\"Carrier Name\"] == a]\n",
    "    #need \"dropna\" to avoid error\n",
    "    fig = sns.distplot(airframe[\"ArrivalDelayGroups\"].dropna(), norm_hist=True, kde=False, \n",
    "                 bins=15, axlabel=\"Arrival delay groups for \"+a).get_figure()\n",
    "    #fig.set_title('Arrival delay groups for %s' % a)\n",
    "    fig.savefig('Delays %s.png' % a)\n",
    "    fig.clf()\n",
    "    i += 1\n",
    "\"\"\""
   ]
  },
  {
   "cell_type": "code",
   "execution_count": 24,
   "metadata": {
    "collapsed": false
   },
   "outputs": [
    {
     "data": {
      "text/plain": [
       "Carrier Name\n",
       "Alaska Airlines Inc.           -1.419754\n",
       "Delta Air Lines Inc.            0.607397\n",
       "Hawaiian Airlines Inc.          0.626722\n",
       "Endeavor Air Inc.               1.855884\n",
       "US Airways Inc.                 2.104551\n",
       "AirTran Airways Corporation     2.157862\n",
       "Mesa Airlines Inc.              3.697042\n",
       "United Air Lines Inc.           4.686844\n",
       "Virgin America                  5.155826\n",
       "Southwest Airlines Co.          5.185645\n",
       "American Airlines Inc.          5.281326\n",
       "SkyWest Airlines Inc.           5.449992\n",
       "Continental Air Lines Inc.      5.930318\n",
       "JetBlue Airways                 7.076660\n",
       "Envoy Air                       7.231829\n",
       "ExpressJet Airlines Inc.        8.493537\n",
       "Frontier Airlines Inc.         10.371366\n",
       "Spirit Air Lines               14.534153\n",
       "Name: ArrDelay, dtype: float64"
      ]
     },
     "execution_count": 24,
     "metadata": {},
     "output_type": "execute_result"
    }
   ],
   "source": [
    "#Airlines sorted by average delay time\n",
    "OnTimeData.groupby(\"Carrier Name\").mean()[\"ArrDelay\"].sort_values()"
   ]
  },
  {
   "cell_type": "code",
   "execution_count": 15,
   "metadata": {
    "collapsed": false
   },
   "outputs": [
    {
     "data": {
      "text/plain": [
       "Chicago, IL              96839\n",
       "Atlanta, GA              95761\n",
       "Dallas/Fort Worth, TX    66556\n",
       "Houston, TX              56714\n",
       "Denver, CO               56314\n",
       "Los Angeles, CA          54317\n",
       "New York, NY             50868\n",
       "Phoenix, AZ              42896\n",
       "San Francisco, CA        41218\n",
       "Las Vegas, NV            35619\n",
       "Name: DestCityName, dtype: int64"
      ]
     },
     "execution_count": 15,
     "metadata": {},
     "output_type": "execute_result"
    }
   ],
   "source": [
    "#Top 10 cities by number of destination flights\n",
    "dest_city_counts = OnTimeData.DestCityName.value_counts()\n",
    "dest_city_counts.head(10)"
   ]
  },
  {
   "cell_type": "code",
   "execution_count": 16,
   "metadata": {
    "collapsed": false
   },
   "outputs": [
    {
     "data": {
      "text/plain": [
       "DestCityName\n",
       "Topeka, KS                  0.473684\n",
       "Wilmington, DE              0.411765\n",
       "Crescent City, CA           0.401198\n",
       "St. Augustine, FL           0.346154\n",
       "Guam, TT                    0.340909\n",
       "Beaumont/Port Arthur, TX    0.335079\n",
       "St. Cloud, MN               0.333333\n",
       "Hyannis, MA                 0.333333\n",
       "Chico, CA                   0.321053\n",
       "Redding, CA                 0.318841\n",
       "Name: ArrDel15, dtype: float64"
      ]
     },
     "execution_count": 16,
     "metadata": {},
     "output_type": "execute_result"
    }
   ],
   "source": [
    "#Top 10 destination cities by 15-min arrival delay rate\n",
    "dest_city_rates = OnTimeData.groupby(\"DestCityName\").mean()[\"ArrDel15\"].sort_values(ascending=False)\n",
    "dest_city_rates.head(10)"
   ]
  },
  {
   "cell_type": "code",
   "execution_count": 17,
   "metadata": {
    "collapsed": false
   },
   "outputs": [
    {
     "data": {
      "text/plain": [
       "DestCityName\n",
       "Bemidji, MN             0.071429\n",
       "Yakutat, AK             0.069519\n",
       "Aberdeen, SD            0.067568\n",
       "Pocatello, ID           0.065327\n",
       "Vernal, UT              0.064516\n",
       "West Yellowstone, MT    0.062500\n",
       "Cheyenne, WY            0.062500\n",
       "Lewiston, ID            0.042683\n",
       "Staunton, VA            0.000000\n",
       "King Salmon, AK         0.000000\n",
       "Name: ArrDel15, dtype: float64"
      ]
     },
     "execution_count": 17,
     "metadata": {},
     "output_type": "execute_result"
    }
   ],
   "source": [
    "#Bottom 10 destination cities by 15-min arrival delay rate\n",
    "dest_city_rates.tail(10)"
   ]
  },
  {
   "cell_type": "code",
   "execution_count": 18,
   "metadata": {
    "collapsed": false
   },
   "outputs": [
    {
     "data": {
      "text/plain": [
       "DestCityName\n",
       "Topeka, KS                  35.947368\n",
       "Hattiesburg/Laurel, MS      28.921569\n",
       "Wilmington, DE              28.725490\n",
       "Guam, TT                    22.738636\n",
       "Crescent City, CA           21.197605\n",
       "Beaumont/Port Arthur, TX    18.921466\n",
       "Redding, CA                 18.050725\n",
       "Modesto, CA                 17.682171\n",
       "Chico, CA                   17.621053\n",
       "Trenton, NJ                 17.103093\n",
       "Name: ArrDelay, dtype: float64"
      ]
     },
     "execution_count": 18,
     "metadata": {},
     "output_type": "execute_result"
    }
   ],
   "source": [
    "#Top 10 destination cities by average delay time\n",
    "dest_city_averages = OnTimeData.groupby(\"DestCityName\").mean()[\"ArrDelay\"].sort_values(ascending=False)\n",
    "dest_city_averages.head(10)"
   ]
  },
  {
   "cell_type": "code",
   "execution_count": 19,
   "metadata": {
    "collapsed": false
   },
   "outputs": [
    {
     "data": {
      "text/plain": [
       "DestCityName\n",
       "Devils Lake, ND              -6.288462\n",
       "Iron Mountain/Kingsfd, MI    -6.342342\n",
       "King Salmon, AK              -6.363636\n",
       "Bellingham, WA               -7.066372\n",
       "International Falls, MN      -7.190909\n",
       "Yakutat, AK                  -8.101604\n",
       "Lewiston, ID                 -8.158537\n",
       "Staunton, VA                 -9.333333\n",
       "Vernal, UT                   -9.838710\n",
       "Del Rio, TX                 -12.625000\n",
       "Name: ArrDelay, dtype: float64"
      ]
     },
     "execution_count": 19,
     "metadata": {},
     "output_type": "execute_result"
    }
   ],
   "source": [
    "#Bottom 10 destination cities by average delay time\n",
    "dest_city_averages.tail(10)"
   ]
  },
  {
   "cell_type": "code",
   "execution_count": 20,
   "metadata": {
    "collapsed": false
   },
   "outputs": [
    {
     "data": {
      "text/plain": [
       "OriginCityName\n",
       "Crescent City, CA          0.424419\n",
       "Martha's Vineyard, MA      0.390244\n",
       "North Bend/Coos Bay, OR    0.359375\n",
       "Dillingham, AK             0.357143\n",
       "Wilmington, DE             0.338710\n",
       "Modesto, CA                0.335366\n",
       "Adak Island, AK            0.333333\n",
       "Staunton, VA               0.333333\n",
       "Mammoth Lakes, CA          0.326087\n",
       "Muskegon, MI               0.298013\n",
       "Name: ArrDel15, dtype: float64"
      ]
     },
     "execution_count": 20,
     "metadata": {},
     "output_type": "execute_result"
    }
   ],
   "source": [
    "#Top 10 origin cities by 15-min arrival delay rate\n",
    "orig_city_rates = OnTimeData.groupby(\"OriginCityName\").mean()[\"ArrDel15\"].sort_values(ascending=False)\n",
    "orig_city_rates.head(10)"
   ]
  },
  {
   "cell_type": "code",
   "execution_count": 21,
   "metadata": {
    "collapsed": false
   },
   "outputs": [
    {
     "data": {
      "text/plain": [
       "OriginCityName\n",
       "Cedar City, UT          0.070588\n",
       "Jamestown, ND           0.063291\n",
       "Elko, NV                0.050000\n",
       "West Yellowstone, MT    0.050000\n",
       "Lewisburg, WV           0.047619\n",
       "Lewiston, ID            0.040936\n",
       "Butte, MT               0.040462\n",
       "Inyokern, CA            0.012821\n",
       "Moab, UT                0.000000\n",
       "Rockford, IL            0.000000\n",
       "Name: ArrDel15, dtype: float64"
      ]
     },
     "execution_count": 21,
     "metadata": {},
     "output_type": "execute_result"
    }
   ],
   "source": [
    "#Bottom 10 origin cities by 15-min arrival delay rate\n",
    "orig_city_rates.tail(10)"
   ]
  },
  {
   "cell_type": "code",
   "execution_count": 22,
   "metadata": {
    "collapsed": false
   },
   "outputs": [
    {
     "data": {
      "text/plain": [
       "OriginCityName\n",
       "St. Cloud, MN              32.727273\n",
       "Crescent City, CA          29.011628\n",
       "Martha's Vineyard, MA      26.878049\n",
       "Wilmington, DE             26.403226\n",
       "St. Augustine, FL          25.600000\n",
       "North Bend/Coos Bay, OR    22.515625\n",
       "Modesto, CA                19.006098\n",
       "Redding, CA                18.583643\n",
       "Hancock/Houghton, MI       18.482759\n",
       "Arcata/Eureka, CA          18.460366\n",
       "Name: ArrDelay, dtype: float64"
      ]
     },
     "execution_count": 22,
     "metadata": {},
     "output_type": "execute_result"
    }
   ],
   "source": [
    "#Top 10 origin cities by average delay time\n",
    "orig_city_averages = OnTimeData.groupby(\"OriginCityName\").mean()[\"ArrDelay\"].sort_values(ascending=False)\n",
    "orig_city_averages.head(10)"
   ]
  },
  {
   "cell_type": "code",
   "execution_count": 23,
   "metadata": {
    "collapsed": false
   },
   "outputs": [
    {
     "data": {
      "text/plain": [
       "OriginCityName\n",
       "Cordova, AK             -5.227027\n",
       "Helena, MT              -5.905028\n",
       "Brainerd, MN            -6.284672\n",
       "West Yellowstone, MT    -6.733333\n",
       "Watertown, NY           -8.180556\n",
       "Butte, MT               -9.491329\n",
       "Inyokern, CA            -9.974359\n",
       "Rockford, IL           -10.200000\n",
       "Lewisburg, WV          -15.238095\n",
       "Moab, UT               -15.451613\n",
       "Name: ArrDelay, dtype: float64"
      ]
     },
     "execution_count": 23,
     "metadata": {},
     "output_type": "execute_result"
    }
   ],
   "source": [
    "#Bottom 10 origin cities by average delay time\n",
    "orig_city_averages.tail(10)"
   ]
  },
  {
   "cell_type": "code",
   "execution_count": 24,
   "metadata": {
    "collapsed": false
   },
   "outputs": [
    {
     "data": {
      "text/plain": [
       "Chicago, IL              96839\n",
       "Atlanta, GA              95761\n",
       "Dallas/Fort Worth, TX    66556\n",
       "Houston, TX              56714\n",
       "Denver, CO               56314\n",
       "Los Angeles, CA          54317\n",
       "New York, NY             50868\n",
       "Phoenix, AZ              42896\n",
       "San Francisco, CA        41218\n",
       "Las Vegas, NV            35619\n",
       "Name: DestCityName, dtype: int64"
      ]
     },
     "execution_count": 24,
     "metadata": {},
     "output_type": "execute_result"
    }
   ],
   "source": [
    "#Many of the cities in the above lists are small and obscure.  Let's find a reasonable definition for a \"large\" airport.\n",
    "dest_city_counts = OnTimeData.DestCityName.value_counts()\n",
    "dest_city_counts.head(10)"
   ]
  },
  {
   "cell_type": "code",
   "execution_count": 25,
   "metadata": {
    "collapsed": false
   },
   "outputs": [
    {
     "data": {
      "text/plain": [
       "<matplotlib.axes._subplots.AxesSubplot at 0x15b636d8>"
      ]
     },
     "execution_count": 25,
     "metadata": {},
     "output_type": "execute_result"
    },
    {
     "data": {
      "image/png": "[encoded data removed]",
      "text/plain": [
       "<matplotlib.figure.Figure at 0x46518c18>"
      ]
     },
     "metadata": {},
     "output_type": "display_data"
    }
   ],
   "source": [
    "#All cities are under 100,000, so let's make a histogram with 50 bins going up to 100,000\n",
    "dest_city_counts.hist(range=(0, 100000), bins=50)"
   ]
  },
  {
   "cell_type": "code",
   "execution_count": 4,
   "metadata": {
    "collapsed": false
   },
   "outputs": [
    {
     "data": {
      "text/plain": [
       "DestCityName\n",
       "Knoxville, TN           0.261884\n",
       "San Francisco, CA       0.259590\n",
       "Newark, NJ              0.256223\n",
       "Colorado Springs, CO    0.232099\n",
       "Tulsa, OK               0.228763\n",
       "Little Rock, AR         0.228751\n",
       "Baton Rouge, LA         0.228079\n",
       "Fayetteville, AR        0.227697\n",
       "New York, NY            0.226874\n",
       "Oklahoma City, OK       0.226355\n",
       "Name: ArrDel15, dtype: float64"
      ]
     },
     "execution_count": 4,
     "metadata": {},
     "output_type": "execute_result"
    }
   ],
   "source": [
    "#Most cities are in the first bin (under 2,000), so let's restrict to cities with over 2,000 departures\n",
    "\n",
    "#New column for arriving flights by city\n",
    "OnTimeData[\"ArrFlightsPerCity\"] = OnTimeData.groupby('DestCityName')[\"DestCityName\"].transform('count')\n",
    "\n",
    "#Top 10 \"large\" destination cities by 15-min arrival delay rate\n",
    "lg_dest_city_rates = OnTimeData[OnTimeData[\"ArrFlightsPerCity\"] > 2000].groupby(\"DestCityName\") \\\n",
    "    .mean()[\"ArrDel15\"].sort_values(ascending=False)\n",
    "lg_dest_city_rates.head(10)"
   ]
  },
  {
   "cell_type": "code",
   "execution_count": 5,
   "metadata": {
    "collapsed": false
   },
   "outputs": [
    {
     "data": {
      "text/plain": [
       "DestCityName\n",
       "Burbank, CA           0.151682\n",
       "Minneapolis, MN       0.149928\n",
       "Phoenix, AZ           0.147668\n",
       "Santa Ana, CA         0.146059\n",
       "Honolulu, HI          0.138209\n",
       "Long Beach, CA        0.132636\n",
       "Salt Lake City, UT    0.123120\n",
       "Kahului, HI           0.112535\n",
       "Kona, HI              0.111616\n",
       "Lihue, HI             0.100417\n",
       "Name: ArrDel15, dtype: float64"
      ]
     },
     "execution_count": 5,
     "metadata": {},
     "output_type": "execute_result"
    }
   ],
   "source": [
    "#Bottom 10 large destination cities by 15-min arrival delay rate\n",
    "lg_dest_city_rates.tail(10)"
   ]
  },
  {
   "cell_type": "code",
   "execution_count": 6,
   "metadata": {
    "collapsed": false
   },
   "outputs": [
    {
     "data": {
      "text/plain": [
       "DestCityName\n",
       "Knoxville, TN           12.259683\n",
       "San Francisco, CA       10.296362\n",
       "Newark, NJ               9.722555\n",
       "Colorado Springs, CO     9.552675\n",
       "Wichita, KS              8.595087\n",
       "Oklahoma City, OK        8.126632\n",
       "Baton Rouge, LA          7.963001\n",
       "Fayetteville, AR         7.935050\n",
       "El Paso, TX              7.891127\n",
       "Little Rock, AR          7.870222\n",
       "Name: ArrDelay, dtype: float64"
      ]
     },
     "execution_count": 6,
     "metadata": {},
     "output_type": "execute_result"
    }
   ],
   "source": [
    "#Top 10 large destination cities by average delay time\n",
    "lg_dest_city_averages = OnTimeData[OnTimeData[\"ArrFlightsPerCity\"] > 2000].groupby(\"DestCityName\") \\\n",
    "    .mean()[\"ArrDelay\"].sort_values(ascending=False)\n",
    "lg_dest_city_averages.head(10)"
   ]
  },
  {
   "cell_type": "code",
   "execution_count": 7,
   "metadata": {
    "collapsed": false
   },
   "outputs": [
    {
     "data": {
      "text/plain": [
       "DestCityName\n",
       "Detroit, MI           1.668989\n",
       "Minneapolis, MN       1.603056\n",
       "Long Beach, CA        1.487681\n",
       "Kahului, HI           1.446805\n",
       "Phoenix, AZ           1.218193\n",
       "Seattle, WA           1.184162\n",
       "Santa Ana, CA         0.884978\n",
       "Lihue, HI             0.441626\n",
       "Anchorage, AK        -0.052557\n",
       "Salt Lake City, UT   -0.202250\n",
       "Name: ArrDelay, dtype: float64"
      ]
     },
     "execution_count": 7,
     "metadata": {},
     "output_type": "execute_result"
    }
   ],
   "source": [
    "#Bottom 10 large destination cities by average delay time\n",
    "lg_dest_city_averages.tail(10)"
   ]
  },
  {
   "cell_type": "code",
   "execution_count": 8,
   "metadata": {
    "collapsed": false
   },
   "outputs": [
    {
     "data": {
      "text/plain": [
       "OriginCityName\n",
       "Chicago, IL              0.246459\n",
       "Newark, NJ               0.243358\n",
       "San Francisco, CA        0.226197\n",
       "Dallas/Fort Worth, TX    0.225685\n",
       "White Plains, NY         0.221996\n",
       "Denver, CO               0.220980\n",
       "Miami, FL                0.220578\n",
       "New York, NY             0.217625\n",
       "Fayetteville, AR         0.216236\n",
       "Baltimore, MD            0.216208\n",
       "Name: ArrDel15, dtype: float64"
      ]
     },
     "execution_count": 8,
     "metadata": {},
     "output_type": "execute_result"
    }
   ],
   "source": [
    "#Number of departing flights per city\n",
    "OnTimeData['DepFlightsPerCity'] = OnTimeData.groupby('OriginCityName')['OriginCityName'].transform('count')\n",
    "\n",
    "#Top 10 \"large\" origin cities by 15-min arrival delay rate\n",
    "lg_orig_city_rates = OnTimeData[OnTimeData[\"DepFlightsPerCity\"] > 2000].groupby(\"OriginCityName\") \\\n",
    "    .mean()[\"ArrDel15\"].sort_values(ascending=False)\n",
    "lg_orig_city_rates.head(10)"
   ]
  },
  {
   "cell_type": "code",
   "execution_count": 9,
   "metadata": {
    "collapsed": false
   },
   "outputs": [
    {
     "data": {
      "text/plain": [
       "OriginCityName\n",
       "Boise, ID             0.141738\n",
       "Burbank, CA           0.129043\n",
       "Portland, OR          0.128030\n",
       "Salt Lake City, UT    0.123080\n",
       "Anchorage, AK         0.112279\n",
       "Honolulu, HI          0.106650\n",
       "Spokane, WA           0.104562\n",
       "Kahului, HI           0.099588\n",
       "Lihue, HI             0.094640\n",
       "Kona, HI              0.093424\n",
       "Name: ArrDel15, dtype: float64"
      ]
     },
     "execution_count": 9,
     "metadata": {},
     "output_type": "execute_result"
    }
   ],
   "source": [
    "#Bottom 10 large origin cities by 15-min arrival delay rate\n",
    "lg_orig_city_rates.tail(10)"
   ]
  },
  {
   "cell_type": "code",
   "execution_count": 10,
   "metadata": {
    "collapsed": false
   },
   "outputs": [
    {
     "data": {
      "text/plain": [
       "OriginCityName\n",
       "Chicago, IL              9.167141\n",
       "Santa Barbara, CA        8.919348\n",
       "Baton Rouge, LA          8.825114\n",
       "Knoxville, TN            8.705857\n",
       "Fresno, CA               8.190534\n",
       "Dallas/Fort Worth, TX    8.160374\n",
       "San Francisco, CA        8.013136\n",
       "Fayetteville, AR         7.796483\n",
       "White Plains, NY         7.176171\n",
       "Savannah, GA             7.156038\n",
       "Name: ArrDelay, dtype: float64"
      ]
     },
     "execution_count": 10,
     "metadata": {},
     "output_type": "execute_result"
    }
   ],
   "source": [
    "#Top 10 large origin cities by average delay time\n",
    "lg_orig_city_averages = OnTimeData[OnTimeData[\"DepFlightsPerCity\"] > 2000].groupby(\"OriginCityName\") \\\n",
    "    .mean()[\"ArrDelay\"].sort_values(ascending=False)\n",
    "lg_orig_city_averages.head(10)"
   ]
  },
  {
   "cell_type": "code",
   "execution_count": 11,
   "metadata": {
    "collapsed": false
   },
   "outputs": [
    {
     "data": {
      "text/plain": [
       "OriginCityName\n",
       "Portland, OR          0.843595\n",
       "Kahului, HI           0.802973\n",
       "Kona, HI              0.798828\n",
       "Manchester, NH        0.728004\n",
       "Pittsburgh, PA        0.657656\n",
       "Hartford, CT          0.361890\n",
       "Salt Lake City, UT   -0.042338\n",
       "Lihue, HI            -0.635685\n",
       "Anchorage, AK        -0.828226\n",
       "Spokane, WA          -0.859911\n",
       "Name: ArrDelay, dtype: float64"
      ]
     },
     "execution_count": 11,
     "metadata": {},
     "output_type": "execute_result"
    }
   ],
   "source": [
    "#Bottom 10 large origin cities by average delay time\n",
    "lg_orig_city_averages.tail(10)"
   ]
  },
  {
   "cell_type": "code",
   "execution_count": null,
   "metadata": {
    "collapsed": false
   },
   "outputs": [],
   "source": [
    "#Now let's do the same descriptive statistics for large \"markets\" instead of individual cities\n",
    "OnTimeData['ArrFlightsPerMarket'] = OnTimeData.groupby('DestMarket')['DestMarket'].transform('count')\n",
    "lg_dest_market_rates = OnTimeData[OnTimeData['ArrFlightsPerMarket'] > 2000].groupby('DestMarket') \\\n",
    "    .mean()['ArrDel15'].sort_values(ascending=False)\n",
    "\n",
    "#Top 10 large destination markets by arrival delay rate\n",
    "lg_dest_market_rates.head(10)"
   ]
  },
  {
   "cell_type": "code",
   "execution_count": null,
   "metadata": {
    "collapsed": false
   },
   "outputs": [],
   "source": [
    "#Bottom 10 large destination markets by arrival delay rate\n",
    "lg_dest_market_rates.tail(10)"
   ]
  },
  {
   "cell_type": "code",
   "execution_count": null,
   "metadata": {
    "collapsed": false
   },
   "outputs": [],
   "source": [
    "lg_dest_market_averages = OnTimeData[OnTimeData['ArrFlightsPerMarket'] > 2000].groupby('DestMarket') \\\n",
    "    .mean()['ArrDelay'].sort_values(ascending=False)\n",
    "#Top 10 large destination markets by average delay time\n",
    "lg_dest_market_averages.head(10)"
   ]
  },
  {
   "cell_type": "code",
   "execution_count": null,
   "metadata": {
    "collapsed": false
   },
   "outputs": [],
   "source": [
    "#Bottom 10 large destination markets by average delay time\n",
    "lg_dest_market_averages.tail(10)"
   ]
  },
  {
   "cell_type": "code",
   "execution_count": null,
   "metadata": {
    "collapsed": false
   },
   "outputs": [],
   "source": [
    "OnTimeData['DepFlightsPerMarket'] = OnTimeData.groupby('OrigMarket')['OrigMarket'].transform('count')\n",
    "lg_orig_market_rates = OnTimeData[OnTimeData.DepFlightsPerMarket > 1000].groupby('OrigMarket'). \\\n",
    "    mean()['ArrDel15'].sort_values(ascending=False)\n",
    "#Top 10 large origin markets by arrival delay rate\n",
    "lg_orig_market_rates.head(10)"
   ]
  },
  {
   "cell_type": "code",
   "execution_count": null,
   "metadata": {
    "collapsed": false
   },
   "outputs": [],
   "source": [
    "#bottom 10 large origin markets by arrival delay rate\n",
    "lg_orig_market_rates.tail(10)"
   ]
  },
  {
   "cell_type": "code",
   "execution_count": null,
   "metadata": {
    "collapsed": false
   },
   "outputs": [],
   "source": [
    "lg_orig_market_averages = OnTimeData[OnTimeData.DepFlightsPerMarket > 1000].groupby('OrigMarket'). \\\n",
    "    mean()['ArrDelay'].sort_values(ascending=False)\n",
    "#Top 10 large origin markets by average delay\n",
    "lg_orig_market_averages.head(10)"
   ]
  },
  {
   "cell_type": "code",
   "execution_count": null,
   "metadata": {
    "collapsed": false
   },
   "outputs": [],
   "source": [
    "lg_orig_market_averages.tail(10)"
   ]
  },
  {
   "cell_type": "code",
   "execution_count": 13,
   "metadata": {
    "collapsed": false
   },
   "outputs": [
    {
     "data": {
      "text/plain": [
       "<matplotlib.axes._subplots.AxesSubplot at 0x44e49400>"
      ]
     },
     "execution_count": 13,
     "metadata": {},
     "output_type": "execute_result"
    },
    {
     "data": {
      "image/png": "[encoded data removed]",
      "text/plain": [
       "<matplotlib.figure.Figure at 0x3a51fd30>"
      ]
     },
     "metadata": {},
     "output_type": "display_data"
    }
   ],
   "source": [
    "#We've thoroughly investigated which cities have the highest and lowest delay rates.\n",
    "#Now look at delay rates by season, approximated by quarter.\n",
    "#%matplotlib inline\n",
    "OnTimeData.groupby(\"Quarter\").mean().plot(y='ArrDel15', kind='bar')"
   ]
  },
  {
   "cell_type": "code",
   "execution_count": 14,
   "metadata": {
    "collapsed": false
   },
   "outputs": [
    {
     "data": {
      "text/plain": [
       "<matplotlib.axes._subplots.AxesSubplot at 0x44e67668>"
      ]
     },
     "execution_count": 14,
     "metadata": {},
     "output_type": "execute_result"
    },
    {
     "data": {
      "image/png": "[encoded data removed]",
      "text/plain": [
       "<matplotlib.figure.Figure at 0x3c71d9e8>"
      ]
     },
     "metadata": {},
     "output_type": "display_data"
    }
   ],
   "source": [
    "#More detailed seasonal rates: by month\n",
    "OnTimeData.groupby(\"Month\").mean().plot(y='ArrDel15', kind='bar')"
   ]
  },
  {
   "cell_type": "code",
   "execution_count": 15,
   "metadata": {
    "collapsed": false
   },
   "outputs": [
    {
     "data": {
      "text/plain": [
       "<matplotlib.axes._subplots.AxesSubplot at 0x46731f28>"
      ]
     },
     "execution_count": 15,
     "metadata": {},
     "output_type": "execute_result"
    },
    {
     "data": {
      "image/png": "[encoded data removed]",
      "text/plain": [
       "<matplotlib.figure.Figure at 0x754d6d8>"
      ]
     },
     "metadata": {},
     "output_type": "display_data"
    }
   ],
   "source": [
    "\"\"\"Hypothesis: busy flying seasons (June, July, December) seem to be more important than weather\n",
    "in determining rates of flight delay.  That said, this could depend heavily on where the airport is located.\n",
    "We will test this with regressions later.\"\"\"\n",
    "\n",
    "#Arrival delay rates by day of the week\n",
    "OnTimeData.groupby(\"DayOfWeek\").mean().plot(y='ArrDel15', kind='bar')"
   ]
  },
  {
   "cell_type": "code",
   "execution_count": 6,
   "metadata": {
    "collapsed": false
   },
   "outputs": [
    {
     "data": {
      "image/png": "[encoded data removed]",
      "text/plain": [
       "<matplotlib.figure.Figure at 0x367d03c8>"
      ]
     },
     "metadata": {},
     "output_type": "display_data"
    },
    {
     "data": {
      "image/png": "[encoded data removed]",
      "text/plain": [
       "<matplotlib.figure.Figure at 0x367d0550>"
      ]
     },
     "metadata": {},
     "output_type": "display_data"
    },
    {
     "data": {
      "image/png": "[encoded data removed]",
      "text/plain": [
       "<matplotlib.figure.Figure at 0x2fb02048>"
      ]
     },
     "metadata": {},
     "output_type": "display_data"
    },
    {
     "data": {
      "image/png": "[encoded data removed]",
      "text/plain": [
       "<matplotlib.figure.Figure at 0x42569b38>"
      ]
     },
     "metadata": {},
     "output_type": "display_data"
    },
    {
     "data": {
      "image/png": "[encoded data removed]",
      "text/plain": [
       "<matplotlib.figure.Figure at 0x3d694208>"
      ]
     },
     "metadata": {},
     "output_type": "display_data"
    },
    {
     "data": {
      "image/png": "[encoded data removed]",
      "text/plain": [
       "<matplotlib.figure.Figure at 0x20cc5278>"
      ]
     },
     "metadata": {},
     "output_type": "display_data"
    },
    {
     "data": {
      "image/png": "[encoded data removed]",
      "text/plain": [
       "<matplotlib.figure.Figure at 0x1dbe1908>"
      ]
     },
     "metadata": {},
     "output_type": "display_data"
    },
    {
     "data": {
      "image/png": "[encoded data removed]",
      "text/plain": [
       "<matplotlib.figure.Figure at 0x29ca3908>"
      ]
     },
     "metadata": {},
     "output_type": "display_data"
    },
    {
     "data": {
      "image/png": "[encoded data removed]",
      "text/plain": [
       "<matplotlib.figure.Figure at 0x36b6bcc0>"
      ]
     },
     "metadata": {},
     "output_type": "display_data"
    },
    {
     "data": {
      "image/png": "[encoded data removed]",
      "text/plain": [
       "<matplotlib.figure.Figure at 0xefebd68>"
      ]
     },
     "metadata": {},
     "output_type": "display_data"
    },
    {
     "data": {
      "image/png": "[encoded data removed]",
      "text/plain": [
       "<matplotlib.figure.Figure at 0x1fc0efd0>"
      ]
     },
     "metadata": {},
     "output_type": "display_data"
    },
    {
     "data": {
      "image/png": "[encoded data removed]",
      "text/plain": [
       "<matplotlib.figure.Figure at 0x27abbb38>"
      ]
     },
     "metadata": {},
     "output_type": "display_data"
    }
   ],
   "source": [
    "#Any special days of the year with higher or lower delay rates\n",
    "MonthDict = {1: 'January',\n",
    "            2: 'February', \n",
    "            3: 'March',\n",
    "            4: 'April',\n",
    "            5: 'May', \n",
    "            6: 'June', \n",
    "            7: 'July', \n",
    "            8: 'August', \n",
    "            9: 'September', \n",
    "            10: 'October', \n",
    "            11: 'November', \n",
    "            12: 'December'}\n",
    "\n",
    "for m in range(1, 13):\n",
    "    OnTimeData[OnTimeData.Month == m].groupby(\"DayofMonth\").mean().plot(y='ArrDel15', kind='bar', title=MonthDict[m])"
   ]
  },
  {
   "cell_type": "code",
   "execution_count": 17,
   "metadata": {
    "collapsed": false
   },
   "outputs": [
    {
     "data": {
      "text/plain": [
       "(1490434, 80)"
      ]
     },
     "execution_count": 17,
     "metadata": {},
     "output_type": "execute_result"
    }
   ],
   "source": [
    "\"\"\"Note: flights right on Christmas Eve/Day and New Year's Eve/Day are less likely to be delayed, but flights\n",
    "a few days before or after are the opposite.  The same is somewhat true of July 4.  Thanksgiving is a bit harder\n",
    "to see because it's a different date every year - can look for the 4th Thursday in November later.\"\"\"\n",
    "\n",
    "#Check average number of flights per date\n",
    "OnTimeData.shape"
   ]
  },
  {
   "cell_type": "code",
   "execution_count": 18,
   "metadata": {
    "collapsed": false
   },
   "outputs": [
    {
     "data": {
      "text/plain": [
       "4078.9107827038865"
      ]
     },
     "execution_count": 18,
     "metadata": {},
     "output_type": "execute_result"
    }
   ],
   "source": [
    "1490434 / 365.4"
   ]
  },
  {
   "cell_type": "code",
   "execution_count": 19,
   "metadata": {
    "collapsed": false
   },
   "outputs": [
    {
     "data": {
      "text/html": [
       "<div>\n",
       "<table border=\"1\" class=\"dataframe\">\n",
       "  <thead>\n",
       "    <tr style=\"text-align: right;\">\n",
       "      <th></th>\n",
       "      <th>FlightDate</th>\n",
       "      <th>ArrDelay</th>\n",
       "      <th>ArrDel15</th>\n",
       "    </tr>\n",
       "    <tr>\n",
       "      <th>FlightDate</th>\n",
       "      <th></th>\n",
       "      <th></th>\n",
       "      <th></th>\n",
       "    </tr>\n",
       "  </thead>\n",
       "  <tbody>\n",
       "    <tr>\n",
       "      <th>2011-06-26</th>\n",
       "      <td>2011-06-26</td>\n",
       "      <td>-11</td>\n",
       "      <td>0</td>\n",
       "    </tr>\n",
       "    <tr>\n",
       "      <th>2011-06-16</th>\n",
       "      <td>2011-06-16</td>\n",
       "      <td>-2</td>\n",
       "      <td>0</td>\n",
       "    </tr>\n",
       "    <tr>\n",
       "      <th>2011-06-30</th>\n",
       "      <td>2011-06-30</td>\n",
       "      <td>-8</td>\n",
       "      <td>0</td>\n",
       "    </tr>\n",
       "    <tr>\n",
       "      <th>2011-06-30</th>\n",
       "      <td>2011-06-30</td>\n",
       "      <td>290</td>\n",
       "      <td>1</td>\n",
       "    </tr>\n",
       "    <tr>\n",
       "      <th>2011-06-07</th>\n",
       "      <td>2011-06-07</td>\n",
       "      <td>-21</td>\n",
       "      <td>0</td>\n",
       "    </tr>\n",
       "  </tbody>\n",
       "</table>\n",
       "</div>"
      ],
      "text/plain": [
       "            FlightDate  ArrDelay  ArrDel15\n",
       "FlightDate                                \n",
       "2011-06-26  2011-06-26       -11         0\n",
       "2011-06-16  2011-06-16        -2         0\n",
       "2011-06-30  2011-06-30        -8         0\n",
       "2011-06-30  2011-06-30       290         1\n",
       "2011-06-07  2011-06-07       -21         0"
      ]
     },
     "execution_count": 19,
     "metadata": {},
     "output_type": "execute_result"
    }
   ],
   "source": [
    "#4,000 flights per date is a decent sample size, but there are still seemingly random patterns\n",
    "\n",
    "#Is there a clear time trend in arrival delay rates?  Use \"FlightDate\" variable!!\n",
    "\n",
    "#Make new data frame with only time and arrival delay variables\n",
    "TimeDF = OnTimeData[[\"FlightDate\", \"ArrDelay\", \"ArrDel15\"]]\n",
    "TimeDF.index = TimeDF.FlightDate\n",
    "TimeDF.head()"
   ]
  },
  {
   "cell_type": "code",
   "execution_count": 20,
   "metadata": {
    "collapsed": false
   },
   "outputs": [
    {
     "data": {
      "text/plain": [
       "Index([u'2011-06-26', u'2011-06-16', u'2011-06-30', u'2011-06-30',\n",
       "       u'2011-06-07', u'2011-06-30', u'2011-06-21', u'2011-06-02',\n",
       "       u'2011-07-14', u'2011-07-14',\n",
       "       ...\n",
       "       u'2012-06-22', u'2012-06-25', u'2012-07-07', u'2013-06-19',\n",
       "       u'2014-08-09', u'2015-06-24', u'2015-06-28', u'2015-06-20',\n",
       "       u'2015-08-11', u'2015-08-08'],\n",
       "      dtype='object', name=u'FlightDate', length=1490434)"
      ]
     },
     "execution_count": 20,
     "metadata": {},
     "output_type": "execute_result"
    }
   ],
   "source": [
    "TimeDF.index"
   ]
  },
  {
   "cell_type": "code",
   "execution_count": 21,
   "metadata": {
    "collapsed": false
   },
   "outputs": [
    {
     "name": "stderr",
     "output_type": "stream",
     "text": [
      "C:\\Users\\Will\\Anaconda2\\lib\\site-packages\\pandas\\core\\generic.py:2387: SettingWithCopyWarning: \n",
      "A value is trying to be set on a copy of a slice from a DataFrame.\n",
      "Try using .loc[row_indexer,col_indexer] = value instead\n",
      "\n",
      "See the caveats in the documentation: http://pandas.pydata.org/pandas-docs/stable/indexing.html#indexing-view-versus-copy\n",
      "  self[name] = value\n"
     ]
    }
   ],
   "source": [
    "TimeDF.FlightDate = pd.to_datetime(TimeDF.FlightDate)"
   ]
  },
  {
   "cell_type": "code",
   "execution_count": 22,
   "metadata": {
    "collapsed": false
   },
   "outputs": [
    {
     "data": {
      "text/plain": [
       "FlightDate\n",
       "2011-06-26   2011-06-26\n",
       "2011-06-16   2011-06-16\n",
       "2011-06-30   2011-06-30\n",
       "2011-06-30   2011-06-30\n",
       "2011-06-07   2011-06-07\n",
       "Name: FlightDate, dtype: datetime64[ns]"
      ]
     },
     "execution_count": 22,
     "metadata": {},
     "output_type": "execute_result"
    }
   ],
   "source": [
    "TimeDF.FlightDate.head()"
   ]
  },
  {
   "cell_type": "code",
   "execution_count": 23,
   "metadata": {
    "collapsed": false
   },
   "outputs": [],
   "source": [
    "TimeDF.index = TimeDF.FlightDate"
   ]
  },
  {
   "cell_type": "code",
   "execution_count": 24,
   "metadata": {
    "collapsed": false
   },
   "outputs": [
    {
     "data": {
      "text/plain": [
       "<matplotlib.axes._subplots.AxesSubplot at 0x2e190630>"
      ]
     },
     "execution_count": 24,
     "metadata": {},
     "output_type": "execute_result"
    },
    {
     "data": {
      "image/png": "[encoded data removed]",
      "text/plain": [
       "<matplotlib.figure.Figure at 0x2e164240>"
      ]
     },
     "metadata": {},
     "output_type": "display_data"
    }
   ],
   "source": [
    "%matplotlib inline\n",
    "TimeDF.resample('M', how='mean').plot(y='ArrDel15', kind='line', figsize=(12, 4))"
   ]
  },
  {
   "cell_type": "code",
   "execution_count": 25,
   "metadata": {
    "collapsed": false
   },
   "outputs": [
    {
     "name": "stderr",
     "output_type": "stream",
     "text": [
      "C:\\Users\\Will\\Anaconda2\\lib\\site-packages\\matplotlib\\__init__.py:872: UserWarning: axes.color_cycle is deprecated and replaced with axes.prop_cycle; please use the latter.\n",
      "  warnings.warn(self.msg_depr % (key, alt_key))\n"
     ]
    },
    {
     "data": {
      "text/html": [
       "<div>\n",
       "<table border=\"1\" class=\"dataframe\">\n",
       "  <thead>\n",
       "    <tr style=\"text-align: right;\">\n",
       "      <th></th>\n",
       "      <th>ArrDelay</th>\n",
       "      <th>ArrDel15</th>\n",
       "      <th>FlightDate</th>\n",
       "    </tr>\n",
       "    <tr>\n",
       "      <th>FlightDate</th>\n",
       "      <th></th>\n",
       "      <th></th>\n",
       "      <th></th>\n",
       "    </tr>\n",
       "  </thead>\n",
       "  <tbody>\n",
       "    <tr>\n",
       "      <th>2011-06-30</th>\n",
       "      <td>8.207758</td>\n",
       "      <td>0.212080</td>\n",
       "      <td>2011-06-30</td>\n",
       "    </tr>\n",
       "    <tr>\n",
       "      <th>2011-07-31</th>\n",
       "      <td>7.090081</td>\n",
       "      <td>0.204082</td>\n",
       "      <td>2011-07-31</td>\n",
       "    </tr>\n",
       "    <tr>\n",
       "      <th>2011-08-31</th>\n",
       "      <td>5.313149</td>\n",
       "      <td>0.182988</td>\n",
       "      <td>2011-08-31</td>\n",
       "    </tr>\n",
       "    <tr>\n",
       "      <th>2011-09-30</th>\n",
       "      <td>1.821429</td>\n",
       "      <td>0.149155</td>\n",
       "      <td>2011-09-30</td>\n",
       "    </tr>\n",
       "    <tr>\n",
       "      <th>2011-10-31</th>\n",
       "      <td>0.207725</td>\n",
       "      <td>0.133920</td>\n",
       "      <td>2011-10-31</td>\n",
       "    </tr>\n",
       "  </tbody>\n",
       "</table>\n",
       "</div>"
      ],
      "text/plain": [
       "            ArrDelay  ArrDel15 FlightDate\n",
       "FlightDate                               \n",
       "2011-06-30  8.207758  0.212080 2011-06-30\n",
       "2011-07-31  7.090081  0.204082 2011-07-31\n",
       "2011-08-31  5.313149  0.182988 2011-08-31\n",
       "2011-09-30  1.821429  0.149155 2011-09-30\n",
       "2011-10-31  0.207725  0.133920 2011-10-31"
      ]
     },
     "execution_count": 25,
     "metadata": {},
     "output_type": "execute_result"
    }
   ],
   "source": [
    "#check for time trend using seaborn plot\n",
    "import seaborn as sns\n",
    "MonthsDF = TimeDF.resample('M', how='mean')\n",
    "MonthsDF['FlightDate'] = MonthsDF.index\n",
    "MonthsDF.head()\n",
    "#sns.regplot(data=MonthsDF, x='FlightDate', y='ArrDel15')"
   ]
  },
  {
   "cell_type": "code",
   "execution_count": 26,
   "metadata": {
    "collapsed": false
   },
   "outputs": [
    {
     "data": {
      "text/plain": [
       "FlightDate\n",
       "2011-06-30   2011-06-30\n",
       "2011-07-31   2011-07-31\n",
       "2011-08-31   2011-08-31\n",
       "2011-09-30   2011-09-30\n",
       "2011-10-31   2011-10-31\n",
       "Freq: M, Name: FlightDate, dtype: datetime64[ns]"
      ]
     },
     "execution_count": 26,
     "metadata": {},
     "output_type": "execute_result"
    }
   ],
   "source": [
    "MonthsDF.FlightDate.head()"
   ]
  },
  {
   "cell_type": "code",
   "execution_count": 27,
   "metadata": {
    "collapsed": false
   },
   "outputs": [
    {
     "ename": "TypeError",
     "evalue": "reduction operation 'mean' not allowed for this dtype",
     "output_type": "error",
     "traceback": [
      "\u001b[1;31m---------------------------------------------------------------------------\u001b[0m",
      "\u001b[1;31mTypeError\u001b[0m                                 Traceback (most recent call last)",
      "\u001b[1;32m<ipython-input-27-0347312f674e>\u001b[0m in \u001b[0;36m<module>\u001b[1;34m()\u001b[0m\n\u001b[1;32m----> 1\u001b[1;33m \u001b[0msns\u001b[0m\u001b[1;33m.\u001b[0m\u001b[0mregplot\u001b[0m\u001b[1;33m(\u001b[0m\u001b[0mx\u001b[0m\u001b[1;33m=\u001b[0m\u001b[0mMonthsDF\u001b[0m\u001b[1;33m.\u001b[0m\u001b[0mFlightDate\u001b[0m\u001b[1;33m,\u001b[0m \u001b[0my\u001b[0m\u001b[1;33m=\u001b[0m\u001b[0mMonthsDF\u001b[0m\u001b[1;33m.\u001b[0m\u001b[0mArrDelay\u001b[0m\u001b[1;33m)\u001b[0m\u001b[1;33m\u001b[0m\u001b[0m\n\u001b[0m",
      "\u001b[1;32mC:\\Users\\Will\\Anaconda2\\lib\\site-packages\\seaborn\\linearmodels.pyc\u001b[0m in \u001b[0;36mregplot\u001b[1;34m(x, y, data, x_estimator, x_bins, x_ci, scatter, fit_reg, ci, n_boot, units, order, logistic, lowess, robust, logx, x_partial, y_partial, truncate, dropna, x_jitter, y_jitter, label, color, marker, scatter_kws, line_kws, ax)\u001b[0m\n\u001b[0;32m    770\u001b[0m     \u001b[0mscatter_kws\u001b[0m\u001b[1;33m[\u001b[0m\u001b[1;34m\"marker\"\u001b[0m\u001b[1;33m]\u001b[0m \u001b[1;33m=\u001b[0m \u001b[0mmarker\u001b[0m\u001b[1;33m\u001b[0m\u001b[0m\n\u001b[0;32m    771\u001b[0m     \u001b[0mline_kws\u001b[0m \u001b[1;33m=\u001b[0m \u001b[1;33m{\u001b[0m\u001b[1;33m}\u001b[0m \u001b[1;32mif\u001b[0m \u001b[0mline_kws\u001b[0m \u001b[1;32mis\u001b[0m \u001b[0mNone\u001b[0m \u001b[1;32melse\u001b[0m \u001b[0mcopy\u001b[0m\u001b[1;33m.\u001b[0m\u001b[0mcopy\u001b[0m\u001b[1;33m(\u001b[0m\u001b[0mline_kws\u001b[0m\u001b[1;33m)\u001b[0m\u001b[1;33m\u001b[0m\u001b[0m\n\u001b[1;32m--> 772\u001b[1;33m     \u001b[0mplotter\u001b[0m\u001b[1;33m.\u001b[0m\u001b[0mplot\u001b[0m\u001b[1;33m(\u001b[0m\u001b[0max\u001b[0m\u001b[1;33m,\u001b[0m \u001b[0mscatter_kws\u001b[0m\u001b[1;33m,\u001b[0m \u001b[0mline_kws\u001b[0m\u001b[1;33m)\u001b[0m\u001b[1;33m\u001b[0m\u001b[0m\n\u001b[0m\u001b[0;32m    773\u001b[0m     \u001b[1;32mreturn\u001b[0m \u001b[0max\u001b[0m\u001b[1;33m\u001b[0m\u001b[0m\n\u001b[0;32m    774\u001b[0m \u001b[1;33m\u001b[0m\u001b[0m\n",
      "\u001b[1;32mC:\\Users\\Will\\Anaconda2\\lib\\site-packages\\seaborn\\linearmodels.pyc\u001b[0m in \u001b[0;36mplot\u001b[1;34m(self, ax, scatter_kws, line_kws)\u001b[0m\n\u001b[0;32m    308\u001b[0m         \u001b[1;31m# Use the current color cycle state as a default\u001b[0m\u001b[1;33m\u001b[0m\u001b[1;33m\u001b[0m\u001b[0m\n\u001b[0;32m    309\u001b[0m         \u001b[1;32mif\u001b[0m \u001b[0mself\u001b[0m\u001b[1;33m.\u001b[0m\u001b[0mcolor\u001b[0m \u001b[1;32mis\u001b[0m \u001b[0mNone\u001b[0m\u001b[1;33m:\u001b[0m\u001b[1;33m\u001b[0m\u001b[0m\n\u001b[1;32m--> 310\u001b[1;33m             \u001b[0mlines\u001b[0m\u001b[1;33m,\u001b[0m \u001b[1;33m=\u001b[0m \u001b[0mplt\u001b[0m\u001b[1;33m.\u001b[0m\u001b[0mplot\u001b[0m\u001b[1;33m(\u001b[0m\u001b[0mself\u001b[0m\u001b[1;33m.\u001b[0m\u001b[0mx\u001b[0m\u001b[1;33m.\u001b[0m\u001b[0mmean\u001b[0m\u001b[1;33m(\u001b[0m\u001b[1;33m)\u001b[0m\u001b[1;33m,\u001b[0m \u001b[0mself\u001b[0m\u001b[1;33m.\u001b[0m\u001b[0my\u001b[0m\u001b[1;33m.\u001b[0m\u001b[0mmean\u001b[0m\u001b[1;33m(\u001b[0m\u001b[1;33m)\u001b[0m\u001b[1;33m)\u001b[0m\u001b[1;33m\u001b[0m\u001b[0m\n\u001b[0m\u001b[0;32m    311\u001b[0m             \u001b[0mcolor\u001b[0m \u001b[1;33m=\u001b[0m \u001b[0mlines\u001b[0m\u001b[1;33m.\u001b[0m\u001b[0mget_color\u001b[0m\u001b[1;33m(\u001b[0m\u001b[1;33m)\u001b[0m\u001b[1;33m\u001b[0m\u001b[0m\n\u001b[0;32m    312\u001b[0m             \u001b[0mlines\u001b[0m\u001b[1;33m.\u001b[0m\u001b[0mremove\u001b[0m\u001b[1;33m(\u001b[0m\u001b[1;33m)\u001b[0m\u001b[1;33m\u001b[0m\u001b[0m\n",
      "\u001b[1;32mC:\\Users\\Will\\Anaconda2\\lib\\site-packages\\pandas\\core\\generic.pyc\u001b[0m in \u001b[0;36mstat_func\u001b[1;34m(self, axis, skipna, level, numeric_only, **kwargs)\u001b[0m\n\u001b[0;32m   4835\u001b[0m                                       skipna=skipna)\n\u001b[0;32m   4836\u001b[0m         return self._reduce(f, name, axis=axis,\n\u001b[1;32m-> 4837\u001b[1;33m                             skipna=skipna, numeric_only=numeric_only)\n\u001b[0m\u001b[0;32m   4838\u001b[0m     \u001b[0mstat_func\u001b[0m\u001b[1;33m.\u001b[0m\u001b[0m__name__\u001b[0m \u001b[1;33m=\u001b[0m \u001b[0mname\u001b[0m\u001b[1;33m\u001b[0m\u001b[0m\n\u001b[0;32m   4839\u001b[0m     \u001b[1;32mreturn\u001b[0m \u001b[0mstat_func\u001b[0m\u001b[1;33m\u001b[0m\u001b[0m\n",
      "\u001b[1;32mC:\\Users\\Will\\Anaconda2\\lib\\site-packages\\pandas\\core\\series.pyc\u001b[0m in \u001b[0;36m_reduce\u001b[1;34m(self, op, name, axis, skipna, numeric_only, filter_type, **kwds)\u001b[0m\n\u001b[0;32m   2191\u001b[0m                 raise NotImplementedError(\n\u001b[0;32m   2192\u001b[0m                     'Series.{0} does not implement numeric_only.'.format(name))\n\u001b[1;32m-> 2193\u001b[1;33m             \u001b[1;32mreturn\u001b[0m \u001b[0mop\u001b[0m\u001b[1;33m(\u001b[0m\u001b[0mdelegate\u001b[0m\u001b[1;33m,\u001b[0m \u001b[0mskipna\u001b[0m\u001b[1;33m=\u001b[0m\u001b[0mskipna\u001b[0m\u001b[1;33m,\u001b[0m \u001b[1;33m**\u001b[0m\u001b[0mkwds\u001b[0m\u001b[1;33m)\u001b[0m\u001b[1;33m\u001b[0m\u001b[0m\n\u001b[0m\u001b[0;32m   2194\u001b[0m \u001b[1;33m\u001b[0m\u001b[0m\n\u001b[0;32m   2195\u001b[0m         return delegate._reduce(op=op, name=name, axis=axis, skipna=skipna,\n",
      "\u001b[1;32mC:\\Users\\Will\\Anaconda2\\lib\\site-packages\\pandas\\core\\nanops.pyc\u001b[0m in \u001b[0;36m_f\u001b[1;34m(*args, **kwargs)\u001b[0m\n\u001b[0;32m     43\u001b[0m                 raise TypeError('reduction operation {0!r} not allowed for '\n\u001b[0;32m     44\u001b[0m                                 'this dtype'.format(f.__name__.replace('nan',\n\u001b[1;32m---> 45\u001b[1;33m                                                                        '')))\n\u001b[0m\u001b[0;32m     46\u001b[0m             \u001b[1;32mtry\u001b[0m\u001b[1;33m:\u001b[0m\u001b[1;33m\u001b[0m\u001b[0m\n\u001b[0;32m     47\u001b[0m                 \u001b[1;32mreturn\u001b[0m \u001b[0mf\u001b[0m\u001b[1;33m(\u001b[0m\u001b[1;33m*\u001b[0m\u001b[0margs\u001b[0m\u001b[1;33m,\u001b[0m \u001b[1;33m**\u001b[0m\u001b[0mkwargs\u001b[0m\u001b[1;33m)\u001b[0m\u001b[1;33m\u001b[0m\u001b[0m\n",
      "\u001b[1;31mTypeError\u001b[0m: reduction operation 'mean' not allowed for this dtype"
     ]
    },
    {
     "data": {
      "image/png": "[encoded data removed]",
      "text/plain": [
       "<matplotlib.figure.Figure at 0x3527aef0>"
      ]
     },
     "metadata": {},
     "output_type": "display_data"
    }
   ],
   "source": [
    "sns.regplot(x=MonthsDF.FlightDate, y=MonthsDF.ArrDelay)"
   ]
  },
  {
   "cell_type": "code",
   "execution_count": null,
   "metadata": {
    "collapsed": true
   },
   "outputs": [],
   "source": [
    "\"\"\"3. Regression analysis\"\"\"\n",
    "#Q1: are we punishing airlines for flying out of bad airports?\n",
    "#Q2: do seasonal patterns matter more in northern areas with snow? (using lat/long data)\n",
    "#Q2a: does our hypothesis that busier summer and holiday travel is more important than weather hold up?"
   ]
  },
  {
   "cell_type": "code",
   "execution_count": 16,
   "metadata": {
    "collapsed": false
   },
   "outputs": [
    {
     "data": {
      "text/plain": [
       "0    June26\n",
       "1    June16\n",
       "2    June30\n",
       "3    June30\n",
       "4     June7\n",
       "Name: MonthDay, dtype: object"
      ]
     },
     "execution_count": 16,
     "metadata": {},
     "output_type": "execute_result"
    }
   ],
   "source": [
    "#Dummies for each day of the year - we aren't using these at the moment\n",
    "\"\"\"OnTimeData[\"MonthDay\"] = OnTimeData.Month.apply(lambda x: MonthDict[x]).\\\n",
    "    str.cat(OnTimeData.DayofMonth.apply(lambda x: str(x)))\n",
    "OnTimeData.MonthDay.head()\"\"\""
   ]
  },
  {
   "cell_type": "code",
   "execution_count": 4,
   "metadata": {
    "collapsed": true
   },
   "outputs": [],
   "source": [
    "#Run linear regression of arrival delay time\n",
    "from sklearn.linear_model import LinearRegression\n",
    "lm = LinearRegression()"
   ]
  },
  {
   "cell_type": "markdown",
   "metadata": {},
   "source": [
    "So the linear regression runs out of memory.  I'd like to find a way around this: can't we convert the matrix to sparse somehow?  But for now, will try Lasso and Ridge, followed by researching Principal Component Analysis."
   ]
  },
  {
   "cell_type": "code",
   "execution_count": 5,
   "metadata": {
    "collapsed": true
   },
   "outputs": [],
   "source": [
    "from sklearn.linear_model import Lasso"
   ]
  },
  {
   "cell_type": "code",
   "execution_count": 6,
   "metadata": {
    "collapsed": true
   },
   "outputs": [],
   "source": [
    "#Already sparse.  Try Ridge?\n",
    "from sklearn.linear_model import Ridge\n",
    "ridge = Ridge(copy_X=False)"
   ]
  },
  {
   "cell_type": "code",
   "execution_count": 4,
   "metadata": {
    "collapsed": true
   },
   "outputs": [],
   "source": [
    "#SGDRegressor?\n",
    "from sklearn.linear_model import SGDRegressor\n",
    "sgd = SGDRegressor()"
   ]
  },
  {
   "cell_type": "code",
   "execution_count": 5,
   "metadata": {
    "collapsed": true
   },
   "outputs": [],
   "source": [
    "#from sklearn.decomposition import PCA\n",
    "#pca = PCA(copy=False)"
   ]
  },
  {
   "cell_type": "code",
   "execution_count": 15,
   "metadata": {
    "collapsed": true
   },
   "outputs": [],
   "source": [
    "#limit to 10\n",
    "#pca10 = PCA(n_components=10, copy=False)"
   ]
  },
  {
   "cell_type": "code",
   "execution_count": 7,
   "metadata": {
    "collapsed": true
   },
   "outputs": [],
   "source": [
    "#Looks like number of components kept is not the limiting factor...\n",
    "#PCA doesn't support sparse data! http://scikit-learn.org/stable/modules/generated/sklearn.decomposition.PCA.html\n",
    "#try Truncated SVD\n",
    "\n",
    "from sklearn.decomposition import TruncatedSVD\n",
    "tsvd = TruncatedSVD()"
   ]
  },
  {
   "cell_type": "code",
   "execution_count": 16,
   "metadata": {
    "collapsed": true
   },
   "outputs": [],
   "source": [
    "#try Ryan's suggestion of setting copy=False\n",
    "#first with PCA\n",
    "#pca100 = PCA(n_components=100, copy=False)"
   ]
  },
  {
   "cell_type": "code",
   "execution_count": 8,
   "metadata": {
    "collapsed": false
   },
   "outputs": [],
   "source": [
    "#Lasso with copy_x=false\n",
    "lasso = Lasso(copy_X=False)"
   ]
  },
  {
   "cell_type": "code",
   "execution_count": 5,
   "metadata": {
    "collapsed": false
   },
   "outputs": [
    {
     "data": {
      "text/plain": [
       "(1490434, 79)"
      ]
     },
     "execution_count": 5,
     "metadata": {},
     "output_type": "execute_result"
    }
   ],
   "source": [
    "OnTimeData.shape"
   ]
  },
  {
   "cell_type": "code",
   "execution_count": 6,
   "metadata": {
    "collapsed": false
   },
   "outputs": [],
   "source": [
    "# Try scipy SVD method for sparse matrix\n",
    "import scipy"
   ]
  },
  {
   "cell_type": "markdown",
   "metadata": {},
   "source": [
    "Suggestion for creating interactions: test them one at a time to see which add the most to the model once you already have a model\n",
    "http://www.dummies.com/programming/big-data/data-science/data-science-how-to-create-interactions-between-variables-with-python/\n",
    "Suspect this will take a long time!"
   ]
  },
  {
   "cell_type": "code",
   "execution_count": 5,
   "metadata": {
    "collapsed": false
   },
   "outputs": [],
   "source": [
    "#more efficient way of getting data frame of dummies for each version of the data set\n",
    "def DummyRegressors(data):\n",
    "    #Create dummies for airline, origin and destination airports, month, and time of day\n",
    "    #Drop first column in each data frame to avoid singular matrix\n",
    "    CarrierDummies = pd.get_dummies(data[\"Carrier Name\"], prefix=\"C\", sparse=True, drop_first=True)\n",
    "    OriginDummies = pd.get_dummies(data.Origin, prefix=\"O\", sparse=True, drop_first=True)\n",
    "    DestDummies = pd.get_dummies(data.Dest, prefix=\"D\", sparse=True, drop_first=True)\n",
    "    MonthDummies = pd.get_dummies(data.Month, prefix=\"M\", sparse=True, drop_first=True)\n",
    "    TimeDummies = pd.get_dummies(data.DepTimeBlk, prefix=\"T\", sparse=True, drop_first=True)\n",
    "    \n",
    "    return pd.concat([CarrierDummies, OriginDummies, DestDummies, MonthDummies, TimeDummies], axis=1)"
   ]
  },
  {
   "cell_type": "code",
   "execution_count": 37,
   "metadata": {
    "collapsed": true
   },
   "outputs": [],
   "source": [
    "import inspect"
   ]
  },
  {
   "cell_type": "code",
   "execution_count": 38,
   "metadata": {
    "collapsed": false
   },
   "outputs": [
    {
     "data": {
      "text/plain": [
       "ArgSpec(args=['data', 'prefix', 'prefix_sep', 'dummy_na', 'columns', 'sparse', 'drop_first'], varargs=None, keywords=None, defaults=(None, '_', False, None, False, False))"
      ]
     },
     "execution_count": 38,
     "metadata": {},
     "output_type": "execute_result"
    }
   ],
   "source": [
    "inspect.getargspec(pd.get_dummies)"
   ]
  },
  {
   "cell_type": "code",
   "execution_count": null,
   "metadata": {
    "collapsed": true
   },
   "outputs": [],
   "source": [
    "#pca10.fit_transform(RegDum_20, AllAirports_20.ArrDelay)"
   ]
  },
  {
   "cell_type": "code",
   "execution_count": 6,
   "metadata": {
    "collapsed": true
   },
   "outputs": [],
   "source": [
    "from sklearn.decomposition import IncrementalPCA, SparsePCA\n",
    "from scipy.sparse.linalg import svds"
   ]
  },
  {
   "cell_type": "code",
   "execution_count": 6,
   "metadata": {
    "collapsed": true
   },
   "outputs": [],
   "source": [
    "ipca10 = IncrementalPCA(n_components=10, batch_size=100000, copy=False)"
   ]
  },
  {
   "cell_type": "code",
   "execution_count": 7,
   "metadata": {
    "collapsed": true
   },
   "outputs": [],
   "source": [
    "# code copied from http://stackoverflow.com/questions/17315737/split-a-large-pandas-dataframe\n",
    "\n",
    "# input - df: a Dataframe, chunkSize: the chunk size\n",
    "# output - a list of DataFrame\n",
    "# purpose - splits the DataFrame into smaller of max size chunkSize (last is smaller)\n",
    "def splitDataFrameIntoSmaller(df, chunkSize = 10000): \n",
    "    listOfDf = list()\n",
    "    numberChunks = len(df) // chunkSize + 1\n",
    "    for i in range(numberChunks):\n",
    "        listOfDf.append(df[i*chunkSize:(i+1)*chunkSize])\n",
    "    return listOfDf"
   ]
  },
  {
   "cell_type": "code",
   "execution_count": 8,
   "metadata": {
    "collapsed": false
   },
   "outputs": [
    {
     "data": {
      "text/plain": [
       "(1463652, 79)"
      ]
     },
     "execution_count": 8,
     "metadata": {},
     "output_type": "execute_result"
    }
   ],
   "source": [
    "OnTime_NoNull = OnTimeData[np.isfinite(OnTimeData.ArrDelay)]\n",
    "OnTime_NoNull.shape"
   ]
  },
  {
   "cell_type": "code",
   "execution_count": 9,
   "metadata": {
    "collapsed": false
   },
   "outputs": [],
   "source": [
    "Dummies_NoNull = DummyRegressors(OnTime_NoNull)"
   ]
  },
  {
   "cell_type": "code",
   "execution_count": 37,
   "metadata": {
    "collapsed": false
   },
   "outputs": [],
   "source": [
    "\"\"\"RUN IPCA WITH 10 COMPONENTS\"\"\"\n",
    "for k in range(len(Dummies) // 100000 + 1):\n",
    "    X, y = Xframes[k], Yframes[k]\n",
    "    #ipca10.partial_fit(X, y)"
   ]
  },
  {
   "cell_type": "code",
   "execution_count": 32,
   "metadata": {
    "collapsed": false
   },
   "outputs": [
    {
     "data": {
      "text/plain": [
       "(100000, 716)"
      ]
     },
     "execution_count": 32,
     "metadata": {},
     "output_type": "execute_result"
    }
   ],
   "source": [
    "Xframes[1].shape"
   ]
  },
  {
   "cell_type": "code",
   "execution_count": 34,
   "metadata": {
    "collapsed": false
   },
   "outputs": [
    {
     "data": {
      "text/plain": [
       "(100000L,)"
      ]
     },
     "execution_count": 34,
     "metadata": {},
     "output_type": "execute_result"
    }
   ],
   "source": [
    "Yframes[1].shape"
   ]
  },
  {
   "cell_type": "code",
   "execution_count": 38,
   "metadata": {
    "collapsed": false
   },
   "outputs": [
    {
     "data": {
      "text/plain": [
       "array([ 0.03722438,  0.02807732,  0.02483708,  0.02243841,  0.01948677,\n",
       "        0.01920567,  0.01573949,  0.01479622,  0.0125836 ,  0.0119368 ])"
      ]
     },
     "execution_count": 38,
     "metadata": {},
     "output_type": "execute_result"
    }
   ],
   "source": [
    "ipca10.explained_variance_ratio_"
   ]
  },
  {
   "cell_type": "code",
   "execution_count": 39,
   "metadata": {
    "collapsed": false
   },
   "outputs": [
    {
     "data": {
      "text/plain": [
       "0.20632574240460144"
      ]
     },
     "execution_count": 39,
     "metadata": {},
     "output_type": "execute_result"
    }
   ],
   "source": [
    "sum(ipca10.explained_variance_ratio_)"
   ]
  },
  {
   "cell_type": "code",
   "execution_count": 40,
   "metadata": {
    "collapsed": false
   },
   "outputs": [
    {
     "data": {
      "text/plain": [
       "1490434L"
      ]
     },
     "execution_count": 40,
     "metadata": {},
     "output_type": "execute_result"
    }
   ],
   "source": [
    "ipca10.n_samples_seen_"
   ]
  },
  {
   "cell_type": "code",
   "execution_count": 41,
   "metadata": {
    "collapsed": false
   },
   "outputs": [
    {
     "data": {
      "text/plain": [
       "10"
      ]
     },
     "execution_count": 41,
     "metadata": {},
     "output_type": "execute_result"
    }
   ],
   "source": [
    "ipca10.n_components_"
   ]
  },
  {
   "cell_type": "code",
   "execution_count": 42,
   "metadata": {
    "collapsed": false
   },
   "outputs": [
    {
     "data": {
      "text/plain": [
       "array([[ -6.82799532e-03,  -1.76519785e-01,  -4.15762713e-03, ...,\n",
       "          1.10505221e-02,  -1.01752786e-02,  -6.77829736e-03],\n",
       "       [ -1.17314166e-02,  -4.98943721e-01,  -4.81020668e-03, ...,\n",
       "          5.83138132e-03,   1.52279903e-04,   8.67883613e-04],\n",
       "       [ -3.49976420e-03,  -3.61253553e-01,   9.28062610e-03, ...,\n",
       "         -5.21919158e-03,  -9.63179886e-03,  -6.15929622e-03],\n",
       "       ..., \n",
       "       [  6.47998412e-03,  -2.83721485e-01,  -5.76603158e-03, ...,\n",
       "         -1.49926816e-02,  -1.06753623e-02,  -7.67492187e-03],\n",
       "       [  3.37177464e-02,  -6.14188603e-02,   7.51463852e-04, ...,\n",
       "          1.31782053e-02,   3.17268122e-02,   5.67225776e-03],\n",
       "       [ -1.90687479e-02,  -1.02491563e-02,  -3.36555381e-03, ...,\n",
       "         -6.14812649e-02,  -1.31910808e-02,  -1.14882398e-02]])"
      ]
     },
     "execution_count": 42,
     "metadata": {},
     "output_type": "execute_result"
    }
   ],
   "source": [
    "ipca10.components_"
   ]
  },
  {
   "cell_type": "code",
   "execution_count": 43,
   "metadata": {
    "collapsed": false
   },
   "outputs": [
    {
     "data": {
      "text/html": [
       "<div>\n",
       "<table border=\"1\" class=\"dataframe\">\n",
       "  <thead>\n",
       "    <tr style=\"text-align: right;\">\n",
       "      <th></th>\n",
       "      <th>0</th>\n",
       "      <th>1</th>\n",
       "      <th>2</th>\n",
       "      <th>3</th>\n",
       "      <th>4</th>\n",
       "      <th>5</th>\n",
       "      <th>6</th>\n",
       "      <th>7</th>\n",
       "      <th>8</th>\n",
       "      <th>9</th>\n",
       "      <th>...</th>\n",
       "      <th>706</th>\n",
       "      <th>707</th>\n",
       "      <th>708</th>\n",
       "      <th>709</th>\n",
       "      <th>710</th>\n",
       "      <th>711</th>\n",
       "      <th>712</th>\n",
       "      <th>713</th>\n",
       "      <th>714</th>\n",
       "      <th>715</th>\n",
       "    </tr>\n",
       "  </thead>\n",
       "  <tbody>\n",
       "    <tr>\n",
       "      <th>0</th>\n",
       "      <td>-0.006828</td>\n",
       "      <td>-0.176520</td>\n",
       "      <td>-0.004158</td>\n",
       "      <td>-0.239494</td>\n",
       "      <td>-0.002871</td>\n",
       "      <td>-0.049677</td>\n",
       "      <td>-0.179379</td>\n",
       "      <td>-0.002297</td>\n",
       "      <td>-0.004901</td>\n",
       "      <td>-0.046010</td>\n",
       "      <td>...</td>\n",
       "      <td>-0.001306</td>\n",
       "      <td>-0.001198</td>\n",
       "      <td>0.008045</td>\n",
       "      <td>-0.000518</td>\n",
       "      <td>0.013699</td>\n",
       "      <td>0.008295</td>\n",
       "      <td>0.021374</td>\n",
       "      <td>0.011051</td>\n",
       "      <td>-0.010175</td>\n",
       "      <td>-0.006778</td>\n",
       "    </tr>\n",
       "    <tr>\n",
       "      <th>1</th>\n",
       "      <td>-0.011731</td>\n",
       "      <td>-0.498944</td>\n",
       "      <td>-0.004810</td>\n",
       "      <td>0.645418</td>\n",
       "      <td>0.001481</td>\n",
       "      <td>-0.055963</td>\n",
       "      <td>0.084306</td>\n",
       "      <td>-0.007411</td>\n",
       "      <td>-0.004165</td>\n",
       "      <td>0.053504</td>\n",
       "      <td>...</td>\n",
       "      <td>0.000132</td>\n",
       "      <td>0.006357</td>\n",
       "      <td>0.012727</td>\n",
       "      <td>0.008514</td>\n",
       "      <td>-0.009588</td>\n",
       "      <td>0.017742</td>\n",
       "      <td>-0.005195</td>\n",
       "      <td>0.005831</td>\n",
       "      <td>0.000152</td>\n",
       "      <td>0.000868</td>\n",
       "    </tr>\n",
       "    <tr>\n",
       "      <th>2</th>\n",
       "      <td>-0.003500</td>\n",
       "      <td>-0.361254</td>\n",
       "      <td>0.009281</td>\n",
       "      <td>-0.360634</td>\n",
       "      <td>-0.000362</td>\n",
       "      <td>-0.014455</td>\n",
       "      <td>0.789357</td>\n",
       "      <td>0.001210</td>\n",
       "      <td>-0.000149</td>\n",
       "      <td>-0.054446</td>\n",
       "      <td>...</td>\n",
       "      <td>0.015587</td>\n",
       "      <td>0.000178</td>\n",
       "      <td>0.013657</td>\n",
       "      <td>0.005144</td>\n",
       "      <td>-0.001208</td>\n",
       "      <td>-0.000427</td>\n",
       "      <td>-0.012558</td>\n",
       "      <td>-0.005219</td>\n",
       "      <td>-0.009632</td>\n",
       "      <td>-0.006159</td>\n",
       "    </tr>\n",
       "    <tr>\n",
       "      <th>3</th>\n",
       "      <td>0.022781</td>\n",
       "      <td>-0.509861</td>\n",
       "      <td>0.006063</td>\n",
       "      <td>-0.064183</td>\n",
       "      <td>0.000740</td>\n",
       "      <td>0.056223</td>\n",
       "      <td>-0.357834</td>\n",
       "      <td>0.020249</td>\n",
       "      <td>0.007720</td>\n",
       "      <td>0.013059</td>\n",
       "      <td>...</td>\n",
       "      <td>-0.016608</td>\n",
       "      <td>-0.003464</td>\n",
       "      <td>-0.022195</td>\n",
       "      <td>0.011906</td>\n",
       "      <td>-0.011081</td>\n",
       "      <td>0.003501</td>\n",
       "      <td>-0.000184</td>\n",
       "      <td>0.003649</td>\n",
       "      <td>0.011733</td>\n",
       "      <td>0.006185</td>\n",
       "    </tr>\n",
       "    <tr>\n",
       "      <th>4</th>\n",
       "      <td>0.001558</td>\n",
       "      <td>-0.015464</td>\n",
       "      <td>0.001815</td>\n",
       "      <td>0.020177</td>\n",
       "      <td>-0.000220</td>\n",
       "      <td>0.010310</td>\n",
       "      <td>-0.018239</td>\n",
       "      <td>-0.000051</td>\n",
       "      <td>0.000634</td>\n",
       "      <td>0.020434</td>\n",
       "      <td>...</td>\n",
       "      <td>-0.010877</td>\n",
       "      <td>-0.002552</td>\n",
       "      <td>-0.003236</td>\n",
       "      <td>-0.008883</td>\n",
       "      <td>0.006520</td>\n",
       "      <td>-0.000333</td>\n",
       "      <td>0.002875</td>\n",
       "      <td>0.001733</td>\n",
       "      <td>0.002995</td>\n",
       "      <td>0.002143</td>\n",
       "    </tr>\n",
       "    <tr>\n",
       "      <th>5</th>\n",
       "      <td>0.002786</td>\n",
       "      <td>0.002868</td>\n",
       "      <td>0.001721</td>\n",
       "      <td>0.008659</td>\n",
       "      <td>-0.000225</td>\n",
       "      <td>0.007563</td>\n",
       "      <td>0.005673</td>\n",
       "      <td>0.000656</td>\n",
       "      <td>-0.000407</td>\n",
       "      <td>0.004315</td>\n",
       "      <td>...</td>\n",
       "      <td>-0.003567</td>\n",
       "      <td>0.000870</td>\n",
       "      <td>-0.000645</td>\n",
       "      <td>-0.006890</td>\n",
       "      <td>-0.001028</td>\n",
       "      <td>-0.002863</td>\n",
       "      <td>0.002525</td>\n",
       "      <td>-0.000103</td>\n",
       "      <td>-0.001008</td>\n",
       "      <td>-0.000218</td>\n",
       "    </tr>\n",
       "    <tr>\n",
       "      <th>6</th>\n",
       "      <td>-0.007228</td>\n",
       "      <td>0.073278</td>\n",
       "      <td>-0.004060</td>\n",
       "      <td>0.011721</td>\n",
       "      <td>-0.000714</td>\n",
       "      <td>-0.183457</td>\n",
       "      <td>0.103720</td>\n",
       "      <td>0.009987</td>\n",
       "      <td>-0.001014</td>\n",
       "      <td>-0.176456</td>\n",
       "      <td>...</td>\n",
       "      <td>0.028864</td>\n",
       "      <td>0.055408</td>\n",
       "      <td>0.036433</td>\n",
       "      <td>0.062797</td>\n",
       "      <td>0.016674</td>\n",
       "      <td>0.014535</td>\n",
       "      <td>0.012514</td>\n",
       "      <td>0.009019</td>\n",
       "      <td>0.000579</td>\n",
       "      <td>-0.010210</td>\n",
       "    </tr>\n",
       "    <tr>\n",
       "      <th>7</th>\n",
       "      <td>0.006480</td>\n",
       "      <td>-0.283721</td>\n",
       "      <td>-0.005766</td>\n",
       "      <td>-0.056645</td>\n",
       "      <td>0.002973</td>\n",
       "      <td>0.662735</td>\n",
       "      <td>-0.093132</td>\n",
       "      <td>0.001482</td>\n",
       "      <td>0.004745</td>\n",
       "      <td>-0.000375</td>\n",
       "      <td>...</td>\n",
       "      <td>0.006117</td>\n",
       "      <td>-0.014574</td>\n",
       "      <td>0.014857</td>\n",
       "      <td>0.007445</td>\n",
       "      <td>0.016531</td>\n",
       "      <td>-0.013943</td>\n",
       "      <td>-0.011095</td>\n",
       "      <td>-0.014993</td>\n",
       "      <td>-0.010675</td>\n",
       "      <td>-0.007675</td>\n",
       "    </tr>\n",
       "    <tr>\n",
       "      <th>8</th>\n",
       "      <td>0.033718</td>\n",
       "      <td>-0.061419</td>\n",
       "      <td>0.000751</td>\n",
       "      <td>-0.070460</td>\n",
       "      <td>0.005829</td>\n",
       "      <td>-0.279605</td>\n",
       "      <td>-0.039718</td>\n",
       "      <td>-0.000147</td>\n",
       "      <td>0.019410</td>\n",
       "      <td>0.154691</td>\n",
       "      <td>...</td>\n",
       "      <td>-0.028526</td>\n",
       "      <td>-0.013498</td>\n",
       "      <td>-0.019337</td>\n",
       "      <td>-0.021608</td>\n",
       "      <td>-0.035275</td>\n",
       "      <td>0.007513</td>\n",
       "      <td>0.021664</td>\n",
       "      <td>0.013178</td>\n",
       "      <td>0.031727</td>\n",
       "      <td>0.005672</td>\n",
       "    </tr>\n",
       "    <tr>\n",
       "      <th>9</th>\n",
       "      <td>-0.019069</td>\n",
       "      <td>-0.010249</td>\n",
       "      <td>-0.003366</td>\n",
       "      <td>-0.144789</td>\n",
       "      <td>-0.005467</td>\n",
       "      <td>-0.008921</td>\n",
       "      <td>-0.027572</td>\n",
       "      <td>0.021047</td>\n",
       "      <td>-0.006912</td>\n",
       "      <td>-0.265053</td>\n",
       "      <td>...</td>\n",
       "      <td>0.008035</td>\n",
       "      <td>-0.016239</td>\n",
       "      <td>0.005953</td>\n",
       "      <td>0.048865</td>\n",
       "      <td>0.014558</td>\n",
       "      <td>-0.070728</td>\n",
       "      <td>-0.052338</td>\n",
       "      <td>-0.061481</td>\n",
       "      <td>-0.013191</td>\n",
       "      <td>-0.011488</td>\n",
       "    </tr>\n",
       "  </tbody>\n",
       "</table>\n",
       "<p>10 rows × 716 columns</p>\n",
       "</div>"
      ],
      "text/plain": [
       "        0         1         2         3         4         5         6    \\\n",
       "0 -0.006828 -0.176520 -0.004158 -0.239494 -0.002871 -0.049677 -0.179379   \n",
       "1 -0.011731 -0.498944 -0.004810  0.645418  0.001481 -0.055963  0.084306   \n",
       "2 -0.003500 -0.361254  0.009281 -0.360634 -0.000362 -0.014455  0.789357   \n",
       "3  0.022781 -0.509861  0.006063 -0.064183  0.000740  0.056223 -0.357834   \n",
       "4  0.001558 -0.015464  0.001815  0.020177 -0.000220  0.010310 -0.018239   \n",
       "5  0.002786  0.002868  0.001721  0.008659 -0.000225  0.007563  0.005673   \n",
       "6 -0.007228  0.073278 -0.004060  0.011721 -0.000714 -0.183457  0.103720   \n",
       "7  0.006480 -0.283721 -0.005766 -0.056645  0.002973  0.662735 -0.093132   \n",
       "8  0.033718 -0.061419  0.000751 -0.070460  0.005829 -0.279605 -0.039718   \n",
       "9 -0.019069 -0.010249 -0.003366 -0.144789 -0.005467 -0.008921 -0.027572   \n",
       "\n",
       "        7         8         9      ...          706       707       708  \\\n",
       "0 -0.002297 -0.004901 -0.046010    ...    -0.001306 -0.001198  0.008045   \n",
       "1 -0.007411 -0.004165  0.053504    ...     0.000132  0.006357  0.012727   \n",
       "2  0.001210 -0.000149 -0.054446    ...     0.015587  0.000178  0.013657   \n",
       "3  0.020249  0.007720  0.013059    ...    -0.016608 -0.003464 -0.022195   \n",
       "4 -0.000051  0.000634  0.020434    ...    -0.010877 -0.002552 -0.003236   \n",
       "5  0.000656 -0.000407  0.004315    ...    -0.003567  0.000870 -0.000645   \n",
       "6  0.009987 -0.001014 -0.176456    ...     0.028864  0.055408  0.036433   \n",
       "7  0.001482  0.004745 -0.000375    ...     0.006117 -0.014574  0.014857   \n",
       "8 -0.000147  0.019410  0.154691    ...    -0.028526 -0.013498 -0.019337   \n",
       "9  0.021047 -0.006912 -0.265053    ...     0.008035 -0.016239  0.005953   \n",
       "\n",
       "        709       710       711       712       713       714       715  \n",
       "0 -0.000518  0.013699  0.008295  0.021374  0.011051 -0.010175 -0.006778  \n",
       "1  0.008514 -0.009588  0.017742 -0.005195  0.005831  0.000152  0.000868  \n",
       "2  0.005144 -0.001208 -0.000427 -0.012558 -0.005219 -0.009632 -0.006159  \n",
       "3  0.011906 -0.011081  0.003501 -0.000184  0.003649  0.011733  0.006185  \n",
       "4 -0.008883  0.006520 -0.000333  0.002875  0.001733  0.002995  0.002143  \n",
       "5 -0.006890 -0.001028 -0.002863  0.002525 -0.000103 -0.001008 -0.000218  \n",
       "6  0.062797  0.016674  0.014535  0.012514  0.009019  0.000579 -0.010210  \n",
       "7  0.007445  0.016531 -0.013943 -0.011095 -0.014993 -0.010675 -0.007675  \n",
       "8 -0.021608 -0.035275  0.007513  0.021664  0.013178  0.031727  0.005672  \n",
       "9  0.048865  0.014558 -0.070728 -0.052338 -0.061481 -0.013191 -0.011488  \n",
       "\n",
       "[10 rows x 716 columns]"
      ]
     },
     "execution_count": 43,
     "metadata": {},
     "output_type": "execute_result"
    }
   ],
   "source": [
    "IPCA10DF = pd.DataFrame(ipca10.components_)\n",
    "IPCA10DF"
   ]
  },
  {
   "cell_type": "code",
   "execution_count": 44,
   "metadata": {
    "collapsed": false
   },
   "outputs": [
    {
     "data": {
      "text/html": [
       "<div>\n",
       "<table border=\"1\" class=\"dataframe\">\n",
       "  <thead>\n",
       "    <tr style=\"text-align: right;\">\n",
       "      <th></th>\n",
       "      <th>Alaska Airlines Inc.</th>\n",
       "      <th>American Airlines Inc.</th>\n",
       "      <th>Continental Air Lines Inc.</th>\n",
       "      <th>Delta Air Lines Inc.</th>\n",
       "      <th>Endeavor Air Inc.</th>\n",
       "      <th>Envoy Air</th>\n",
       "      <th>ExpressJet Airlines Inc.</th>\n",
       "      <th>Frontier Airlines Inc.</th>\n",
       "      <th>Hawaiian Airlines Inc.</th>\n",
       "      <th>JetBlue Airways</th>\n",
       "      <th>...</th>\n",
       "      <th>1400-1459</th>\n",
       "      <th>1500-1559</th>\n",
       "      <th>1600-1659</th>\n",
       "      <th>1700-1759</th>\n",
       "      <th>1800-1859</th>\n",
       "      <th>1900-1959</th>\n",
       "      <th>2000-2059</th>\n",
       "      <th>2100-2159</th>\n",
       "      <th>2200-2259</th>\n",
       "      <th>2300-2359</th>\n",
       "    </tr>\n",
       "  </thead>\n",
       "  <tbody>\n",
       "    <tr>\n",
       "      <th>0</th>\n",
       "      <td>-0.006828</td>\n",
       "      <td>-0.176520</td>\n",
       "      <td>-0.004158</td>\n",
       "      <td>-0.239494</td>\n",
       "      <td>-0.002871</td>\n",
       "      <td>-0.049677</td>\n",
       "      <td>-0.179379</td>\n",
       "      <td>-0.002297</td>\n",
       "      <td>-0.004901</td>\n",
       "      <td>-0.046010</td>\n",
       "      <td>...</td>\n",
       "      <td>-0.001306</td>\n",
       "      <td>-0.001198</td>\n",
       "      <td>0.008045</td>\n",
       "      <td>-0.000518</td>\n",
       "      <td>0.013699</td>\n",
       "      <td>0.008295</td>\n",
       "      <td>0.021374</td>\n",
       "      <td>0.011051</td>\n",
       "      <td>-0.010175</td>\n",
       "      <td>-0.006778</td>\n",
       "    </tr>\n",
       "    <tr>\n",
       "      <th>1</th>\n",
       "      <td>-0.011731</td>\n",
       "      <td>-0.498944</td>\n",
       "      <td>-0.004810</td>\n",
       "      <td>0.645418</td>\n",
       "      <td>0.001481</td>\n",
       "      <td>-0.055963</td>\n",
       "      <td>0.084306</td>\n",
       "      <td>-0.007411</td>\n",
       "      <td>-0.004165</td>\n",
       "      <td>0.053504</td>\n",
       "      <td>...</td>\n",
       "      <td>0.000132</td>\n",
       "      <td>0.006357</td>\n",
       "      <td>0.012727</td>\n",
       "      <td>0.008514</td>\n",
       "      <td>-0.009588</td>\n",
       "      <td>0.017742</td>\n",
       "      <td>-0.005195</td>\n",
       "      <td>0.005831</td>\n",
       "      <td>0.000152</td>\n",
       "      <td>0.000868</td>\n",
       "    </tr>\n",
       "    <tr>\n",
       "      <th>2</th>\n",
       "      <td>-0.003500</td>\n",
       "      <td>-0.361254</td>\n",
       "      <td>0.009281</td>\n",
       "      <td>-0.360634</td>\n",
       "      <td>-0.000362</td>\n",
       "      <td>-0.014455</td>\n",
       "      <td>0.789357</td>\n",
       "      <td>0.001210</td>\n",
       "      <td>-0.000149</td>\n",
       "      <td>-0.054446</td>\n",
       "      <td>...</td>\n",
       "      <td>0.015587</td>\n",
       "      <td>0.000178</td>\n",
       "      <td>0.013657</td>\n",
       "      <td>0.005144</td>\n",
       "      <td>-0.001208</td>\n",
       "      <td>-0.000427</td>\n",
       "      <td>-0.012558</td>\n",
       "      <td>-0.005219</td>\n",
       "      <td>-0.009632</td>\n",
       "      <td>-0.006159</td>\n",
       "    </tr>\n",
       "    <tr>\n",
       "      <th>3</th>\n",
       "      <td>0.022781</td>\n",
       "      <td>-0.509861</td>\n",
       "      <td>0.006063</td>\n",
       "      <td>-0.064183</td>\n",
       "      <td>0.000740</td>\n",
       "      <td>0.056223</td>\n",
       "      <td>-0.357834</td>\n",
       "      <td>0.020249</td>\n",
       "      <td>0.007720</td>\n",
       "      <td>0.013059</td>\n",
       "      <td>...</td>\n",
       "      <td>-0.016608</td>\n",
       "      <td>-0.003464</td>\n",
       "      <td>-0.022195</td>\n",
       "      <td>0.011906</td>\n",
       "      <td>-0.011081</td>\n",
       "      <td>0.003501</td>\n",
       "      <td>-0.000184</td>\n",
       "      <td>0.003649</td>\n",
       "      <td>0.011733</td>\n",
       "      <td>0.006185</td>\n",
       "    </tr>\n",
       "    <tr>\n",
       "      <th>4</th>\n",
       "      <td>0.001558</td>\n",
       "      <td>-0.015464</td>\n",
       "      <td>0.001815</td>\n",
       "      <td>0.020177</td>\n",
       "      <td>-0.000220</td>\n",
       "      <td>0.010310</td>\n",
       "      <td>-0.018239</td>\n",
       "      <td>-0.000051</td>\n",
       "      <td>0.000634</td>\n",
       "      <td>0.020434</td>\n",
       "      <td>...</td>\n",
       "      <td>-0.010877</td>\n",
       "      <td>-0.002552</td>\n",
       "      <td>-0.003236</td>\n",
       "      <td>-0.008883</td>\n",
       "      <td>0.006520</td>\n",
       "      <td>-0.000333</td>\n",
       "      <td>0.002875</td>\n",
       "      <td>0.001733</td>\n",
       "      <td>0.002995</td>\n",
       "      <td>0.002143</td>\n",
       "    </tr>\n",
       "    <tr>\n",
       "      <th>5</th>\n",
       "      <td>0.002786</td>\n",
       "      <td>0.002868</td>\n",
       "      <td>0.001721</td>\n",
       "      <td>0.008659</td>\n",
       "      <td>-0.000225</td>\n",
       "      <td>0.007563</td>\n",
       "      <td>0.005673</td>\n",
       "      <td>0.000656</td>\n",
       "      <td>-0.000407</td>\n",
       "      <td>0.004315</td>\n",
       "      <td>...</td>\n",
       "      <td>-0.003567</td>\n",
       "      <td>0.000870</td>\n",
       "      <td>-0.000645</td>\n",
       "      <td>-0.006890</td>\n",
       "      <td>-0.001028</td>\n",
       "      <td>-0.002863</td>\n",
       "      <td>0.002525</td>\n",
       "      <td>-0.000103</td>\n",
       "      <td>-0.001008</td>\n",
       "      <td>-0.000218</td>\n",
       "    </tr>\n",
       "    <tr>\n",
       "      <th>6</th>\n",
       "      <td>-0.007228</td>\n",
       "      <td>0.073278</td>\n",
       "      <td>-0.004060</td>\n",
       "      <td>0.011721</td>\n",
       "      <td>-0.000714</td>\n",
       "      <td>-0.183457</td>\n",
       "      <td>0.103720</td>\n",
       "      <td>0.009987</td>\n",
       "      <td>-0.001014</td>\n",
       "      <td>-0.176456</td>\n",
       "      <td>...</td>\n",
       "      <td>0.028864</td>\n",
       "      <td>0.055408</td>\n",
       "      <td>0.036433</td>\n",
       "      <td>0.062797</td>\n",
       "      <td>0.016674</td>\n",
       "      <td>0.014535</td>\n",
       "      <td>0.012514</td>\n",
       "      <td>0.009019</td>\n",
       "      <td>0.000579</td>\n",
       "      <td>-0.010210</td>\n",
       "    </tr>\n",
       "    <tr>\n",
       "      <th>7</th>\n",
       "      <td>0.006480</td>\n",
       "      <td>-0.283721</td>\n",
       "      <td>-0.005766</td>\n",
       "      <td>-0.056645</td>\n",
       "      <td>0.002973</td>\n",
       "      <td>0.662735</td>\n",
       "      <td>-0.093132</td>\n",
       "      <td>0.001482</td>\n",
       "      <td>0.004745</td>\n",
       "      <td>-0.000375</td>\n",
       "      <td>...</td>\n",
       "      <td>0.006117</td>\n",
       "      <td>-0.014574</td>\n",
       "      <td>0.014857</td>\n",
       "      <td>0.007445</td>\n",
       "      <td>0.016531</td>\n",
       "      <td>-0.013943</td>\n",
       "      <td>-0.011095</td>\n",
       "      <td>-0.014993</td>\n",
       "      <td>-0.010675</td>\n",
       "      <td>-0.007675</td>\n",
       "    </tr>\n",
       "    <tr>\n",
       "      <th>8</th>\n",
       "      <td>0.033718</td>\n",
       "      <td>-0.061419</td>\n",
       "      <td>0.000751</td>\n",
       "      <td>-0.070460</td>\n",
       "      <td>0.005829</td>\n",
       "      <td>-0.279605</td>\n",
       "      <td>-0.039718</td>\n",
       "      <td>-0.000147</td>\n",
       "      <td>0.019410</td>\n",
       "      <td>0.154691</td>\n",
       "      <td>...</td>\n",
       "      <td>-0.028526</td>\n",
       "      <td>-0.013498</td>\n",
       "      <td>-0.019337</td>\n",
       "      <td>-0.021608</td>\n",
       "      <td>-0.035275</td>\n",
       "      <td>0.007513</td>\n",
       "      <td>0.021664</td>\n",
       "      <td>0.013178</td>\n",
       "      <td>0.031727</td>\n",
       "      <td>0.005672</td>\n",
       "    </tr>\n",
       "    <tr>\n",
       "      <th>9</th>\n",
       "      <td>-0.019069</td>\n",
       "      <td>-0.010249</td>\n",
       "      <td>-0.003366</td>\n",
       "      <td>-0.144789</td>\n",
       "      <td>-0.005467</td>\n",
       "      <td>-0.008921</td>\n",
       "      <td>-0.027572</td>\n",
       "      <td>0.021047</td>\n",
       "      <td>-0.006912</td>\n",
       "      <td>-0.265053</td>\n",
       "      <td>...</td>\n",
       "      <td>0.008035</td>\n",
       "      <td>-0.016239</td>\n",
       "      <td>0.005953</td>\n",
       "      <td>0.048865</td>\n",
       "      <td>0.014558</td>\n",
       "      <td>-0.070728</td>\n",
       "      <td>-0.052338</td>\n",
       "      <td>-0.061481</td>\n",
       "      <td>-0.013191</td>\n",
       "      <td>-0.011488</td>\n",
       "    </tr>\n",
       "  </tbody>\n",
       "</table>\n",
       "<p>10 rows × 716 columns</p>\n",
       "</div>"
      ],
      "text/plain": [
       "   Alaska Airlines Inc.  American Airlines Inc.  Continental Air Lines Inc.  \\\n",
       "0             -0.006828               -0.176520                   -0.004158   \n",
       "1             -0.011731               -0.498944                   -0.004810   \n",
       "2             -0.003500               -0.361254                    0.009281   \n",
       "3              0.022781               -0.509861                    0.006063   \n",
       "4              0.001558               -0.015464                    0.001815   \n",
       "5              0.002786                0.002868                    0.001721   \n",
       "6             -0.007228                0.073278                   -0.004060   \n",
       "7              0.006480               -0.283721                   -0.005766   \n",
       "8              0.033718               -0.061419                    0.000751   \n",
       "9             -0.019069               -0.010249                   -0.003366   \n",
       "\n",
       "   Delta Air Lines Inc.  Endeavor Air Inc.  Envoy Air  \\\n",
       "0             -0.239494          -0.002871  -0.049677   \n",
       "1              0.645418           0.001481  -0.055963   \n",
       "2             -0.360634          -0.000362  -0.014455   \n",
       "3             -0.064183           0.000740   0.056223   \n",
       "4              0.020177          -0.000220   0.010310   \n",
       "5              0.008659          -0.000225   0.007563   \n",
       "6              0.011721          -0.000714  -0.183457   \n",
       "7             -0.056645           0.002973   0.662735   \n",
       "8             -0.070460           0.005829  -0.279605   \n",
       "9             -0.144789          -0.005467  -0.008921   \n",
       "\n",
       "   ExpressJet Airlines Inc.  Frontier Airlines Inc.  Hawaiian Airlines Inc.  \\\n",
       "0                 -0.179379               -0.002297               -0.004901   \n",
       "1                  0.084306               -0.007411               -0.004165   \n",
       "2                  0.789357                0.001210               -0.000149   \n",
       "3                 -0.357834                0.020249                0.007720   \n",
       "4                 -0.018239               -0.000051                0.000634   \n",
       "5                  0.005673                0.000656               -0.000407   \n",
       "6                  0.103720                0.009987               -0.001014   \n",
       "7                 -0.093132                0.001482                0.004745   \n",
       "8                 -0.039718               -0.000147                0.019410   \n",
       "9                 -0.027572                0.021047               -0.006912   \n",
       "\n",
       "   JetBlue Airways    ...      1400-1459  1500-1559  1600-1659  1700-1759  \\\n",
       "0        -0.046010    ...      -0.001306  -0.001198   0.008045  -0.000518   \n",
       "1         0.053504    ...       0.000132   0.006357   0.012727   0.008514   \n",
       "2        -0.054446    ...       0.015587   0.000178   0.013657   0.005144   \n",
       "3         0.013059    ...      -0.016608  -0.003464  -0.022195   0.011906   \n",
       "4         0.020434    ...      -0.010877  -0.002552  -0.003236  -0.008883   \n",
       "5         0.004315    ...      -0.003567   0.000870  -0.000645  -0.006890   \n",
       "6        -0.176456    ...       0.028864   0.055408   0.036433   0.062797   \n",
       "7        -0.000375    ...       0.006117  -0.014574   0.014857   0.007445   \n",
       "8         0.154691    ...      -0.028526  -0.013498  -0.019337  -0.021608   \n",
       "9        -0.265053    ...       0.008035  -0.016239   0.005953   0.048865   \n",
       "\n",
       "   1800-1859  1900-1959  2000-2059  2100-2159  2200-2259  2300-2359  \n",
       "0   0.013699   0.008295   0.021374   0.011051  -0.010175  -0.006778  \n",
       "1  -0.009588   0.017742  -0.005195   0.005831   0.000152   0.000868  \n",
       "2  -0.001208  -0.000427  -0.012558  -0.005219  -0.009632  -0.006159  \n",
       "3  -0.011081   0.003501  -0.000184   0.003649   0.011733   0.006185  \n",
       "4   0.006520  -0.000333   0.002875   0.001733   0.002995   0.002143  \n",
       "5  -0.001028  -0.002863   0.002525  -0.000103  -0.001008  -0.000218  \n",
       "6   0.016674   0.014535   0.012514   0.009019   0.000579  -0.010210  \n",
       "7   0.016531  -0.013943  -0.011095  -0.014993  -0.010675  -0.007675  \n",
       "8  -0.035275   0.007513   0.021664   0.013178   0.031727   0.005672  \n",
       "9   0.014558  -0.070728  -0.052338  -0.061481  -0.013191  -0.011488  \n",
       "\n",
       "[10 rows x 716 columns]"
      ]
     },
     "execution_count": 44,
     "metadata": {},
     "output_type": "execute_result"
    }
   ],
   "source": [
    "IPCA10DF.columns = Dummies.columns\n",
    "IPCA10DF"
   ]
  },
  {
   "cell_type": "code",
   "execution_count": 33,
   "metadata": {
    "collapsed": false
   },
   "outputs": [
    {
     "data": {
      "text/plain": [
       "{'batch_size': 100000, 'copy': False, 'n_components': 10, 'whiten': False}"
      ]
     },
     "execution_count": 33,
     "metadata": {},
     "output_type": "execute_result"
    }
   ],
   "source": [
    "ipca10.get_params()"
   ]
  },
  {
   "cell_type": "code",
   "execution_count": 32,
   "metadata": {
    "collapsed": true
   },
   "outputs": [],
   "source": [
    "#Try IPCA with 100 components now\n",
    "ipca100 = IncrementalPCA(n_components=100, batch_size=100000, copy=False)"
   ]
  },
  {
   "cell_type": "code",
   "execution_count": 46,
   "metadata": {
    "collapsed": true
   },
   "outputs": [],
   "source": [
    "\"\"\"RUN IPCA WITH 100 COMPONENTS\"\"\"\n",
    "for k in range(len(Dummies) // 100000 + 1):\n",
    "    X, y = Xframes[k], Yframes[k]\n",
    "    #ipca100.partial_fit(X, y)"
   ]
  },
  {
   "cell_type": "code",
   "execution_count": 47,
   "metadata": {
    "collapsed": false
   },
   "outputs": [
    {
     "data": {
      "text/plain": [
       "1490434L"
      ]
     },
     "execution_count": 47,
     "metadata": {},
     "output_type": "execute_result"
    }
   ],
   "source": [
    "ipca100.n_samples_seen_"
   ]
  },
  {
   "cell_type": "code",
   "execution_count": 48,
   "metadata": {
    "collapsed": false
   },
   "outputs": [
    {
     "data": {
      "text/plain": [
       "0.8528812594953662"
      ]
     },
     "execution_count": 48,
     "metadata": {},
     "output_type": "execute_result"
    }
   ],
   "source": [
    "sum(ipca100.explained_variance_ratio_)"
   ]
  },
  {
   "cell_type": "code",
   "execution_count": 49,
   "metadata": {
    "collapsed": false
   },
   "outputs": [
    {
     "data": {
      "text/plain": [
       "array([ 0.0419058 ,  0.03223939,  0.02609429,  0.02463642,  0.02021929,\n",
       "        0.01954252,  0.01921096,  0.01888981,  0.01854193,  0.01844692,\n",
       "        0.01813319,  0.01790072,  0.01771473,  0.01746719,  0.01637912,\n",
       "        0.01615398,  0.01606117,  0.01551614,  0.01493321,  0.0147209 ,\n",
       "        0.01449397,  0.01405294,  0.01403608,  0.01379751,  0.01354645,\n",
       "        0.01346319,  0.01323352,  0.0131331 ,  0.01300372,  0.0127462 ,\n",
       "        0.01238754,  0.01141195,  0.01104624,  0.01005439,  0.00944765,\n",
       "        0.00903488,  0.008403  ,  0.00833613,  0.00812303,  0.00802079,\n",
       "        0.00781266,  0.00710941,  0.00693556,  0.00642518,  0.00628469,\n",
       "        0.0059902 ,  0.00576517,  0.00567044,  0.00517003,  0.00509601,\n",
       "        0.00491261,  0.00474734,  0.00465928,  0.00455657,  0.00434715,\n",
       "        0.00430954,  0.0042979 ,  0.00414403,  0.00413163,  0.00408095,\n",
       "        0.00404687,  0.004034  ,  0.00399705,  0.00384369,  0.00372668,\n",
       "        0.00369752,  0.00365923,  0.00358575,  0.00355314,  0.00345924,\n",
       "        0.00340756,  0.00337739,  0.00325749,  0.00316781,  0.00291816,\n",
       "        0.00289792,  0.00283165,  0.00275962,  0.00270275,  0.00266237,\n",
       "        0.00263176,  0.00262441,  0.00251218,  0.00244034,  0.00230215,\n",
       "        0.00228083,  0.00223923,  0.00216302,  0.00213361,  0.0020813 ,\n",
       "        0.00206197,  0.00202266,  0.00201618,  0.00197134,  0.00195217,\n",
       "        0.00191388,  0.00189332,  0.00178478,  0.00168479,  0.00165912])"
      ]
     },
     "execution_count": 49,
     "metadata": {},
     "output_type": "execute_result"
    }
   ],
   "source": [
    "ipca100.explained_variance_ratio_"
   ]
  },
  {
   "cell_type": "code",
   "execution_count": 50,
   "metadata": {
    "collapsed": false
   },
   "outputs": [
    {
     "data": {
      "text/html": [
       "<div>\n",
       "<table border=\"1\" class=\"dataframe\">\n",
       "  <thead>\n",
       "    <tr style=\"text-align: right;\">\n",
       "      <th></th>\n",
       "      <th>0</th>\n",
       "      <th>1</th>\n",
       "      <th>2</th>\n",
       "      <th>3</th>\n",
       "      <th>4</th>\n",
       "      <th>5</th>\n",
       "      <th>6</th>\n",
       "      <th>7</th>\n",
       "      <th>8</th>\n",
       "      <th>9</th>\n",
       "      <th>...</th>\n",
       "      <th>706</th>\n",
       "      <th>707</th>\n",
       "      <th>708</th>\n",
       "      <th>709</th>\n",
       "      <th>710</th>\n",
       "      <th>711</th>\n",
       "      <th>712</th>\n",
       "      <th>713</th>\n",
       "      <th>714</th>\n",
       "      <th>715</th>\n",
       "    </tr>\n",
       "  </thead>\n",
       "  <tbody>\n",
       "    <tr>\n",
       "      <th>0</th>\n",
       "      <td>-0.010272</td>\n",
       "      <td>-0.114965</td>\n",
       "      <td>-0.002175</td>\n",
       "      <td>-0.305496</td>\n",
       "      <td>-0.002122</td>\n",
       "      <td>-0.053256</td>\n",
       "      <td>-0.166268</td>\n",
       "      <td>-0.004189</td>\n",
       "      <td>-0.004689</td>\n",
       "      <td>-0.019303</td>\n",
       "      <td>...</td>\n",
       "      <td>0.000928</td>\n",
       "      <td>-0.003500</td>\n",
       "      <td>0.000482</td>\n",
       "      <td>-0.005991</td>\n",
       "      <td>0.014262</td>\n",
       "      <td>-0.000005</td>\n",
       "      <td>0.016363</td>\n",
       "      <td>0.006917</td>\n",
       "      <td>-0.011741</td>\n",
       "      <td>-0.005716</td>\n",
       "    </tr>\n",
       "    <tr>\n",
       "      <th>1</th>\n",
       "      <td>-0.016235</td>\n",
       "      <td>-0.310834</td>\n",
       "      <td>-0.003693</td>\n",
       "      <td>0.758254</td>\n",
       "      <td>-0.001004</td>\n",
       "      <td>-0.105310</td>\n",
       "      <td>-0.103469</td>\n",
       "      <td>-0.008303</td>\n",
       "      <td>-0.006472</td>\n",
       "      <td>-0.026121</td>\n",
       "      <td>...</td>\n",
       "      <td>-0.007604</td>\n",
       "      <td>0.006597</td>\n",
       "      <td>0.007009</td>\n",
       "      <td>0.000659</td>\n",
       "      <td>-0.023664</td>\n",
       "      <td>0.020503</td>\n",
       "      <td>-0.007276</td>\n",
       "      <td>0.005911</td>\n",
       "      <td>0.001927</td>\n",
       "      <td>0.000354</td>\n",
       "    </tr>\n",
       "    <tr>\n",
       "      <th>2</th>\n",
       "      <td>-0.004658</td>\n",
       "      <td>-0.514156</td>\n",
       "      <td>0.002655</td>\n",
       "      <td>-0.189528</td>\n",
       "      <td>0.000190</td>\n",
       "      <td>-0.058414</td>\n",
       "      <td>0.764915</td>\n",
       "      <td>0.000553</td>\n",
       "      <td>-0.000537</td>\n",
       "      <td>-0.009926</td>\n",
       "      <td>...</td>\n",
       "      <td>0.011752</td>\n",
       "      <td>0.003918</td>\n",
       "      <td>0.019091</td>\n",
       "      <td>0.006247</td>\n",
       "      <td>-0.010729</td>\n",
       "      <td>0.011715</td>\n",
       "      <td>-0.012406</td>\n",
       "      <td>-0.000785</td>\n",
       "      <td>-0.007980</td>\n",
       "      <td>-0.004410</td>\n",
       "    </tr>\n",
       "    <tr>\n",
       "      <th>3</th>\n",
       "      <td>0.016271</td>\n",
       "      <td>-0.465499</td>\n",
       "      <td>0.001348</td>\n",
       "      <td>-0.004291</td>\n",
       "      <td>0.001103</td>\n",
       "      <td>-0.050846</td>\n",
       "      <td>-0.339499</td>\n",
       "      <td>0.013187</td>\n",
       "      <td>0.004395</td>\n",
       "      <td>0.015840</td>\n",
       "      <td>...</td>\n",
       "      <td>-0.029121</td>\n",
       "      <td>0.011944</td>\n",
       "      <td>-0.009434</td>\n",
       "      <td>0.012307</td>\n",
       "      <td>-0.011466</td>\n",
       "      <td>0.003189</td>\n",
       "      <td>-0.000014</td>\n",
       "      <td>0.005528</td>\n",
       "      <td>0.008476</td>\n",
       "      <td>0.003020</td>\n",
       "    </tr>\n",
       "    <tr>\n",
       "      <th>4</th>\n",
       "      <td>0.019809</td>\n",
       "      <td>-0.211055</td>\n",
       "      <td>0.004772</td>\n",
       "      <td>-0.002549</td>\n",
       "      <td>0.001007</td>\n",
       "      <td>0.069567</td>\n",
       "      <td>-0.247629</td>\n",
       "      <td>0.009619</td>\n",
       "      <td>0.006634</td>\n",
       "      <td>0.049415</td>\n",
       "      <td>...</td>\n",
       "      <td>-0.005962</td>\n",
       "      <td>-0.024975</td>\n",
       "      <td>-0.032699</td>\n",
       "      <td>-0.002291</td>\n",
       "      <td>-0.001125</td>\n",
       "      <td>0.014587</td>\n",
       "      <td>-0.007919</td>\n",
       "      <td>-0.003364</td>\n",
       "      <td>0.011077</td>\n",
       "      <td>0.010571</td>\n",
       "    </tr>\n",
       "  </tbody>\n",
       "</table>\n",
       "<p>5 rows × 716 columns</p>\n",
       "</div>"
      ],
      "text/plain": [
       "        0         1         2         3         4         5         6    \\\n",
       "0 -0.010272 -0.114965 -0.002175 -0.305496 -0.002122 -0.053256 -0.166268   \n",
       "1 -0.016235 -0.310834 -0.003693  0.758254 -0.001004 -0.105310 -0.103469   \n",
       "2 -0.004658 -0.514156  0.002655 -0.189528  0.000190 -0.058414  0.764915   \n",
       "3  0.016271 -0.465499  0.001348 -0.004291  0.001103 -0.050846 -0.339499   \n",
       "4  0.019809 -0.211055  0.004772 -0.002549  0.001007  0.069567 -0.247629   \n",
       "\n",
       "        7         8         9      ...          706       707       708  \\\n",
       "0 -0.004189 -0.004689 -0.019303    ...     0.000928 -0.003500  0.000482   \n",
       "1 -0.008303 -0.006472 -0.026121    ...    -0.007604  0.006597  0.007009   \n",
       "2  0.000553 -0.000537 -0.009926    ...     0.011752  0.003918  0.019091   \n",
       "3  0.013187  0.004395  0.015840    ...    -0.029121  0.011944 -0.009434   \n",
       "4  0.009619  0.006634  0.049415    ...    -0.005962 -0.024975 -0.032699   \n",
       "\n",
       "        709       710       711       712       713       714       715  \n",
       "0 -0.005991  0.014262 -0.000005  0.016363  0.006917 -0.011741 -0.005716  \n",
       "1  0.000659 -0.023664  0.020503 -0.007276  0.005911  0.001927  0.000354  \n",
       "2  0.006247 -0.010729  0.011715 -0.012406 -0.000785 -0.007980 -0.004410  \n",
       "3  0.012307 -0.011466  0.003189 -0.000014  0.005528  0.008476  0.003020  \n",
       "4 -0.002291 -0.001125  0.014587 -0.007919 -0.003364  0.011077  0.010571  \n",
       "\n",
       "[5 rows x 716 columns]"
      ]
     },
     "execution_count": 50,
     "metadata": {},
     "output_type": "execute_result"
    }
   ],
   "source": [
    "IPCA100DF = pd.DataFrame(ipca100.components_)\n",
    "IPCA100DF.head()"
   ]
  },
  {
   "cell_type": "code",
   "execution_count": 51,
   "metadata": {
    "collapsed": false
   },
   "outputs": [
    {
     "data": {
      "text/html": [
       "<div>\n",
       "<table border=\"1\" class=\"dataframe\">\n",
       "  <thead>\n",
       "    <tr style=\"text-align: right;\">\n",
       "      <th></th>\n",
       "      <th>Alaska Airlines Inc.</th>\n",
       "      <th>American Airlines Inc.</th>\n",
       "      <th>Continental Air Lines Inc.</th>\n",
       "      <th>Delta Air Lines Inc.</th>\n",
       "      <th>Endeavor Air Inc.</th>\n",
       "      <th>Envoy Air</th>\n",
       "      <th>ExpressJet Airlines Inc.</th>\n",
       "      <th>Frontier Airlines Inc.</th>\n",
       "      <th>Hawaiian Airlines Inc.</th>\n",
       "      <th>JetBlue Airways</th>\n",
       "      <th>...</th>\n",
       "      <th>1400-1459</th>\n",
       "      <th>1500-1559</th>\n",
       "      <th>1600-1659</th>\n",
       "      <th>1700-1759</th>\n",
       "      <th>1800-1859</th>\n",
       "      <th>1900-1959</th>\n",
       "      <th>2000-2059</th>\n",
       "      <th>2100-2159</th>\n",
       "      <th>2200-2259</th>\n",
       "      <th>2300-2359</th>\n",
       "    </tr>\n",
       "  </thead>\n",
       "  <tbody>\n",
       "    <tr>\n",
       "      <th>0</th>\n",
       "      <td>-0.010272</td>\n",
       "      <td>-0.114965</td>\n",
       "      <td>-0.002175</td>\n",
       "      <td>-0.305496</td>\n",
       "      <td>-0.002122</td>\n",
       "      <td>-0.053256</td>\n",
       "      <td>-0.166268</td>\n",
       "      <td>-0.004189</td>\n",
       "      <td>-0.004689</td>\n",
       "      <td>-0.019303</td>\n",
       "      <td>...</td>\n",
       "      <td>0.000928</td>\n",
       "      <td>-0.003500</td>\n",
       "      <td>0.000482</td>\n",
       "      <td>-0.005991</td>\n",
       "      <td>0.014262</td>\n",
       "      <td>-0.000005</td>\n",
       "      <td>0.016363</td>\n",
       "      <td>0.006917</td>\n",
       "      <td>-0.011741</td>\n",
       "      <td>-0.005716</td>\n",
       "    </tr>\n",
       "    <tr>\n",
       "      <th>1</th>\n",
       "      <td>-0.016235</td>\n",
       "      <td>-0.310834</td>\n",
       "      <td>-0.003693</td>\n",
       "      <td>0.758254</td>\n",
       "      <td>-0.001004</td>\n",
       "      <td>-0.105310</td>\n",
       "      <td>-0.103469</td>\n",
       "      <td>-0.008303</td>\n",
       "      <td>-0.006472</td>\n",
       "      <td>-0.026121</td>\n",
       "      <td>...</td>\n",
       "      <td>-0.007604</td>\n",
       "      <td>0.006597</td>\n",
       "      <td>0.007009</td>\n",
       "      <td>0.000659</td>\n",
       "      <td>-0.023664</td>\n",
       "      <td>0.020503</td>\n",
       "      <td>-0.007276</td>\n",
       "      <td>0.005911</td>\n",
       "      <td>0.001927</td>\n",
       "      <td>0.000354</td>\n",
       "    </tr>\n",
       "    <tr>\n",
       "      <th>2</th>\n",
       "      <td>-0.004658</td>\n",
       "      <td>-0.514156</td>\n",
       "      <td>0.002655</td>\n",
       "      <td>-0.189528</td>\n",
       "      <td>0.000190</td>\n",
       "      <td>-0.058414</td>\n",
       "      <td>0.764915</td>\n",
       "      <td>0.000553</td>\n",
       "      <td>-0.000537</td>\n",
       "      <td>-0.009926</td>\n",
       "      <td>...</td>\n",
       "      <td>0.011752</td>\n",
       "      <td>0.003918</td>\n",
       "      <td>0.019091</td>\n",
       "      <td>0.006247</td>\n",
       "      <td>-0.010729</td>\n",
       "      <td>0.011715</td>\n",
       "      <td>-0.012406</td>\n",
       "      <td>-0.000785</td>\n",
       "      <td>-0.007980</td>\n",
       "      <td>-0.004410</td>\n",
       "    </tr>\n",
       "    <tr>\n",
       "      <th>3</th>\n",
       "      <td>0.016271</td>\n",
       "      <td>-0.465499</td>\n",
       "      <td>0.001348</td>\n",
       "      <td>-0.004291</td>\n",
       "      <td>0.001103</td>\n",
       "      <td>-0.050846</td>\n",
       "      <td>-0.339499</td>\n",
       "      <td>0.013187</td>\n",
       "      <td>0.004395</td>\n",
       "      <td>0.015840</td>\n",
       "      <td>...</td>\n",
       "      <td>-0.029121</td>\n",
       "      <td>0.011944</td>\n",
       "      <td>-0.009434</td>\n",
       "      <td>0.012307</td>\n",
       "      <td>-0.011466</td>\n",
       "      <td>0.003189</td>\n",
       "      <td>-0.000014</td>\n",
       "      <td>0.005528</td>\n",
       "      <td>0.008476</td>\n",
       "      <td>0.003020</td>\n",
       "    </tr>\n",
       "    <tr>\n",
       "      <th>4</th>\n",
       "      <td>0.019809</td>\n",
       "      <td>-0.211055</td>\n",
       "      <td>0.004772</td>\n",
       "      <td>-0.002549</td>\n",
       "      <td>0.001007</td>\n",
       "      <td>0.069567</td>\n",
       "      <td>-0.247629</td>\n",
       "      <td>0.009619</td>\n",
       "      <td>0.006634</td>\n",
       "      <td>0.049415</td>\n",
       "      <td>...</td>\n",
       "      <td>-0.005962</td>\n",
       "      <td>-0.024975</td>\n",
       "      <td>-0.032699</td>\n",
       "      <td>-0.002291</td>\n",
       "      <td>-0.001125</td>\n",
       "      <td>0.014587</td>\n",
       "      <td>-0.007919</td>\n",
       "      <td>-0.003364</td>\n",
       "      <td>0.011077</td>\n",
       "      <td>0.010571</td>\n",
       "    </tr>\n",
       "  </tbody>\n",
       "</table>\n",
       "<p>5 rows × 716 columns</p>\n",
       "</div>"
      ],
      "text/plain": [
       "   Alaska Airlines Inc.  American Airlines Inc.  Continental Air Lines Inc.  \\\n",
       "0             -0.010272               -0.114965                   -0.002175   \n",
       "1             -0.016235               -0.310834                   -0.003693   \n",
       "2             -0.004658               -0.514156                    0.002655   \n",
       "3              0.016271               -0.465499                    0.001348   \n",
       "4              0.019809               -0.211055                    0.004772   \n",
       "\n",
       "   Delta Air Lines Inc.  Endeavor Air Inc.  Envoy Air  \\\n",
       "0             -0.305496          -0.002122  -0.053256   \n",
       "1              0.758254          -0.001004  -0.105310   \n",
       "2             -0.189528           0.000190  -0.058414   \n",
       "3             -0.004291           0.001103  -0.050846   \n",
       "4             -0.002549           0.001007   0.069567   \n",
       "\n",
       "   ExpressJet Airlines Inc.  Frontier Airlines Inc.  Hawaiian Airlines Inc.  \\\n",
       "0                 -0.166268               -0.004189               -0.004689   \n",
       "1                 -0.103469               -0.008303               -0.006472   \n",
       "2                  0.764915                0.000553               -0.000537   \n",
       "3                 -0.339499                0.013187                0.004395   \n",
       "4                 -0.247629                0.009619                0.006634   \n",
       "\n",
       "   JetBlue Airways    ...      1400-1459  1500-1559  1600-1659  1700-1759  \\\n",
       "0        -0.019303    ...       0.000928  -0.003500   0.000482  -0.005991   \n",
       "1        -0.026121    ...      -0.007604   0.006597   0.007009   0.000659   \n",
       "2        -0.009926    ...       0.011752   0.003918   0.019091   0.006247   \n",
       "3         0.015840    ...      -0.029121   0.011944  -0.009434   0.012307   \n",
       "4         0.049415    ...      -0.005962  -0.024975  -0.032699  -0.002291   \n",
       "\n",
       "   1800-1859  1900-1959  2000-2059  2100-2159  2200-2259  2300-2359  \n",
       "0   0.014262  -0.000005   0.016363   0.006917  -0.011741  -0.005716  \n",
       "1  -0.023664   0.020503  -0.007276   0.005911   0.001927   0.000354  \n",
       "2  -0.010729   0.011715  -0.012406  -0.000785  -0.007980  -0.004410  \n",
       "3  -0.011466   0.003189  -0.000014   0.005528   0.008476   0.003020  \n",
       "4  -0.001125   0.014587  -0.007919  -0.003364   0.011077   0.010571  \n",
       "\n",
       "[5 rows x 716 columns]"
      ]
     },
     "execution_count": 51,
     "metadata": {},
     "output_type": "execute_result"
    }
   ],
   "source": [
    "IPCA100DF.columns = Dummies.columns\n",
    "IPCA100DF.head()"
   ]
  },
  {
   "cell_type": "code",
   "execution_count": 52,
   "metadata": {
    "collapsed": false
   },
   "outputs": [
    {
     "data": {
      "text/plain": [
       "(100, 716)"
      ]
     },
     "execution_count": 52,
     "metadata": {},
     "output_type": "execute_result"
    }
   ],
   "source": [
    "IPCA100DF.shape"
   ]
  },
  {
   "cell_type": "code",
   "execution_count": 10,
   "metadata": {
    "collapsed": false
   },
   "outputs": [],
   "source": [
    "sgd = SGDRegressor(penalty='l1')"
   ]
  },
  {
   "cell_type": "code",
   "execution_count": 67,
   "metadata": {
    "collapsed": false
   },
   "outputs": [],
   "source": [
    "\"\"\"RUN SGD REGRESSOR\"\"\"\n",
    "for k in range(len(Dummies) // 100000 + 1):\n",
    "    X, y = Xframes[k], Yframes[k]\n",
    "    #sgd.partial_fit(X, y)"
   ]
  },
  {
   "cell_type": "code",
   "execution_count": 68,
   "metadata": {
    "collapsed": false
   },
   "outputs": [
    {
     "data": {
      "text/plain": [
       "array([ -3.93608907e+00,  -2.48490829e+00,  -3.43191858e-01,\n",
       "        -2.98476825e+00,   8.02623917e-02,  -3.36069922e-01,\n",
       "         4.26047117e+00,   6.42773518e+00,  -2.18843407e+00,\n",
       "         4.52459023e+00,   2.50147928e+00,   6.38795248e-01,\n",
       "         1.84885393e+00,   9.88003543e+00,  -1.19115901e+00,\n",
       "        -1.15560438e+00,  -3.28480422e+00,   7.88918693e-02,\n",
       "         9.03799142e-01,   6.53855575e-01,   1.82782346e-01,\n",
       "         0.00000000e+00,  -3.90643078e-01,   1.71926621e+00,\n",
       "        -2.15605070e-01,   1.09333998e-02,   6.16909220e-02,\n",
       "        -1.19032077e-01,   3.86321566e-01,  -2.58443332e-02,\n",
       "        -1.43439049e+00,   2.02773891e-01,   2.92477077e-01,\n",
       "         1.26442065e+00,  -2.28643505e-01,  -2.83103696e-01,\n",
       "         7.67077818e-01,   1.18970060e-01,  -6.00366397e-01,\n",
       "         3.96423800e-01,   4.13606399e-01,  -3.29675138e-01,\n",
       "        -8.21442840e-03,  -1.51493860e-01,  -2.34443824e+00,\n",
       "         2.40635921e-01,   1.11713085e-01,   6.53702087e-02,\n",
       "        -4.21513418e-01,   3.58691563e-01,  -3.60611701e-01,\n",
       "         4.10704789e-01,  -2.16159805e-02,  -3.01811890e-01,\n",
       "         2.16283232e-01,  -5.04081119e-01,   5.93315344e-02,\n",
       "        -5.32598128e-01,  -4.28790594e-01,   0.00000000e+00,\n",
       "         1.21213856e-01,  -1.35537828e-01,  -3.18286652e-01,\n",
       "        -7.07260738e-01,   1.71832463e-01,  -3.14074604e-01,\n",
       "         1.82784922e+00,  -7.57072956e-01,  -5.67051896e-01,\n",
       "        -2.24853004e+00,   2.52922167e+00,  -4.48796181e-01,\n",
       "         1.26045708e+00,  -1.19782047e+00,  -1.32421350e-01,\n",
       "        -2.75534597e-01,   1.12728203e+00,   4.08399655e-02,\n",
       "        -7.22214726e-01,  -9.65398722e-01,   1.99971426e-02,\n",
       "         8.87758604e-01,   2.01827306e-01,   0.00000000e+00,\n",
       "        -2.16335682e+00,  -1.59628071e+00,   2.41469839e-01,\n",
       "         1.62733536e-01,   5.88435858e-01,   5.36259917e-01,\n",
       "        -1.35246816e-01,   1.01823924e-02,   1.97141359e+00,\n",
       "         2.14263348e-01,  -1.45404081e-01,   1.44855493e+00,\n",
       "         3.84918032e-01,   1.70738741e-02,  -2.91589298e-01,\n",
       "        -6.02810873e-02,  -2.36157539e-02,  -3.82265475e-02,\n",
       "         2.38642104e+00,  -3.03616774e-01,  -1.62028291e-01,\n",
       "        -1.55183563e-01,   2.32452678e+00,   4.85935460e+00,\n",
       "         0.00000000e+00,   1.60619206e-02,   3.14662879e-02,\n",
       "         1.65434763e-01,  -3.36869277e-01,   0.00000000e+00,\n",
       "         6.31365731e-01,  -6.27065101e-01,   6.22808371e-02,\n",
       "        -2.29201712e-01,   2.91480956e-02,   9.86327881e-02,\n",
       "        -3.04240432e-01,  -2.81795587e-01,   2.11083474e-01,\n",
       "         1.38396237e-01,  -2.14270342e-02,  -2.27903093e-01,\n",
       "         2.48253171e-01,  -2.51307409e-01,   3.28138934e+00,\n",
       "        -1.40131040e+00,   2.75484576e-01,  -4.37486767e-01,\n",
       "         2.69462095e+00,   9.10180091e-02,  -7.31407321e-01,\n",
       "        -2.83865975e-01,  -1.39696496e+00,  -1.08890442e+00,\n",
       "        -1.41322260e-02,   8.81890309e-01,  -7.99430681e-01,\n",
       "        -1.08273172e+00,  -4.26736491e-01,  -8.12510717e-03,\n",
       "        -4.10900831e-01,  -5.21589416e-01,  -6.59489950e-02,\n",
       "         1.70412227e-01,   2.38477750e-01,   1.72268959e-01,\n",
       "         1.06049522e-01,   1.01561926e-01,  -3.88617557e-01,\n",
       "        -1.05745140e+00,   1.74190868e-02,  -7.24683101e-01,\n",
       "         4.26812777e-02,  -4.42282285e-01,   1.45654567e-01,\n",
       "        -1.49681176e-01,   1.59412509e-01,  -4.06160767e-01,\n",
       "        -9.93734453e-02,  -4.80672402e-01,   1.02271537e+00,\n",
       "        -4.73724593e-01,   2.99432804e+00,  -1.46818668e-01,\n",
       "        -8.71961267e-01,  -7.04288831e-01,  -7.03325568e-02,\n",
       "        -3.68259830e-02,   3.30658298e+00,  -5.37609498e-02,\n",
       "         3.64905757e-01,   1.21396917e+00,  -1.13820038e+00,\n",
       "         3.65830545e-01,  -6.00712648e-02,   2.41773434e-01,\n",
       "        -2.02495321e+00,   1.24800522e-02,  -2.86092645e-02,\n",
       "        -6.09198437e-01,  -3.91881056e-01,   0.00000000e+00,\n",
       "        -1.21663365e+00,  -3.95515839e-01,   3.54149554e-01,\n",
       "        -3.79305025e-01,  -2.23399522e+00,  -3.35245818e-01,\n",
       "         2.69305777e-01,  -1.12370632e-01,   1.10798361e+00,\n",
       "        -1.59570553e+00,   2.19090038e-01,   9.36345560e-02,\n",
       "         4.70537934e-02,   1.37718634e+00,  -3.54718605e-01,\n",
       "         8.71263716e-01,  -9.46519959e-02,  -2.68188258e-01,\n",
       "        -1.57351534e+00,  -6.70984674e-01,   9.38951557e-01,\n",
       "        -7.11850232e-01,  -1.74913422e+00,  -2.40634082e+00,\n",
       "         6.84217468e-01,  -2.03722539e-01,   4.31608036e-01,\n",
       "        -3.15309065e-01,  -3.43399162e-01,  -1.24361024e-01,\n",
       "        -7.56648578e-02,   4.21749030e-01,  -3.74638630e-01,\n",
       "        -6.08794731e-01,   7.49502359e-01,  -7.70058619e-01,\n",
       "         1.53000160e+00,   2.92491014e-01,  -2.36871124e+00,\n",
       "         8.35561189e-01,  -2.81608114e-02,  -1.25187623e-01,\n",
       "        -7.84459977e-02,  -1.79392056e+00,   2.65399291e+00,\n",
       "        -1.24699474e+00,  -1.14699040e-01,   1.65914224e-01,\n",
       "         9.21440231e-03,  -1.62120294e-01,   5.02153638e-03,\n",
       "         7.68703645e-01,   3.39655803e-01,  -9.17709278e-02,\n",
       "         4.59582184e-01,   3.61905497e-01,  -1.23984912e+00,\n",
       "        -1.64436226e-01,  -1.30785019e+00,  -6.58962188e-01,\n",
       "        -2.34290260e-01,   1.65017366e-01,  -2.39707111e-01,\n",
       "         6.53638145e-03,   1.77780415e+00,  -1.41053684e+00,\n",
       "         1.00406536e-02,  -5.33260138e-01,   2.30026711e-01,\n",
       "         7.51501356e-01,   5.44897021e+00,   6.94102104e-01,\n",
       "        -1.59887976e-01,   4.01145772e-01,   4.27979178e-01,\n",
       "        -6.82824246e-02,  -1.19239412e-02,   8.38743236e-01,\n",
       "        -1.68705681e+00,   4.57639660e-02,   7.61302205e-01,\n",
       "        -1.40881033e+00,  -4.09495099e-02,  -1.34364976e-02,\n",
       "        -1.87903366e-01,  -2.33330123e+00,   0.00000000e+00,\n",
       "        -4.16196689e-01,  -3.80645267e-03,  -8.92074079e-01,\n",
       "        -4.20000030e-01,  -3.82315050e-02,   1.93440486e+00,\n",
       "         5.49260452e-02,  -1.98249492e+00,  -1.19673129e+00,\n",
       "         7.58213402e-01,   4.70715260e-01,  -6.93668083e-01,\n",
       "        -1.30900306e+00,  -1.74324836e-02,   5.82284582e-02,\n",
       "         6.16468639e-01,  -4.47380164e-01,   2.34035769e-01,\n",
       "         7.58273024e-01,  -1.10902068e+00,   3.78088717e-01,\n",
       "        -1.80333787e-01,  -2.65457393e+00,   7.39502798e-01,\n",
       "        -1.92981736e-01,  -6.14447231e-01,   8.50200526e-01,\n",
       "         8.14361521e-01,   5.36416417e-01,   3.91478947e-01,\n",
       "         7.99125420e-02,  -7.85669409e-02,  -2.17508758e-01,\n",
       "         4.99724866e-01,   8.64346108e+00,   1.54911341e+00,\n",
       "         3.01288245e-01,   0.00000000e+00,   9.20343604e-01,\n",
       "         3.69728970e-01,   8.04713275e-01,  -2.28781800e-01,\n",
       "        -2.71661171e+00,  -5.37805184e+00,   1.14904812e+00,\n",
       "        -2.83045503e-01,  -6.48255673e-01,  -6.56306329e-02,\n",
       "        -5.03843357e-01,   2.13752734e-01,   1.78137518e-01,\n",
       "         1.09891485e+00,  -9.93925007e-01,  -2.16188023e-01,\n",
       "        -3.01775194e-01,   4.85525254e-01,   6.30637641e-01,\n",
       "        -5.00260043e-01,   1.14971998e-01,  -1.39752404e-01,\n",
       "        -9.49532509e-01,  -7.33473865e-01,   1.06241404e+00,\n",
       "        -2.06477661e-01,  -3.45618853e-01,  -8.56553733e-01,\n",
       "        -2.06292678e-01,  -1.49732563e-01,  -6.87445974e-01,\n",
       "         1.33221439e+00,   7.14965854e-02,   4.17663066e-02,\n",
       "        -1.81659139e-01,   1.27135976e+00,   2.62118094e-02,\n",
       "        -1.66693342e-01,   9.49362848e-01,  -3.03749268e-01,\n",
       "        -8.94639692e-01,  -5.32019497e-01,   2.70770355e-01,\n",
       "        -2.54734653e-01,   3.57135358e-01,  -1.27500944e-01,\n",
       "        -2.84907136e-01,   9.00623548e-01,   2.88510386e-01,\n",
       "        -2.66601540e-03,   1.24968222e-01,  -4.71862351e-01,\n",
       "        -1.86880721e-02,  -4.78153654e-02,  -1.48169324e-01,\n",
       "        -3.72910490e-02,   4.54777801e-01,  -3.55738811e-01,\n",
       "        -3.03489178e-02,  -1.30671998e-01,   1.17979239e+00,\n",
       "         7.26936062e-01,  -2.20181327e-01,  -1.78491831e-02,\n",
       "        -2.48585624e-01,   1.59728514e-01,  -4.80945666e-03,\n",
       "        -8.83236529e-01,   5.95691139e-02,   2.75701270e-01,\n",
       "        -2.85138428e-01,   6.29158886e-02,   1.14441801e-02,\n",
       "         6.43176792e-01,  -7.04164965e-01,  -6.24749704e-01,\n",
       "        -2.52703993e-01,  -3.61420008e-01,  -2.94063344e-01,\n",
       "        -1.53900121e-02,  -1.98730251e+00,  -2.37680230e-01,\n",
       "         1.59418256e+00,   5.04055337e-01,  -1.51323977e-02,\n",
       "         7.14663239e-01,  -1.50737749e-01,  -2.87779738e-01,\n",
       "         2.21405358e-01,   1.51873122e-01,   2.59403193e-01,\n",
       "         1.40711326e-01,   2.49495629e-01,  -1.18827313e+00,\n",
       "        -7.47827614e-02,  -4.23130543e-01,   7.12160202e-01,\n",
       "        -4.72762286e-02,   2.25462176e-01,  -2.04256939e-02,\n",
       "         5.82603426e-01,  -5.90430606e-01,   2.23885043e-01,\n",
       "         5.39392755e-01,   3.76394015e-01,   1.88025663e-01,\n",
       "        -5.25958555e-02,   3.97124837e-01,  -1.87363980e+00,\n",
       "        -3.72916655e-01,   1.58667771e+00,   1.23601964e+00,\n",
       "         1.06656942e-01,   2.29533927e-01,   1.78396672e-02,\n",
       "        -4.82999960e-02,   6.40774359e-01,  -2.75924403e-01,\n",
       "        -2.21028698e-01,   2.75473580e-01,   2.81080631e-02,\n",
       "        -2.97299373e-01,  -7.03941617e-01,  -3.19037810e-01,\n",
       "        -4.72856349e-02,  -1.67983233e-01,  -3.50439955e-01,\n",
       "        -4.69209905e-01,  -1.29200563e-01,  -5.59707592e-02,\n",
       "         3.54923290e-01,   4.06236536e-02,  -3.34828498e-01,\n",
       "        -1.11116049e-01,  -3.16502143e-02,  -4.09263177e-01,\n",
       "        -5.07032650e-02,  -1.47335340e-01,   7.04443576e-02,\n",
       "        -1.13328667e+00,  -1.12370632e-01,  -6.81315987e-02,\n",
       "         3.38500075e-01,   6.10967978e-02,   7.15935945e-02,\n",
       "        -3.53063563e-01,   7.38852763e-01,  -2.50716405e-01,\n",
       "         5.46756328e-02,   9.15258418e-02,   0.00000000e+00,\n",
       "         2.79844839e-02,   3.80258298e+00,  -5.94005579e-01,\n",
       "         1.83885398e-01,  -1.91584920e-01,  -2.96067481e-01,\n",
       "        -1.15331850e-01,  -4.15054202e-01,  -5.36201418e-01,\n",
       "         2.58750407e+00,  -5.11979699e-01,   1.05252905e-01,\n",
       "         1.01777838e+00,  -1.46594078e-01,   0.00000000e+00,\n",
       "        -2.32443796e-01,  -1.74398507e-01,  -1.00872710e-01,\n",
       "        -3.03089857e-01,  -9.59640414e-02,  -9.96952290e-01,\n",
       "         1.49145037e-01,  -8.98375302e-02,  -1.31429410e+00,\n",
       "        -7.37967223e-02,  -3.50727779e-01,   4.09240232e-01,\n",
       "         2.42680811e-01,   3.35799751e-01,   9.14426897e-03,\n",
       "        -2.76934019e-01,  -3.83414375e-03,   0.00000000e+00,\n",
       "         4.97831911e-01,  -9.22234357e-02,  -8.35422857e-02,\n",
       "        -6.60526107e-01,   2.71448853e+00,  -1.23071415e-03,\n",
       "        -1.23528607e-01,  -1.40647674e+00,   1.26218866e-01,\n",
       "         7.90788767e-01,  -6.34747354e-03,  -1.51367483e-01,\n",
       "         1.74163174e+00,  -3.11694215e-02,   2.07196542e-01,\n",
       "         5.00217239e-01,  -3.51772163e-01,   2.78420285e-01,\n",
       "        -3.38862900e-01,  -3.13132508e-01,   3.61389472e-01,\n",
       "        -3.51504769e-01,  -6.78578099e-02,  -9.87465316e-02,\n",
       "         1.63536024e+00,  -1.04121804e-02,   2.57102698e-01,\n",
       "        -1.24091480e-01,   6.16340889e-01,  -1.04336192e+00,\n",
       "         2.10768832e-01,   1.47672719e+00,  -2.11890459e-01,\n",
       "        -3.14026944e-02,   7.34826144e-01,   8.04170387e-01,\n",
       "         5.90657200e-01,  -3.34893226e-01,  -2.15223550e-01,\n",
       "        -2.12659617e+00,  -2.83263754e-01,   1.61320287e-01,\n",
       "         1.76930974e-01,  -1.08699275e-02,  -8.64635208e-01,\n",
       "        -5.54970120e-01,  -1.51097627e-01,   2.71680685e+00,\n",
       "        -1.86172347e+00,   1.88540057e-01,   1.07316085e-01,\n",
       "        -2.05688669e-01,   4.19688205e-01,  -5.16370241e-01,\n",
       "        -1.02676598e-01,  -6.07171424e-02,  -2.95276024e-01,\n",
       "         1.13661671e-01,   0.00000000e+00,  -3.56896841e-01,\n",
       "         9.57023744e-01,  -2.93526219e-01,  -4.63181774e-01,\n",
       "        -5.46862314e-02,  -1.21069739e+00,   9.96983879e-01,\n",
       "        -2.46772569e-01,  -4.37504092e-01,  -3.65930961e-01,\n",
       "         3.10052104e-01,   1.00766231e+00,  -8.35602462e-01,\n",
       "        -3.58929728e-02,   1.59577523e-01,  -2.42028053e-01,\n",
       "        -4.82230162e-01,   6.91708780e-02,   5.20384009e-01,\n",
       "         2.10441759e-01,   1.13936215e-01,   0.00000000e+00,\n",
       "        -2.47075942e-02,  -7.44571830e-01,  -5.58369479e-01,\n",
       "        -1.49440847e-01,  -8.11498442e-01,   4.38288276e-02,\n",
       "         1.03152218e-02,  -1.85664067e-01,   2.18155949e-01,\n",
       "        -2.47380160e+00,   1.10657934e+00,   1.16819538e+00,\n",
       "        -3.45025876e-01,   1.85629412e-01,  -8.32707716e-01,\n",
       "         5.45539415e+00,  -2.26662457e-01,  -2.07550971e-01,\n",
       "         2.04707192e-01,   3.64090818e-01,  -5.35716619e-01,\n",
       "         0.00000000e+00,   1.53057107e+00,  -2.59317943e+00,\n",
       "        -2.09300223e-02,   2.61092725e+00,  -3.73541747e+00,\n",
       "        -1.01026197e-01,   3.05226113e-01,  -1.42960374e-01,\n",
       "        -1.68573214e-01,   1.90929422e-01,  -2.03472050e-01,\n",
       "         9.95171617e-04,  -1.32145401e-01,   5.68137577e-01,\n",
       "         1.36635768e-01,  -2.39699616e-01,   3.87895940e-02,\n",
       "         1.28510998e-02,   3.56911998e-01,  -3.18762753e-01,\n",
       "         5.20042897e-01,  -1.22757923e-01,   7.01269089e-01,\n",
       "        -7.34418967e-03,   1.16052965e-02,   4.65471594e-01,\n",
       "        -1.88029863e-01,  -7.41903224e-01,  -3.12267727e-01,\n",
       "        -3.59353762e-01,  -6.40090067e-02,  -5.27995134e-01,\n",
       "         3.30174890e-01,  -2.60104152e-01,  -2.32504125e-01,\n",
       "        -8.87146235e-01,   2.90909208e-01,  -1.43505162e-01,\n",
       "         2.29500638e-01,  -7.13685052e-01,   2.08160455e-01,\n",
       "        -8.26865436e-02,   7.02964868e-01,  -1.90285663e+00,\n",
       "         7.54514883e+00,  -9.90101363e-01,   4.83579756e-01,\n",
       "        -7.04506691e-03,  -3.92619278e-01,   2.02745442e-01,\n",
       "        -3.50053119e+00,  -8.13867992e-02,   1.46854498e+00,\n",
       "        -2.35213439e+00,  -4.90952969e-01,  -5.44614614e-01,\n",
       "        -3.57820629e+00,  -6.82336809e-01,   2.79755238e-02,\n",
       "        -7.99569826e-02,   1.30394904e-02,   2.77572148e-01,\n",
       "         6.79317480e-01,  -1.12025068e-01,  -3.98009541e-02,\n",
       "        -2.04656826e-01,   1.30646472e-01,   1.52586183e-01,\n",
       "         4.83381235e-01,  -2.85638874e-01,   1.05945068e+00,\n",
       "        -3.41532869e-01,   7.61204706e-01,  -2.27581938e-01,\n",
       "        -7.72550294e-01,  -6.84346060e-01,   1.87277828e-01,\n",
       "        -3.33238944e-01,  -4.83166200e-01,   1.22293047e+00,\n",
       "         2.40506275e-02,  -7.57063872e-02,  -3.86570222e-01,\n",
       "         7.71855148e-01,  -4.19973034e-02,  -5.11575171e-02,\n",
       "        -2.79665843e-01,  -3.61209420e-01,  -4.29163351e-01,\n",
       "        -9.12617958e-01,  -2.59634176e-01,  -1.55801677e+00,\n",
       "        -6.40963004e-02,   4.19206950e+00,   2.82883089e+00,\n",
       "         9.38393054e-01,  -2.49089336e+00,  -2.45142392e+00,\n",
       "        -3.26102975e+00,   1.90076471e+00,  -4.09592303e+00,\n",
       "        -1.94618881e+00,  -1.07689634e+00,  -1.55069068e-01,\n",
       "         1.63047515e+00,   4.04228904e+00,   3.14893764e+00,\n",
       "         4.51098211e+00,   5.28995129e+00,   7.13273707e+00,\n",
       "         7.93667133e+00,   7.75353831e+00,   9.71225620e+00,\n",
       "         7.94533430e+00,   6.82275481e+00,   4.53264542e+00,\n",
       "         1.56281512e+00,   8.47503384e-02])"
      ]
     },
     "execution_count": 68,
     "metadata": {},
     "output_type": "execute_result"
    }
   ],
   "source": [
    "sgd.coef_"
   ]
  },
  {
   "cell_type": "code",
   "execution_count": 70,
   "metadata": {
    "collapsed": false
   },
   "outputs": [
    {
     "data": {
      "text/plain": [
       "(716L,)"
      ]
     },
     "execution_count": 70,
     "metadata": {},
     "output_type": "execute_result"
    }
   ],
   "source": [
    "sgd.coef_.shape"
   ]
  },
  {
   "cell_type": "code",
   "execution_count": 20,
   "metadata": {
    "collapsed": true
   },
   "outputs": [],
   "source": [
    "from sklearn.utils import assert_all_finite"
   ]
  },
  {
   "cell_type": "code",
   "execution_count": 21,
   "metadata": {
    "collapsed": false
   },
   "outputs": [],
   "source": [
    "assert_all_finite(Dummies_NoNull)"
   ]
  },
  {
   "cell_type": "code",
   "execution_count": 11,
   "metadata": {
    "collapsed": true
   },
   "outputs": [],
   "source": [
    "from sklearn.linear_model import SGDClassifier"
   ]
  },
  {
   "cell_type": "code",
   "execution_count": 12,
   "metadata": {
    "collapsed": false
   },
   "outputs": [],
   "source": [
    "sgdc = SGDClassifier(loss='log', penalty='l1')"
   ]
  },
  {
   "cell_type": "code",
   "execution_count": 29,
   "metadata": {
    "collapsed": false
   },
   "outputs": [],
   "source": [
    "\"\"\"RUN SGD CLASSIFIER\"\"\"\n",
    "for k in range(len(Dummies) // 100000 + 1):\n",
    "    X, y = Xframes[k], Y2frames[k]\n",
    "    #sgdc.partial_fit(X, y, classes=[0, 1])"
   ]
  },
  {
   "cell_type": "code",
   "execution_count": 30,
   "metadata": {
    "collapsed": false
   },
   "outputs": [
    {
     "data": {
      "text/plain": [
       "array([[ -5.90577169e-02,   0.00000000e+00,   0.00000000e+00,\n",
       "         -2.56164335e-01,   1.38636088e-02,  -7.57862358e-02,\n",
       "          3.83741055e-01,   2.80897184e-01,  -1.01400519e+00,\n",
       "          3.31608889e-01,   2.34151324e-01,   0.00000000e+00,\n",
       "          2.19973022e-01,   6.20709647e-01,   9.90669769e-03,\n",
       "          3.29564388e-02,  -9.95844275e-02,   0.00000000e+00,\n",
       "          3.72879789e-02,   0.00000000e+00,   0.00000000e+00,\n",
       "          0.00000000e+00,   0.00000000e+00,   0.00000000e+00,\n",
       "          0.00000000e+00,   0.00000000e+00,   0.00000000e+00,\n",
       "          0.00000000e+00,   0.00000000e+00,   0.00000000e+00,\n",
       "          0.00000000e+00,   0.00000000e+00,   0.00000000e+00,\n",
       "          0.00000000e+00,   0.00000000e+00,   0.00000000e+00,\n",
       "          0.00000000e+00,   0.00000000e+00,   0.00000000e+00,\n",
       "          0.00000000e+00,   0.00000000e+00,   0.00000000e+00,\n",
       "          0.00000000e+00,   0.00000000e+00,  -1.08723416e-02,\n",
       "          0.00000000e+00,   0.00000000e+00,   0.00000000e+00,\n",
       "          0.00000000e+00,   0.00000000e+00,   0.00000000e+00,\n",
       "          0.00000000e+00,   0.00000000e+00,   0.00000000e+00,\n",
       "          0.00000000e+00,   0.00000000e+00,   0.00000000e+00,\n",
       "         -1.25650780e-02,   4.52403366e-02,   0.00000000e+00,\n",
       "          0.00000000e+00,   0.00000000e+00,   0.00000000e+00,\n",
       "          0.00000000e+00,   0.00000000e+00,   0.00000000e+00,\n",
       "          0.00000000e+00,   0.00000000e+00,   0.00000000e+00,\n",
       "         -1.83070864e-01,   1.09750967e-01,   0.00000000e+00,\n",
       "          3.39213521e-02,  -1.48634985e-02,   0.00000000e+00,\n",
       "         -1.95145341e-02,   1.45221671e-02,   0.00000000e+00,\n",
       "          0.00000000e+00,   0.00000000e+00,   0.00000000e+00,\n",
       "          0.00000000e+00,   0.00000000e+00,   0.00000000e+00,\n",
       "          0.00000000e+00,   0.00000000e+00,   0.00000000e+00,\n",
       "          0.00000000e+00,   0.00000000e+00,   0.00000000e+00,\n",
       "          0.00000000e+00,   0.00000000e+00,   0.00000000e+00,\n",
       "          0.00000000e+00,   0.00000000e+00,   0.00000000e+00,\n",
       "          0.00000000e+00,   0.00000000e+00,   0.00000000e+00,\n",
       "          0.00000000e+00,   0.00000000e+00,   0.00000000e+00,\n",
       "          1.83044011e-02,   0.00000000e+00,   0.00000000e+00,\n",
       "          0.00000000e+00,   3.64710639e-01,   3.48290485e-01,\n",
       "          0.00000000e+00,   0.00000000e+00,   0.00000000e+00,\n",
       "          0.00000000e+00,   0.00000000e+00,   0.00000000e+00,\n",
       "          0.00000000e+00,   8.53971210e-02,   0.00000000e+00,\n",
       "          0.00000000e+00,   0.00000000e+00,   0.00000000e+00,\n",
       "          0.00000000e+00,   0.00000000e+00,   0.00000000e+00,\n",
       "          0.00000000e+00,   0.00000000e+00,   0.00000000e+00,\n",
       "          0.00000000e+00,   0.00000000e+00,   3.40371659e-01,\n",
       "          0.00000000e+00,   0.00000000e+00,   0.00000000e+00,\n",
       "          0.00000000e+00,   0.00000000e+00,   0.00000000e+00,\n",
       "          0.00000000e+00,   0.00000000e+00,   0.00000000e+00,\n",
       "          0.00000000e+00,   0.00000000e+00,   0.00000000e+00,\n",
       "         -9.01505402e-02,   0.00000000e+00,   0.00000000e+00,\n",
       "          0.00000000e+00,   0.00000000e+00,   0.00000000e+00,\n",
       "          0.00000000e+00,   0.00000000e+00,   0.00000000e+00,\n",
       "          0.00000000e+00,   0.00000000e+00,   0.00000000e+00,\n",
       "          0.00000000e+00,   0.00000000e+00,   0.00000000e+00,\n",
       "          0.00000000e+00,   0.00000000e+00,   0.00000000e+00,\n",
       "          0.00000000e+00,   0.00000000e+00,   0.00000000e+00,\n",
       "          0.00000000e+00,   0.00000000e+00,   3.54639576e-02,\n",
       "          0.00000000e+00,   1.33164477e-01,   0.00000000e+00,\n",
       "          0.00000000e+00,   0.00000000e+00,   0.00000000e+00,\n",
       "          0.00000000e+00,   7.73006387e-02,   0.00000000e+00,\n",
       "          7.36182572e-02,   0.00000000e+00,   0.00000000e+00,\n",
       "          0.00000000e+00,   0.00000000e+00,   1.79472372e-02,\n",
       "          0.00000000e+00,   0.00000000e+00,   0.00000000e+00,\n",
       "          0.00000000e+00,   0.00000000e+00,   0.00000000e+00,\n",
       "         -1.08237592e-01,   0.00000000e+00,   0.00000000e+00,\n",
       "          0.00000000e+00,   0.00000000e+00,   2.28469189e-01,\n",
       "          0.00000000e+00,   0.00000000e+00,   3.90353313e-02,\n",
       "         -1.18142335e-01,   6.69897979e-03,   0.00000000e+00,\n",
       "          0.00000000e+00,   1.43647553e-01,   0.00000000e+00,\n",
       "          1.90674924e-01,   0.00000000e+00,   0.00000000e+00,\n",
       "          0.00000000e+00,   0.00000000e+00,   0.00000000e+00,\n",
       "          2.24500451e-01,  -8.30460970e-02,  -1.34323407e-01,\n",
       "          0.00000000e+00,   0.00000000e+00,   0.00000000e+00,\n",
       "          0.00000000e+00,   0.00000000e+00,   0.00000000e+00,\n",
       "          0.00000000e+00,  -5.76683447e-03,   0.00000000e+00,\n",
       "          0.00000000e+00,   1.42357598e-01,   0.00000000e+00,\n",
       "          2.04046102e-01,   0.00000000e+00,  -7.50489139e-02,\n",
       "          0.00000000e+00,   0.00000000e+00,   0.00000000e+00,\n",
       "          3.54989987e-03,   0.00000000e+00,   1.66856327e-01,\n",
       "          0.00000000e+00,   0.00000000e+00,   0.00000000e+00,\n",
       "          0.00000000e+00,   0.00000000e+00,   0.00000000e+00,\n",
       "          0.00000000e+00,   0.00000000e+00,   0.00000000e+00,\n",
       "          0.00000000e+00,   0.00000000e+00,   0.00000000e+00,\n",
       "          0.00000000e+00,  -1.38686889e-01,   0.00000000e+00,\n",
       "          0.00000000e+00,   0.00000000e+00,   0.00000000e+00,\n",
       "          0.00000000e+00,   1.15138102e-01,  -7.37599122e-02,\n",
       "          2.86568385e-02,   0.00000000e+00,   0.00000000e+00,\n",
       "          0.00000000e+00,   4.21733420e-01,   0.00000000e+00,\n",
       "          0.00000000e+00,   0.00000000e+00,   0.00000000e+00,\n",
       "          0.00000000e+00,   0.00000000e+00,   0.00000000e+00,\n",
       "         -1.37679316e-01,   0.00000000e+00,   1.37083502e-01,\n",
       "         -1.69213811e-01,   0.00000000e+00,   0.00000000e+00,\n",
       "          0.00000000e+00,   0.00000000e+00,   0.00000000e+00,\n",
       "          0.00000000e+00,   0.00000000e+00,   0.00000000e+00,\n",
       "          0.00000000e+00,   0.00000000e+00,   0.00000000e+00,\n",
       "          0.00000000e+00,   0.00000000e+00,   0.00000000e+00,\n",
       "          0.00000000e+00,   0.00000000e+00,   0.00000000e+00,\n",
       "         -7.63045870e-02,   0.00000000e+00,   0.00000000e+00,\n",
       "          0.00000000e+00,   0.00000000e+00,   0.00000000e+00,\n",
       "          0.00000000e+00,   5.38601608e-03,   0.00000000e+00,\n",
       "          0.00000000e+00,   0.00000000e+00,   0.00000000e+00,\n",
       "          0.00000000e+00,   0.00000000e+00,   0.00000000e+00,\n",
       "          0.00000000e+00,   0.00000000e+00,   0.00000000e+00,\n",
       "          0.00000000e+00,   0.00000000e+00,  -3.38558756e-02,\n",
       "          4.82619920e-02,   7.67740948e-01,   6.20254367e-02,\n",
       "          0.00000000e+00,   0.00000000e+00,   0.00000000e+00,\n",
       "          0.00000000e+00,   1.38572654e-02,   0.00000000e+00,\n",
       "          0.00000000e+00,  -6.12785317e-01,   0.00000000e+00,\n",
       "          0.00000000e+00,   0.00000000e+00,   0.00000000e+00,\n",
       "          0.00000000e+00,   0.00000000e+00,   0.00000000e+00,\n",
       "          5.62439624e-02,   0.00000000e+00,   0.00000000e+00,\n",
       "          0.00000000e+00,   0.00000000e+00,   0.00000000e+00,\n",
       "          0.00000000e+00,   0.00000000e+00,   0.00000000e+00,\n",
       "         -6.50858864e-02,   0.00000000e+00,   0.00000000e+00,\n",
       "          0.00000000e+00,   0.00000000e+00,  -4.13438909e-02,\n",
       "          0.00000000e+00,   0.00000000e+00,   0.00000000e+00,\n",
       "          0.00000000e+00,   0.00000000e+00,   0.00000000e+00,\n",
       "          0.00000000e+00,   0.00000000e+00,   0.00000000e+00,\n",
       "          0.00000000e+00,   1.00927109e-01,   0.00000000e+00,\n",
       "          0.00000000e+00,  -1.05609854e-02,   0.00000000e+00,\n",
       "         -3.38730028e-02,   0.00000000e+00,   0.00000000e+00,\n",
       "          0.00000000e+00,   1.38652472e-01,   0.00000000e+00,\n",
       "          0.00000000e+00,   0.00000000e+00,   0.00000000e+00,\n",
       "          0.00000000e+00,   0.00000000e+00,   0.00000000e+00,\n",
       "          0.00000000e+00,   1.74329507e-01,   7.04084394e-03,\n",
       "          0.00000000e+00,   0.00000000e+00,   0.00000000e+00,\n",
       "          0.00000000e+00,   0.00000000e+00,   0.00000000e+00,\n",
       "          0.00000000e+00,   0.00000000e+00,   0.00000000e+00,\n",
       "          0.00000000e+00,   0.00000000e+00,   0.00000000e+00,\n",
       "          0.00000000e+00,   0.00000000e+00,   0.00000000e+00,\n",
       "          0.00000000e+00,   0.00000000e+00,   0.00000000e+00,\n",
       "         -2.31668501e-02,   0.00000000e+00,   0.00000000e+00,\n",
       "          0.00000000e+00,   0.00000000e+00,   0.00000000e+00,\n",
       "          0.00000000e+00,   1.00136595e-01,   0.00000000e+00,\n",
       "          1.26664746e-01,   0.00000000e+00,   0.00000000e+00,\n",
       "          0.00000000e+00,   0.00000000e+00,   8.49714217e-02,\n",
       "          0.00000000e+00,   0.00000000e+00,  -1.38823801e-01,\n",
       "          0.00000000e+00,   0.00000000e+00,   0.00000000e+00,\n",
       "          0.00000000e+00,   0.00000000e+00,   0.00000000e+00,\n",
       "          1.33371147e-01,   0.00000000e+00,   0.00000000e+00,\n",
       "          0.00000000e+00,   3.20215170e-02,   0.00000000e+00,\n",
       "          0.00000000e+00,   1.05301450e-01,   0.00000000e+00,\n",
       "          0.00000000e+00,   0.00000000e+00,   0.00000000e+00,\n",
       "          0.00000000e+00,   0.00000000e+00,   0.00000000e+00,\n",
       "          0.00000000e+00,   0.00000000e+00,   0.00000000e+00,\n",
       "         -1.44911005e-02,   0.00000000e+00,   0.00000000e+00,\n",
       "         -8.37031848e-03,   0.00000000e+00,   0.00000000e+00,\n",
       "          0.00000000e+00,  -3.41675905e-02,   0.00000000e+00,\n",
       "          0.00000000e+00,   0.00000000e+00,   0.00000000e+00,\n",
       "          0.00000000e+00,   0.00000000e+00,  -9.83579659e-03,\n",
       "          0.00000000e+00,   0.00000000e+00,   0.00000000e+00,\n",
       "          0.00000000e+00,   0.00000000e+00,   0.00000000e+00,\n",
       "          0.00000000e+00,   0.00000000e+00,   0.00000000e+00,\n",
       "          2.49284720e-02,   0.00000000e+00,   0.00000000e+00,\n",
       "          0.00000000e+00,   0.00000000e+00,   0.00000000e+00,\n",
       "          0.00000000e+00,  -1.63818164e-02,   0.00000000e+00,\n",
       "          0.00000000e+00,   0.00000000e+00,  -1.37531776e-01,\n",
       "          0.00000000e+00,   0.00000000e+00,   0.00000000e+00,\n",
       "          0.00000000e+00,   0.00000000e+00,   0.00000000e+00,\n",
       "          0.00000000e+00,   0.00000000e+00,   0.00000000e+00,\n",
       "          0.00000000e+00,   0.00000000e+00,   0.00000000e+00,\n",
       "          0.00000000e+00,   0.00000000e+00,   0.00000000e+00,\n",
       "         -1.25817025e-02,   0.00000000e+00,  -1.11583571e-01,\n",
       "          8.34800127e-02,   0.00000000e+00,   0.00000000e+00,\n",
       "          0.00000000e+00,   0.00000000e+00,   0.00000000e+00,\n",
       "          0.00000000e+00,   0.00000000e+00,   0.00000000e+00,\n",
       "          0.00000000e+00,   0.00000000e+00,   0.00000000e+00,\n",
       "          5.86991701e-02,   0.00000000e+00,   0.00000000e+00,\n",
       "         -1.00564857e-01,   1.75121336e-01,   0.00000000e+00,\n",
       "          0.00000000e+00,   0.00000000e+00,   0.00000000e+00,\n",
       "          0.00000000e+00,   0.00000000e+00,   0.00000000e+00,\n",
       "          0.00000000e+00,   0.00000000e+00,   0.00000000e+00,\n",
       "          0.00000000e+00,  -2.97179529e-03,   0.00000000e+00,\n",
       "          0.00000000e+00,  -1.40877691e-03,   0.00000000e+00,\n",
       "          0.00000000e+00,   0.00000000e+00,   1.73787097e-02,\n",
       "          0.00000000e+00,   0.00000000e+00,   0.00000000e+00,\n",
       "          0.00000000e+00,   0.00000000e+00,   0.00000000e+00,\n",
       "          0.00000000e+00,   0.00000000e+00,  -3.00555748e-02,\n",
       "          0.00000000e+00,   0.00000000e+00,   5.17395812e-02,\n",
       "          2.42792478e-02,   0.00000000e+00,   0.00000000e+00,\n",
       "          0.00000000e+00,   0.00000000e+00,   0.00000000e+00,\n",
       "          1.44852377e-02,   0.00000000e+00,  -2.16312486e-02,\n",
       "          0.00000000e+00,   0.00000000e+00,   0.00000000e+00,\n",
       "          0.00000000e+00,   1.00659387e-02,   0.00000000e+00,\n",
       "          0.00000000e+00,   0.00000000e+00,  -4.47595190e-02,\n",
       "          0.00000000e+00,   0.00000000e+00,  -1.20930343e-02,\n",
       "          0.00000000e+00,   0.00000000e+00,   0.00000000e+00,\n",
       "          0.00000000e+00,   0.00000000e+00,   4.77818457e-04,\n",
       "          0.00000000e+00,   0.00000000e+00,   1.66401084e-01,\n",
       "          0.00000000e+00,   0.00000000e+00,   0.00000000e+00,\n",
       "          0.00000000e+00,   0.00000000e+00,   0.00000000e+00,\n",
       "          0.00000000e+00,   0.00000000e+00,   0.00000000e+00,\n",
       "         -6.50036957e-02,   0.00000000e+00,   0.00000000e+00,\n",
       "          0.00000000e+00,   0.00000000e+00,   0.00000000e+00,\n",
       "          0.00000000e+00,   0.00000000e+00,   0.00000000e+00,\n",
       "          0.00000000e+00,   0.00000000e+00,   0.00000000e+00,\n",
       "          0.00000000e+00,   0.00000000e+00,   0.00000000e+00,\n",
       "          0.00000000e+00,   6.25804795e-02,   0.00000000e+00,\n",
       "          0.00000000e+00,   0.00000000e+00,  -4.25744624e-02,\n",
       "          5.37500291e-01,   0.00000000e+00,   0.00000000e+00,\n",
       "          1.54368062e-02,   0.00000000e+00,   0.00000000e+00,\n",
       "          0.00000000e+00,   0.00000000e+00,  -1.22860706e-01,\n",
       "         -3.98868433e-03,   0.00000000e+00,   0.00000000e+00,\n",
       "          0.00000000e+00,   0.00000000e+00,  -4.06805845e-03,\n",
       "          0.00000000e+00,   0.00000000e+00,   0.00000000e+00,\n",
       "          0.00000000e+00,   0.00000000e+00,   1.05044875e-01,\n",
       "          3.10987863e-04,   0.00000000e+00,   0.00000000e+00,\n",
       "          0.00000000e+00,   0.00000000e+00,   0.00000000e+00,\n",
       "          3.32730278e-02,  -4.79663696e-03,   0.00000000e+00,\n",
       "          0.00000000e+00,   0.00000000e+00,   0.00000000e+00,\n",
       "          0.00000000e+00,   0.00000000e+00,   0.00000000e+00,\n",
       "          0.00000000e+00,   0.00000000e+00,   0.00000000e+00,\n",
       "          0.00000000e+00,   0.00000000e+00,   0.00000000e+00,\n",
       "          0.00000000e+00,   0.00000000e+00,  -2.44562979e-02,\n",
       "          0.00000000e+00,  -1.12490117e-01,   0.00000000e+00,\n",
       "          0.00000000e+00,   0.00000000e+00,   0.00000000e+00,\n",
       "          0.00000000e+00,   0.00000000e+00,   0.00000000e+00,\n",
       "          0.00000000e+00,   0.00000000e+00,   2.43594395e-03,\n",
       "          0.00000000e+00,   0.00000000e+00,   0.00000000e+00,\n",
       "          0.00000000e+00,   0.00000000e+00,  -5.06510318e-02,\n",
       "          0.00000000e+00,   0.00000000e+00,   0.00000000e+00,\n",
       "          0.00000000e+00,   0.00000000e+00,   0.00000000e+00,\n",
       "          0.00000000e+00,   0.00000000e+00,   0.00000000e+00,\n",
       "          0.00000000e+00,   0.00000000e+00,   0.00000000e+00,\n",
       "          0.00000000e+00,   0.00000000e+00,   0.00000000e+00,\n",
       "          0.00000000e+00,   0.00000000e+00,   0.00000000e+00,\n",
       "          0.00000000e+00,   0.00000000e+00,   0.00000000e+00,\n",
       "          0.00000000e+00,   0.00000000e+00,   0.00000000e+00,\n",
       "          0.00000000e+00,   0.00000000e+00,  -3.95770000e-02,\n",
       "          3.90542833e-02,   0.00000000e+00,   0.00000000e+00,\n",
       "          0.00000000e+00,  -3.96043261e-02,   0.00000000e+00,\n",
       "         -1.23623369e-01,  -1.86539438e-02,  -2.32835280e-01,\n",
       "         -8.26934465e-02,   2.67092862e-01,   2.10525440e-01,\n",
       "          0.00000000e+00,  -2.98190229e-01,  -2.58586531e-01,\n",
       "         -3.09158082e-01,   2.76566726e-01,  -5.97244128e-01,\n",
       "         -2.57804044e-01,  -1.75093573e-01,  -6.13381369e-02,\n",
       "          1.45778021e-01,   2.42662866e-01,   2.67272334e-01,\n",
       "          4.58592521e-01,   5.60836310e-01,   6.02689967e-01,\n",
       "          6.91384846e-01,   8.63423396e-01,   7.01901827e-01,\n",
       "          6.94416157e-01,   7.18887092e-01,   3.69225573e-01,\n",
       "          1.84286861e-02,   1.81715947e-01]])"
      ]
     },
     "execution_count": 30,
     "metadata": {},
     "output_type": "execute_result"
    }
   ],
   "source": [
    "sgdc.coef_"
   ]
  },
  {
   "cell_type": "markdown",
   "metadata": {},
   "source": [
    "Cross-validation with interaction variables: http://www.dummies.com/programming/big-data/data-science/data-science-how-to-create-interactions-between-variables-with-python/"
   ]
  },
  {
   "cell_type": "code",
   "execution_count": 18,
   "metadata": {
    "collapsed": true
   },
   "outputs": [],
   "source": [
    "from sklearn.model_selection import cross_val_score, KFold"
   ]
  },
  {
   "cell_type": "code",
   "execution_count": 19,
   "metadata": {
    "collapsed": false
   },
   "outputs": [],
   "source": [
    "crossvalidation = KFold(n_splits=5, shuffle=True, random_state=1)"
   ]
  },
  {
   "cell_type": "code",
   "execution_count": 39,
   "metadata": {
    "collapsed": false
   },
   "outputs": [
    {
     "data": {
      "text/plain": [
       "Index([u'Unnamed: 0', u'Unnamed: 0.1', u'Year', u'Quarter', u'Month',\n",
       "       u'DayofMonth', u'DayOfWeek', u'FlightDate', u'UniqueCarrier',\n",
       "       u'AirlineID', u'Carrier', u'TailNum', u'FlightNum', u'OriginAirportID',\n",
       "       u'OriginAirportSeqID', u'OriginCityMarketID', u'Origin',\n",
       "       u'OriginCityName', u'OriginState', u'OriginStateFips',\n",
       "       u'OriginStateName', u'OriginWac', u'DestAirportID', u'DestAirportSeqID',\n",
       "       u'DestCityMarketID', u'Dest', u'DestCityName', u'DestState',\n",
       "       u'DestStateFips', u'DestStateName', u'DestWac', u'CRSDepTime',\n",
       "       u'DepTime', u'DepDelay', u'DepDelayMinutes', u'DepDel15',\n",
       "       u'DepartureDelayGroups', u'DepTimeBlk', u'TaxiOut', u'WheelsOff',\n",
       "       u'WheelsOn', u'TaxiIn', u'CRSArrTime', u'ArrTime', u'ArrDelay',\n",
       "       u'ArrDelayMinutes', u'ArrDel15', u'ArrivalDelayGroups', u'ArrTimeBlk',\n",
       "       u'Cancelled', u'CancellationCode', u'CRSElapsedTime',\n",
       "       u'ActualElapsedTime', u'AirTime', u'Flights', u'Distance',\n",
       "       u'DistanceGroup', u'CarrierDelay', u'WeatherDelay', u'NASDelay',\n",
       "       u'SecurityDelay', u'LateAircraftDelay', u'FirstDepTime',\n",
       "       u'TotalAddGTime', u'LongestAddGTime', u'Carrier Name',\n",
       "       u'ArrFlightsPerCity', u'DestMarket', u'OrigMarket', u'iata_faa_x',\n",
       "       u'orig_lat', u'orig_long', u'orig_elev', u'orig_zone', u'iata_faa_y',\n",
       "       u'dest_lat', u'dest_long', u'dest_elev', u'dest_zone'],\n",
       "      dtype='object')"
      ]
     },
     "execution_count": 39,
     "metadata": {},
     "output_type": "execute_result"
    }
   ],
   "source": [
    "OnTime_NoNull.columns"
   ]
  },
  {
   "cell_type": "markdown",
   "metadata": {},
   "source": [
    "Modify code from http://www.dummies.com/programming/big-data/data-science/data-science-how-to-create-interactions-between-variables-with-python/ to allow cross-validation in batches because my data set is too large"
   ]
  },
  {
   "cell_type": "code",
   "execution_count": 36,
   "metadata": {
    "collapsed": false
   },
   "outputs": [],
   "source": [
    "def test_interactions_in_batches(X_batches, Y_batches, reg):\n",
    "    assert len(X_batches) == len(Y_batches)\n",
    "\n",
    "    #Create dictionary of possible interactions to store cross-validation scores\n",
    "    interactions_dict = {}\n",
    "\n",
    "    #Loop through batches on both X and Y\n",
    "    for i in range(len(X_batches)):\n",
    "        X, Y = X_batches[i], Y_batches[i]\n",
    "\n",
    "        #Baseline is regression with no interactions\n",
    "        reg.partial_fit(X, Y)\n",
    "        baseline = reg.score(X, Y)\n",
    "        \n",
    "    print baseline\n",
    "    \n",
    "    \n",
    "    #Test all possible pairs of interactions where the first letter of the two variables is not the same\n",
    "    #Carriers begin with \"C\", origin with \"O\", departure with \"D\", month with \"M\", time with \"T\"\n",
    "    for feat_A in X.columns:\n",
    "        for feat_B in [name for name in X.columns if name[0] != feat_A[0]]:\n",
    "\n",
    "            for i in range(len(X_batches)):\n",
    "                X, Y = X_batches[i], Y_batches[i]\n",
    "                X['inter'] = (X[feat_A].to_dense() * X[feat_B].to_dense()).to_sparse()\n",
    "                reg.partial_fit(X, Y)\n",
    "                score = reg.score(X, Y)\n",
    "\n",
    "            #Add interaction to dictionary if not there, and create list of score improvements across batches\n",
    "            if (feat_A, feat_B) not in interactions_dict.keys():\n",
    "                interactions_dict[(feat_A, feat_B)] = [round(score - baseline, 3)]\n",
    "            else:\n",
    "                interactions_dict[(feat_A, feat_B)].append(round(score - baseline, 3))\n",
    "\n",
    "    #Create data frame of average score improvements over all batches\n",
    "    inter_avg_dict = {}\n",
    "    for x in interactions_dict.keys():\n",
    "        inter_avg_dict[x] = np.mean(interactions_dict[x])\n",
    "    return pd.DataFrame(inter_avg_dict)"
   ]
  },
  {
   "cell_type": "code",
   "execution_count": 15,
   "metadata": {
    "collapsed": true
   },
   "outputs": [],
   "source": [
    "#do cross-validation on training set only\n",
    "from sklearn.model_selection import train_test_split"
   ]
  },
  {
   "cell_type": "code",
   "execution_count": 29,
   "metadata": {
    "collapsed": true
   },
   "outputs": [],
   "source": [
    "#Oops, try again\n",
    "X_train, X_test, Y_train, Y_test = train_test_split(Dummies_NoNull, OnTime_NoNull.ArrDelay)"
   ]
  },
  {
   "cell_type": "code",
   "execution_count": 30,
   "metadata": {
    "collapsed": false
   },
   "outputs": [
    {
     "name": "stdout",
     "output_type": "stream",
     "text": [
      "(1097739, 716) (1097739L,) (365913, 716) (365913L,)\n"
     ]
    }
   ],
   "source": [
    "print X_train.shape, Y_train.shape, X_test.shape, Y_test.shape"
   ]
  },
  {
   "cell_type": "code",
   "execution_count": 18,
   "metadata": {
    "collapsed": true
   },
   "outputs": [],
   "source": [
    "X2_train, X2_test, Y2_train, Y2_test = train_test_split(Dummies_NoNull, OnTime_NoNull.ArrDel15)"
   ]
  },
  {
   "cell_type": "code",
   "execution_count": 19,
   "metadata": {
    "collapsed": false
   },
   "outputs": [
    {
     "name": "stdout",
     "output_type": "stream",
     "text": [
      "(1097739, 716) (1097739L,) (365913, 716) (365913L,)\n"
     ]
    }
   ],
   "source": [
    "print X2_train.shape, Y2_train.shape, X2_test.shape, Y2_test.shape"
   ]
  },
  {
   "cell_type": "code",
   "execution_count": 37,
   "metadata": {
    "collapsed": true
   },
   "outputs": [],
   "source": [
    "Xframes = splitDataFrameIntoSmaller(X_train, chunkSize = 100000)\n",
    "Yframes = splitDataFrameIntoSmaller(Y_train, chunkSize = 100000)\n",
    "X2frames = splitDataFrameIntoSmaller(X2_train, chunkSize = 100000)\n",
    "Y2frames = splitDataFrameIntoSmaller(Y2_train, chunkSize = 100000)"
   ]
  },
  {
   "cell_type": "code",
   "execution_count": 38,
   "metadata": {
    "collapsed": false
   },
   "outputs": [
    {
     "name": "stdout",
     "output_type": "stream",
     "text": [
      "0.0295622029669\n"
     ]
    },
    {
     "ename": "ValueError",
     "evalue": "Number of features 717 does not match previous data 716.",
     "output_type": "error",
     "traceback": [
      "\u001b[1;31m---------------------------------------------------------------------------\u001b[0m",
      "\u001b[1;31mValueError\u001b[0m                                Traceback (most recent call last)",
      "\u001b[1;32m<ipython-input-38-207e4885d1fb>\u001b[0m in \u001b[0;36m<module>\u001b[1;34m()\u001b[0m\n\u001b[1;32m----> 1\u001b[1;33m \u001b[0mtest_interactions_in_batches\u001b[0m\u001b[1;33m(\u001b[0m\u001b[0mXframes\u001b[0m\u001b[1;33m,\u001b[0m \u001b[0mYframes\u001b[0m\u001b[1;33m,\u001b[0m \u001b[0msgd\u001b[0m\u001b[1;33m)\u001b[0m\u001b[1;33m\u001b[0m\u001b[0m\n\u001b[0m",
      "\u001b[1;32m<ipython-input-36-ef5b5d8aac13>\u001b[0m in \u001b[0;36mtest_interactions_in_batches\u001b[1;34m(X_batches, Y_batches, reg)\u001b[0m\n\u001b[0;32m     24\u001b[0m                 \u001b[0mX\u001b[0m\u001b[1;33m,\u001b[0m \u001b[0mY\u001b[0m \u001b[1;33m=\u001b[0m \u001b[0mX_batches\u001b[0m\u001b[1;33m[\u001b[0m\u001b[0mi\u001b[0m\u001b[1;33m]\u001b[0m\u001b[1;33m,\u001b[0m \u001b[0mY_batches\u001b[0m\u001b[1;33m[\u001b[0m\u001b[0mi\u001b[0m\u001b[1;33m]\u001b[0m\u001b[1;33m\u001b[0m\u001b[0m\n\u001b[0;32m     25\u001b[0m                 \u001b[0mX\u001b[0m\u001b[1;33m[\u001b[0m\u001b[1;34m'inter'\u001b[0m\u001b[1;33m]\u001b[0m \u001b[1;33m=\u001b[0m \u001b[1;33m(\u001b[0m\u001b[0mX\u001b[0m\u001b[1;33m[\u001b[0m\u001b[0mfeat_A\u001b[0m\u001b[1;33m]\u001b[0m\u001b[1;33m.\u001b[0m\u001b[0mto_dense\u001b[0m\u001b[1;33m(\u001b[0m\u001b[1;33m)\u001b[0m \u001b[1;33m*\u001b[0m \u001b[0mX\u001b[0m\u001b[1;33m[\u001b[0m\u001b[0mfeat_B\u001b[0m\u001b[1;33m]\u001b[0m\u001b[1;33m.\u001b[0m\u001b[0mto_dense\u001b[0m\u001b[1;33m(\u001b[0m\u001b[1;33m)\u001b[0m\u001b[1;33m)\u001b[0m\u001b[1;33m.\u001b[0m\u001b[0mto_sparse\u001b[0m\u001b[1;33m(\u001b[0m\u001b[1;33m)\u001b[0m\u001b[1;33m\u001b[0m\u001b[0m\n\u001b[1;32m---> 26\u001b[1;33m                 \u001b[0mreg\u001b[0m\u001b[1;33m.\u001b[0m\u001b[0mpartial_fit\u001b[0m\u001b[1;33m(\u001b[0m\u001b[0mX\u001b[0m\u001b[1;33m,\u001b[0m \u001b[0mY\u001b[0m\u001b[1;33m)\u001b[0m\u001b[1;33m\u001b[0m\u001b[0m\n\u001b[0m\u001b[0;32m     27\u001b[0m                 \u001b[0mscore\u001b[0m \u001b[1;33m=\u001b[0m \u001b[0mreg\u001b[0m\u001b[1;33m.\u001b[0m\u001b[0mscore\u001b[0m\u001b[1;33m(\u001b[0m\u001b[0mX\u001b[0m\u001b[1;33m,\u001b[0m \u001b[0mY\u001b[0m\u001b[1;33m)\u001b[0m\u001b[1;33m\u001b[0m\u001b[0m\n\u001b[0;32m     28\u001b[0m \u001b[1;33m\u001b[0m\u001b[0m\n",
      "\u001b[1;32mC:\\Users\\Will\\Anaconda2\\lib\\site-packages\\sklearn\\linear_model\\stochastic_gradient.pyc\u001b[0m in \u001b[0;36mpartial_fit\u001b[1;34m(self, X, y, sample_weight)\u001b[0m\n\u001b[0;32m    916\u001b[0m                                  \u001b[0mlearning_rate\u001b[0m\u001b[1;33m=\u001b[0m\u001b[0mself\u001b[0m\u001b[1;33m.\u001b[0m\u001b[0mlearning_rate\u001b[0m\u001b[1;33m,\u001b[0m \u001b[0mn_iter\u001b[0m\u001b[1;33m=\u001b[0m\u001b[1;36m1\u001b[0m\u001b[1;33m,\u001b[0m\u001b[1;33m\u001b[0m\u001b[0m\n\u001b[0;32m    917\u001b[0m                                  \u001b[0msample_weight\u001b[0m\u001b[1;33m=\u001b[0m\u001b[0msample_weight\u001b[0m\u001b[1;33m,\u001b[0m\u001b[1;33m\u001b[0m\u001b[0m\n\u001b[1;32m--> 918\u001b[1;33m                                  coef_init=None, intercept_init=None)\n\u001b[0m\u001b[0;32m    919\u001b[0m \u001b[1;33m\u001b[0m\u001b[0m\n\u001b[0;32m    920\u001b[0m     def _fit(self, X, y, alpha, C, loss, learning_rate, coef_init=None,\n",
      "\u001b[1;32mC:\\Users\\Will\\Anaconda2\\lib\\site-packages\\sklearn\\linear_model\\stochastic_gradient.pyc\u001b[0m in \u001b[0;36m_partial_fit\u001b[1;34m(self, X, y, alpha, C, loss, learning_rate, n_iter, sample_weight, coef_init, intercept_init)\u001b[0m\n\u001b[0;32m    879\u001b[0m         \u001b[1;32melif\u001b[0m \u001b[0mn_features\u001b[0m \u001b[1;33m!=\u001b[0m \u001b[0mself\u001b[0m\u001b[1;33m.\u001b[0m\u001b[0mcoef_\u001b[0m\u001b[1;33m.\u001b[0m\u001b[0mshape\u001b[0m\u001b[1;33m[\u001b[0m\u001b[1;33m-\u001b[0m\u001b[1;36m1\u001b[0m\u001b[1;33m]\u001b[0m\u001b[1;33m:\u001b[0m\u001b[1;33m\u001b[0m\u001b[0m\n\u001b[0;32m    880\u001b[0m             raise ValueError(\"Number of features %d does not match previous \"\n\u001b[1;32m--> 881\u001b[1;33m                              \"data %d.\" % (n_features, self.coef_.shape[-1]))\n\u001b[0m\u001b[0;32m    882\u001b[0m         \u001b[1;32mif\u001b[0m \u001b[0mself\u001b[0m\u001b[1;33m.\u001b[0m\u001b[0maverage\u001b[0m \u001b[1;33m>\u001b[0m \u001b[1;36m0\u001b[0m \u001b[1;32mand\u001b[0m \u001b[0mself\u001b[0m\u001b[1;33m.\u001b[0m\u001b[0maverage_coef_\u001b[0m \u001b[1;32mis\u001b[0m \u001b[0mNone\u001b[0m\u001b[1;33m:\u001b[0m\u001b[1;33m\u001b[0m\u001b[0m\n\u001b[0;32m    883\u001b[0m             self.average_coef_ = np.zeros(n_features,\n",
      "\u001b[1;31mValueError\u001b[0m: Number of features 717 does not match previous data 716."
     ]
    }
   ],
   "source": [
    "test_interactions_in_batches(Xframes, Yframes, sgd)"
   ]
  },
  {
   "cell_type": "code",
   "execution_count": 39,
   "metadata": {
    "collapsed": false
   },
   "outputs": [
    {
     "data": {
      "text/plain": [
       "(100000, 717)"
      ]
     },
     "execution_count": 39,
     "metadata": {},
     "output_type": "execute_result"
    }
   ],
   "source": [
    "Xframes[0].shape"
   ]
  },
  {
   "cell_type": "code",
   "execution_count": 40,
   "metadata": {
    "collapsed": false
   },
   "outputs": [
    {
     "data": {
      "text/plain": [
       "(100000, 716)"
      ]
     },
     "execution_count": 40,
     "metadata": {},
     "output_type": "execute_result"
    }
   ],
   "source": [
    "Xframes[1].shape"
   ]
  },
  {
   "cell_type": "code",
   "execution_count": 41,
   "metadata": {
    "collapsed": false
   },
   "outputs": [
    {
     "data": {
      "text/plain": [
       "(100000, 716)"
      ]
     },
     "execution_count": 41,
     "metadata": {},
     "output_type": "execute_result"
    }
   ],
   "source": [
    "Xframes[3].shape"
   ]
  },
  {
   "cell_type": "code",
   "execution_count": 26,
   "metadata": {
    "collapsed": false
   },
   "outputs": [
    {
     "data": {
      "text/plain": [
       "Index([u'C_Alaska Airlines Inc.', u'C_American Airlines Inc.',\n",
       "       u'C_Continental Air Lines Inc.', u'C_Delta Air Lines Inc.',\n",
       "       u'C_Endeavor Air Inc.', u'C_Envoy Air', u'C_ExpressJet Airlines Inc.',\n",
       "       u'C_Frontier Airlines Inc.', u'C_Hawaiian Airlines Inc.',\n",
       "       u'C_JetBlue Airways',\n",
       "       ...\n",
       "       u'T_1500-1559', u'T_1600-1659', u'T_1700-1759', u'T_1800-1859',\n",
       "       u'T_1900-1959', u'T_2000-2059', u'T_2100-2159', u'T_2200-2259',\n",
       "       u'T_2300-2359', u'inter'],\n",
       "      dtype='object', length=717)"
      ]
     },
     "execution_count": 26,
     "metadata": {},
     "output_type": "execute_result"
    }
   ],
   "source": [
    "Xframes[0].columns"
   ]
  },
  {
   "cell_type": "code",
   "execution_count": 44,
   "metadata": {
    "collapsed": false
   },
   "outputs": [
    {
     "data": {
      "text/plain": [
       "100000"
      ]
     },
     "execution_count": 44,
     "metadata": {},
     "output_type": "execute_result"
    }
   ],
   "source": [
    "len(Xframes[0]['O_ANC'])"
   ]
  },
  {
   "cell_type": "code",
   "execution_count": 45,
   "metadata": {
    "collapsed": false
   },
   "outputs": [
    {
     "data": {
      "text/plain": [
       "pandas.sparse.series.SparseSeries"
      ]
     },
     "execution_count": 45,
     "metadata": {},
     "output_type": "execute_result"
    }
   ],
   "source": [
    "type(Xframes[0]['O_ANC'])"
   ]
  },
  {
   "cell_type": "code",
   "execution_count": 31,
   "metadata": {
    "collapsed": false
   },
   "outputs": [
    {
     "data": {
      "text/plain": [
       "SGDRegressor(alpha=0.0001, average=False, epsilon=0.1, eta0=0.01,\n",
       "       fit_intercept=True, l1_ratio=0.15, learning_rate='invscaling',\n",
       "       loss='squared_loss', n_iter=5, penalty='l1', power_t=0.25,\n",
       "       random_state=None, shuffle=True, verbose=0, warm_start=False)"
      ]
     },
     "execution_count": 31,
     "metadata": {},
     "output_type": "execute_result"
    }
   ],
   "source": [
    "sgd"
   ]
  },
  {
   "cell_type": "code",
   "execution_count": 33,
   "metadata": {
    "collapsed": false
   },
   "outputs": [],
   "source": [
    "OnTimeData['DepFlightsPerAirport'] = OnTimeData.groupby('Origin')['Origin'].transform('count')"
   ]
  },
  {
   "cell_type": "code",
   "execution_count": 36,
   "metadata": {
    "collapsed": true
   },
   "outputs": [],
   "source": [
    "OnTimeData['ArrFlightsPerAirport'] = OnTimeData.groupby('Dest')['Dest'].transform('count')"
   ]
  },
  {
   "cell_type": "code",
   "execution_count": 37,
   "metadata": {
    "collapsed": false
   },
   "outputs": [
    {
     "name": "stderr",
     "output_type": "stream",
     "text": [
      "C:\\Users\\Will\\Anaconda2\\lib\\site-packages\\ipykernel\\__main__.py:1: UserWarning: Boolean Series key will be reindexed to match DataFrame index.\n",
      "  if __name__ == '__main__':\n"
     ]
    }
   ],
   "source": [
    "Airports2k = OnTimeData[OnTimeData.DepFlightsPerAirport >= 2000][OnTimeData.ArrFlightsPerAirport >= 2000]"
   ]
  },
  {
   "cell_type": "code",
   "execution_count": 38,
   "metadata": {
    "collapsed": false
   },
   "outputs": [
    {
     "data": {
      "text/plain": [
       "(1256820, 81)"
      ]
     },
     "execution_count": 38,
     "metadata": {},
     "output_type": "execute_result"
    }
   ],
   "source": [
    "Airports2k.shape"
   ]
  },
  {
   "cell_type": "code",
   "execution_count": 39,
   "metadata": {
    "collapsed": true
   },
   "outputs": [],
   "source": [
    "Airports2k_NoNull = Airports2k[np.isfinite(Airports2k.ArrDelay)]"
   ]
  },
  {
   "cell_type": "code",
   "execution_count": 40,
   "metadata": {
    "collapsed": false
   },
   "outputs": [
    {
     "data": {
      "text/plain": [
       "(1236214, 81)"
      ]
     },
     "execution_count": 40,
     "metadata": {},
     "output_type": "execute_result"
    }
   ],
   "source": [
    "Airports2k_NoNull.shape"
   ]
  },
  {
   "cell_type": "code",
   "execution_count": 41,
   "metadata": {
    "collapsed": true
   },
   "outputs": [],
   "source": [
    "Dummies_2k_NoNull = DummyRegressors(Airports2k_NoNull)"
   ]
  },
  {
   "cell_type": "code",
   "execution_count": 42,
   "metadata": {
    "collapsed": true
   },
   "outputs": [],
   "source": [
    "X_train, X_test, Y_train, Y_test = train_test_split(Dummies_2k_NoNull, Airports2k_NoNull.ArrDelay)\n",
    "X2_train, X2_test, Y2_train, Y2_test = train_test_split(Dummies_2k_NoNull, Airports2k_NoNull.ArrDel15)"
   ]
  },
  {
   "cell_type": "code",
   "execution_count": 43,
   "metadata": {
    "collapsed": true
   },
   "outputs": [],
   "source": [
    "Xframes = splitDataFrameIntoSmaller(X_train, chunkSize = 100000)\n",
    "Yframes = splitDataFrameIntoSmaller(Y_train, chunkSize = 100000)\n",
    "X2frames = splitDataFrameIntoSmaller(X2_train, chunkSize = 100000)\n",
    "Y2frames = splitDataFrameIntoSmaller(Y2_train, chunkSize = 100000)"
   ]
  },
  {
   "cell_type": "code",
   "execution_count": 45,
   "metadata": {
    "collapsed": false
   },
   "outputs": [
    {
     "name": "stderr",
     "output_type": "stream",
     "text": [
      "C:\\Users\\Will\\Anaconda2\\lib\\site-packages\\ipykernel\\__main__.py:2: UserWarning: Boolean Series key will be reindexed to match DataFrame index.\n",
      "  from ipykernel import kernelapp as app\n"
     ]
    }
   ],
   "source": [
    "#Try with 5k per airport instead...\n",
    "Airports5k = OnTimeData[OnTimeData.DepFlightsPerAirport >= 5000][OnTimeData.ArrFlightsPerAirport >= 5000]"
   ]
  },
  {
   "cell_type": "code",
   "execution_count": 47,
   "metadata": {
    "collapsed": false
   },
   "outputs": [],
   "source": [
    "Airports5k_NoNull = Airports5k[np.isfinite(Airports5k.ArrDelay)]"
   ]
  },
  {
   "cell_type": "code",
   "execution_count": 48,
   "metadata": {
    "collapsed": true
   },
   "outputs": [],
   "source": [
    "Dummies_5k_NoNull = DummyRegressors(Airports5k_NoNull)"
   ]
  },
  {
   "cell_type": "code",
   "execution_count": 49,
   "metadata": {
    "collapsed": true
   },
   "outputs": [],
   "source": [
    "X_train, X_test, Y_train, Y_test = train_test_split(Dummies_5k_NoNull, Airports5k_NoNull.ArrDelay)\n",
    "X2_train, X2_test, Y2_train, Y2_test = train_test_split(Dummies_5k_NoNull, Airports5k_NoNull.ArrDel15)\n",
    "Xframes = splitDataFrameIntoSmaller(X_train, chunkSize = 100000)\n",
    "Yframes = splitDataFrameIntoSmaller(Y_train, chunkSize = 100000)\n",
    "X2frames = splitDataFrameIntoSmaller(X2_train, chunkSize = 100000)\n",
    "Y2frames = splitDataFrameIntoSmaller(Y2_train, chunkSize = 100000)"
   ]
  },
  {
   "cell_type": "code",
   "execution_count": 50,
   "metadata": {
    "collapsed": false
   },
   "outputs": [
    {
     "ename": "KeyboardInterrupt",
     "evalue": "",
     "output_type": "error",
     "traceback": [
      "\u001b[1;31m---------------------------------------------------------------------------\u001b[0m",
      "\u001b[1;31mKeyboardInterrupt\u001b[0m                         Traceback (most recent call last)",
      "\u001b[1;32m<ipython-input-50-207e4885d1fb>\u001b[0m in \u001b[0;36m<module>\u001b[1;34m()\u001b[0m\n\u001b[1;32m----> 1\u001b[1;33m \u001b[0mtest_interactions_in_batches\u001b[0m\u001b[1;33m(\u001b[0m\u001b[0mXframes\u001b[0m\u001b[1;33m,\u001b[0m \u001b[0mYframes\u001b[0m\u001b[1;33m,\u001b[0m \u001b[0msgd\u001b[0m\u001b[1;33m)\u001b[0m\u001b[1;33m\u001b[0m\u001b[0m\n\u001b[0m",
      "\u001b[1;32m<ipython-input-24-7052e6b11857>\u001b[0m in \u001b[0;36mtest_interactions_in_batches\u001b[1;34m(X_batches, Y_batches, reg)\u001b[0m\n\u001b[0;32m     15\u001b[0m             \u001b[1;32mfor\u001b[0m \u001b[0mfeat_B\u001b[0m \u001b[1;32min\u001b[0m \u001b[1;33m[\u001b[0m\u001b[0mname\u001b[0m \u001b[1;32mfor\u001b[0m \u001b[0mname\u001b[0m \u001b[1;32min\u001b[0m \u001b[0mX\u001b[0m\u001b[1;33m.\u001b[0m\u001b[0mcolumns\u001b[0m \u001b[1;32mif\u001b[0m \u001b[0mname\u001b[0m\u001b[1;33m[\u001b[0m\u001b[1;36m0\u001b[0m\u001b[1;33m]\u001b[0m \u001b[1;33m!=\u001b[0m \u001b[0mfeat_A\u001b[0m\u001b[1;33m[\u001b[0m\u001b[1;36m0\u001b[0m\u001b[1;33m]\u001b[0m\u001b[1;33m]\u001b[0m\u001b[1;33m:\u001b[0m\u001b[1;33m\u001b[0m\u001b[0m\n\u001b[0;32m     16\u001b[0m                 \u001b[0mX\u001b[0m\u001b[1;33m[\u001b[0m\u001b[1;34m'inter'\u001b[0m\u001b[1;33m]\u001b[0m \u001b[1;33m=\u001b[0m \u001b[1;33m(\u001b[0m\u001b[0mX\u001b[0m\u001b[1;33m[\u001b[0m\u001b[0mfeat_A\u001b[0m\u001b[1;33m]\u001b[0m\u001b[1;33m.\u001b[0m\u001b[0mto_dense\u001b[0m\u001b[1;33m(\u001b[0m\u001b[1;33m)\u001b[0m \u001b[1;33m*\u001b[0m \u001b[0mX\u001b[0m\u001b[1;33m[\u001b[0m\u001b[0mfeat_B\u001b[0m\u001b[1;33m]\u001b[0m\u001b[1;33m.\u001b[0m\u001b[0mto_dense\u001b[0m\u001b[1;33m(\u001b[0m\u001b[1;33m)\u001b[0m\u001b[1;33m)\u001b[0m\u001b[1;33m.\u001b[0m\u001b[0mto_sparse\u001b[0m\u001b[1;33m(\u001b[0m\u001b[1;33m)\u001b[0m\u001b[1;33m\u001b[0m\u001b[0m\n\u001b[1;32m---> 17\u001b[1;33m                 \u001b[0mscore\u001b[0m \u001b[1;33m=\u001b[0m \u001b[0mnp\u001b[0m\u001b[1;33m.\u001b[0m\u001b[0mmean\u001b[0m\u001b[1;33m(\u001b[0m\u001b[0mcross_val_score\u001b[0m\u001b[1;33m(\u001b[0m\u001b[0mreg\u001b[0m\u001b[1;33m,\u001b[0m \u001b[0mX\u001b[0m\u001b[1;33m,\u001b[0m \u001b[0mY\u001b[0m\u001b[1;33m,\u001b[0m \u001b[0mscoring\u001b[0m\u001b[1;33m=\u001b[0m\u001b[1;34m'r2'\u001b[0m\u001b[1;33m,\u001b[0m \u001b[0mcv\u001b[0m\u001b[1;33m=\u001b[0m\u001b[0mcrossvalidation\u001b[0m\u001b[1;33m,\u001b[0m \u001b[0mn_jobs\u001b[0m\u001b[1;33m=\u001b[0m\u001b[1;36m1\u001b[0m\u001b[1;33m)\u001b[0m\u001b[1;33m)\u001b[0m\u001b[1;33m\u001b[0m\u001b[0m\n\u001b[0m\u001b[0;32m     18\u001b[0m \u001b[1;33m\u001b[0m\u001b[0m\n\u001b[0;32m     19\u001b[0m                 \u001b[1;31m#Add interaction to dictionary if not there, and create list of score improvements across batches\u001b[0m\u001b[1;33m\u001b[0m\u001b[1;33m\u001b[0m\u001b[0m\n",
      "\u001b[1;32mC:\\Users\\Will\\Anaconda2\\lib\\site-packages\\sklearn\\model_selection\\_validation.pyc\u001b[0m in \u001b[0;36mcross_val_score\u001b[1;34m(estimator, X, y, groups, scoring, cv, n_jobs, verbose, fit_params, pre_dispatch)\u001b[0m\n\u001b[0;32m    138\u001b[0m                                               \u001b[0mtrain\u001b[0m\u001b[1;33m,\u001b[0m \u001b[0mtest\u001b[0m\u001b[1;33m,\u001b[0m \u001b[0mverbose\u001b[0m\u001b[1;33m,\u001b[0m \u001b[0mNone\u001b[0m\u001b[1;33m,\u001b[0m\u001b[1;33m\u001b[0m\u001b[0m\n\u001b[0;32m    139\u001b[0m                                               fit_params)\n\u001b[1;32m--> 140\u001b[1;33m                       for train, test in cv_iter)\n\u001b[0m\u001b[0;32m    141\u001b[0m     \u001b[1;32mreturn\u001b[0m \u001b[0mnp\u001b[0m\u001b[1;33m.\u001b[0m\u001b[0marray\u001b[0m\u001b[1;33m(\u001b[0m\u001b[0mscores\u001b[0m\u001b[1;33m)\u001b[0m\u001b[1;33m[\u001b[0m\u001b[1;33m:\u001b[0m\u001b[1;33m,\u001b[0m \u001b[1;36m0\u001b[0m\u001b[1;33m]\u001b[0m\u001b[1;33m\u001b[0m\u001b[0m\n\u001b[0;32m    142\u001b[0m \u001b[1;33m\u001b[0m\u001b[0m\n",
      "\u001b[1;32mC:\\Users\\Will\\Anaconda2\\lib\\site-packages\\sklearn\\externals\\joblib\\parallel.pyc\u001b[0m in \u001b[0;36m__call__\u001b[1;34m(self, iterable)\u001b[0m\n\u001b[0;32m    756\u001b[0m             \u001b[1;31m# was dispatched. In particular this covers the edge\u001b[0m\u001b[1;33m\u001b[0m\u001b[1;33m\u001b[0m\u001b[0m\n\u001b[0;32m    757\u001b[0m             \u001b[1;31m# case of Parallel used with an exhausted iterator.\u001b[0m\u001b[1;33m\u001b[0m\u001b[1;33m\u001b[0m\u001b[0m\n\u001b[1;32m--> 758\u001b[1;33m             \u001b[1;32mwhile\u001b[0m \u001b[0mself\u001b[0m\u001b[1;33m.\u001b[0m\u001b[0mdispatch_one_batch\u001b[0m\u001b[1;33m(\u001b[0m\u001b[0miterator\u001b[0m\u001b[1;33m)\u001b[0m\u001b[1;33m:\u001b[0m\u001b[1;33m\u001b[0m\u001b[0m\n\u001b[0m\u001b[0;32m    759\u001b[0m                 \u001b[0mself\u001b[0m\u001b[1;33m.\u001b[0m\u001b[0m_iterating\u001b[0m \u001b[1;33m=\u001b[0m \u001b[0mTrue\u001b[0m\u001b[1;33m\u001b[0m\u001b[0m\n\u001b[0;32m    760\u001b[0m             \u001b[1;32melse\u001b[0m\u001b[1;33m:\u001b[0m\u001b[1;33m\u001b[0m\u001b[0m\n",
      "\u001b[1;32mC:\\Users\\Will\\Anaconda2\\lib\\site-packages\\sklearn\\externals\\joblib\\parallel.pyc\u001b[0m in \u001b[0;36mdispatch_one_batch\u001b[1;34m(self, iterator)\u001b[0m\n\u001b[0;32m    606\u001b[0m                 \u001b[1;32mreturn\u001b[0m \u001b[0mFalse\u001b[0m\u001b[1;33m\u001b[0m\u001b[0m\n\u001b[0;32m    607\u001b[0m             \u001b[1;32melse\u001b[0m\u001b[1;33m:\u001b[0m\u001b[1;33m\u001b[0m\u001b[0m\n\u001b[1;32m--> 608\u001b[1;33m                 \u001b[0mself\u001b[0m\u001b[1;33m.\u001b[0m\u001b[0m_dispatch\u001b[0m\u001b[1;33m(\u001b[0m\u001b[0mtasks\u001b[0m\u001b[1;33m)\u001b[0m\u001b[1;33m\u001b[0m\u001b[0m\n\u001b[0m\u001b[0;32m    609\u001b[0m                 \u001b[1;32mreturn\u001b[0m \u001b[0mTrue\u001b[0m\u001b[1;33m\u001b[0m\u001b[0m\n\u001b[0;32m    610\u001b[0m \u001b[1;33m\u001b[0m\u001b[0m\n",
      "\u001b[1;32mC:\\Users\\Will\\Anaconda2\\lib\\site-packages\\sklearn\\externals\\joblib\\parallel.pyc\u001b[0m in \u001b[0;36m_dispatch\u001b[1;34m(self, batch)\u001b[0m\n\u001b[0;32m    569\u001b[0m         \u001b[0mdispatch_timestamp\u001b[0m \u001b[1;33m=\u001b[0m \u001b[0mtime\u001b[0m\u001b[1;33m.\u001b[0m\u001b[0mtime\u001b[0m\u001b[1;33m(\u001b[0m\u001b[1;33m)\u001b[0m\u001b[1;33m\u001b[0m\u001b[0m\n\u001b[0;32m    570\u001b[0m         \u001b[0mcb\u001b[0m \u001b[1;33m=\u001b[0m \u001b[0mBatchCompletionCallBack\u001b[0m\u001b[1;33m(\u001b[0m\u001b[0mdispatch_timestamp\u001b[0m\u001b[1;33m,\u001b[0m \u001b[0mlen\u001b[0m\u001b[1;33m(\u001b[0m\u001b[0mbatch\u001b[0m\u001b[1;33m)\u001b[0m\u001b[1;33m,\u001b[0m \u001b[0mself\u001b[0m\u001b[1;33m)\u001b[0m\u001b[1;33m\u001b[0m\u001b[0m\n\u001b[1;32m--> 571\u001b[1;33m         \u001b[0mjob\u001b[0m \u001b[1;33m=\u001b[0m \u001b[0mself\u001b[0m\u001b[1;33m.\u001b[0m\u001b[0m_backend\u001b[0m\u001b[1;33m.\u001b[0m\u001b[0mapply_async\u001b[0m\u001b[1;33m(\u001b[0m\u001b[0mbatch\u001b[0m\u001b[1;33m,\u001b[0m \u001b[0mcallback\u001b[0m\u001b[1;33m=\u001b[0m\u001b[0mcb\u001b[0m\u001b[1;33m)\u001b[0m\u001b[1;33m\u001b[0m\u001b[0m\n\u001b[0m\u001b[0;32m    572\u001b[0m         \u001b[0mself\u001b[0m\u001b[1;33m.\u001b[0m\u001b[0m_jobs\u001b[0m\u001b[1;33m.\u001b[0m\u001b[0mappend\u001b[0m\u001b[1;33m(\u001b[0m\u001b[0mjob\u001b[0m\u001b[1;33m)\u001b[0m\u001b[1;33m\u001b[0m\u001b[0m\n\u001b[0;32m    573\u001b[0m \u001b[1;33m\u001b[0m\u001b[0m\n",
      "\u001b[1;32mC:\\Users\\Will\\Anaconda2\\lib\\site-packages\\sklearn\\externals\\joblib\\_parallel_backends.pyc\u001b[0m in \u001b[0;36mapply_async\u001b[1;34m(self, func, callback)\u001b[0m\n\u001b[0;32m    107\u001b[0m     \u001b[1;32mdef\u001b[0m \u001b[0mapply_async\u001b[0m\u001b[1;33m(\u001b[0m\u001b[0mself\u001b[0m\u001b[1;33m,\u001b[0m \u001b[0mfunc\u001b[0m\u001b[1;33m,\u001b[0m \u001b[0mcallback\u001b[0m\u001b[1;33m=\u001b[0m\u001b[0mNone\u001b[0m\u001b[1;33m)\u001b[0m\u001b[1;33m:\u001b[0m\u001b[1;33m\u001b[0m\u001b[0m\n\u001b[0;32m    108\u001b[0m         \u001b[1;34m\"\"\"Schedule a func to be run\"\"\"\u001b[0m\u001b[1;33m\u001b[0m\u001b[0m\n\u001b[1;32m--> 109\u001b[1;33m         \u001b[0mresult\u001b[0m \u001b[1;33m=\u001b[0m \u001b[0mImmediateResult\u001b[0m\u001b[1;33m(\u001b[0m\u001b[0mfunc\u001b[0m\u001b[1;33m)\u001b[0m\u001b[1;33m\u001b[0m\u001b[0m\n\u001b[0m\u001b[0;32m    110\u001b[0m         \u001b[1;32mif\u001b[0m \u001b[0mcallback\u001b[0m\u001b[1;33m:\u001b[0m\u001b[1;33m\u001b[0m\u001b[0m\n\u001b[0;32m    111\u001b[0m             \u001b[0mcallback\u001b[0m\u001b[1;33m(\u001b[0m\u001b[0mresult\u001b[0m\u001b[1;33m)\u001b[0m\u001b[1;33m\u001b[0m\u001b[0m\n",
      "\u001b[1;32mC:\\Users\\Will\\Anaconda2\\lib\\site-packages\\sklearn\\externals\\joblib\\_parallel_backends.pyc\u001b[0m in \u001b[0;36m__init__\u001b[1;34m(self, batch)\u001b[0m\n\u001b[0;32m    324\u001b[0m         \u001b[1;31m# Don't delay the application, to avoid keeping the input\u001b[0m\u001b[1;33m\u001b[0m\u001b[1;33m\u001b[0m\u001b[0m\n\u001b[0;32m    325\u001b[0m         \u001b[1;31m# arguments in memory\u001b[0m\u001b[1;33m\u001b[0m\u001b[1;33m\u001b[0m\u001b[0m\n\u001b[1;32m--> 326\u001b[1;33m         \u001b[0mself\u001b[0m\u001b[1;33m.\u001b[0m\u001b[0mresults\u001b[0m \u001b[1;33m=\u001b[0m \u001b[0mbatch\u001b[0m\u001b[1;33m(\u001b[0m\u001b[1;33m)\u001b[0m\u001b[1;33m\u001b[0m\u001b[0m\n\u001b[0m\u001b[0;32m    327\u001b[0m \u001b[1;33m\u001b[0m\u001b[0m\n\u001b[0;32m    328\u001b[0m     \u001b[1;32mdef\u001b[0m \u001b[0mget\u001b[0m\u001b[1;33m(\u001b[0m\u001b[0mself\u001b[0m\u001b[1;33m)\u001b[0m\u001b[1;33m:\u001b[0m\u001b[1;33m\u001b[0m\u001b[0m\n",
      "\u001b[1;32mC:\\Users\\Will\\Anaconda2\\lib\\site-packages\\sklearn\\externals\\joblib\\parallel.pyc\u001b[0m in \u001b[0;36m__call__\u001b[1;34m(self)\u001b[0m\n\u001b[0;32m    129\u001b[0m \u001b[1;33m\u001b[0m\u001b[0m\n\u001b[0;32m    130\u001b[0m     \u001b[1;32mdef\u001b[0m \u001b[0m__call__\u001b[0m\u001b[1;33m(\u001b[0m\u001b[0mself\u001b[0m\u001b[1;33m)\u001b[0m\u001b[1;33m:\u001b[0m\u001b[1;33m\u001b[0m\u001b[0m\n\u001b[1;32m--> 131\u001b[1;33m         \u001b[1;32mreturn\u001b[0m \u001b[1;33m[\u001b[0m\u001b[0mfunc\u001b[0m\u001b[1;33m(\u001b[0m\u001b[1;33m*\u001b[0m\u001b[0margs\u001b[0m\u001b[1;33m,\u001b[0m \u001b[1;33m**\u001b[0m\u001b[0mkwargs\u001b[0m\u001b[1;33m)\u001b[0m \u001b[1;32mfor\u001b[0m \u001b[0mfunc\u001b[0m\u001b[1;33m,\u001b[0m \u001b[0margs\u001b[0m\u001b[1;33m,\u001b[0m \u001b[0mkwargs\u001b[0m \u001b[1;32min\u001b[0m \u001b[0mself\u001b[0m\u001b[1;33m.\u001b[0m\u001b[0mitems\u001b[0m\u001b[1;33m]\u001b[0m\u001b[1;33m\u001b[0m\u001b[0m\n\u001b[0m\u001b[0;32m    132\u001b[0m \u001b[1;33m\u001b[0m\u001b[0m\n\u001b[0;32m    133\u001b[0m     \u001b[1;32mdef\u001b[0m \u001b[0m__len__\u001b[0m\u001b[1;33m(\u001b[0m\u001b[0mself\u001b[0m\u001b[1;33m)\u001b[0m\u001b[1;33m:\u001b[0m\u001b[1;33m\u001b[0m\u001b[0m\n",
      "\u001b[1;32mC:\\Users\\Will\\Anaconda2\\lib\\site-packages\\sklearn\\model_selection\\_validation.pyc\u001b[0m in \u001b[0;36m_fit_and_score\u001b[1;34m(estimator, X, y, scorer, train, test, verbose, parameters, fit_params, return_train_score, return_parameters, return_n_test_samples, return_times, error_score)\u001b[0m\n\u001b[0;32m    229\u001b[0m     \u001b[0mstart_time\u001b[0m \u001b[1;33m=\u001b[0m \u001b[0mtime\u001b[0m\u001b[1;33m.\u001b[0m\u001b[0mtime\u001b[0m\u001b[1;33m(\u001b[0m\u001b[1;33m)\u001b[0m\u001b[1;33m\u001b[0m\u001b[0m\n\u001b[0;32m    230\u001b[0m \u001b[1;33m\u001b[0m\u001b[0m\n\u001b[1;32m--> 231\u001b[1;33m     \u001b[0mX_train\u001b[0m\u001b[1;33m,\u001b[0m \u001b[0my_train\u001b[0m \u001b[1;33m=\u001b[0m \u001b[0m_safe_split\u001b[0m\u001b[1;33m(\u001b[0m\u001b[0mestimator\u001b[0m\u001b[1;33m,\u001b[0m \u001b[0mX\u001b[0m\u001b[1;33m,\u001b[0m \u001b[0my\u001b[0m\u001b[1;33m,\u001b[0m \u001b[0mtrain\u001b[0m\u001b[1;33m)\u001b[0m\u001b[1;33m\u001b[0m\u001b[0m\n\u001b[0m\u001b[0;32m    232\u001b[0m     \u001b[0mX_test\u001b[0m\u001b[1;33m,\u001b[0m \u001b[0my_test\u001b[0m \u001b[1;33m=\u001b[0m \u001b[0m_safe_split\u001b[0m\u001b[1;33m(\u001b[0m\u001b[0mestimator\u001b[0m\u001b[1;33m,\u001b[0m \u001b[0mX\u001b[0m\u001b[1;33m,\u001b[0m \u001b[0my\u001b[0m\u001b[1;33m,\u001b[0m \u001b[0mtest\u001b[0m\u001b[1;33m,\u001b[0m \u001b[0mtrain\u001b[0m\u001b[1;33m)\u001b[0m\u001b[1;33m\u001b[0m\u001b[0m\n\u001b[0;32m    233\u001b[0m \u001b[1;33m\u001b[0m\u001b[0m\n",
      "\u001b[1;32mC:\\Users\\Will\\Anaconda2\\lib\\site-packages\\sklearn\\utils\\metaestimators.pyc\u001b[0m in \u001b[0;36m_safe_split\u001b[1;34m(estimator, X, y, indices, train_indices)\u001b[0m\n\u001b[0;32m    109\u001b[0m \u001b[1;33m\u001b[0m\u001b[0m\n\u001b[0;32m    110\u001b[0m     \u001b[1;32mif\u001b[0m \u001b[0my\u001b[0m \u001b[1;32mis\u001b[0m \u001b[1;32mnot\u001b[0m \u001b[0mNone\u001b[0m\u001b[1;33m:\u001b[0m\u001b[1;33m\u001b[0m\u001b[0m\n\u001b[1;32m--> 111\u001b[1;33m         \u001b[0my_subset\u001b[0m \u001b[1;33m=\u001b[0m \u001b[0msafe_indexing\u001b[0m\u001b[1;33m(\u001b[0m\u001b[0my\u001b[0m\u001b[1;33m,\u001b[0m \u001b[0mindices\u001b[0m\u001b[1;33m)\u001b[0m\u001b[1;33m\u001b[0m\u001b[0m\n\u001b[0m\u001b[0;32m    112\u001b[0m     \u001b[1;32melse\u001b[0m\u001b[1;33m:\u001b[0m\u001b[1;33m\u001b[0m\u001b[0m\n\u001b[0;32m    113\u001b[0m         \u001b[0my_subset\u001b[0m \u001b[1;33m=\u001b[0m \u001b[0mNone\u001b[0m\u001b[1;33m\u001b[0m\u001b[0m\n",
      "\u001b[1;32mC:\\Users\\Will\\Anaconda2\\lib\\site-packages\\sklearn\\utils\\__init__.pyc\u001b[0m in \u001b[0;36msafe_indexing\u001b[1;34m(X, indices)\u001b[0m\n\u001b[0;32m     97\u001b[0m         \u001b[1;31m# Pandas Dataframes and Series\u001b[0m\u001b[1;33m\u001b[0m\u001b[1;33m\u001b[0m\u001b[0m\n\u001b[0;32m     98\u001b[0m         \u001b[1;32mtry\u001b[0m\u001b[1;33m:\u001b[0m\u001b[1;33m\u001b[0m\u001b[0m\n\u001b[1;32m---> 99\u001b[1;33m             \u001b[1;32mreturn\u001b[0m \u001b[0mX\u001b[0m\u001b[1;33m.\u001b[0m\u001b[0miloc\u001b[0m\u001b[1;33m[\u001b[0m\u001b[0mindices\u001b[0m\u001b[1;33m]\u001b[0m\u001b[1;33m\u001b[0m\u001b[0m\n\u001b[0m\u001b[0;32m    100\u001b[0m         \u001b[1;32mexcept\u001b[0m \u001b[0mValueError\u001b[0m\u001b[1;33m:\u001b[0m\u001b[1;33m\u001b[0m\u001b[0m\n\u001b[0;32m    101\u001b[0m             \u001b[1;31m# Cython typed memoryviews internally used in pandas do not support\u001b[0m\u001b[1;33m\u001b[0m\u001b[1;33m\u001b[0m\u001b[0m\n",
      "\u001b[1;32mC:\\Users\\Will\\Anaconda2\\lib\\site-packages\\pandas\\core\\indexing.pyc\u001b[0m in \u001b[0;36m__getitem__\u001b[1;34m(self, key)\u001b[0m\n\u001b[0;32m   1309\u001b[0m             \u001b[1;32mreturn\u001b[0m \u001b[0mself\u001b[0m\u001b[1;33m.\u001b[0m\u001b[0m_getitem_tuple\u001b[0m\u001b[1;33m(\u001b[0m\u001b[0mkey\u001b[0m\u001b[1;33m)\u001b[0m\u001b[1;33m\u001b[0m\u001b[0m\n\u001b[0;32m   1310\u001b[0m         \u001b[1;32melse\u001b[0m\u001b[1;33m:\u001b[0m\u001b[1;33m\u001b[0m\u001b[0m\n\u001b[1;32m-> 1311\u001b[1;33m             \u001b[1;32mreturn\u001b[0m \u001b[0mself\u001b[0m\u001b[1;33m.\u001b[0m\u001b[0m_getitem_axis\u001b[0m\u001b[1;33m(\u001b[0m\u001b[0mkey\u001b[0m\u001b[1;33m,\u001b[0m \u001b[0maxis\u001b[0m\u001b[1;33m=\u001b[0m\u001b[1;36m0\u001b[0m\u001b[1;33m)\u001b[0m\u001b[1;33m\u001b[0m\u001b[0m\n\u001b[0m\u001b[0;32m   1312\u001b[0m \u001b[1;33m\u001b[0m\u001b[0m\n\u001b[0;32m   1313\u001b[0m     \u001b[1;32mdef\u001b[0m \u001b[0m_getitem_axis\u001b[0m\u001b[1;33m(\u001b[0m\u001b[0mself\u001b[0m\u001b[1;33m,\u001b[0m \u001b[0mkey\u001b[0m\u001b[1;33m,\u001b[0m \u001b[0maxis\u001b[0m\u001b[1;33m=\u001b[0m\u001b[1;36m0\u001b[0m\u001b[1;33m)\u001b[0m\u001b[1;33m:\u001b[0m\u001b[1;33m\u001b[0m\u001b[0m\n",
      "\u001b[1;32mC:\\Users\\Will\\Anaconda2\\lib\\site-packages\\pandas\\core\\indexing.pyc\u001b[0m in \u001b[0;36m_getitem_axis\u001b[1;34m(self, key, axis)\u001b[0m\n\u001b[0;32m   1627\u001b[0m                 \u001b[0mself\u001b[0m\u001b[1;33m.\u001b[0m\u001b[0m_is_valid_integer\u001b[0m\u001b[1;33m(\u001b[0m\u001b[0mkey\u001b[0m\u001b[1;33m,\u001b[0m \u001b[0maxis\u001b[0m\u001b[1;33m)\u001b[0m\u001b[1;33m\u001b[0m\u001b[0m\n\u001b[0;32m   1628\u001b[0m \u001b[1;33m\u001b[0m\u001b[0m\n\u001b[1;32m-> 1629\u001b[1;33m             \u001b[1;32mreturn\u001b[0m \u001b[0mself\u001b[0m\u001b[1;33m.\u001b[0m\u001b[0m_get_loc\u001b[0m\u001b[1;33m(\u001b[0m\u001b[0mkey\u001b[0m\u001b[1;33m,\u001b[0m \u001b[0maxis\u001b[0m\u001b[1;33m=\u001b[0m\u001b[0maxis\u001b[0m\u001b[1;33m)\u001b[0m\u001b[1;33m\u001b[0m\u001b[0m\n\u001b[0m\u001b[0;32m   1630\u001b[0m \u001b[1;33m\u001b[0m\u001b[0m\n\u001b[0;32m   1631\u001b[0m     \u001b[1;32mdef\u001b[0m \u001b[0m_convert_to_indexer\u001b[0m\u001b[1;33m(\u001b[0m\u001b[0mself\u001b[0m\u001b[1;33m,\u001b[0m \u001b[0mobj\u001b[0m\u001b[1;33m,\u001b[0m \u001b[0maxis\u001b[0m\u001b[1;33m=\u001b[0m\u001b[1;36m0\u001b[0m\u001b[1;33m,\u001b[0m \u001b[0mis_setter\u001b[0m\u001b[1;33m=\u001b[0m\u001b[0mFalse\u001b[0m\u001b[1;33m)\u001b[0m\u001b[1;33m:\u001b[0m\u001b[1;33m\u001b[0m\u001b[0m\n",
      "\u001b[1;32mC:\\Users\\Will\\Anaconda2\\lib\\site-packages\\pandas\\core\\indexing.pyc\u001b[0m in \u001b[0;36m_get_loc\u001b[1;34m(self, key, axis)\u001b[0m\n\u001b[0;32m    102\u001b[0m \u001b[1;33m\u001b[0m\u001b[0m\n\u001b[0;32m    103\u001b[0m     \u001b[1;32mdef\u001b[0m \u001b[0m_get_loc\u001b[0m\u001b[1;33m(\u001b[0m\u001b[0mself\u001b[0m\u001b[1;33m,\u001b[0m \u001b[0mkey\u001b[0m\u001b[1;33m,\u001b[0m \u001b[0maxis\u001b[0m\u001b[1;33m=\u001b[0m\u001b[1;36m0\u001b[0m\u001b[1;33m)\u001b[0m\u001b[1;33m:\u001b[0m\u001b[1;33m\u001b[0m\u001b[0m\n\u001b[1;32m--> 104\u001b[1;33m         \u001b[1;32mreturn\u001b[0m \u001b[0mself\u001b[0m\u001b[1;33m.\u001b[0m\u001b[0mobj\u001b[0m\u001b[1;33m.\u001b[0m\u001b[0m_ixs\u001b[0m\u001b[1;33m(\u001b[0m\u001b[0mkey\u001b[0m\u001b[1;33m,\u001b[0m \u001b[0maxis\u001b[0m\u001b[1;33m=\u001b[0m\u001b[0maxis\u001b[0m\u001b[1;33m)\u001b[0m\u001b[1;33m\u001b[0m\u001b[0m\n\u001b[0m\u001b[0;32m    105\u001b[0m \u001b[1;33m\u001b[0m\u001b[0m\n\u001b[0;32m    106\u001b[0m     \u001b[1;32mdef\u001b[0m \u001b[0m_slice\u001b[0m\u001b[1;33m(\u001b[0m\u001b[0mself\u001b[0m\u001b[1;33m,\u001b[0m \u001b[0mobj\u001b[0m\u001b[1;33m,\u001b[0m \u001b[0maxis\u001b[0m\u001b[1;33m=\u001b[0m\u001b[1;36m0\u001b[0m\u001b[1;33m,\u001b[0m \u001b[0mkind\u001b[0m\u001b[1;33m=\u001b[0m\u001b[0mNone\u001b[0m\u001b[1;33m)\u001b[0m\u001b[1;33m:\u001b[0m\u001b[1;33m\u001b[0m\u001b[0m\n",
      "\u001b[1;32mC:\\Users\\Will\\Anaconda2\\lib\\site-packages\\pandas\\core\\series.pyc\u001b[0m in \u001b[0;36m_ixs\u001b[1;34m(self, i, axis)\u001b[0m\n\u001b[0;32m    583\u001b[0m                 \u001b[0mlabel\u001b[0m \u001b[1;33m=\u001b[0m \u001b[0mself\u001b[0m\u001b[1;33m.\u001b[0m\u001b[0mindex\u001b[0m\u001b[1;33m[\u001b[0m\u001b[0mi\u001b[0m\u001b[1;33m]\u001b[0m\u001b[1;33m\u001b[0m\u001b[0m\n\u001b[0;32m    584\u001b[0m                 \u001b[1;32mif\u001b[0m \u001b[0misinstance\u001b[0m\u001b[1;33m(\u001b[0m\u001b[0mlabel\u001b[0m\u001b[1;33m,\u001b[0m \u001b[0mIndex\u001b[0m\u001b[1;33m)\u001b[0m\u001b[1;33m:\u001b[0m\u001b[1;33m\u001b[0m\u001b[0m\n\u001b[1;32m--> 585\u001b[1;33m                     \u001b[1;32mreturn\u001b[0m \u001b[0mself\u001b[0m\u001b[1;33m.\u001b[0m\u001b[0mtake\u001b[0m\u001b[1;33m(\u001b[0m\u001b[0mi\u001b[0m\u001b[1;33m,\u001b[0m \u001b[0maxis\u001b[0m\u001b[1;33m=\u001b[0m\u001b[0maxis\u001b[0m\u001b[1;33m,\u001b[0m \u001b[0mconvert\u001b[0m\u001b[1;33m=\u001b[0m\u001b[0mTrue\u001b[0m\u001b[1;33m)\u001b[0m\u001b[1;33m\u001b[0m\u001b[0m\n\u001b[0m\u001b[0;32m    586\u001b[0m                 \u001b[1;32melse\u001b[0m\u001b[1;33m:\u001b[0m\u001b[1;33m\u001b[0m\u001b[0m\n\u001b[0;32m    587\u001b[0m                     \u001b[1;32mreturn\u001b[0m \u001b[0m_index\u001b[0m\u001b[1;33m.\u001b[0m\u001b[0mget_value_at\u001b[0m\u001b[1;33m(\u001b[0m\u001b[0mself\u001b[0m\u001b[1;33m,\u001b[0m \u001b[0mi\u001b[0m\u001b[1;33m)\u001b[0m\u001b[1;33m\u001b[0m\u001b[0m\n",
      "\u001b[1;32mC:\\Users\\Will\\Anaconda2\\lib\\site-packages\\pandas\\core\\series.pyc\u001b[0m in \u001b[0;36mtake\u001b[1;34m(self, indices, axis, convert, is_copy, **kwargs)\u001b[0m\n\u001b[0;32m   2428\u001b[0m         \u001b[1;31m# check/convert indicies here\u001b[0m\u001b[1;33m\u001b[0m\u001b[1;33m\u001b[0m\u001b[0m\n\u001b[0;32m   2429\u001b[0m         \u001b[1;32mif\u001b[0m \u001b[0mconvert\u001b[0m\u001b[1;33m:\u001b[0m\u001b[1;33m\u001b[0m\u001b[0m\n\u001b[1;32m-> 2430\u001b[1;33m             \u001b[0mindices\u001b[0m \u001b[1;33m=\u001b[0m \u001b[0mmaybe_convert_indices\u001b[0m\u001b[1;33m(\u001b[0m\u001b[0mindices\u001b[0m\u001b[1;33m,\u001b[0m \u001b[0mlen\u001b[0m\u001b[1;33m(\u001b[0m\u001b[0mself\u001b[0m\u001b[1;33m.\u001b[0m\u001b[0m_get_axis\u001b[0m\u001b[1;33m(\u001b[0m\u001b[0maxis\u001b[0m\u001b[1;33m)\u001b[0m\u001b[1;33m)\u001b[0m\u001b[1;33m)\u001b[0m\u001b[1;33m\u001b[0m\u001b[0m\n\u001b[0m\u001b[0;32m   2431\u001b[0m \u001b[1;33m\u001b[0m\u001b[0m\n\u001b[0;32m   2432\u001b[0m         \u001b[0mindices\u001b[0m \u001b[1;33m=\u001b[0m \u001b[0m_ensure_platform_int\u001b[0m\u001b[1;33m(\u001b[0m\u001b[0mindices\u001b[0m\u001b[1;33m)\u001b[0m\u001b[1;33m\u001b[0m\u001b[0m\n",
      "\u001b[1;32mC:\\Users\\Will\\Anaconda2\\lib\\site-packages\\pandas\\core\\indexing.pyc\u001b[0m in \u001b[0;36mmaybe_convert_indices\u001b[1;34m(indices, n)\u001b[0m\n\u001b[0;32m   1865\u001b[0m             \u001b[1;32mreturn\u001b[0m \u001b[0mnp\u001b[0m\u001b[1;33m.\u001b[0m\u001b[0mempty\u001b[0m\u001b[1;33m(\u001b[0m\u001b[1;36m0\u001b[0m\u001b[1;33m,\u001b[0m \u001b[0mdtype\u001b[0m\u001b[1;33m=\u001b[0m\u001b[0mnp\u001b[0m\u001b[1;33m.\u001b[0m\u001b[0mint_\u001b[0m\u001b[1;33m)\u001b[0m\u001b[1;33m\u001b[0m\u001b[0m\n\u001b[0;32m   1866\u001b[0m \u001b[1;33m\u001b[0m\u001b[0m\n\u001b[1;32m-> 1867\u001b[1;33m     \u001b[0mmask\u001b[0m \u001b[1;33m=\u001b[0m \u001b[0mindices\u001b[0m \u001b[1;33m<\u001b[0m \u001b[1;36m0\u001b[0m\u001b[1;33m\u001b[0m\u001b[0m\n\u001b[0m\u001b[0;32m   1868\u001b[0m     \u001b[1;32mif\u001b[0m \u001b[0mmask\u001b[0m\u001b[1;33m.\u001b[0m\u001b[0many\u001b[0m\u001b[1;33m(\u001b[0m\u001b[1;33m)\u001b[0m\u001b[1;33m:\u001b[0m\u001b[1;33m\u001b[0m\u001b[0m\n\u001b[0;32m   1869\u001b[0m         \u001b[0mindices\u001b[0m\u001b[1;33m[\u001b[0m\u001b[0mmask\u001b[0m\u001b[1;33m]\u001b[0m \u001b[1;33m+=\u001b[0m \u001b[0mn\u001b[0m\u001b[1;33m\u001b[0m\u001b[0m\n",
      "\u001b[1;31mKeyboardInterrupt\u001b[0m: "
     ]
    }
   ],
   "source": [
    "test_interactions_in_batches(Xframes, Yframes, sgd)"
   ]
  },
  {
   "cell_type": "code",
   "execution_count": 51,
   "metadata": {
    "collapsed": false
   },
   "outputs": [
    {
     "data": {
      "text/plain": [
       "(1009172, 81)"
      ]
     },
     "execution_count": 51,
     "metadata": {},
     "output_type": "execute_result"
    }
   ],
   "source": [
    "Airports5k_NoNull.shape"
   ]
  },
  {
   "cell_type": "code",
   "execution_count": 52,
   "metadata": {
    "collapsed": false
   },
   "outputs": [
    {
     "data": {
      "text/plain": [
       "(756879, 166)"
      ]
     },
     "execution_count": 52,
     "metadata": {},
     "output_type": "execute_result"
    }
   ],
   "source": [
    "X_train.shape"
   ]
  },
  {
   "cell_type": "code",
   "execution_count": 53,
   "metadata": {
    "collapsed": false
   },
   "outputs": [
    {
     "data": {
      "text/plain": [
       "(756879, 166)"
      ]
     },
     "execution_count": 53,
     "metadata": {},
     "output_type": "execute_result"
    }
   ],
   "source": [
    "X2_train.shape"
   ]
  },
  {
   "cell_type": "code",
   "execution_count": null,
   "metadata": {
    "collapsed": true
   },
   "outputs": [],
   "source": []
  }
 ],
 "metadata": {
  "kernelspec": {
   "display_name": "Python 2",
   "language": "python",
   "name": "python2"
  },
  "language_info": {
   "codemirror_mode": {
    "name": "ipython",
    "version": 2
   },
   "file_extension": ".py",
   "mimetype": "text/x-python",
   "name": "python",
   "nbconvert_exporter": "python",
   "pygments_lexer": "ipython2",
   "version": "2.7.11"
  }
 },
 "nbformat": 4,
 "nbformat_minor": 0
}
