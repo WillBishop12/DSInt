{
 "cells": [
  {
   "cell_type": "code",
   "execution_count": 5,
   "metadata": {
    "collapsed": true
   },
   "outputs": [],
   "source": [
    "import pandas as pd\n",
    "import numpy as np"
   ]
  },
  {
   "cell_type": "code",
   "execution_count": 6,
   "metadata": {
    "collapsed": false
   },
   "outputs": [],
   "source": [
    "import re"
   ]
  },
  {
   "cell_type": "code",
   "execution_count": 7,
   "metadata": {
    "collapsed": true
   },
   "outputs": [],
   "source": [
    "import os"
   ]
  },
  {
   "cell_type": "code",
   "execution_count": 4,
   "metadata": {
    "collapsed": false
   },
   "outputs": [],
   "source": [
    "def ConcatMonths(year):\n",
    "    \n",
    "    #check we are in \"Data Science Intensive\" folder\n",
    "    %cd .\n",
    "    \n",
    "    for m in range(1, 13):\n",
    "        dirstring = \"On_Time_On_Time_Performance_\" + str(year) + \"_\" + str(m)\n",
    "        #print dirstring\n",
    "        #change to directory for given month:\n",
    "        #%cd C:\\Users\\Will\\Jupyter\\'Data Science Intensive'\n",
    "        try: \n",
    "            os.chdir(dirstring)\n",
    "\n",
    "            #concatenate files\n",
    "            NewMonth = pd.read_csv(dirstring + \".csv\").sample(frac=.05)\n",
    "            NewMonth = NewMonth[filter(lambda x: pd.isnull(re.search('Div.+', x)), NewMonth.columns)]\n",
    "            NewMonth.shape #check shape\n",
    "            try:\n",
    "                YearSample = pd.concat([YearSample, NewMonth])\n",
    "            except UnboundLocalError:\n",
    "                YearSample = NewMonth\n",
    "            YearSample.shape #check concatenation worked\"\"\"\n",
    "            del NewMonth\n",
    "            %cd ..\n",
    "        except WindowsError:\n",
    "            pass\n",
    "        \n",
    "    YearSample.shape\n",
    "    YearSample.to_csv(path_or_buf=\"YearSample\"+str(year)+\".csv\")"
   ]
  },
  {
   "cell_type": "code",
   "execution_count": 71,
   "metadata": {
    "collapsed": false
   },
   "outputs": [
    {
     "name": "stdout",
     "output_type": "stream",
     "text": [
      "C:\\Users\\Will\\Jupyter\\Data Science Intensive\n",
      "C:\\Users\\Will\\Jupyter\\Data Science Intensive\n",
      "C:\\Users\\Will\\Jupyter\\Data Science Intensive\n",
      "C:\\Users\\Will\\Jupyter\\Data Science Intensive\n",
      "C:\\Users\\Will\\Jupyter\\Data Science Intensive\n",
      "C:\\Users\\Will\\Jupyter\\Data Science Intensive\n"
     ]
    }
   ],
   "source": [
    "ConcatMonths(2016)"
   ]
  },
  {
   "cell_type": "code",
   "execution_count": 59,
   "metadata": {
    "collapsed": false
   },
   "outputs": [
    {
     "name": "stdout",
     "output_type": "stream",
     "text": [
      "C:\\Users\\Will\\Jupyter\\Data Science Intensive\n"
     ]
    }
   ],
   "source": [
    "%cd ."
   ]
  },
  {
   "cell_type": "code",
   "execution_count": 72,
   "metadata": {
    "collapsed": false
   },
   "outputs": [
    {
     "name": "stdout",
     "output_type": "stream",
     "text": [
      "C:\\Users\\Will\\Jupyter\\Data Science Intensive\n",
      "C:\\Users\\Will\\Jupyter\\Data Science Intensive\n",
      "C:\\Users\\Will\\Jupyter\\Data Science Intensive\n",
      "C:\\Users\\Will\\Jupyter\\Data Science Intensive\n",
      "C:\\Users\\Will\\Jupyter\\Data Science Intensive\n",
      "C:\\Users\\Will\\Jupyter\\Data Science Intensive\n",
      "C:\\Users\\Will\\Jupyter\\Data Science Intensive\n",
      "C:\\Users\\Will\\Jupyter\\Data Science Intensive\n",
      "C:\\Users\\Will\\Jupyter\\Data Science Intensive\n",
      "C:\\Users\\Will\\Jupyter\\Data Science Intensive\n",
      "C:\\Users\\Will\\Jupyter\\Data Science Intensive"
     ]
    },
    {
     "name": "stderr",
     "output_type": "stream",
     "text": [
      "C:\\Users\\Will\\Anaconda2\\lib\\site-packages\\IPython\\core\\interactiveshell.py:3012: DtypeWarning: Columns (77,84,85) have mixed types. Specify dtype option on import or set low_memory=False.\n",
      "  if self.run_code(code, result):\n",
      "C:\\Users\\Will\\Anaconda2\\lib\\site-packages\\IPython\\core\\interactiveshell.py:3012: DtypeWarning: Columns (48,69,76,77,84) have mixed types. Specify dtype option on import or set low_memory=False.\n",
      "  if self.run_code(code, result):\n"
     ]
    },
    {
     "name": "stdout",
     "output_type": "stream",
     "text": [
      "\n",
      "C:\\Users\\Will\\Jupyter\\Data Science Intensive\n",
      "C:\\Users\\Will\\Jupyter\\Data Science Intensive\n"
     ]
    },
    {
     "name": "stderr",
     "output_type": "stream",
     "text": [
      "C:\\Users\\Will\\Anaconda2\\lib\\site-packages\\IPython\\core\\interactiveshell.py:3012: DtypeWarning: Columns (48,76,77,84,85) have mixed types. Specify dtype option on import or set low_memory=False.\n",
      "  if self.run_code(code, result):\n"
     ]
    }
   ],
   "source": [
    "ConcatMonths(2015)"
   ]
  },
  {
   "cell_type": "code",
   "execution_count": 81,
   "metadata": {
    "collapsed": false
   },
   "outputs": [
    {
     "name": "stdout",
     "output_type": "stream",
     "text": [
      "C:\\Users\\Will\\Jupyter\\Data Science Intensive\n",
      "C:\\Users\\Will\\Jupyter\\Data Science Intensive\n",
      "C:\\Users\\Will\\Jupyter\\Data Science Intensive\n",
      "C:\\Users\\Will\\Jupyter\\Data Science Intensive\n",
      "C:\\Users\\Will\\Jupyter\\Data Science Intensive\n",
      "C:\\Users\\Will\\Jupyter\\Data Science Intensive\n",
      "C:\\Users\\Will\\Jupyter\\Data Science Intensive\n",
      "C:\\Users\\Will\\Jupyter\\Data Science Intensive\n",
      "C:\\Users\\Will\\Jupyter\\Data Science Intensive\n",
      "C:\\Users\\Will\\Jupyter\\Data Science Intensive\n",
      "C:\\Users\\Will\\Jupyter\\Data Science Intensive\n",
      "C:\\Users\\Will\\Jupyter\\Data Science Intensive\n",
      "C:\\Users\\Will\\Jupyter\\Data Science Intensive\n"
     ]
    },
    {
     "name": "stderr",
     "output_type": "stream",
     "text": [
      "C:\\Users\\Will\\Anaconda2\\lib\\site-packages\\IPython\\core\\interactiveshell.py:3012: DtypeWarning: Columns (48,76,77,84) have mixed types. Specify dtype option on import or set low_memory=False.\n",
      "  if self.run_code(code, result):\n"
     ]
    }
   ],
   "source": [
    "ConcatMonths(2014)"
   ]
  },
  {
   "cell_type": "code",
   "execution_count": 82,
   "metadata": {
    "collapsed": false
   },
   "outputs": [
    {
     "name": "stdout",
     "output_type": "stream",
     "text": [
      "C:\\Users\\Will\\Jupyter\\Data Science Intensive\n",
      "C:\\Users\\Will\\Jupyter\\Data Science Intensive"
     ]
    },
    {
     "name": "stderr",
     "output_type": "stream",
     "text": [
      "C:\\Users\\Will\\Anaconda2\\lib\\site-packages\\IPython\\core\\interactiveshell.py:3012: DtypeWarning: Columns (6,8,69,76,77,84) have mixed types. Specify dtype option on import or set low_memory=False.\n",
      "  if self.run_code(code, result):\n",
      "C:\\Users\\Will\\Anaconda2\\lib\\site-packages\\IPython\\core\\interactiveshell.py:3012: DtypeWarning: Columns (6,8,76,77,84) have mixed types. Specify dtype option on import or set low_memory=False.\n",
      "  if self.run_code(code, result):\n"
     ]
    },
    {
     "name": "stdout",
     "output_type": "stream",
     "text": [
      "\n",
      "C:\\Users\\Will\\Jupyter\\Data Science Intensive\n",
      "C:\\Users\\Will\\Jupyter\\Data Science Intensive\n",
      "C:\\Users\\Will\\Jupyter\\Data Science Intensive\n",
      "C:\\Users\\Will\\Jupyter\\Data Science Intensive\n",
      "C:\\Users\\Will\\Jupyter\\Data Science Intensive\n",
      "C:\\Users\\Will\\Jupyter\\Data Science Intensive\n",
      "C:\\Users\\Will\\Jupyter\\Data Science Intensive\n",
      "C:\\Users\\Will\\Jupyter\\Data Science Intensive"
     ]
    },
    {
     "name": "stderr",
     "output_type": "stream",
     "text": [
      "C:\\Users\\Will\\Anaconda2\\lib\\site-packages\\IPython\\core\\interactiveshell.py:3012: DtypeWarning: Columns (6,8,77,84) have mixed types. Specify dtype option on import or set low_memory=False.\n",
      "  if self.run_code(code, result):\n",
      "C:\\Users\\Will\\Anaconda2\\lib\\site-packages\\IPython\\core\\interactiveshell.py:3012: DtypeWarning: Columns (6,8,48,69,76,77,84) have mixed types. Specify dtype option on import or set low_memory=False.\n",
      "  if self.run_code(code, result):\n"
     ]
    },
    {
     "name": "stdout",
     "output_type": "stream",
     "text": [
      "\n",
      "C:\\Users\\Will\\Jupyter\\Data Science Intensive\n",
      "C:\\Users\\Will\\Jupyter\\Data Science Intensive"
     ]
    },
    {
     "name": "stderr",
     "output_type": "stream",
     "text": [
      "C:\\Users\\Will\\Anaconda2\\lib\\site-packages\\IPython\\core\\interactiveshell.py:3012: DtypeWarning: Columns (6,8,48,77,84) have mixed types. Specify dtype option on import or set low_memory=False.\n",
      "  if self.run_code(code, result):\n",
      "C:\\Users\\Will\\Anaconda2\\lib\\site-packages\\IPython\\core\\interactiveshell.py:3012: DtypeWarning: Columns (6,8,77,84,85) have mixed types. Specify dtype option on import or set low_memory=False.\n",
      "  if self.run_code(code, result):\n"
     ]
    },
    {
     "name": "stdout",
     "output_type": "stream",
     "text": [
      "\n",
      "C:\\Users\\Will\\Jupyter\\Data Science Intensive\n"
     ]
    }
   ],
   "source": [
    "ConcatMonths(2013)"
   ]
  },
  {
   "cell_type": "code",
   "execution_count": 6,
   "metadata": {
    "collapsed": false
   },
   "outputs": [
    {
     "name": "stdout",
     "output_type": "stream",
     "text": [
      "C:\\Users\\Will\\Jupyter\\Data Science Intensive\n",
      "C:\\Users\\Will\\Jupyter\\Data Science Intensive"
     ]
    },
    {
     "name": "stderr",
     "output_type": "stream",
     "text": [
      "C:\\Users\\Will\\Anaconda2\\lib\\site-packages\\IPython\\core\\interactiveshell.py:3012: DtypeWarning: Columns (76,77,84,85) have mixed types. Specify dtype option on import or set low_memory=False.\n",
      "  if self.run_code(code, result):\n",
      "C:\\Users\\Will\\Anaconda2\\lib\\site-packages\\IPython\\core\\interactiveshell.py:3012: DtypeWarning: Columns (76,77,84) have mixed types. Specify dtype option on import or set low_memory=False.\n",
      "  if self.run_code(code, result):\n"
     ]
    },
    {
     "name": "stdout",
     "output_type": "stream",
     "text": [
      "\n",
      "C:\\Users\\Will\\Jupyter\\Data Science Intensive\n",
      "C:\\Users\\Will\\Jupyter\\Data Science Intensive"
     ]
    },
    {
     "name": "stderr",
     "output_type": "stream",
     "text": [
      "C:\\Users\\Will\\Anaconda2\\lib\\site-packages\\IPython\\core\\interactiveshell.py:3012: DtypeWarning: Columns (77,84,85) have mixed types. Specify dtype option on import or set low_memory=False.\n",
      "  if self.run_code(code, result):\n",
      "C:\\Users\\Will\\Anaconda2\\lib\\site-packages\\IPython\\core\\interactiveshell.py:3012: DtypeWarning: Columns (69,76,77,84) have mixed types. Specify dtype option on import or set low_memory=False.\n",
      "  if self.run_code(code, result):\n"
     ]
    },
    {
     "name": "stdout",
     "output_type": "stream",
     "text": [
      "\n",
      "C:\\Users\\Will\\Jupyter\\Data Science Intensive\n",
      "C:\\Users\\Will\\Jupyter\\Data Science Intensive\n",
      "C:\\Users\\Will\\Jupyter\\Data Science Intensive\n",
      "C:\\Users\\Will\\Jupyter\\Data Science Intensive"
     ]
    },
    {
     "name": "stderr",
     "output_type": "stream",
     "text": [
      "C:\\Users\\Will\\Anaconda2\\lib\\site-packages\\IPython\\core\\interactiveshell.py:3012: DtypeWarning: Columns (77,84) have mixed types. Specify dtype option on import or set low_memory=False.\n",
      "  if self.run_code(code, result):\n",
      "C:\\Users\\Will\\Anaconda2\\lib\\site-packages\\IPython\\core\\interactiveshell.py:3012: DtypeWarning: Columns (48,69,76,77,84) have mixed types. Specify dtype option on import or set low_memory=False.\n",
      "  if self.run_code(code, result):\n"
     ]
    },
    {
     "name": "stdout",
     "output_type": "stream",
     "text": [
      "\n",
      "C:\\Users\\Will\\Jupyter\\Data Science Intensive\n",
      "C:\\Users\\Will\\Jupyter\\Data Science Intensive\n",
      "C:\\Users\\Will\\Jupyter\\Data Science Intensive\n",
      "C:\\Users\\Will\\Jupyter\\Data Science Intensive\n",
      "C:\\Users\\Will\\Jupyter\\Data Science Intensive\n"
     ]
    }
   ],
   "source": [
    "ConcatMonths(2012)"
   ]
  },
  {
   "cell_type": "code",
   "execution_count": 5,
   "metadata": {
    "collapsed": true
   },
   "outputs": [],
   "source": [
    "import os"
   ]
  },
  {
   "cell_type": "code",
   "execution_count": 5,
   "metadata": {
    "collapsed": false
   },
   "outputs": [
    {
     "name": "stdout",
     "output_type": "stream",
     "text": [
      "C:\\Users\\Will\\Jupyter\\Data Science Intensive\n",
      "C:\\Users\\Will\\Jupyter\\Data Science Intensive"
     ]
    },
    {
     "name": "stderr",
     "output_type": "stream",
     "text": [
      "C:\\Users\\Will\\Anaconda2\\lib\\site-packages\\IPython\\core\\interactiveshell.py:3012: DtypeWarning: Columns (77,84) have mixed types. Specify dtype option on import or set low_memory=False.\n",
      "  if self.run_code(code, result):\n",
      "C:\\Users\\Will\\Anaconda2\\lib\\site-packages\\IPython\\core\\interactiveshell.py:3012: DtypeWarning: Columns (77) have mixed types. Specify dtype option on import or set low_memory=False.\n",
      "  if self.run_code(code, result):\n"
     ]
    },
    {
     "name": "stdout",
     "output_type": "stream",
     "text": [
      "\n",
      "C:\\Users\\Will\\Jupyter\\Data Science Intensive\n",
      "C:\\Users\\Will\\Jupyter\\Data Science Intensive\n",
      "C:\\Users\\Will\\Jupyter\\Data Science Intensive\n",
      "C:\\Users\\Will\\Jupyter\\Data Science Intensive\n",
      "C:\\Users\\Will\\Jupyter\\Data Science Intensive\n",
      "C:\\Users\\Will\\Jupyter\\Data Science Intensive\n"
     ]
    },
    {
     "name": "stderr",
     "output_type": "stream",
     "text": [
      "C:\\Users\\Will\\Anaconda2\\lib\\site-packages\\IPython\\core\\interactiveshell.py:3012: DtypeWarning: Columns (69,76,77,84) have mixed types. Specify dtype option on import or set low_memory=False.\n",
      "  if self.run_code(code, result):\n"
     ]
    }
   ],
   "source": [
    "ConcatMonths(2011)"
   ]
  },
  {
   "cell_type": "code",
   "execution_count": 8,
   "metadata": {
    "collapsed": false
   },
   "outputs": [
    {
     "name": "stdout",
     "output_type": "stream",
     "text": [
      "C:\\Users\\Will\\Jupyter\\Data Science Intensive\n"
     ]
    }
   ],
   "source": [
    "%cd ."
   ]
  },
  {
   "cell_type": "code",
   "execution_count": 6,
   "metadata": {
    "collapsed": false
   },
   "outputs": [
    {
     "data": {
      "text/plain": [
       "['_dh',\n",
       " '__',\n",
       " 'ConcatMonths',\n",
       " '__builtin__',\n",
       " 'quit',\n",
       " '_i6',\n",
       " '_i5',\n",
       " '_i4',\n",
       " '_i3',\n",
       " '_i2',\n",
       " '_i1',\n",
       " '__package__',\n",
       " 're',\n",
       " 'exit',\n",
       " 'get_ipython',\n",
       " 'pd',\n",
       " 'np',\n",
       " '__doc__',\n",
       " '_i',\n",
       " '__builtins__',\n",
       " '_ih',\n",
       " '__name__',\n",
       " '___',\n",
       " '_',\n",
       " '_sh',\n",
       " '_iii',\n",
       " '_ii',\n",
       " 'In',\n",
       " 'os',\n",
       " '_oh',\n",
       " 'Out']"
      ]
     },
     "execution_count": 6,
     "metadata": {},
     "output_type": "execute_result"
    }
   ],
   "source": [
    "locals().keys()"
   ]
  },
  {
   "cell_type": "code",
   "execution_count": 7,
   "metadata": {
    "collapsed": true
   },
   "outputs": [],
   "source": [
    "def ConcatYears(beg, end):\n",
    "    \n",
    "    #check we are in \"Data Science Intensive\" folder\n",
    "    %cd .\n",
    "    \n",
    "    Sample = pd.read_csv(\"YearSample\" + str(beg) + \".csv\")\n",
    "    for y in range(beg+1, end+1):\n",
    "        Sample = pd.concat([Sample, pd.read_csv(\"YearSample\" + str(y) + \".csv\")])\n",
    "        \n",
    "    #output to csv\n",
    "    Sample.to_csv(path_or_buf=\"Sample_\" + str(beg) + \"_\" + str(end) + \".csv\")"
   ]
  },
  {
   "cell_type": "code",
   "execution_count": 8,
   "metadata": {
    "collapsed": false
   },
   "outputs": [
    {
     "name": "stdout",
     "output_type": "stream",
     "text": [
      "C:\\Users\\Will\\Jupyter\\Data Science Intensive\n"
     ]
    }
   ],
   "source": [
    "ConcatYears(2011, 2016)"
   ]
  },
  {
   "cell_type": "code",
   "execution_count": 9,
   "metadata": {
    "collapsed": false
   },
   "outputs": [
    {
     "data": {
      "text/plain": [
       "['_dh',\n",
       " '__',\n",
       " 'ConcatMonths',\n",
       " '__builtin__',\n",
       " 'quit',\n",
       " '_i9',\n",
       " '_i8',\n",
       " '_i7',\n",
       " '_i6',\n",
       " '_i5',\n",
       " '_i4',\n",
       " '_i3',\n",
       " '_i2',\n",
       " '_i1',\n",
       " '__package__',\n",
       " 're',\n",
       " 'exit',\n",
       " 'get_ipython',\n",
       " 'pd',\n",
       " 'ConcatYears',\n",
       " 'np',\n",
       " '__doc__',\n",
       " '_i',\n",
       " '__builtins__',\n",
       " '_ih',\n",
       " '__name__',\n",
       " '___',\n",
       " '_',\n",
       " '_sh',\n",
       " '_6',\n",
       " '_iii',\n",
       " '_ii',\n",
       " 'In',\n",
       " 'os',\n",
       " '_oh',\n",
       " 'Out']"
      ]
     },
     "execution_count": 9,
     "metadata": {},
     "output_type": "execute_result"
    }
   ],
   "source": [
    "globals().keys()"
   ]
  },
  {
   "cell_type": "code",
   "execution_count": 11,
   "metadata": {
    "collapsed": false,
    "scrolled": true
   },
   "outputs": [
    {
     "data": {
      "text/html": [
       "<div>\n",
       "<table border=\"1\" class=\"dataframe\">\n",
       "  <thead>\n",
       "    <tr style=\"text-align: right;\">\n",
       "      <th></th>\n",
       "      <th>Unnamed: 0</th>\n",
       "      <th>Unnamed: 0.1</th>\n",
       "      <th>Year</th>\n",
       "      <th>Quarter</th>\n",
       "      <th>Month</th>\n",
       "      <th>DayofMonth</th>\n",
       "      <th>DayOfWeek</th>\n",
       "      <th>FlightDate</th>\n",
       "      <th>UniqueCarrier</th>\n",
       "      <th>AirlineID</th>\n",
       "      <th>...</th>\n",
       "      <th>DistanceGroup</th>\n",
       "      <th>CarrierDelay</th>\n",
       "      <th>WeatherDelay</th>\n",
       "      <th>NASDelay</th>\n",
       "      <th>SecurityDelay</th>\n",
       "      <th>LateAircraftDelay</th>\n",
       "      <th>FirstDepTime</th>\n",
       "      <th>TotalAddGTime</th>\n",
       "      <th>LongestAddGTime</th>\n",
       "      <th>Unnamed: 109</th>\n",
       "    </tr>\n",
       "  </thead>\n",
       "  <tbody>\n",
       "    <tr>\n",
       "      <th>0</th>\n",
       "      <td>0</td>\n",
       "      <td>510213</td>\n",
       "      <td>2011</td>\n",
       "      <td>2</td>\n",
       "      <td>6</td>\n",
       "      <td>26</td>\n",
       "      <td>7</td>\n",
       "      <td>2011-06-26</td>\n",
       "      <td>MQ</td>\n",
       "      <td>20398</td>\n",
       "      <td>...</td>\n",
       "      <td>4</td>\n",
       "      <td>NaN</td>\n",
       "      <td>NaN</td>\n",
       "      <td>NaN</td>\n",
       "      <td>NaN</td>\n",
       "      <td>NaN</td>\n",
       "      <td>NaN</td>\n",
       "      <td>NaN</td>\n",
       "      <td>NaN</td>\n",
       "      <td>NaN</td>\n",
       "    </tr>\n",
       "    <tr>\n",
       "      <th>1</th>\n",
       "      <td>1</td>\n",
       "      <td>505404</td>\n",
       "      <td>2011</td>\n",
       "      <td>2</td>\n",
       "      <td>6</td>\n",
       "      <td>14</td>\n",
       "      <td>2</td>\n",
       "      <td>2011-06-14</td>\n",
       "      <td>MQ</td>\n",
       "      <td>20398</td>\n",
       "      <td>...</td>\n",
       "      <td>2</td>\n",
       "      <td>NaN</td>\n",
       "      <td>NaN</td>\n",
       "      <td>NaN</td>\n",
       "      <td>NaN</td>\n",
       "      <td>NaN</td>\n",
       "      <td>NaN</td>\n",
       "      <td>NaN</td>\n",
       "      <td>NaN</td>\n",
       "      <td>NaN</td>\n",
       "    </tr>\n",
       "    <tr>\n",
       "      <th>2</th>\n",
       "      <td>2</td>\n",
       "      <td>484788</td>\n",
       "      <td>2011</td>\n",
       "      <td>2</td>\n",
       "      <td>6</td>\n",
       "      <td>30</td>\n",
       "      <td>4</td>\n",
       "      <td>2011-06-30</td>\n",
       "      <td>FL</td>\n",
       "      <td>20437</td>\n",
       "      <td>...</td>\n",
       "      <td>2</td>\n",
       "      <td>NaN</td>\n",
       "      <td>NaN</td>\n",
       "      <td>NaN</td>\n",
       "      <td>NaN</td>\n",
       "      <td>NaN</td>\n",
       "      <td>NaN</td>\n",
       "      <td>NaN</td>\n",
       "      <td>NaN</td>\n",
       "      <td>NaN</td>\n",
       "    </tr>\n",
       "    <tr>\n",
       "      <th>3</th>\n",
       "      <td>3</td>\n",
       "      <td>326031</td>\n",
       "      <td>2011</td>\n",
       "      <td>2</td>\n",
       "      <td>6</td>\n",
       "      <td>26</td>\n",
       "      <td>7</td>\n",
       "      <td>2011-06-26</td>\n",
       "      <td>UA</td>\n",
       "      <td>19977</td>\n",
       "      <td>...</td>\n",
       "      <td>3</td>\n",
       "      <td>0</td>\n",
       "      <td>0</td>\n",
       "      <td>0</td>\n",
       "      <td>0</td>\n",
       "      <td>46</td>\n",
       "      <td>NaN</td>\n",
       "      <td>NaN</td>\n",
       "      <td>NaN</td>\n",
       "      <td>NaN</td>\n",
       "    </tr>\n",
       "    <tr>\n",
       "      <th>4</th>\n",
       "      <td>4</td>\n",
       "      <td>347741</td>\n",
       "      <td>2011</td>\n",
       "      <td>2</td>\n",
       "      <td>6</td>\n",
       "      <td>4</td>\n",
       "      <td>6</td>\n",
       "      <td>2011-06-04</td>\n",
       "      <td>US</td>\n",
       "      <td>20355</td>\n",
       "      <td>...</td>\n",
       "      <td>2</td>\n",
       "      <td>NaN</td>\n",
       "      <td>NaN</td>\n",
       "      <td>NaN</td>\n",
       "      <td>NaN</td>\n",
       "      <td>NaN</td>\n",
       "      <td>NaN</td>\n",
       "      <td>NaN</td>\n",
       "      <td>NaN</td>\n",
       "      <td>NaN</td>\n",
       "    </tr>\n",
       "  </tbody>\n",
       "</table>\n",
       "<p>5 rows × 66 columns</p>\n",
       "</div>"
      ],
      "text/plain": [
       "   Unnamed: 0  Unnamed: 0.1  Year  Quarter  Month  DayofMonth  DayOfWeek  \\\n",
       "0           0        510213  2011        2      6          26          7   \n",
       "1           1        505404  2011        2      6          14          2   \n",
       "2           2        484788  2011        2      6          30          4   \n",
       "3           3        326031  2011        2      6          26          7   \n",
       "4           4        347741  2011        2      6           4          6   \n",
       "\n",
       "   FlightDate UniqueCarrier  AirlineID      ...      DistanceGroup  \\\n",
       "0  2011-06-26            MQ      20398      ...                  4   \n",
       "1  2011-06-14            MQ      20398      ...                  2   \n",
       "2  2011-06-30            FL      20437      ...                  2   \n",
       "3  2011-06-26            UA      19977      ...                  3   \n",
       "4  2011-06-04            US      20355      ...                  2   \n",
       "\n",
       "  CarrierDelay  WeatherDelay  NASDelay  SecurityDelay  LateAircraftDelay  \\\n",
       "0          NaN           NaN       NaN            NaN                NaN   \n",
       "1          NaN           NaN       NaN            NaN                NaN   \n",
       "2          NaN           NaN       NaN            NaN                NaN   \n",
       "3            0             0         0              0                 46   \n",
       "4          NaN           NaN       NaN            NaN                NaN   \n",
       "\n",
       "  FirstDepTime TotalAddGTime LongestAddGTime  Unnamed: 109  \n",
       "0          NaN           NaN             NaN           NaN  \n",
       "1          NaN           NaN             NaN           NaN  \n",
       "2          NaN           NaN             NaN           NaN  \n",
       "3          NaN           NaN             NaN           NaN  \n",
       "4          NaN           NaN             NaN           NaN  \n",
       "\n",
       "[5 rows x 66 columns]"
      ]
     },
     "execution_count": 11,
     "metadata": {},
     "output_type": "execute_result"
    }
   ],
   "source": [
    "\"\"\"Load in data from 5-year sample\"\"\"\n",
    "OnTimeData = pd.read_csv(\"Sample_2011_2016.csv\")\n",
    "OnTimeData.head()"
   ]
  },
  {
   "cell_type": "code",
   "execution_count": 12,
   "metadata": {
    "collapsed": false
   },
   "outputs": [
    {
     "data": {
      "text/plain": [
       " 0     313244\n",
       " 1     109951\n",
       " 2      53175\n",
       " 3      31424\n",
       " 4      20618\n",
       " 5      14735\n",
       " 6      10683\n",
       " 7       8015\n",
       " 8       6148\n",
       " 9       4727\n",
       " 10      3635\n",
       " 11      2782\n",
       " 12     11172\n",
       "-2     253539\n",
       "-1     627956\n",
       "Name: ArrivalDelayGroups, dtype: int64"
      ]
     },
     "execution_count": 12,
     "metadata": {},
     "output_type": "execute_result"
    }
   ],
   "source": [
    "\"\"\"Count arrival delay groups: 15-minute groups from < -15 to > 180\"\"\"\n",
    "OnTimeData.ArrivalDelayGroups.value_counts(sort=False)"
   ]
  },
  {
   "cell_type": "code",
   "execution_count": 13,
   "metadata": {
    "collapsed": false
   },
   "outputs": [
    {
     "data": {
      "text/plain": [
       "0    1194739\n",
       "1     277065\n",
       "Name: ArrDel15, dtype: int64"
      ]
     },
     "execution_count": 13,
     "metadata": {},
     "output_type": "execute_result"
    }
   ],
   "source": [
    "\"\"\"Count flights delayed at least 15 minutes or not\"\"\"\n",
    "OnTimeData.ArrDel15.value_counts()"
   ]
  },
  {
   "cell_type": "code",
   "execution_count": 14,
   "metadata": {
    "collapsed": false
   },
   "outputs": [
    {
     "data": {
      "text/plain": [
       "0.18824857114126609"
      ]
     },
     "execution_count": 14,
     "metadata": {},
     "output_type": "execute_result"
    }
   ],
   "source": [
    "#Percentage of flights delayed at least 15 minutes\n",
    "np.mean(OnTimeData.ArrDel15)"
   ]
  },
  {
   "cell_type": "code",
   "execution_count": 16,
   "metadata": {
    "collapsed": false
   },
   "outputs": [
    {
     "data": {
      "text/plain": [
       "array([[<matplotlib.axes._subplots.AxesSubplot object at 0x000000001C3155F8>]], dtype=object)"
      ]
     },
     "execution_count": 16,
     "metadata": {},
     "output_type": "execute_result"
    },
    {
     "data": {
      "image/png": "[encoded data removed]",
      "text/plain": [
       "<matplotlib.figure.Figure at 0x11ae4fd0>"
      ]
     },
     "metadata": {},
     "output_type": "display_data"
    }
   ],
   "source": [
    "#Histogram of arrival delay groups\n",
    "%matplotlib inline\n",
    "OnTimeData.hist(\"ArrivalDelayGroups\", bins=15)"
   ]
  },
  {
   "cell_type": "code",
   "execution_count": 17,
   "metadata": {
    "collapsed": false
   },
   "outputs": [
    {
     "data": {
      "text/html": [
       "<div>\n",
       "<table border=\"1\" class=\"dataframe\">\n",
       "  <thead>\n",
       "    <tr style=\"text-align: right;\">\n",
       "      <th></th>\n",
       "      <th>Code</th>\n",
       "      <th>Description</th>\n",
       "    </tr>\n",
       "  </thead>\n",
       "  <tbody>\n",
       "    <tr>\n",
       "      <th>0</th>\n",
       "      <td>02Q</td>\n",
       "      <td>Titan Airways</td>\n",
       "    </tr>\n",
       "    <tr>\n",
       "      <th>1</th>\n",
       "      <td>04Q</td>\n",
       "      <td>Tradewind Aviation</td>\n",
       "    </tr>\n",
       "    <tr>\n",
       "      <th>2</th>\n",
       "      <td>05Q</td>\n",
       "      <td>Comlux Aviation, AG</td>\n",
       "    </tr>\n",
       "    <tr>\n",
       "      <th>3</th>\n",
       "      <td>06Q</td>\n",
       "      <td>Master Top Linhas Aereas Ltd.</td>\n",
       "    </tr>\n",
       "    <tr>\n",
       "      <th>4</th>\n",
       "      <td>07Q</td>\n",
       "      <td>Flair Airlines Ltd.</td>\n",
       "    </tr>\n",
       "  </tbody>\n",
       "</table>\n",
       "</div>"
      ],
      "text/plain": [
       "  Code                    Description\n",
       "0  02Q                  Titan Airways\n",
       "1  04Q             Tradewind Aviation\n",
       "2  05Q            Comlux Aviation, AG\n",
       "3  06Q  Master Top Linhas Aereas Ltd.\n",
       "4  07Q            Flair Airlines Ltd."
      ]
     },
     "execution_count": 17,
     "metadata": {},
     "output_type": "execute_result"
    }
   ],
   "source": [
    "\"\"\"Read in unique carrier names\"\"\"\n",
    "UniqueCarriers = pd.read_csv('L_UNIQUE_CARRIERS.csv')\n",
    "UniqueCarriers.head()"
   ]
  },
  {
   "cell_type": "code",
   "execution_count": 18,
   "metadata": {
    "collapsed": false
   },
   "outputs": [
    {
     "data": {
      "text/html": [
       "<div>\n",
       "<table border=\"1\" class=\"dataframe\">\n",
       "  <thead>\n",
       "    <tr style=\"text-align: right;\">\n",
       "      <th></th>\n",
       "      <th>UniqueCarrier</th>\n",
       "      <th>Carrier Name</th>\n",
       "    </tr>\n",
       "  </thead>\n",
       "  <tbody>\n",
       "    <tr>\n",
       "      <th>0</th>\n",
       "      <td>02Q</td>\n",
       "      <td>Titan Airways</td>\n",
       "    </tr>\n",
       "    <tr>\n",
       "      <th>1</th>\n",
       "      <td>04Q</td>\n",
       "      <td>Tradewind Aviation</td>\n",
       "    </tr>\n",
       "    <tr>\n",
       "      <th>2</th>\n",
       "      <td>05Q</td>\n",
       "      <td>Comlux Aviation, AG</td>\n",
       "    </tr>\n",
       "    <tr>\n",
       "      <th>3</th>\n",
       "      <td>06Q</td>\n",
       "      <td>Master Top Linhas Aereas Ltd.</td>\n",
       "    </tr>\n",
       "    <tr>\n",
       "      <th>4</th>\n",
       "      <td>07Q</td>\n",
       "      <td>Flair Airlines Ltd.</td>\n",
       "    </tr>\n",
       "  </tbody>\n",
       "</table>\n",
       "</div>"
      ],
      "text/plain": [
       "  UniqueCarrier                   Carrier Name\n",
       "0           02Q                  Titan Airways\n",
       "1           04Q             Tradewind Aviation\n",
       "2           05Q            Comlux Aviation, AG\n",
       "3           06Q  Master Top Linhas Aereas Ltd.\n",
       "4           07Q            Flair Airlines Ltd."
      ]
     },
     "execution_count": 18,
     "metadata": {},
     "output_type": "execute_result"
    }
   ],
   "source": [
    "\"\"\"Rename unique carrier code so it will merge onto main data frame\"\"\"\n",
    "UniqueCarriers.rename(columns={'Code': 'UniqueCarrier', 'Description': 'Carrier Name'}, inplace=True)\n",
    "UniqueCarriers.head()"
   ]
  },
  {
   "cell_type": "code",
   "execution_count": 24,
   "metadata": {
    "collapsed": false
   },
   "outputs": [],
   "source": [
    "\"\"\"Merge on unique carrier names and drop unnamed columns\"\"\"\n",
    "OnTimeData = OnTimeData.merge(UniqueCarriers, on=\"UniqueCarrier\")\n",
    "OnTimeData = OnTimeData[filter(lambda x: pd.isnull(re.search('Unnamed.+', x)), OnTimeData.columns)]"
   ]
  },
  {
   "cell_type": "code",
   "execution_count": 25,
   "metadata": {
    "collapsed": false
   },
   "outputs": [
    {
     "data": {
      "text/plain": [
       "Index([u'Year', u'Quarter', u'Month', u'DayofMonth', u'DayOfWeek',\n",
       "       u'FlightDate', u'UniqueCarrier', u'AirlineID', u'Carrier', u'TailNum',\n",
       "       u'FlightNum', u'OriginAirportID', u'OriginAirportSeqID',\n",
       "       u'OriginCityMarketID', u'Origin', u'OriginCityName', u'OriginState',\n",
       "       u'OriginStateFips', u'OriginStateName', u'OriginWac', u'DestAirportID',\n",
       "       u'DestAirportSeqID', u'DestCityMarketID', u'Dest', u'DestCityName',\n",
       "       u'DestState', u'DestStateFips', u'DestStateName', u'DestWac',\n",
       "       u'CRSDepTime', u'DepTime', u'DepDelay', u'DepDelayMinutes', u'DepDel15',\n",
       "       u'DepartureDelayGroups', u'DepTimeBlk', u'TaxiOut', u'WheelsOff',\n",
       "       u'WheelsOn', u'TaxiIn', u'CRSArrTime', u'ArrTime', u'ArrDelay',\n",
       "       u'ArrDelayMinutes', u'ArrDel15', u'ArrivalDelayGroups', u'ArrTimeBlk',\n",
       "       u'Cancelled', u'CancellationCode', u'CRSElapsedTime',\n",
       "       u'ActualElapsedTime', u'AirTime', u'Flights', u'Distance',\n",
       "       u'DistanceGroup', u'CarrierDelay', u'WeatherDelay', u'NASDelay',\n",
       "       u'SecurityDelay', u'LateAircraftDelay', u'FirstDepTime',\n",
       "       u'TotalAddGTime', u'LongestAddGTime', u'Carrier Name'],\n",
       "      dtype='object')"
      ]
     },
     "execution_count": 25,
     "metadata": {},
     "output_type": "execute_result"
    }
   ],
   "source": [
    "OnTimeData.columns"
   ]
  },
  {
   "cell_type": "code",
   "execution_count": 26,
   "metadata": {
    "collapsed": false
   },
   "outputs": [
    {
     "data": {
      "text/plain": [
       "Southwest Airlines Co.          297094\n",
       "Delta Air Lines Inc.            197870\n",
       "ExpressJet Airlines Inc.        156876\n",
       "SkyWest Airlines Inc.           151260\n",
       "American Airlines Inc.          151075\n",
       "United Air Lines Inc.           122357\n",
       "Envoy Air                        92879\n",
       "US Airways Inc.                  83070\n",
       "JetBlue Airways                  61702\n",
       "Alaska Airlines Inc.             39916\n",
       "AirTran Airways Corporation      31224\n",
       "Frontier Airlines Inc.           20858\n",
       "Hawaiian Airlines Inc.           18486\n",
       "Mesa Airlines Inc.               18364\n",
       "Virgin America                   12936\n",
       "ExpressJet Airlines Inc. (1)     12254\n",
       "Spirit Air Lines                  8480\n",
       "Continental Air Lines Inc.        7201\n",
       "Endeavor Air Inc.                 6532\n",
       "Name: Carrier Name, dtype: int64"
      ]
     },
     "execution_count": 26,
     "metadata": {},
     "output_type": "execute_result"
    }
   ],
   "source": [
    "\"\"\"Check value counts of carrier names\"\"\"\n",
    "OnTimeData[\"Carrier Name\"].value_counts()"
   ]
  },
  {
   "cell_type": "code",
   "execution_count": 28,
   "metadata": {
    "collapsed": false
   },
   "outputs": [
    {
     "data": {
      "text/plain": [
       "Carrier Name\n",
       "Spirit Air Lines                0.299121\n",
       "Frontier Airlines Inc.          0.240126\n",
       "JetBlue Airways                 0.224305\n",
       "ExpressJet Airlines Inc.        0.224266\n",
       "Envoy Air                       0.217871\n",
       "Continental Air Lines Inc.      0.211998\n",
       "ExpressJet Airlines Inc. (1)    0.211016\n",
       "United Air Lines Inc.           0.204212\n",
       "American Airlines Inc.          0.198692\n",
       "Southwest Airlines Co.          0.194953\n",
       "SkyWest Airlines Inc.           0.183913\n",
       "Virgin America                  0.181485\n",
       "Endeavor Air Inc.               0.172435\n",
       "US Airways Inc.                 0.168809\n",
       "Mesa Airlines Inc.              0.160941\n",
       "AirTran Airways Corporation     0.151417\n",
       "Delta Air Lines Inc.            0.140672\n",
       "Alaska Airlines Inc.            0.120817\n",
       "Hawaiian Airlines Inc.          0.079330\n",
       "Name: ArrDel15, dtype: float64"
      ]
     },
     "execution_count": 28,
     "metadata": {},
     "output_type": "execute_result"
    }
   ],
   "source": [
    "\"\"\"Sort airlines by arrival delay rate\"\"\"\n",
    "OnTimeData.groupby(\"Carrier Name\").mean()[\"ArrDel15\"].sort_values(ascending=False)"
   ]
  },
  {
   "cell_type": "code",
   "execution_count": 29,
   "metadata": {
    "collapsed": false
   },
   "outputs": [
    {
     "data": {
      "text/plain": [
       "DestCityName\n",
       "Topeka, KS                  0.473684\n",
       "Wilmington, DE              0.411765\n",
       "Crescent City, CA           0.401198\n",
       "St. Augustine, FL           0.346154\n",
       "Guam, TT                    0.340909\n",
       "Beaumont/Port Arthur, TX    0.335079\n",
       "St. Cloud, MN               0.333333\n",
       "Hyannis, MA                 0.333333\n",
       "Chico, CA                   0.321053\n",
       "Redding, CA                 0.318841\n",
       "Name: ArrDel15, dtype: float64"
      ]
     },
     "execution_count": 29,
     "metadata": {},
     "output_type": "execute_result"
    }
   ],
   "source": [
    "\"\"\"Find arrival cities with lowest and highest arrival delay rates\"\"\"\n",
    "dest_city_rates = OnTimeData.groupby(\"DestCityName\").mean()[\"ArrDel15\"].sort_values(ascending=False)\n",
    "dest_city_rates.head(10)"
   ]
  },
  {
   "cell_type": "code",
   "execution_count": 30,
   "metadata": {
    "collapsed": false
   },
   "outputs": [
    {
     "data": {
      "text/plain": [
       "DestCityName\n",
       "Bemidji, MN             0.071429\n",
       "Yakutat, AK             0.069519\n",
       "Aberdeen, SD            0.067568\n",
       "Pocatello, ID           0.065327\n",
       "Vernal, UT              0.064516\n",
       "West Yellowstone, MT    0.062500\n",
       "Cheyenne, WY            0.062500\n",
       "Lewiston, ID            0.042683\n",
       "Staunton, VA            0.000000\n",
       "King Salmon, AK         0.000000\n",
       "Name: ArrDel15, dtype: float64"
      ]
     },
     "execution_count": 30,
     "metadata": {},
     "output_type": "execute_result"
    }
   ],
   "source": [
    "dest_city_rates.tail(10)"
   ]
  },
  {
   "cell_type": "code",
   "execution_count": 31,
   "metadata": {
    "collapsed": false
   },
   "outputs": [
    {
     "data": {
      "text/plain": [
       "OriginCityName\n",
       "Crescent City, CA          0.424419\n",
       "Martha's Vineyard, MA      0.390244\n",
       "North Bend/Coos Bay, OR    0.359375\n",
       "Dillingham, AK             0.357143\n",
       "Wilmington, DE             0.338710\n",
       "Modesto, CA                0.335366\n",
       "Adak Island, AK            0.333333\n",
       "Staunton, VA               0.333333\n",
       "Mammoth Lakes, CA          0.326087\n",
       "Muskegon, MI               0.298013\n",
       "Name: ArrDel15, dtype: float64"
      ]
     },
     "execution_count": 31,
     "metadata": {},
     "output_type": "execute_result"
    }
   ],
   "source": [
    "\"\"\"Now find departure cities leading to highest and lowest arrival delay rates\"\"\"\n",
    "orig_city_rates = OnTimeData.groupby(\"OriginCityName\").mean()[\"ArrDel15\"].sort_values(ascending=False)\n",
    "orig_city_rates.head(10)"
   ]
  },
  {
   "cell_type": "code",
   "execution_count": 32,
   "metadata": {
    "collapsed": false
   },
   "outputs": [
    {
     "data": {
      "text/plain": [
       "OriginCityName\n",
       "Cedar City, UT          0.070588\n",
       "Jamestown, ND           0.063291\n",
       "Elko, NV                0.050000\n",
       "West Yellowstone, MT    0.050000\n",
       "Lewisburg, WV           0.047619\n",
       "Lewiston, ID            0.040936\n",
       "Butte, MT               0.040462\n",
       "Inyokern, CA            0.012821\n",
       "Moab, UT                0.000000\n",
       "Rockford, IL            0.000000\n",
       "Name: ArrDel15, dtype: float64"
      ]
     },
     "execution_count": 32,
     "metadata": {},
     "output_type": "execute_result"
    }
   ],
   "source": [
    "orig_city_rates.tail(10)"
   ]
  },
  {
   "cell_type": "code",
   "execution_count": 34,
   "metadata": {
    "collapsed": false
   },
   "outputs": [
    {
     "data": {
      "text/plain": [
       "<matplotlib.axes._subplots.AxesSubplot at 0x1f2629b0>"
      ]
     },
     "execution_count": 34,
     "metadata": {},
     "output_type": "execute_result"
    },
    {
     "data": {
      "image/png": "[encoded data removed]",
      "text/plain": [
       "<matplotlib.figure.Figure at 0x320ffcc0>"
      ]
     },
     "metadata": {},
     "output_type": "display_data"
    }
   ],
   "source": [
    "\"\"\"Bar graph of arrival delay rates by scheduled arrival time\"\"\"\n",
    "OnTimeData.groupby(\"ArrTimeBlk\").mean().plot(y='ArrDel15', kind='bar')\n",
    "\n",
    "\"\"\"Obvious pattern: more delays later in the day, tapering off slightly late at night.\"\"\""
   ]
  },
  {
   "cell_type": "code",
   "execution_count": 8,
   "metadata": {
    "collapsed": false
   },
   "outputs": [
    {
     "name": "stderr",
     "output_type": "stream",
     "text": [
      "C:\\Users\\Will\\Anaconda2\\lib\\site-packages\\matplotlib\\__init__.py:872: UserWarning: axes.color_cycle is deprecated and replaced with axes.prop_cycle; please use the latter.\n",
      "  warnings.warn(self.msg_depr % (key, alt_key))\n"
     ]
    }
   ],
   "source": [
    "import seaborn as sns"
   ]
  },
  {
   "cell_type": "code",
   "execution_count": 39,
   "metadata": {
    "collapsed": false
   },
   "outputs": [
    {
     "data": {
      "text/plain": [
       "<matplotlib.figure.Figure at 0x39276c50>"
      ]
     },
     "metadata": {},
     "output_type": "display_data"
    }
   ],
   "source": [
    "\"\"\"Graph distribution of arrival times by airline.\"\"\"\n",
    "airlines = OnTimeData[\"Carrier Name\"].unique()\n",
    "i = 0\n",
    "while i in range(len(airlines)):\n",
    "    a = airlines[i]\n",
    "    airframe = OnTimeData[OnTimeData[\"Carrier Name\"] == a]\n",
    "    #need \"dropna\" to avoid error\n",
    "    fig = sns.distplot(airframe[\"ArrivalDelayGroups\"].dropna(), norm_hist=True, kde=False, \n",
    "                 bins=15, axlabel=\"Arrival delay groups for \"+a).get_figure()\n",
    "    #fig.set_title('Arrival delay groups for %s' % a)\n",
    "    fig.savefig('Delays %s.png' % a)\n",
    "    fig.clf()\n",
    "    i += 1"
   ]
  },
  {
   "cell_type": "code",
   "execution_count": 41,
   "metadata": {
    "collapsed": false
   },
   "outputs": [
    {
     "data": {
      "text/plain": [
       "Carrier Name\n",
       "Alaska Airlines Inc.            -1.419754\n",
       "Delta Air Lines Inc.             0.607397\n",
       "Hawaiian Airlines Inc.           0.626722\n",
       "Endeavor Air Inc.                1.855884\n",
       "US Airways Inc.                  2.104551\n",
       "AirTran Airways Corporation      2.157862\n",
       "Mesa Airlines Inc.               3.697042\n",
       "United Air Lines Inc.            4.686844\n",
       "Virgin America                   5.155826\n",
       "Southwest Airlines Co.           5.185645\n",
       "American Airlines Inc.           5.281326\n",
       "SkyWest Airlines Inc.            5.449992\n",
       "Continental Air Lines Inc.       5.930318\n",
       "JetBlue Airways                  7.076660\n",
       "Envoy Air                        7.231829\n",
       "ExpressJet Airlines Inc. (1)     7.968897\n",
       "ExpressJet Airlines Inc.         8.534772\n",
       "Frontier Airlines Inc.          10.371366\n",
       "Spirit Air Lines                14.534153\n",
       "Name: ArrDelay, dtype: float64"
      ]
     },
     "execution_count": 41,
     "metadata": {},
     "output_type": "execute_result"
    }
   ],
   "source": [
    "\"\"\"Airlines by average delay time\"\"\"\n",
    "OnTimeData.groupby(\"Carrier Name\").mean()[\"ArrDelay\"].sort_values()"
   ]
  },
  {
   "cell_type": "code",
   "execution_count": 43,
   "metadata": {
    "collapsed": false
   },
   "outputs": [
    {
     "data": {
      "text/plain": [
       "Chicago, IL              96839\n",
       "Atlanta, GA              95761\n",
       "Dallas/Fort Worth, TX    66556\n",
       "Houston, TX              56714\n",
       "Denver, CO               56314\n",
       "Los Angeles, CA          54317\n",
       "New York, NY             50868\n",
       "Phoenix, AZ              42896\n",
       "San Francisco, CA        41218\n",
       "Las Vegas, NV            35619\n",
       "Name: DestCityName, dtype: int64"
      ]
     },
     "execution_count": 43,
     "metadata": {},
     "output_type": "execute_result"
    }
   ],
   "source": [
    "\"\"\"Number of flights by destination city\"\"\"\n",
    "city_counts = OnTimeData.DestCityName.value_counts()\n",
    "city_counts.head(10)"
   ]
  },
  {
   "cell_type": "code",
   "execution_count": 44,
   "metadata": {
    "collapsed": false
   },
   "outputs": [
    {
     "data": {
      "text/plain": [
       "<matplotlib.axes._subplots.AxesSubplot at 0x1b7865c0>"
      ]
     },
     "execution_count": 44,
     "metadata": {},
     "output_type": "execute_result"
    },
    {
     "data": {
      "image/png": "[encoded data removed]",
      "text/plain": [
       "<matplotlib.figure.Figure at 0x8b335c0>"
      ]
     },
     "metadata": {},
     "output_type": "display_data"
    }
   ],
   "source": [
    "city_counts.hist(range=(0, 100000), bins=50)"
   ]
  },
  {
   "cell_type": "code",
   "execution_count": 45,
   "metadata": {
    "collapsed": false
   },
   "outputs": [
    {
     "data": {
      "text/html": [
       "<div>\n",
       "<table border=\"1\" class=\"dataframe\">\n",
       "  <thead>\n",
       "    <tr style=\"text-align: right;\">\n",
       "      <th></th>\n",
       "      <th>Year</th>\n",
       "      <th>Quarter</th>\n",
       "      <th>Month</th>\n",
       "      <th>DayofMonth</th>\n",
       "      <th>DayOfWeek</th>\n",
       "      <th>FlightDate</th>\n",
       "      <th>UniqueCarrier</th>\n",
       "      <th>AirlineID</th>\n",
       "      <th>Carrier</th>\n",
       "      <th>TailNum</th>\n",
       "      <th>...</th>\n",
       "      <th>CarrierDelay</th>\n",
       "      <th>WeatherDelay</th>\n",
       "      <th>NASDelay</th>\n",
       "      <th>SecurityDelay</th>\n",
       "      <th>LateAircraftDelay</th>\n",
       "      <th>FirstDepTime</th>\n",
       "      <th>TotalAddGTime</th>\n",
       "      <th>LongestAddGTime</th>\n",
       "      <th>Carrier Name</th>\n",
       "      <th>ArrFlightsPerCity</th>\n",
       "    </tr>\n",
       "  </thead>\n",
       "  <tbody>\n",
       "    <tr>\n",
       "      <th>0</th>\n",
       "      <td>2011</td>\n",
       "      <td>2</td>\n",
       "      <td>6</td>\n",
       "      <td>26</td>\n",
       "      <td>7</td>\n",
       "      <td>2011-06-26</td>\n",
       "      <td>MQ</td>\n",
       "      <td>20398</td>\n",
       "      <td>MQ</td>\n",
       "      <td>N528MQ</td>\n",
       "      <td>...</td>\n",
       "      <td>NaN</td>\n",
       "      <td>NaN</td>\n",
       "      <td>NaN</td>\n",
       "      <td>NaN</td>\n",
       "      <td>NaN</td>\n",
       "      <td>NaN</td>\n",
       "      <td>NaN</td>\n",
       "      <td>NaN</td>\n",
       "      <td>Envoy Air</td>\n",
       "      <td>56714</td>\n",
       "    </tr>\n",
       "    <tr>\n",
       "      <th>1</th>\n",
       "      <td>2011</td>\n",
       "      <td>2</td>\n",
       "      <td>6</td>\n",
       "      <td>14</td>\n",
       "      <td>2</td>\n",
       "      <td>2011-06-14</td>\n",
       "      <td>MQ</td>\n",
       "      <td>20398</td>\n",
       "      <td>MQ</td>\n",
       "      <td>N851MQ</td>\n",
       "      <td>...</td>\n",
       "      <td>NaN</td>\n",
       "      <td>NaN</td>\n",
       "      <td>NaN</td>\n",
       "      <td>NaN</td>\n",
       "      <td>NaN</td>\n",
       "      <td>NaN</td>\n",
       "      <td>NaN</td>\n",
       "      <td>NaN</td>\n",
       "      <td>Envoy Air</td>\n",
       "      <td>66556</td>\n",
       "    </tr>\n",
       "    <tr>\n",
       "      <th>2</th>\n",
       "      <td>2011</td>\n",
       "      <td>2</td>\n",
       "      <td>6</td>\n",
       "      <td>21</td>\n",
       "      <td>2</td>\n",
       "      <td>2011-06-21</td>\n",
       "      <td>MQ</td>\n",
       "      <td>20398</td>\n",
       "      <td>MQ</td>\n",
       "      <td>N737MQ</td>\n",
       "      <td>...</td>\n",
       "      <td>NaN</td>\n",
       "      <td>NaN</td>\n",
       "      <td>NaN</td>\n",
       "      <td>NaN</td>\n",
       "      <td>NaN</td>\n",
       "      <td>NaN</td>\n",
       "      <td>NaN</td>\n",
       "      <td>NaN</td>\n",
       "      <td>Envoy Air</td>\n",
       "      <td>50868</td>\n",
       "    </tr>\n",
       "    <tr>\n",
       "      <th>3</th>\n",
       "      <td>2011</td>\n",
       "      <td>2</td>\n",
       "      <td>6</td>\n",
       "      <td>12</td>\n",
       "      <td>7</td>\n",
       "      <td>2011-06-12</td>\n",
       "      <td>MQ</td>\n",
       "      <td>20398</td>\n",
       "      <td>MQ</td>\n",
       "      <td>N607MQ</td>\n",
       "      <td>...</td>\n",
       "      <td>20</td>\n",
       "      <td>0</td>\n",
       "      <td>10</td>\n",
       "      <td>0</td>\n",
       "      <td>0</td>\n",
       "      <td>NaN</td>\n",
       "      <td>NaN</td>\n",
       "      <td>NaN</td>\n",
       "      <td>Envoy Air</td>\n",
       "      <td>13792</td>\n",
       "    </tr>\n",
       "    <tr>\n",
       "      <th>4</th>\n",
       "      <td>2011</td>\n",
       "      <td>2</td>\n",
       "      <td>6</td>\n",
       "      <td>19</td>\n",
       "      <td>7</td>\n",
       "      <td>2011-06-19</td>\n",
       "      <td>MQ</td>\n",
       "      <td>20398</td>\n",
       "      <td>MQ</td>\n",
       "      <td>N720MQ</td>\n",
       "      <td>...</td>\n",
       "      <td>NaN</td>\n",
       "      <td>NaN</td>\n",
       "      <td>NaN</td>\n",
       "      <td>NaN</td>\n",
       "      <td>NaN</td>\n",
       "      <td>NaN</td>\n",
       "      <td>NaN</td>\n",
       "      <td>NaN</td>\n",
       "      <td>Envoy Air</td>\n",
       "      <td>845</td>\n",
       "    </tr>\n",
       "  </tbody>\n",
       "</table>\n",
       "<p>5 rows × 65 columns</p>\n",
       "</div>"
      ],
      "text/plain": [
       "   Year  Quarter  Month  DayofMonth  DayOfWeek  FlightDate UniqueCarrier  \\\n",
       "0  2011        2      6          26          7  2011-06-26            MQ   \n",
       "1  2011        2      6          14          2  2011-06-14            MQ   \n",
       "2  2011        2      6          21          2  2011-06-21            MQ   \n",
       "3  2011        2      6          12          7  2011-06-12            MQ   \n",
       "4  2011        2      6          19          7  2011-06-19            MQ   \n",
       "\n",
       "   AirlineID Carrier TailNum        ...          CarrierDelay  WeatherDelay  \\\n",
       "0      20398      MQ  N528MQ        ...                   NaN           NaN   \n",
       "1      20398      MQ  N851MQ        ...                   NaN           NaN   \n",
       "2      20398      MQ  N737MQ        ...                   NaN           NaN   \n",
       "3      20398      MQ  N607MQ        ...                    20             0   \n",
       "4      20398      MQ  N720MQ        ...                   NaN           NaN   \n",
       "\n",
       "   NASDelay  SecurityDelay LateAircraftDelay FirstDepTime TotalAddGTime  \\\n",
       "0       NaN            NaN               NaN          NaN           NaN   \n",
       "1       NaN            NaN               NaN          NaN           NaN   \n",
       "2       NaN            NaN               NaN          NaN           NaN   \n",
       "3        10              0                 0          NaN           NaN   \n",
       "4       NaN            NaN               NaN          NaN           NaN   \n",
       "\n",
       "   LongestAddGTime Carrier Name  ArrFlightsPerCity  \n",
       "0              NaN    Envoy Air              56714  \n",
       "1              NaN    Envoy Air              66556  \n",
       "2              NaN    Envoy Air              50868  \n",
       "3              NaN    Envoy Air              13792  \n",
       "4              NaN    Envoy Air                845  \n",
       "\n",
       "[5 rows x 65 columns]"
      ]
     },
     "execution_count": 45,
     "metadata": {},
     "output_type": "execute_result"
    }
   ],
   "source": [
    "\"\"\"Find cities with highest delay rates among those with more than 2000 arriving flights\"\"\"\n",
    "\n",
    "#New column for arriving flights by city\n",
    "OnTimeData[\"ArrFlightsPerCity\"] = OnTimeData.groupby('DestCityName')[\"DestCityName\"].transform('count')\n",
    "OnTimeData.head()"
   ]
  },
  {
   "cell_type": "code",
   "execution_count": 46,
   "metadata": {
    "collapsed": false
   },
   "outputs": [
    {
     "data": {
      "text/plain": [
       "DestCityName\n",
       "Knoxville, TN           0.261884\n",
       "San Francisco, CA       0.259590\n",
       "Newark, NJ              0.256223\n",
       "Colorado Springs, CO    0.232099\n",
       "Tulsa, OK               0.228763\n",
       "Little Rock, AR         0.228751\n",
       "Baton Rouge, LA         0.228079\n",
       "Fayetteville, AR        0.227697\n",
       "New York, NY            0.226874\n",
       "Oklahoma City, OK       0.226355\n",
       "Name: ArrDel15, dtype: float64"
      ]
     },
     "execution_count": 46,
     "metadata": {},
     "output_type": "execute_result"
    }
   ],
   "source": [
    "lg_dest_city_rates = OnTimeData[OnTimeData[\"ArrFlightsPerCity\"] > 2000].groupby(\"DestCityName\") \\\n",
    "    .mean()[\"ArrDel15\"].sort_values(ascending=False)\n",
    "lg_dest_city_rates.head(10)"
   ]
  },
  {
   "cell_type": "code",
   "execution_count": 47,
   "metadata": {
    "collapsed": false
   },
   "outputs": [
    {
     "data": {
      "text/plain": [
       "DestCityName\n",
       "Burbank, CA           0.151682\n",
       "Minneapolis, MN       0.149928\n",
       "Phoenix, AZ           0.147668\n",
       "Santa Ana, CA         0.146059\n",
       "Honolulu, HI          0.138209\n",
       "Long Beach, CA        0.132636\n",
       "Salt Lake City, UT    0.123120\n",
       "Kahului, HI           0.112535\n",
       "Kona, HI              0.111616\n",
       "Lihue, HI             0.100417\n",
       "Name: ArrDel15, dtype: float64"
      ]
     },
     "execution_count": 47,
     "metadata": {},
     "output_type": "execute_result"
    }
   ],
   "source": [
    "lg_dest_city_rates.tail(10)"
   ]
  },
  {
   "cell_type": "code",
   "execution_count": 48,
   "metadata": {
    "collapsed": false
   },
   "outputs": [
    {
     "data": {
      "text/html": [
       "<div>\n",
       "<table border=\"1\" class=\"dataframe\">\n",
       "  <thead>\n",
       "    <tr style=\"text-align: right;\">\n",
       "      <th></th>\n",
       "      <th>Code</th>\n",
       "      <th>Description</th>\n",
       "    </tr>\n",
       "  </thead>\n",
       "  <tbody>\n",
       "    <tr>\n",
       "      <th>0</th>\n",
       "      <td>30001</td>\n",
       "      <td>Afognak Lake, AK</td>\n",
       "    </tr>\n",
       "    <tr>\n",
       "      <th>1</th>\n",
       "      <td>30003</td>\n",
       "      <td>Granite Mountain, AK</td>\n",
       "    </tr>\n",
       "    <tr>\n",
       "      <th>2</th>\n",
       "      <td>30004</td>\n",
       "      <td>Lik, AK</td>\n",
       "    </tr>\n",
       "    <tr>\n",
       "      <th>3</th>\n",
       "      <td>30005</td>\n",
       "      <td>Little Squaw, AK</td>\n",
       "    </tr>\n",
       "    <tr>\n",
       "      <th>4</th>\n",
       "      <td>30006</td>\n",
       "      <td>Kizhuyak, AK</td>\n",
       "    </tr>\n",
       "  </tbody>\n",
       "</table>\n",
       "</div>"
      ],
      "text/plain": [
       "    Code           Description\n",
       "0  30001      Afognak Lake, AK\n",
       "1  30003  Granite Mountain, AK\n",
       "2  30004               Lik, AK\n",
       "3  30005      Little Squaw, AK\n",
       "4  30006          Kizhuyak, AK"
      ]
     },
     "execution_count": 48,
     "metadata": {},
     "output_type": "execute_result"
    }
   ],
   "source": [
    "\"\"\"Merge on data for markets instead of cities.\"\"\"\n",
    "MarketID = pd.read_csv(\"L_CITY_MARKET_ID.csv\")\n",
    "MarketID.head()"
   ]
  },
  {
   "cell_type": "code",
   "execution_count": 49,
   "metadata": {
    "collapsed": false
   },
   "outputs": [
    {
     "data": {
      "text/html": [
       "<div>\n",
       "<table border=\"1\" class=\"dataframe\">\n",
       "  <thead>\n",
       "    <tr style=\"text-align: right;\">\n",
       "      <th></th>\n",
       "      <th>DestCityMarketID</th>\n",
       "      <th>DestMarket</th>\n",
       "    </tr>\n",
       "  </thead>\n",
       "  <tbody>\n",
       "    <tr>\n",
       "      <th>0</th>\n",
       "      <td>30001</td>\n",
       "      <td>Afognak Lake, AK</td>\n",
       "    </tr>\n",
       "    <tr>\n",
       "      <th>1</th>\n",
       "      <td>30003</td>\n",
       "      <td>Granite Mountain, AK</td>\n",
       "    </tr>\n",
       "    <tr>\n",
       "      <th>2</th>\n",
       "      <td>30004</td>\n",
       "      <td>Lik, AK</td>\n",
       "    </tr>\n",
       "    <tr>\n",
       "      <th>3</th>\n",
       "      <td>30005</td>\n",
       "      <td>Little Squaw, AK</td>\n",
       "    </tr>\n",
       "    <tr>\n",
       "      <th>4</th>\n",
       "      <td>30006</td>\n",
       "      <td>Kizhuyak, AK</td>\n",
       "    </tr>\n",
       "  </tbody>\n",
       "</table>\n",
       "</div>"
      ],
      "text/plain": [
       "   DestCityMarketID            DestMarket\n",
       "0             30001      Afognak Lake, AK\n",
       "1             30003  Granite Mountain, AK\n",
       "2             30004               Lik, AK\n",
       "3             30005      Little Squaw, AK\n",
       "4             30006          Kizhuyak, AK"
      ]
     },
     "execution_count": 49,
     "metadata": {},
     "output_type": "execute_result"
    }
   ],
   "source": [
    "#First for destination cities\n",
    "MarketID.columns = ['DestCityMarketID', 'DestMarket']\n",
    "MarketID.head()"
   ]
  },
  {
   "cell_type": "code",
   "execution_count": 50,
   "metadata": {
    "collapsed": true
   },
   "outputs": [],
   "source": [
    "OnTimeData = OnTimeData.merge(MarketID, on='DestCityMarketID')"
   ]
  },
  {
   "cell_type": "code",
   "execution_count": 52,
   "metadata": {
    "collapsed": false
   },
   "outputs": [],
   "source": [
    "#Now for origin cities\n",
    "MarketID.columns = ['OriginCityMarketID', 'OrigMarket']\n",
    "OnTimeData = OnTimeData.merge(MarketID, on='OriginCityMarketID')"
   ]
  },
  {
   "cell_type": "code",
   "execution_count": 54,
   "metadata": {
    "collapsed": true
   },
   "outputs": [],
   "source": [
    "#Save file with carrier name, market name data included\n",
    "OnTimeData.to_csv(path_or_buf=\"Sample_2011_2016_carr_mark.csv\")"
   ]
  },
  {
   "cell_type": "code",
   "execution_count": 56,
   "metadata": {
    "collapsed": false
   },
   "outputs": [
    {
     "data": {
      "text/plain": [
       "Chicago, IL                              96839\n",
       "Atlanta, GA (Metropolitan Area)          95761\n",
       "New York City, NY (Metropolitan Area)    83045\n",
       "Dallas/Fort Worth, TX                    79514\n",
       "Los Angeles, CA (Metropolitan Area)      78456\n",
       "San Francisco, CA (Metropolitan Area)    62731\n",
       "Washington, DC (Metropolitan Area)       58220\n",
       "Houston, TX                              56714\n",
       "Denver, CO                               56314\n",
       "Phoenix, AZ                              42896\n",
       "Name: DestMarket, dtype: int64"
      ]
     },
     "execution_count": 56,
     "metadata": {},
     "output_type": "execute_result"
    }
   ],
   "source": [
    "\"\"\"Now find markets with highest delay rates among those with more than 2000 arriving flights\"\"\"\n",
    "market_counts = OnTimeData[\"DestMarket\"].value_counts()\n",
    "market_counts.head(10)"
   ]
  },
  {
   "cell_type": "code",
   "execution_count": 57,
   "metadata": {
    "collapsed": false
   },
   "outputs": [
    {
     "data": {
      "text/plain": [
       "DestMarket\n",
       "Aspen, CO                                0.288650\n",
       "Knoxville, TN                            0.261884\n",
       "Sioux Falls, SD                          0.253036\n",
       "Burlington, VT                           0.247822\n",
       "Cedar Rapids/Iowa City, IA               0.241986\n",
       "New York City, NY (Metropolitan Area)    0.237473\n",
       "Amarillo, TX                             0.235220\n",
       "Columbia, SC                             0.233480\n",
       "Colorado Springs, CO                     0.232099\n",
       "San Francisco, CA (Metropolitan Area)    0.230286\n",
       "Name: ArrDel15, dtype: float64"
      ]
     },
     "execution_count": 57,
     "metadata": {},
     "output_type": "execute_result"
    }
   ],
   "source": [
    "OnTimeData['ArrFlightsPerMarket'] = OnTimeData.groupby('DestMarket')['DestMarket'].transform('count')\n",
    "lg_dest_market_rates = OnTimeData[OnTimeData['ArrFlightsPerMarket'] > 1000].groupby('DestMarket') \\\n",
    "    .mean()['ArrDel15'].sort_values(ascending=False)\n",
    "lg_dest_market_rates.head(10)"
   ]
  },
  {
   "cell_type": "code",
   "execution_count": 58,
   "metadata": {
    "collapsed": false
   },
   "outputs": [
    {
     "data": {
      "text/plain": [
       "DestMarket\n",
       "Minneapolis/St. Paul, MN    0.149928\n",
       "Phoenix, AZ                 0.147668\n",
       "Grand Junction, CO          0.142157\n",
       "Honolulu, HI                0.138209\n",
       "Juneau, AK                  0.130866\n",
       "Salt Lake City, UT          0.123120\n",
       "Kahului, HI                 0.112535\n",
       "Kona, HI                    0.111616\n",
       "Lihue, HI                   0.100417\n",
       "Hilo, HI                    0.078321\n",
       "Name: ArrDel15, dtype: float64"
      ]
     },
     "execution_count": 58,
     "metadata": {},
     "output_type": "execute_result"
    }
   ],
   "source": [
    "lg_dest_market_rates.tail(10)"
   ]
  },
  {
   "cell_type": "code",
   "execution_count": 59,
   "metadata": {
    "collapsed": false
   },
   "outputs": [
    {
     "data": {
      "text/plain": [
       "<matplotlib.axes._subplots.AxesSubplot at 0x24b2e2e8>"
      ]
     },
     "execution_count": 59,
     "metadata": {},
     "output_type": "execute_result"
    },
    {
     "data": {
      "image/png": "[encoded data removed]",
      "text/plain": [
       "<matplotlib.figure.Figure at 0x24b2eb00>"
      ]
     },
     "metadata": {},
     "output_type": "display_data"
    }
   ],
   "source": [
    "#Histograms of delay rates by arriving city and metro area\n",
    "sns.distplot(lg_dest_city_rates)"
   ]
  },
  {
   "cell_type": "code",
   "execution_count": 60,
   "metadata": {
    "collapsed": false
   },
   "outputs": [
    {
     "data": {
      "text/plain": [
       "<matplotlib.axes._subplots.AxesSubplot at 0x93ce7f0>"
      ]
     },
     "execution_count": 60,
     "metadata": {},
     "output_type": "execute_result"
    },
    {
     "data": {
      "image/png": "[encoded data removed]",
      "text/plain": [
       "<matplotlib.figure.Figure at 0x394f9080>"
      ]
     },
     "metadata": {},
     "output_type": "display_data"
    }
   ],
   "source": [
    "sns.distplot(lg_dest_market_rates)"
   ]
  },
  {
   "cell_type": "code",
   "execution_count": 61,
   "metadata": {
    "collapsed": true
   },
   "outputs": [],
   "source": [
    "#Now look at delay rates by departure city\n",
    "OnTimeData['DepFlightsPerCity'] = OnTimeData.groupby('OriginCityName')['OriginCityName'].transform('count')\n",
    "lg_orig_city_rates = OnTimeData[OnTimeData['DepFlightsPerCity'] > 1000].groupby('OriginCityName') \\\n",
    "    .mean()['ArrDel15'].sort_values(ascending=False)"
   ]
  },
  {
   "cell_type": "code",
   "execution_count": 62,
   "metadata": {
    "collapsed": false
   },
   "outputs": [
    {
     "data": {
      "text/plain": [
       "OriginCityName\n",
       "Chicago, IL              0.246459\n",
       "Newark, NJ               0.243358\n",
       "Aspen, CO                0.239173\n",
       "San Francisco, CA        0.226197\n",
       "Dallas/Fort Worth, TX    0.225685\n",
       "San Luis Obispo, CA      0.224371\n",
       "White Plains, NY         0.221996\n",
       "Springfield, MO          0.221795\n",
       "Denver, CO               0.220980\n",
       "Miami, FL                0.220578\n",
       "Name: ArrDel15, dtype: float64"
      ]
     },
     "execution_count": 62,
     "metadata": {},
     "output_type": "execute_result"
    }
   ],
   "source": [
    "lg_orig_city_rates.head(10)"
   ]
  },
  {
   "cell_type": "code",
   "execution_count": 63,
   "metadata": {
    "collapsed": false
   },
   "outputs": [
    {
     "data": {
      "text/plain": [
       "OriginCityName\n",
       "Burbank, CA           0.129043\n",
       "Portland, OR          0.128030\n",
       "Salt Lake City, UT    0.123080\n",
       "Anchorage, AK         0.112279\n",
       "Honolulu, HI          0.106650\n",
       "Spokane, WA           0.104562\n",
       "Kahului, HI           0.099588\n",
       "Lihue, HI             0.094640\n",
       "Kona, HI              0.093424\n",
       "Hilo, HI              0.073877\n",
       "Name: ArrDel15, dtype: float64"
      ]
     },
     "execution_count": 63,
     "metadata": {},
     "output_type": "execute_result"
    }
   ],
   "source": [
    "lg_orig_city_rates.tail(10)"
   ]
  },
  {
   "cell_type": "code",
   "execution_count": 64,
   "metadata": {
    "collapsed": true
   },
   "outputs": [],
   "source": [
    "OnTimeData['DepFlightsPerMarket'] = OnTimeData.groupby('OrigMarket')['OrigMarket'].transform('count')\n",
    "lg_orig_market_rates = OnTimeData[OnTimeData.DepFlightsPerMarket > 1000].groupby('OrigMarket'). \\\n",
    "    mean()['ArrDel15'].sort_values(ascending=False)"
   ]
  },
  {
   "cell_type": "code",
   "execution_count": 65,
   "metadata": {
    "collapsed": false
   },
   "outputs": [
    {
     "data": {
      "text/plain": [
       "OrigMarket\n",
       "Chicago, IL                              0.246459\n",
       "Aspen, CO                                0.239173\n",
       "New York City, NY (Metropolitan Area)    0.225957\n",
       "Paso Robles/San Luis Obispo, CA          0.224371\n",
       "Springfield, MO                          0.221795\n",
       "Dallas/Fort Worth, TX                    0.221774\n",
       "Denver, CO                               0.220980\n",
       "Burlington, VT                           0.217641\n",
       "Quad Cities, IL (Metropolitan Area)      0.216867\n",
       "Fayetteville, AR                         0.216236\n",
       "Name: ArrDel15, dtype: float64"
      ]
     },
     "execution_count": 65,
     "metadata": {},
     "output_type": "execute_result"
    }
   ],
   "source": [
    "lg_orig_market_rates.head(10)"
   ]
  },
  {
   "cell_type": "code",
   "execution_count": 66,
   "metadata": {
    "collapsed": false
   },
   "outputs": [
    {
     "data": {
      "text/plain": [
       "OrigMarket\n",
       "Grand Junction, CO    0.140845\n",
       "Portland, OR          0.128030\n",
       "Salt Lake City, UT    0.123080\n",
       "Anchorage, AK         0.112279\n",
       "Honolulu, HI          0.106650\n",
       "Spokane, WA           0.104562\n",
       "Kahului, HI           0.099588\n",
       "Lihue, HI             0.094640\n",
       "Kona, HI              0.093424\n",
       "Hilo, HI              0.073877\n",
       "Name: ArrDel15, dtype: float64"
      ]
     },
     "execution_count": 66,
     "metadata": {},
     "output_type": "execute_result"
    }
   ],
   "source": [
    "lg_orig_market_rates.tail(10)"
   ]
  },
  {
   "cell_type": "code",
   "execution_count": 67,
   "metadata": {
    "collapsed": false
   },
   "outputs": [
    {
     "data": {
      "text/plain": [
       "<matplotlib.axes._subplots.AxesSubplot at 0x201f90b8>"
      ]
     },
     "execution_count": 67,
     "metadata": {},
     "output_type": "execute_result"
    },
    {
     "data": {
      "image/png": "[encoded data removed]",
      "text/plain": [
       "<matplotlib.figure.Figure at 0x27ae4438>"
      ]
     },
     "metadata": {},
     "output_type": "display_data"
    }
   ],
   "source": [
    "#Histograms of arrival delay rates by departing city and metro area\n",
    "sns.distplot(lg_orig_city_rates)"
   ]
  },
  {
   "cell_type": "code",
   "execution_count": 68,
   "metadata": {
    "collapsed": false
   },
   "outputs": [
    {
     "data": {
      "text/plain": [
       "<matplotlib.axes._subplots.AxesSubplot at 0x21f2c9e8>"
      ]
     },
     "execution_count": 68,
     "metadata": {},
     "output_type": "execute_result"
    },
    {
     "data": {
      "image/png": "[encoded data removed]",
      "text/plain": [
       "<matplotlib.figure.Figure at 0x3928a0f0>"
      ]
     },
     "metadata": {},
     "output_type": "display_data"
    }
   ],
   "source": [
    "sns.distplot(lg_orig_market_rates)"
   ]
  },
  {
   "cell_type": "code",
   "execution_count": 69,
   "metadata": {
    "collapsed": false
   },
   "outputs": [
    {
     "data": {
      "text/plain": [
       "<matplotlib.axes._subplots.AxesSubplot at 0x21ef4a20>"
      ]
     },
     "execution_count": 69,
     "metadata": {},
     "output_type": "execute_result"
    },
    {
     "data": {
      "image/png": "[encoded data removed]",
      "text/plain": [
       "<matplotlib.figure.Figure at 0x8b48f28>"
      ]
     },
     "metadata": {},
     "output_type": "display_data"
    }
   ],
   "source": [
    "\"\"\"Are these plots smoother when we don't restrict to cities/markets with 2000 arrivals/departures?\"\"\"\n",
    "sns.distplot(dest_city_rates)"
   ]
  },
  {
   "cell_type": "code",
   "execution_count": 70,
   "metadata": {
    "collapsed": false
   },
   "outputs": [
    {
     "data": {
      "text/plain": [
       "<matplotlib.axes._subplots.AxesSubplot at 0x3e952dd8>"
      ]
     },
     "execution_count": 70,
     "metadata": {},
     "output_type": "execute_result"
    },
    {
     "data": {
      "image/png": "[encoded data removed]",
      "text/plain": [
       "<matplotlib.figure.Figure at 0x39556630>"
      ]
     },
     "metadata": {},
     "output_type": "display_data"
    }
   ],
   "source": [
    "sns.distplot(orig_city_rates)"
   ]
  },
  {
   "cell_type": "code",
   "execution_count": 72,
   "metadata": {
    "collapsed": false
   },
   "outputs": [
    {
     "data": {
      "text/plain": [
       "<matplotlib.axes._subplots.AxesSubplot at 0x21efd630>"
      ]
     },
     "execution_count": 72,
     "metadata": {},
     "output_type": "execute_result"
    },
    {
     "data": {
      "image/png": "[encoded data removed]",
      "text/plain": [
       "<matplotlib.figure.Figure at 0x24a69c50>"
      ]
     },
     "metadata": {},
     "output_type": "display_data"
    }
   ],
   "source": [
    "\"\"\"Arrival delay rates by season, approximated by quarter\"\"\"\n",
    "OnTimeData.groupby(\"Quarter\").mean().plot(y='ArrDel15', kind='bar')"
   ]
  },
  {
   "cell_type": "code",
   "execution_count": 73,
   "metadata": {
    "collapsed": false
   },
   "outputs": [
    {
     "data": {
      "text/plain": [
       "<matplotlib.axes._subplots.AxesSubplot at 0xe61e748>"
      ]
     },
     "execution_count": 73,
     "metadata": {},
     "output_type": "execute_result"
    },
    {
     "data": {
      "image/png": "[encoded data removed]",
      "text/plain": [
       "<matplotlib.figure.Figure at 0x20b29390>"
      ]
     },
     "metadata": {},
     "output_type": "display_data"
    }
   ],
   "source": [
    "\"Arrival delay rates by month\"\n",
    "OnTimeData.groupby(\"Month\").mean().plot(y='ArrDel15', kind='bar')"
   ]
  },
  {
   "cell_type": "code",
   "execution_count": 74,
   "metadata": {
    "collapsed": false
   },
   "outputs": [
    {
     "data": {
      "text/html": [
       "<div>\n",
       "<table border=\"1\" class=\"dataframe\">\n",
       "  <thead>\n",
       "    <tr style=\"text-align: right;\">\n",
       "      <th></th>\n",
       "      <th>Year</th>\n",
       "      <th>Quarter</th>\n",
       "      <th>Month</th>\n",
       "      <th>DayofMonth</th>\n",
       "      <th>DayOfWeek</th>\n",
       "      <th>FlightDate</th>\n",
       "      <th>UniqueCarrier</th>\n",
       "      <th>AirlineID</th>\n",
       "      <th>Carrier</th>\n",
       "      <th>TailNum</th>\n",
       "      <th>...</th>\n",
       "      <th>FirstDepTime</th>\n",
       "      <th>TotalAddGTime</th>\n",
       "      <th>LongestAddGTime</th>\n",
       "      <th>Carrier Name</th>\n",
       "      <th>ArrFlightsPerCity</th>\n",
       "      <th>DestMarket</th>\n",
       "      <th>OrigMarket</th>\n",
       "      <th>ArrFlightsPerMarket</th>\n",
       "      <th>DepFlightsPerCity</th>\n",
       "      <th>DepFlightsPerMarket</th>\n",
       "    </tr>\n",
       "  </thead>\n",
       "  <tbody>\n",
       "    <tr>\n",
       "      <th>0</th>\n",
       "      <td>2011</td>\n",
       "      <td>2</td>\n",
       "      <td>6</td>\n",
       "      <td>26</td>\n",
       "      <td>7</td>\n",
       "      <td>2011-06-26</td>\n",
       "      <td>MQ</td>\n",
       "      <td>20398</td>\n",
       "      <td>MQ</td>\n",
       "      <td>N528MQ</td>\n",
       "      <td>...</td>\n",
       "      <td>NaN</td>\n",
       "      <td>NaN</td>\n",
       "      <td>NaN</td>\n",
       "      <td>Envoy Air</td>\n",
       "      <td>56714</td>\n",
       "      <td>Houston, TX</td>\n",
       "      <td>Chicago, IL</td>\n",
       "      <td>56714</td>\n",
       "      <td>96909</td>\n",
       "      <td>96909</td>\n",
       "    </tr>\n",
       "    <tr>\n",
       "      <th>1</th>\n",
       "      <td>2011</td>\n",
       "      <td>2</td>\n",
       "      <td>6</td>\n",
       "      <td>16</td>\n",
       "      <td>4</td>\n",
       "      <td>2011-06-16</td>\n",
       "      <td>MQ</td>\n",
       "      <td>20398</td>\n",
       "      <td>MQ</td>\n",
       "      <td>N509MQ</td>\n",
       "      <td>...</td>\n",
       "      <td>NaN</td>\n",
       "      <td>NaN</td>\n",
       "      <td>NaN</td>\n",
       "      <td>Envoy Air</td>\n",
       "      <td>56714</td>\n",
       "      <td>Houston, TX</td>\n",
       "      <td>Chicago, IL</td>\n",
       "      <td>56714</td>\n",
       "      <td>96909</td>\n",
       "      <td>96909</td>\n",
       "    </tr>\n",
       "    <tr>\n",
       "      <th>2</th>\n",
       "      <td>2011</td>\n",
       "      <td>2</td>\n",
       "      <td>6</td>\n",
       "      <td>30</td>\n",
       "      <td>4</td>\n",
       "      <td>2011-06-30</td>\n",
       "      <td>MQ</td>\n",
       "      <td>20398</td>\n",
       "      <td>MQ</td>\n",
       "      <td>N505MQ</td>\n",
       "      <td>...</td>\n",
       "      <td>NaN</td>\n",
       "      <td>NaN</td>\n",
       "      <td>NaN</td>\n",
       "      <td>Envoy Air</td>\n",
       "      <td>56714</td>\n",
       "      <td>Houston, TX</td>\n",
       "      <td>Chicago, IL</td>\n",
       "      <td>56714</td>\n",
       "      <td>96909</td>\n",
       "      <td>96909</td>\n",
       "    </tr>\n",
       "    <tr>\n",
       "      <th>3</th>\n",
       "      <td>2011</td>\n",
       "      <td>2</td>\n",
       "      <td>6</td>\n",
       "      <td>30</td>\n",
       "      <td>4</td>\n",
       "      <td>2011-06-30</td>\n",
       "      <td>MQ</td>\n",
       "      <td>20398</td>\n",
       "      <td>MQ</td>\n",
       "      <td>N523MQ</td>\n",
       "      <td>...</td>\n",
       "      <td>NaN</td>\n",
       "      <td>NaN</td>\n",
       "      <td>NaN</td>\n",
       "      <td>Envoy Air</td>\n",
       "      <td>56714</td>\n",
       "      <td>Houston, TX</td>\n",
       "      <td>Chicago, IL</td>\n",
       "      <td>56714</td>\n",
       "      <td>96909</td>\n",
       "      <td>96909</td>\n",
       "    </tr>\n",
       "    <tr>\n",
       "      <th>4</th>\n",
       "      <td>2011</td>\n",
       "      <td>2</td>\n",
       "      <td>6</td>\n",
       "      <td>7</td>\n",
       "      <td>2</td>\n",
       "      <td>2011-06-07</td>\n",
       "      <td>MQ</td>\n",
       "      <td>20398</td>\n",
       "      <td>MQ</td>\n",
       "      <td>N510MQ</td>\n",
       "      <td>...</td>\n",
       "      <td>NaN</td>\n",
       "      <td>NaN</td>\n",
       "      <td>NaN</td>\n",
       "      <td>Envoy Air</td>\n",
       "      <td>56714</td>\n",
       "      <td>Houston, TX</td>\n",
       "      <td>Chicago, IL</td>\n",
       "      <td>56714</td>\n",
       "      <td>96909</td>\n",
       "      <td>96909</td>\n",
       "    </tr>\n",
       "  </tbody>\n",
       "</table>\n",
       "<p>5 rows × 70 columns</p>\n",
       "</div>"
      ],
      "text/plain": [
       "   Year  Quarter  Month  DayofMonth  DayOfWeek  FlightDate UniqueCarrier  \\\n",
       "0  2011        2      6          26          7  2011-06-26            MQ   \n",
       "1  2011        2      6          16          4  2011-06-16            MQ   \n",
       "2  2011        2      6          30          4  2011-06-30            MQ   \n",
       "3  2011        2      6          30          4  2011-06-30            MQ   \n",
       "4  2011        2      6           7          2  2011-06-07            MQ   \n",
       "\n",
       "   AirlineID Carrier TailNum         ...           FirstDepTime  \\\n",
       "0      20398      MQ  N528MQ         ...                    NaN   \n",
       "1      20398      MQ  N509MQ         ...                    NaN   \n",
       "2      20398      MQ  N505MQ         ...                    NaN   \n",
       "3      20398      MQ  N523MQ         ...                    NaN   \n",
       "4      20398      MQ  N510MQ         ...                    NaN   \n",
       "\n",
       "   TotalAddGTime  LongestAddGTime  Carrier Name ArrFlightsPerCity  \\\n",
       "0            NaN              NaN     Envoy Air             56714   \n",
       "1            NaN              NaN     Envoy Air             56714   \n",
       "2            NaN              NaN     Envoy Air             56714   \n",
       "3            NaN              NaN     Envoy Air             56714   \n",
       "4            NaN              NaN     Envoy Air             56714   \n",
       "\n",
       "    DestMarket   OrigMarket  ArrFlightsPerMarket DepFlightsPerCity  \\\n",
       "0  Houston, TX  Chicago, IL                56714             96909   \n",
       "1  Houston, TX  Chicago, IL                56714             96909   \n",
       "2  Houston, TX  Chicago, IL                56714             96909   \n",
       "3  Houston, TX  Chicago, IL                56714             96909   \n",
       "4  Houston, TX  Chicago, IL                56714             96909   \n",
       "\n",
       "   DepFlightsPerMarket  \n",
       "0                96909  \n",
       "1                96909  \n",
       "2                96909  \n",
       "3                96909  \n",
       "4                96909  \n",
       "\n",
       "[5 rows x 70 columns]"
      ]
     },
     "execution_count": 74,
     "metadata": {},
     "output_type": "execute_result"
    }
   ],
   "source": [
    "\"\"\"Hypothesis: busy flying seasons (June, July, December) seem to be more important than weather\n",
    "in determining rates of flight delay.  That said, this could depend heavily on where the airport is located.\"\"\"\n",
    "\n",
    "\"Arrival delay rates by day of the week\"\n",
    "OnTimeData.head()"
   ]
  },
  {
   "cell_type": "code",
   "execution_count": 75,
   "metadata": {
    "collapsed": false
   },
   "outputs": [
    {
     "data": {
      "text/plain": [
       "<matplotlib.axes._subplots.AxesSubplot at 0x1c07aa20>"
      ]
     },
     "execution_count": 75,
     "metadata": {},
     "output_type": "execute_result"
    },
    {
     "data": {
      "image/png": "[encoded data removed]",
      "text/plain": [
       "<matplotlib.figure.Figure at 0x395567f0>"
      ]
     },
     "metadata": {},
     "output_type": "display_data"
    }
   ],
   "source": [
    "OnTimeData.groupby(\"DayOfWeek\").mean().plot(y='ArrDel15', kind='bar')"
   ]
  },
  {
   "cell_type": "code",
   "execution_count": 80,
   "metadata": {
    "collapsed": false
   },
   "outputs": [
    {
     "data": {
      "image/png": "[encoded data removed]",
      "text/plain": [
       "<matplotlib.figure.Figure at 0x1ad62d68>"
      ]
     },
     "metadata": {},
     "output_type": "display_data"
    },
    {
     "data": {
      "image/png": "[encoded data removed]",
      "text/plain": [
       "<matplotlib.figure.Figure at 0x21ad61d0>"
      ]
     },
     "metadata": {},
     "output_type": "display_data"
    },
    {
     "data": {
      "image/png": "[encoded data removed]",
      "text/plain": [
       "<matplotlib.figure.Figure at 0xcc03f28>"
      ]
     },
     "metadata": {},
     "output_type": "display_data"
    },
    {
     "data": {
      "image/png": "[encoded data removed]",
      "text/plain": [
       "<matplotlib.figure.Figure at 0xe5cf978>"
      ]
     },
     "metadata": {},
     "output_type": "display_data"
    },
    {
     "data": {
      "image/png": "[encoded data removed]",
      "text/plain": [
       "<matplotlib.figure.Figure at 0x328d4a90>"
      ]
     },
     "metadata": {},
     "output_type": "display_data"
    },
    {
     "data": {
      "image/png": "[encoded data removed]",
      "text/plain": [
       "<matplotlib.figure.Figure at 0x328f0d30>"
      ]
     },
     "metadata": {},
     "output_type": "display_data"
    },
    {
     "data": {
      "image/png": "[encoded data removed]",
      "text/plain": [
       "<matplotlib.figure.Figure at 0x2c5dd860>"
      ]
     },
     "metadata": {},
     "output_type": "display_data"
    },
    {
     "data": {
      "image/png": "[encoded data removed]",
      "text/plain": [
       "<matplotlib.figure.Figure at 0x1ad945c0>"
      ]
     },
     "metadata": {},
     "output_type": "display_data"
    },
    {
     "data": {
      "image/png": "[encoded data removed]",
      "text/plain": [
       "<matplotlib.figure.Figure at 0x13ad9ef0>"
      ]
     },
     "metadata": {},
     "output_type": "display_data"
    },
    {
     "data": {
      "image/png": "[encoded data removed]",
      "text/plain": [
       "<matplotlib.figure.Figure at 0x2b7d2ef0>"
      ]
     },
     "metadata": {},
     "output_type": "display_data"
    },
    {
     "data": {
      "image/png": "[encoded data removed]",
      "text/plain": [
       "<matplotlib.figure.Figure at 0x25adc518>"
      ]
     },
     "metadata": {},
     "output_type": "display_data"
    },
    {
     "data": {
      "image/png": "[encoded data removed]",
      "text/plain": [
       "<matplotlib.figure.Figure at 0xdac0ba8>"
      ]
     },
     "metadata": {},
     "output_type": "display_data"
    }
   ],
   "source": [
    "\"\"\"Find any special days of the year with spiked delay rates\"\"\"\n",
    "for m in range(1, 13):\n",
    "    OnTimeData[OnTimeData.Month == m].groupby(\"DayofMonth\").mean().plot(y='ArrDel15', kind='bar', title='Month' + str(m))"
   ]
  },
  {
   "cell_type": "code",
   "execution_count": 81,
   "metadata": {
    "collapsed": false
   },
   "outputs": [
    {
     "data": {
      "text/plain": [
       "(1490434, 70)"
      ]
     },
     "execution_count": 81,
     "metadata": {},
     "output_type": "execute_result"
    }
   ],
   "source": [
    "\"\"\"Note: flights right on Christmas Eve/Day and New Year's Eve/Day are less likely to be delayed, but flights\n",
    "a few days more or after are the opposite.  The same is somewhat true of July 4.  Thanksgiving is a bit harder\n",
    "to see because it's a different date every year - can look for the 4th Thursday in November later.\"\"\"\n",
    "\n",
    "\"\"\"How many flights are there per date in this sample, on average?\"\"\"\n",
    "OnTimeData.shape"
   ]
  },
  {
   "cell_type": "code",
   "execution_count": 82,
   "metadata": {
    "collapsed": false
   },
   "outputs": [
    {
     "data": {
      "text/plain": [
       "4083.380821917808"
      ]
     },
     "execution_count": 82,
     "metadata": {},
     "output_type": "execute_result"
    }
   ],
   "source": [
    "1490434 / 365."
   ]
  },
  {
   "cell_type": "code",
   "execution_count": 84,
   "metadata": {
    "collapsed": false
   },
   "outputs": [
    {
     "data": {
      "text/plain": [
       "Index([u'Year', u'Quarter', u'Month', u'DayofMonth', u'DayOfWeek',\n",
       "       u'FlightDate', u'UniqueCarrier', u'AirlineID', u'Carrier', u'TailNum',\n",
       "       u'FlightNum', u'OriginAirportID', u'OriginAirportSeqID',\n",
       "       u'OriginCityMarketID', u'Origin', u'OriginCityName', u'OriginState',\n",
       "       u'OriginStateFips', u'OriginStateName', u'OriginWac', u'DestAirportID',\n",
       "       u'DestAirportSeqID', u'DestCityMarketID', u'Dest', u'DestCityName',\n",
       "       u'DestState', u'DestStateFips', u'DestStateName', u'DestWac',\n",
       "       u'CRSDepTime', u'DepTime', u'DepDelay', u'DepDelayMinutes', u'DepDel15',\n",
       "       u'DepartureDelayGroups', u'DepTimeBlk', u'TaxiOut', u'WheelsOff',\n",
       "       u'WheelsOn', u'TaxiIn', u'CRSArrTime', u'ArrTime', u'ArrDelay',\n",
       "       u'ArrDelayMinutes', u'ArrDel15', u'ArrivalDelayGroups', u'ArrTimeBlk',\n",
       "       u'Cancelled', u'CancellationCode', u'CRSElapsedTime',\n",
       "       u'ActualElapsedTime', u'AirTime', u'Flights', u'Distance',\n",
       "       u'DistanceGroup', u'CarrierDelay', u'WeatherDelay', u'NASDelay',\n",
       "       u'SecurityDelay', u'LateAircraftDelay', u'FirstDepTime',\n",
       "       u'TotalAddGTime', u'LongestAddGTime', u'Carrier Name',\n",
       "       u'ArrFlightsPerCity', u'DestMarket', u'OrigMarket',\n",
       "       u'ArrFlightsPerMarket', u'DepFlightsPerCity', u'DepFlightsPerMarket'],\n",
       "      dtype='object')"
      ]
     },
     "execution_count": 84,
     "metadata": {},
     "output_type": "execute_result"
    }
   ],
   "source": [
    "\"\"\"4,000 flights per date is a decent sample size, but there are still seemingly random patterns\"\"\"\n",
    "\n",
    "\"\"\"Do monthly patterns look different for northern and southern airports?\"\"\"\n",
    "OnTimeData.columns"
   ]
  },
  {
   "cell_type": "code",
   "execution_count": 1,
   "metadata": {
    "collapsed": false
   },
   "outputs": [
    {
     "data": {
      "text/plain": [
       "'Are we punishing airlines for flying out of bad airports?  Using linear regression or other machine learning\\ntechniques, we can separate out the effect of the airline from the effect of geography.'"
      ]
     },
     "execution_count": 1,
     "metadata": {},
     "output_type": "execute_result"
    }
   ],
   "source": [
    "\"\"\"Don't have latitude/longitude right now but hopefully can get it.  This will help figure out whether seasonal\n",
    "patterns are more pronounced in northern areas with snow.\"\"\"\n",
    "\n",
    "\"\"\"Are we punishing airlines for flying out of bad airports?  Using linear regression or other machine learning\n",
    "techniques, we can separate out the effect of the airline from the effect of geography.\"\"\""
   ]
  },
  {
   "cell_type": "code",
   "execution_count": 17,
   "metadata": {
    "collapsed": false
   },
   "outputs": [
    {
     "data": {
      "text/plain": [
       "<matplotlib.axes._subplots.AxesSubplot at 0x3a4d6588>"
      ]
     },
     "execution_count": 17,
     "metadata": {},
     "output_type": "execute_result"
    },
    {
     "data": {
      "image/png": "[encoded data removed]",
      "text/plain": [
       "<matplotlib.figure.Figure at 0x10c78ef0>"
      ]
     },
     "metadata": {},
     "output_type": "display_data"
    }
   ],
   "source": [
    "\"\"\"One more question: is there a clear time trend in arrival delay rates?\"\"\"\n",
    "%matplotlib inline\n",
    "import matplotlib.pyplot as plt\n",
    "OnTimeData.groupby([\"Year\", \"Month\"]).mean().plot(y='ArrDel15', kind='bar', figsize=(12, 4))"
   ]
  },
  {
   "cell_type": "code",
   "execution_count": 3,
   "metadata": {
    "collapsed": false
   },
   "outputs": [
    {
     "name": "stdout",
     "output_type": "stream",
     "text": [
      "C:\\Users\\Will\\Jupyter\\Data Science Intensive\n"
     ]
    }
   ],
   "source": [
    "\"\"\"No obvious trend up or down over the 5-year period\"\"\"\n",
    "%cd ."
   ]
  },
  {
   "cell_type": "code",
   "execution_count": 9,
   "metadata": {
    "collapsed": false
   },
   "outputs": [],
   "source": [
    "OnTimeData = pd.read_csv(\"Sample_2011_2016_carr_mark.csv\")"
   ]
  },
  {
   "cell_type": "code",
   "execution_count": null,
   "metadata": {
    "collapsed": true
   },
   "outputs": [],
   "source": []
  }
 ],
 "metadata": {
  "kernelspec": {
   "display_name": "Python 2",
   "language": "python",
   "name": "python2"
  },
  "language_info": {
   "codemirror_mode": {
    "name": "ipython",
    "version": 2
   },
   "file_extension": ".py",
   "mimetype": "text/x-python",
   "name": "python",
   "nbconvert_exporter": "python",
   "pygments_lexer": "ipython2",
   "version": "2.7.11"
  }
 },
 "nbformat": 4,
 "nbformat_minor": 0
}
