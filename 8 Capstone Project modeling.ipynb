{
 "cells": [
  {
   "cell_type": "code",
   "execution_count": 2,
   "metadata": {
    "collapsed": false
   },
   "outputs": [
    {
     "name": "stderr",
     "output_type": "stream",
     "text": [
      "C:\\Users\\Will\\Anaconda2\\lib\\site-packages\\matplotlib\\__init__.py:872: UserWarning: axes.color_cycle is deprecated and replaced with axes.prop_cycle; please use the latter.\n",
      "  warnings.warn(self.msg_depr % (key, alt_key))\n"
     ]
    }
   ],
   "source": [
    "#Initial commands\n",
    "\n",
    "import pandas as pd\n",
    "import numpy as np\n",
    "import matplotlib.pyplot as plt\n",
    "%matplotlib inline\n",
    "import seaborn as sns"
   ]
  },
  {
   "cell_type": "markdown",
   "metadata": {},
   "source": [
    "Before next step, make sure lines in CSV file are randomly shuffled.  Use code from http://stackoverflow.com/questions/4618298/randomly-mix-lines-of-3-million-line-file.  But make sure to keep the first line intact so you don't forget the column names!\n",
    "\n",
    "Code needs to modified in the following way: <br>\n",
    "data = lines[1:] <br>\n",
    "newlines = [lines[0]] + data <br>\n",
    "write(newlines)"
   ]
  },
  {
   "cell_type": "code",
   "execution_count": 4,
   "metadata": {
    "collapsed": false
   },
   "outputs": [],
   "source": [
    "#Import data in batches instead of all at once\n",
    "\n",
    "OnTimeDataFrames = []\n",
    "for n in range(15):\n",
    "    #100,001 rows total: 100,000 of data, plus first row for column names!  Easy to mess up...\n",
    "    #Note we aren't using lat/long data in the model at the present time, but can change this later\n",
    "    OnTimeDataFrames.append(pd.read_csv('Sample_2011_2016_carr_mark.csv', nrows=100001,\n",
    "                                        skiprows=range(1, 1 + 100000*n) if n > 0 else None))"
   ]
  },
  {
   "cell_type": "code",
   "execution_count": 5,
   "metadata": {
    "collapsed": false
   },
   "outputs": [
    {
     "name": "stdout",
     "output_type": "stream",
     "text": [
      "(100001, 68)\n",
      "(100001, 68)\n",
      "(100001, 68)\n",
      "(100001, 68)\n",
      "(100001, 68)\n",
      "(100001, 68)\n",
      "(100001, 68)\n",
      "(100001, 68)\n",
      "(100001, 68)\n",
      "(100001, 68)\n",
      "(100001, 68)\n",
      "(100001, 68)\n",
      "(100001, 68)\n",
      "(100001, 68)\n",
      "(90434, 68)\n"
     ]
    }
   ],
   "source": [
    "#Check shapes of all data frames - all except the last should have 100,000 rows, all should have same no. of columns\n",
    "for X in OnTimeDataFrames: print X.shape"
   ]
  },
  {
   "cell_type": "code",
   "execution_count": 6,
   "metadata": {
    "collapsed": false
   },
   "outputs": [
    {
     "data": {
      "text/plain": [
       "Index([u'Unnamed: 0', u'Year', u'Quarter', u'Month', u'DayofMonth',\n",
       "       u'DayOfWeek', u'FlightDate', u'UniqueCarrier', u'AirlineID', u'Carrier',\n",
       "       u'TailNum', u'FlightNum', u'OriginAirportID', u'OriginAirportSeqID',\n",
       "       u'OriginCityMarketID', u'Origin', u'OriginCityName', u'OriginState',\n",
       "       u'OriginStateFips', u'OriginStateName', u'OriginWac', u'DestAirportID',\n",
       "       u'DestAirportSeqID', u'DestCityMarketID', u'Dest', u'DestCityName',\n",
       "       u'DestState', u'DestStateFips', u'DestStateName', u'DestWac',\n",
       "       u'CRSDepTime', u'DepTime', u'DepDelay', u'DepDelayMinutes', u'DepDel15',\n",
       "       u'DepartureDelayGroups', u'DepTimeBlk', u'TaxiOut', u'WheelsOff',\n",
       "       u'WheelsOn', u'TaxiIn', u'CRSArrTime', u'ArrTime', u'ArrDelay',\n",
       "       u'ArrDelayMinutes', u'ArrDel15', u'ArrivalDelayGroups', u'ArrTimeBlk',\n",
       "       u'Cancelled', u'CancellationCode', u'CRSElapsedTime',\n",
       "       u'ActualElapsedTime', u'AirTime', u'Flights', u'Distance',\n",
       "       u'DistanceGroup', u'CarrierDelay', u'WeatherDelay', u'NASDelay',\n",
       "       u'SecurityDelay', u'LateAircraftDelay', u'FirstDepTime',\n",
       "       u'TotalAddGTime', u'LongestAddGTime', u'Carrier Name',\n",
       "       u'ArrFlightsPerCity', u'DestMarket', u'OrigMarket'],\n",
       "      dtype='object')"
      ]
     },
     "execution_count": 6,
     "metadata": {},
     "output_type": "execute_result"
    }
   ],
   "source": [
    "#Check column names of second data frame\n",
    "OnTimeDataFrames[1].columns"
   ]
  },
  {
   "cell_type": "code",
   "execution_count": 7,
   "metadata": {
    "collapsed": false
   },
   "outputs": [],
   "source": [
    "#Check that all data frames have same column names\n",
    "assert np.all(X.columns == OnTimeDataFrames[0].columns for X in OnTimeDataFrames)"
   ]
  },
  {
   "cell_type": "code",
   "execution_count": 8,
   "metadata": {
    "collapsed": false
   },
   "outputs": [],
   "source": [
    "#Correct ExpressJet Airways issue\n",
    "for X in OnTimeDataFrames:\n",
    "    X[\"Carrier Name\"] = X[\"Carrier Name\"].replace(\"ExpressJet Airlines Inc. (1)\",\n",
    "                                                               \"ExpressJet Airlines Inc.\")"
   ]
  },
  {
   "cell_type": "code",
   "execution_count": 9,
   "metadata": {
    "collapsed": false
   },
   "outputs": [
    {
     "name": "stdout",
     "output_type": "stream",
     "text": [
      "(98231, 68)\n",
      "(98163, 68)\n",
      "(98252, 68)\n",
      "(98174, 68)\n",
      "(98197, 68)\n",
      "(98184, 68)\n",
      "(98200, 68)\n",
      "(98205, 68)\n",
      "(98198, 68)\n",
      "(98190, 68)\n",
      "(98234, 68)\n",
      "(98315, 68)\n",
      "(98177, 68)\n",
      "(98145, 68)\n",
      "(88801, 68)\n"
     ]
    }
   ],
   "source": [
    "#Get rid of rows with null values for ArrDelay\n",
    "OnTimeDataNoNull = [X[np.isfinite(X.ArrDelay)] for X in OnTimeDataFrames]\n",
    "for X in OnTimeDataNoNull: print X.shape"
   ]
  },
  {
   "cell_type": "code",
   "execution_count": 10,
   "metadata": {
    "collapsed": true
   },
   "outputs": [],
   "source": [
    "#Compute interactions for airlines * airports with a certain %\n",
    "def interactions_aa(X, pct):\n",
    "    #dictionary of features with percentage \"1\"s\n",
    "    PercentageDict = {}\n",
    "    for feature in X.columns:\n",
    "        PercentageDict[feature] = X[feature].mean(axis=1)\n",
    "    #calculate interactions\n",
    "    X1 = X.copy()\n",
    "    for feat_A in [name for name in X.columns if name[0] == 'C']:\n",
    "        for feat_B in [name for name in X.columns if name[0] in list('DO') and PercentageDict[name] > pct]:\n",
    "            X1[feat_A + \"*\" + feat_B] = (X1[feat_A].to_dense() * X1[feat_B].to_dense()).to_sparse()\n",
    "    return X1"
   ]
  },
  {
   "cell_type": "code",
   "execution_count": 11,
   "metadata": {
    "collapsed": true
   },
   "outputs": [],
   "source": [
    "#Create dummy variables\n",
    "def DummyRegressors(data):\n",
    "    #Create dummies for airline, origin and destination airports, month, and time of day\n",
    "    #Drop first column in each data frame to avoid singular matrix\n",
    "    #Also include ArrDelay variable so we don't have to grab this separately from the old data frame\n",
    "    CarrierDummies = pd.get_dummies(data[\"Carrier Name\"], prefix=\"C\", sparse=True, drop_first=True)\n",
    "    OriginDummies = pd.get_dummies(data.Origin, prefix=\"O\", sparse=True, drop_first=True)\n",
    "    DestDummies = pd.get_dummies(data.Dest, prefix=\"D\", sparse=True, drop_first=True)\n",
    "    MonthDummies = pd.get_dummies(data.Month, prefix=\"M\", sparse=True, drop_first=True)\n",
    "    TimeDummies = pd.get_dummies(data.DepTimeBlk, prefix=\"T\", sparse=True, drop_first=True)\n",
    "    ArrDelay = data.ArrDelay\n",
    "    \n",
    "    return pd.concat([CarrierDummies, OriginDummies, DestDummies, MonthDummies, TimeDummies, ArrDelay], axis=1)"
   ]
  },
  {
   "cell_type": "code",
   "execution_count": 12,
   "metadata": {
    "collapsed": false
   },
   "outputs": [],
   "source": [
    "#Create list of data frames with dummies instead of raw data\n",
    "OnTimeDummies = [DummyRegressors(X) for X in OnTimeDataNoNull]"
   ]
  },
  {
   "cell_type": "code",
   "execution_count": 13,
   "metadata": {
    "collapsed": false
   },
   "outputs": [
    {
     "name": "stdout",
     "output_type": "stream",
     "text": [
      "(98231, 701)\n",
      "(98163, 705)\n",
      "(98252, 702)\n",
      "(98174, 702)\n",
      "(98197, 704)\n",
      "(98184, 704)\n",
      "(98200, 695)\n",
      "(98205, 706)\n",
      "(98198, 706)\n",
      "(98190, 703)\n",
      "(98234, 698)\n",
      "(98315, 697)\n",
      "(98177, 706)\n",
      "(98145, 707)\n",
      "(88801, 700)\n"
     ]
    }
   ],
   "source": [
    "for X in OnTimeDummies: print X.shape"
   ]
  },
  {
   "cell_type": "markdown",
   "metadata": {},
   "source": [
    "Problem: not all airports and airlines are in all the data frames!  This makes sense and is a drawback of reading in the data in separate frames rather than splitting it up afterward.  We need to fix it by making sure if a column name appears in one dummy frame, it appears in all of them."
   ]
  },
  {
   "cell_type": "code",
   "execution_count": 16,
   "metadata": {
    "collapsed": false
   },
   "outputs": [
    {
     "data": {
      "text/plain": [
       "717"
      ]
     },
     "execution_count": 16,
     "metadata": {},
     "output_type": "execute_result"
    }
   ],
   "source": [
    "#create set of dummies that appear in any data frame, so each only appears once\n",
    "#Try it the less efficient way, but this seems to work\n",
    "DummyList = []\n",
    "for X in OnTimeDummies:\n",
    "    for name in X.columns:\n",
    "        DummyList.append(name)\n",
    "DummySet = set(DummyList)\n",
    "len(DummySet)"
   ]
  },
  {
   "cell_type": "code",
   "execution_count": 17,
   "metadata": {
    "collapsed": false
   },
   "outputs": [
    {
     "data": {
      "text/plain": [
       "717"
      ]
     },
     "execution_count": 17,
     "metadata": {},
     "output_type": "execute_result"
    }
   ],
   "source": [
    "len(DummySet)"
   ]
  },
  {
   "cell_type": "code",
   "execution_count": 18,
   "metadata": {
    "collapsed": false
   },
   "outputs": [],
   "source": [
    "#Now add dummies for all variables in set to OnTimeDummies frames\n",
    "for X in OnTimeDummies:\n",
    "    SparseZeroes = pd.SparseSeries([0 for n in range(len(X))])\n",
    "    for name in DummySet:\n",
    "        if name not in X.columns:\n",
    "            X[name] = SparseZeroes.copy()"
   ]
  },
  {
   "cell_type": "code",
   "execution_count": 19,
   "metadata": {
    "collapsed": false
   },
   "outputs": [
    {
     "name": "stdout",
     "output_type": "stream",
     "text": [
      "(98231, 717)\n",
      "(98163, 717)\n",
      "(98252, 717)\n",
      "(98174, 717)\n",
      "(98197, 717)\n",
      "(98184, 717)\n",
      "(98200, 717)\n",
      "(98205, 717)\n",
      "(98198, 717)\n",
      "(98190, 717)\n",
      "(98234, 717)\n",
      "(98315, 717)\n",
      "(98177, 717)\n",
      "(98145, 717)\n",
      "(88801, 717)\n"
     ]
    }
   ],
   "source": [
    "#Now check shapes of dummy frames again\n",
    "for X in OnTimeDummies: print X.shape"
   ]
  },
  {
   "cell_type": "code",
   "execution_count": 20,
   "metadata": {
    "collapsed": false
   },
   "outputs": [],
   "source": [
    "#create list of data frames with interactions included\n",
    "#airport threshold: 1.5% of flights\n",
    "OnTimeDummies_Inter = [interactions_aa(X, .015) for X in OnTimeDummies]"
   ]
  },
  {
   "cell_type": "code",
   "execution_count": 21,
   "metadata": {
    "collapsed": false
   },
   "outputs": [
    {
     "name": "stdout",
     "output_type": "stream",
     "text": [
      "(98231, 1397)\n",
      "(98163, 1397)\n",
      "(98252, 1397)\n",
      "(98174, 1397)\n",
      "(98197, 1397)\n",
      "(98184, 1414)\n",
      "(98200, 1414)\n",
      "(98205, 1397)\n",
      "(98198, 1397)\n",
      "(98190, 1414)\n",
      "(98234, 1397)\n",
      "(98315, 1397)\n",
      "(98177, 1397)\n",
      "(98145, 1397)\n",
      "(88801, 1414)\n"
     ]
    }
   ],
   "source": [
    "for X in OnTimeDummies_Inter: print X.shape"
   ]
  },
  {
   "cell_type": "code",
   "execution_count": 23,
   "metadata": {
    "collapsed": false
   },
   "outputs": [
    {
     "data": {
      "text/plain": [
       "1431"
      ]
     },
     "execution_count": 23,
     "metadata": {},
     "output_type": "execute_result"
    }
   ],
   "source": [
    "#Once again the number of dummies is not precisely the same between batches.  We need to do the DummySet procedure again.\n",
    "InterList = []\n",
    "for X in OnTimeDummies_Inter:\n",
    "    for name in X.columns:\n",
    "        InterList.append(name)\n",
    "InterSet = set(InterList)\n",
    "len(InterSet)"
   ]
  },
  {
   "cell_type": "code",
   "execution_count": 24,
   "metadata": {
    "collapsed": true
   },
   "outputs": [],
   "source": [
    "#Add interactions to all frames\n",
    "for X in OnTimeDummies_Inter:\n",
    "    SparseZeroes = pd.SparseSeries([0 for n in range(len(X))])\n",
    "    for name in InterSet:\n",
    "        if name not in X.columns:\n",
    "            X[name] = SparseZeroes.copy()"
   ]
  },
  {
   "cell_type": "code",
   "execution_count": 25,
   "metadata": {
    "collapsed": false
   },
   "outputs": [
    {
     "name": "stdout",
     "output_type": "stream",
     "text": [
      "(98231, 1431)\n",
      "(98163, 1431)\n",
      "(98252, 1431)\n",
      "(98174, 1431)\n",
      "(98197, 1431)\n",
      "(98184, 1431)\n",
      "(98200, 1431)\n",
      "(98205, 1431)\n",
      "(98198, 1431)\n",
      "(98190, 1431)\n",
      "(98234, 1431)\n",
      "(98315, 1431)\n",
      "(98177, 1431)\n",
      "(98145, 1431)\n",
      "(88801, 1431)\n"
     ]
    }
   ],
   "source": [
    "#Now check shapes again\n",
    "for X in OnTimeDummies_Inter: print X.shape"
   ]
  },
  {
   "cell_type": "code",
   "execution_count": 26,
   "metadata": {
    "collapsed": false
   },
   "outputs": [],
   "source": [
    "#Divide each interaction data set into training and test data sets\n",
    "from sklearn.model_selection import train_test_split"
   ]
  },
  {
   "cell_type": "code",
   "execution_count": 27,
   "metadata": {
    "collapsed": false
   },
   "outputs": [],
   "source": [
    "OnTime_XTrainFrames, OnTime_XTestFrames, OnTime_YTrainFrames, OnTime_YTestFrames = [], [], [], []\n",
    "for D in OnTimeDummies_Inter:\n",
    "    X_train, X_test, Y_train, Y_test = train_test_split(D.drop(\"ArrDelay\", axis=1), D.ArrDelay)\n",
    "    OnTime_XTrainFrames.append(X_train)\n",
    "    OnTime_XTestFrames.append(X_test)\n",
    "    OnTime_YTrainFrames.append(Y_train)\n",
    "    OnTime_YTestFrames.append(Y_test)"
   ]
  },
  {
   "cell_type": "code",
   "execution_count": 28,
   "metadata": {
    "collapsed": true
   },
   "outputs": [],
   "source": [
    "#import modeling formulas\n",
    "from sklearn.linear_model import SGDRegressor, SGDClassifier"
   ]
  },
  {
   "cell_type": "code",
   "execution_count": 29,
   "metadata": {
    "collapsed": true
   },
   "outputs": [],
   "source": [
    "\"\"\"1. linear regression model using SGDRegressor, penalty = L1\"\"\"\n",
    "linear = SGDRegressor(penalty='l1')"
   ]
  },
  {
   "cell_type": "code",
   "execution_count": 52,
   "metadata": {
    "collapsed": false
   },
   "outputs": [
    {
     "name": "stdout",
     "output_type": "stream",
     "text": [
      "0\n"
     ]
    },
    {
     "ename": "ValueError",
     "evalue": "Input contains NaN, infinity or a value too large for dtype('float64').",
     "output_type": "error",
     "traceback": [
      "\u001b[1;31m---------------------------------------------------------------------------\u001b[0m",
      "\u001b[1;31mValueError\u001b[0m                                Traceback (most recent call last)",
      "\u001b[1;32m<ipython-input-52-2c59d5b26594>\u001b[0m in \u001b[0;36m<module>\u001b[1;34m()\u001b[0m\n\u001b[0;32m      2\u001b[0m \u001b[1;32mfor\u001b[0m \u001b[0mn\u001b[0m \u001b[1;32min\u001b[0m \u001b[0mrange\u001b[0m\u001b[1;33m(\u001b[0m\u001b[0mlen\u001b[0m\u001b[1;33m(\u001b[0m\u001b[0mOnTime_XTrainFrames\u001b[0m\u001b[1;33m)\u001b[0m\u001b[1;33m)\u001b[0m\u001b[1;33m:\u001b[0m\u001b[1;33m\u001b[0m\u001b[0m\n\u001b[0;32m      3\u001b[0m     \u001b[1;32mprint\u001b[0m \u001b[0mn\u001b[0m\u001b[1;33m\u001b[0m\u001b[0m\n\u001b[1;32m----> 4\u001b[1;33m     \u001b[0mlinear\u001b[0m\u001b[1;33m.\u001b[0m\u001b[0mpartial_fit\u001b[0m\u001b[1;33m(\u001b[0m\u001b[0mOnTime_XTrainFrames\u001b[0m\u001b[1;33m[\u001b[0m\u001b[0mn\u001b[0m\u001b[1;33m]\u001b[0m\u001b[1;33m,\u001b[0m \u001b[0mOnTime_YTrainFrames\u001b[0m\u001b[1;33m[\u001b[0m\u001b[0mn\u001b[0m\u001b[1;33m]\u001b[0m\u001b[1;33m)\u001b[0m\u001b[1;33m\u001b[0m\u001b[0m\n\u001b[0m",
      "\u001b[1;32mC:\\Users\\Will\\Anaconda2\\lib\\site-packages\\sklearn\\linear_model\\stochastic_gradient.pyc\u001b[0m in \u001b[0;36mpartial_fit\u001b[1;34m(self, X, y, sample_weight)\u001b[0m\n\u001b[0;32m    916\u001b[0m                                  \u001b[0mlearning_rate\u001b[0m\u001b[1;33m=\u001b[0m\u001b[0mself\u001b[0m\u001b[1;33m.\u001b[0m\u001b[0mlearning_rate\u001b[0m\u001b[1;33m,\u001b[0m \u001b[0mn_iter\u001b[0m\u001b[1;33m=\u001b[0m\u001b[1;36m1\u001b[0m\u001b[1;33m,\u001b[0m\u001b[1;33m\u001b[0m\u001b[0m\n\u001b[0;32m    917\u001b[0m                                  \u001b[0msample_weight\u001b[0m\u001b[1;33m=\u001b[0m\u001b[0msample_weight\u001b[0m\u001b[1;33m,\u001b[0m\u001b[1;33m\u001b[0m\u001b[0m\n\u001b[1;32m--> 918\u001b[1;33m                                  coef_init=None, intercept_init=None)\n\u001b[0m\u001b[0;32m    919\u001b[0m \u001b[1;33m\u001b[0m\u001b[0m\n\u001b[0;32m    920\u001b[0m     def _fit(self, X, y, alpha, C, loss, learning_rate, coef_init=None,\n",
      "\u001b[1;32mC:\\Users\\Will\\Anaconda2\\lib\\site-packages\\sklearn\\linear_model\\stochastic_gradient.pyc\u001b[0m in \u001b[0;36m_partial_fit\u001b[1;34m(self, X, y, alpha, C, loss, learning_rate, n_iter, sample_weight, coef_init, intercept_init)\u001b[0m\n\u001b[0;32m    864\u001b[0m                      \u001b[0mn_iter\u001b[0m\u001b[1;33m,\u001b[0m \u001b[0msample_weight\u001b[0m\u001b[1;33m,\u001b[0m\u001b[1;33m\u001b[0m\u001b[0m\n\u001b[0;32m    865\u001b[0m                      coef_init, intercept_init):\n\u001b[1;32m--> 866\u001b[1;33m         \u001b[0mX\u001b[0m\u001b[1;33m,\u001b[0m \u001b[0my\u001b[0m \u001b[1;33m=\u001b[0m \u001b[0mcheck_X_y\u001b[0m\u001b[1;33m(\u001b[0m\u001b[0mX\u001b[0m\u001b[1;33m,\u001b[0m \u001b[0my\u001b[0m\u001b[1;33m,\u001b[0m \u001b[1;34m\"csr\"\u001b[0m\u001b[1;33m,\u001b[0m \u001b[0mcopy\u001b[0m\u001b[1;33m=\u001b[0m\u001b[0mFalse\u001b[0m\u001b[1;33m,\u001b[0m \u001b[0morder\u001b[0m\u001b[1;33m=\u001b[0m\u001b[1;34m'C'\u001b[0m\u001b[1;33m,\u001b[0m \u001b[0mdtype\u001b[0m\u001b[1;33m=\u001b[0m\u001b[0mnp\u001b[0m\u001b[1;33m.\u001b[0m\u001b[0mfloat64\u001b[0m\u001b[1;33m)\u001b[0m\u001b[1;33m\u001b[0m\u001b[0m\n\u001b[0m\u001b[0;32m    867\u001b[0m         \u001b[0my\u001b[0m \u001b[1;33m=\u001b[0m \u001b[0mastype\u001b[0m\u001b[1;33m(\u001b[0m\u001b[0my\u001b[0m\u001b[1;33m,\u001b[0m \u001b[0mnp\u001b[0m\u001b[1;33m.\u001b[0m\u001b[0mfloat64\u001b[0m\u001b[1;33m,\u001b[0m \u001b[0mcopy\u001b[0m\u001b[1;33m=\u001b[0m\u001b[0mFalse\u001b[0m\u001b[1;33m)\u001b[0m\u001b[1;33m\u001b[0m\u001b[0m\n\u001b[0;32m    868\u001b[0m \u001b[1;33m\u001b[0m\u001b[0m\n",
      "\u001b[1;32mC:\\Users\\Will\\Anaconda2\\lib\\site-packages\\sklearn\\utils\\validation.pyc\u001b[0m in \u001b[0;36mcheck_X_y\u001b[1;34m(X, y, accept_sparse, dtype, order, copy, force_all_finite, ensure_2d, allow_nd, multi_output, ensure_min_samples, ensure_min_features, y_numeric, warn_on_dtype, estimator)\u001b[0m\n\u001b[0;32m    519\u001b[0m     X = check_array(X, accept_sparse, dtype, order, copy, force_all_finite,\n\u001b[0;32m    520\u001b[0m                     \u001b[0mensure_2d\u001b[0m\u001b[1;33m,\u001b[0m \u001b[0mallow_nd\u001b[0m\u001b[1;33m,\u001b[0m \u001b[0mensure_min_samples\u001b[0m\u001b[1;33m,\u001b[0m\u001b[1;33m\u001b[0m\u001b[0m\n\u001b[1;32m--> 521\u001b[1;33m                     ensure_min_features, warn_on_dtype, estimator)\n\u001b[0m\u001b[0;32m    522\u001b[0m     \u001b[1;32mif\u001b[0m \u001b[0mmulti_output\u001b[0m\u001b[1;33m:\u001b[0m\u001b[1;33m\u001b[0m\u001b[0m\n\u001b[0;32m    523\u001b[0m         y = check_array(y, 'csr', force_all_finite=True, ensure_2d=False,\n",
      "\u001b[1;32mC:\\Users\\Will\\Anaconda2\\lib\\site-packages\\sklearn\\utils\\validation.pyc\u001b[0m in \u001b[0;36mcheck_array\u001b[1;34m(array, accept_sparse, dtype, order, copy, force_all_finite, ensure_2d, allow_nd, ensure_min_samples, ensure_min_features, warn_on_dtype, estimator)\u001b[0m\n\u001b[0;32m    405\u001b[0m                              % (array.ndim, estimator_name))\n\u001b[0;32m    406\u001b[0m         \u001b[1;32mif\u001b[0m \u001b[0mforce_all_finite\u001b[0m\u001b[1;33m:\u001b[0m\u001b[1;33m\u001b[0m\u001b[0m\n\u001b[1;32m--> 407\u001b[1;33m             \u001b[0m_assert_all_finite\u001b[0m\u001b[1;33m(\u001b[0m\u001b[0marray\u001b[0m\u001b[1;33m)\u001b[0m\u001b[1;33m\u001b[0m\u001b[0m\n\u001b[0m\u001b[0;32m    408\u001b[0m \u001b[1;33m\u001b[0m\u001b[0m\n\u001b[0;32m    409\u001b[0m     \u001b[0mshape_repr\u001b[0m \u001b[1;33m=\u001b[0m \u001b[0m_shape_repr\u001b[0m\u001b[1;33m(\u001b[0m\u001b[0marray\u001b[0m\u001b[1;33m.\u001b[0m\u001b[0mshape\u001b[0m\u001b[1;33m)\u001b[0m\u001b[1;33m\u001b[0m\u001b[0m\n",
      "\u001b[1;32mC:\\Users\\Will\\Anaconda2\\lib\\site-packages\\sklearn\\utils\\validation.pyc\u001b[0m in \u001b[0;36m_assert_all_finite\u001b[1;34m(X)\u001b[0m\n\u001b[0;32m     56\u001b[0m             and not np.isfinite(X).all()):\n\u001b[0;32m     57\u001b[0m         raise ValueError(\"Input contains NaN, infinity\"\n\u001b[1;32m---> 58\u001b[1;33m                          \" or a value too large for %r.\" % X.dtype)\n\u001b[0m\u001b[0;32m     59\u001b[0m \u001b[1;33m\u001b[0m\u001b[0m\n\u001b[0;32m     60\u001b[0m \u001b[1;33m\u001b[0m\u001b[0m\n",
      "\u001b[1;31mValueError\u001b[0m: Input contains NaN, infinity or a value too large for dtype('float64')."
     ]
    }
   ],
   "source": [
    "#Use SGDRegressor partial_fit function to train model on training data\n",
    "for n in range(len(OnTime_XTrainFrames)):\n",
    "    print n\n",
    "    linear.partial_fit(OnTime_XTrainFrames[n], OnTime_YTrainFrames[n])"
   ]
  },
  {
   "cell_type": "code",
   "execution_count": 38,
   "metadata": {
    "collapsed": false
   },
   "outputs": [
    {
     "data": {
      "text/plain": [
       "73673"
      ]
     },
     "execution_count": 38,
     "metadata": {},
     "output_type": "execute_result"
    }
   ],
   "source": [
    "len(OnTime_YTrainFrames[0])"
   ]
  },
  {
   "cell_type": "code",
   "execution_count": 41,
   "metadata": {
    "collapsed": false
   },
   "outputs": [],
   "source": [
    "assert all(np.isfinite(OnTime_YTrainFrames[0]))"
   ]
  },
  {
   "cell_type": "code",
   "execution_count": 42,
   "metadata": {
    "collapsed": true
   },
   "outputs": [],
   "source": [
    "assert all(np.isfinite(OnTime_XTrainFrames[0]))"
   ]
  },
  {
   "cell_type": "code",
   "execution_count": 43,
   "metadata": {
    "collapsed": false
   },
   "outputs": [
    {
     "data": {
      "text/plain": [
       "39928     -79.0\n",
       "38709     -69.0\n",
       "62641     -69.0\n",
       "74466     -65.0\n",
       "7449      -63.0\n",
       "21596     -61.0\n",
       "46069     -59.0\n",
       "56949     -59.0\n",
       "57195     -59.0\n",
       "70687     -58.0\n",
       "27533     -58.0\n",
       "13691     -57.0\n",
       "14042     -57.0\n",
       "17133     -56.0\n",
       "11618     -56.0\n",
       "61942     -56.0\n",
       "86407     -56.0\n",
       "3908      -55.0\n",
       "80027     -55.0\n",
       "52488     -55.0\n",
       "69780     -55.0\n",
       "85826     -55.0\n",
       "79866     -55.0\n",
       "67301     -54.0\n",
       "12729     -54.0\n",
       "58330     -54.0\n",
       "70099     -54.0\n",
       "2098      -54.0\n",
       "1583      -54.0\n",
       "5577      -54.0\n",
       "          ...  \n",
       "73118     464.0\n",
       "32803     466.0\n",
       "47062     470.0\n",
       "31777     473.0\n",
       "79821     484.0\n",
       "79056     500.0\n",
       "46066     504.0\n",
       "59862     512.0\n",
       "62374     525.0\n",
       "81511     534.0\n",
       "75647     552.0\n",
       "60303     572.0\n",
       "75824     573.0\n",
       "80648     610.0\n",
       "40347     615.0\n",
       "80600     647.0\n",
       "71826     647.0\n",
       "72440     664.0\n",
       "3095      683.0\n",
       "56270     717.0\n",
       "77853     723.0\n",
       "55382     755.0\n",
       "38499     835.0\n",
       "96890     856.0\n",
       "2634      961.0\n",
       "97997     978.0\n",
       "53436    1006.0\n",
       "6733     1018.0\n",
       "42400    1141.0\n",
       "26070    1272.0\n",
       "Name: ArrDelay, dtype: float64\n",
       "BlockIndex\n",
       "Block locations: array([0])\n",
       "Block lengths: array([73673])"
      ]
     },
     "execution_count": 43,
     "metadata": {},
     "output_type": "execute_result"
    }
   ],
   "source": [
    "OnTime_YTrainFrames[0].sort_values()"
   ]
  },
  {
   "cell_type": "code",
   "execution_count": 45,
   "metadata": {
    "collapsed": false
   },
   "outputs": [
    {
     "data": {
      "text/plain": [
       "75324     -63.0\n",
       "7008      -63.0\n",
       "62173     -62.0\n",
       "87626     -61.0\n",
       "15431     -60.0\n",
       "96339     -59.0\n",
       "56481     -59.0\n",
       "56182     -58.0\n",
       "79692     -57.0\n",
       "36407     -57.0\n",
       "13620     -57.0\n",
       "11362     -56.0\n",
       "72224     -56.0\n",
       "87182     -55.0\n",
       "98603     -55.0\n",
       "69238     -55.0\n",
       "49856     -54.0\n",
       "33405     -54.0\n",
       "7019      -54.0\n",
       "37186     -54.0\n",
       "71736     -53.0\n",
       "31424     -53.0\n",
       "42865     -53.0\n",
       "25175     -53.0\n",
       "55349     -53.0\n",
       "37575     -53.0\n",
       "24281     -53.0\n",
       "84165     -52.0\n",
       "73818     -52.0\n",
       "63301     -52.0\n",
       "          ...  \n",
       "7934      440.0\n",
       "27330     441.0\n",
       "18507     442.0\n",
       "41920     443.0\n",
       "96840     449.0\n",
       "72640     464.0\n",
       "51731     477.0\n",
       "91276     485.0\n",
       "28314     490.0\n",
       "7169      490.0\n",
       "75161     498.0\n",
       "50931     527.0\n",
       "73583     533.0\n",
       "15416     543.0\n",
       "8730      569.0\n",
       "1519      576.0\n",
       "78291     578.0\n",
       "88298     596.0\n",
       "96383     596.0\n",
       "51572     603.0\n",
       "26098     613.0\n",
       "66881     617.0\n",
       "59680     628.0\n",
       "29981     635.0\n",
       "28553     820.0\n",
       "85385     899.0\n",
       "90779     910.0\n",
       "68979     919.0\n",
       "19033    1084.0\n",
       "36142    1530.0\n",
       "Name: ArrDelay, dtype: float64\n",
       "BlockIndex\n",
       "Block locations: array([0])\n",
       "Block lengths: array([73622])"
      ]
     },
     "execution_count": 45,
     "metadata": {},
     "output_type": "execute_result"
    }
   ],
   "source": [
    "OnTime_YTrainFrames[1].sort_values()"
   ]
  },
  {
   "cell_type": "code",
   "execution_count": 47,
   "metadata": {
    "collapsed": false
   },
   "outputs": [
    {
     "data": {
      "text/html": [
       "<div>\n",
       "<table border=\"1\" class=\"dataframe\">\n",
       "  <thead>\n",
       "    <tr style=\"text-align: right;\">\n",
       "      <th></th>\n",
       "      <th>C_Alaska Airlines Inc.</th>\n",
       "      <th>C_American Airlines Inc.</th>\n",
       "      <th>C_Continental Air Lines Inc.</th>\n",
       "      <th>C_Delta Air Lines Inc.</th>\n",
       "      <th>C_Endeavor Air Inc.</th>\n",
       "      <th>C_Envoy Air</th>\n",
       "      <th>C_ExpressJet Airlines Inc.</th>\n",
       "      <th>C_Frontier Airlines Inc.</th>\n",
       "      <th>C_Hawaiian Airlines Inc.</th>\n",
       "      <th>C_JetBlue Airways</th>\n",
       "      <th>...</th>\n",
       "      <th>C_Hawaiian Airlines Inc.*O_MDW</th>\n",
       "      <th>C_United Air Lines Inc.*O_MDW</th>\n",
       "      <th>C_Frontier Airlines Inc.*D_MDW</th>\n",
       "      <th>C_American Airlines Inc.*D_MDW</th>\n",
       "      <th>C_Frontier Airlines Inc.*O_MDW</th>\n",
       "      <th>C_American Airlines Inc.*O_MDW</th>\n",
       "      <th>C_Virgin America*O_MDW</th>\n",
       "      <th>C_SkyWest Airlines Inc.*O_MDW</th>\n",
       "      <th>C_Southwest Airlines Co.*D_MDW</th>\n",
       "      <th>C_US Airways Inc.*D_MDW</th>\n",
       "    </tr>\n",
       "  </thead>\n",
       "  <tbody>\n",
       "    <tr>\n",
       "      <th>33285</th>\n",
       "      <td>0</td>\n",
       "      <td>0</td>\n",
       "      <td>0</td>\n",
       "      <td>0</td>\n",
       "      <td>0</td>\n",
       "      <td>0</td>\n",
       "      <td>0</td>\n",
       "      <td>0</td>\n",
       "      <td>0</td>\n",
       "      <td>0</td>\n",
       "      <td>...</td>\n",
       "      <td>0.0</td>\n",
       "      <td>0.0</td>\n",
       "      <td>0.0</td>\n",
       "      <td>0.0</td>\n",
       "      <td>0.0</td>\n",
       "      <td>0.0</td>\n",
       "      <td>0.0</td>\n",
       "      <td>0.0</td>\n",
       "      <td>0.0</td>\n",
       "      <td>0.0</td>\n",
       "    </tr>\n",
       "    <tr>\n",
       "      <th>44745</th>\n",
       "      <td>0</td>\n",
       "      <td>0</td>\n",
       "      <td>0</td>\n",
       "      <td>0</td>\n",
       "      <td>0</td>\n",
       "      <td>0</td>\n",
       "      <td>1</td>\n",
       "      <td>0</td>\n",
       "      <td>0</td>\n",
       "      <td>0</td>\n",
       "      <td>...</td>\n",
       "      <td>0.0</td>\n",
       "      <td>0.0</td>\n",
       "      <td>0.0</td>\n",
       "      <td>0.0</td>\n",
       "      <td>0.0</td>\n",
       "      <td>0.0</td>\n",
       "      <td>0.0</td>\n",
       "      <td>0.0</td>\n",
       "      <td>0.0</td>\n",
       "      <td>0.0</td>\n",
       "    </tr>\n",
       "    <tr>\n",
       "      <th>987</th>\n",
       "      <td>0</td>\n",
       "      <td>0</td>\n",
       "      <td>0</td>\n",
       "      <td>0</td>\n",
       "      <td>0</td>\n",
       "      <td>0</td>\n",
       "      <td>1</td>\n",
       "      <td>0</td>\n",
       "      <td>0</td>\n",
       "      <td>0</td>\n",
       "      <td>...</td>\n",
       "      <td>0.0</td>\n",
       "      <td>0.0</td>\n",
       "      <td>0.0</td>\n",
       "      <td>0.0</td>\n",
       "      <td>0.0</td>\n",
       "      <td>0.0</td>\n",
       "      <td>0.0</td>\n",
       "      <td>0.0</td>\n",
       "      <td>0.0</td>\n",
       "      <td>0.0</td>\n",
       "    </tr>\n",
       "    <tr>\n",
       "      <th>58105</th>\n",
       "      <td>0</td>\n",
       "      <td>0</td>\n",
       "      <td>0</td>\n",
       "      <td>0</td>\n",
       "      <td>0</td>\n",
       "      <td>0</td>\n",
       "      <td>0</td>\n",
       "      <td>0</td>\n",
       "      <td>0</td>\n",
       "      <td>0</td>\n",
       "      <td>...</td>\n",
       "      <td>0.0</td>\n",
       "      <td>0.0</td>\n",
       "      <td>0.0</td>\n",
       "      <td>0.0</td>\n",
       "      <td>0.0</td>\n",
       "      <td>0.0</td>\n",
       "      <td>0.0</td>\n",
       "      <td>0.0</td>\n",
       "      <td>0.0</td>\n",
       "      <td>0.0</td>\n",
       "    </tr>\n",
       "    <tr>\n",
       "      <th>34684</th>\n",
       "      <td>0</td>\n",
       "      <td>0</td>\n",
       "      <td>0</td>\n",
       "      <td>0</td>\n",
       "      <td>0</td>\n",
       "      <td>0</td>\n",
       "      <td>0</td>\n",
       "      <td>1</td>\n",
       "      <td>0</td>\n",
       "      <td>0</td>\n",
       "      <td>...</td>\n",
       "      <td>0.0</td>\n",
       "      <td>0.0</td>\n",
       "      <td>0.0</td>\n",
       "      <td>0.0</td>\n",
       "      <td>0.0</td>\n",
       "      <td>0.0</td>\n",
       "      <td>0.0</td>\n",
       "      <td>0.0</td>\n",
       "      <td>0.0</td>\n",
       "      <td>0.0</td>\n",
       "    </tr>\n",
       "  </tbody>\n",
       "</table>\n",
       "<p>5 rows × 1430 columns</p>\n",
       "</div>"
      ],
      "text/plain": [
       "       C_Alaska Airlines Inc.  C_American Airlines Inc.  \\\n",
       "33285                       0                         0   \n",
       "44745                       0                         0   \n",
       "987                         0                         0   \n",
       "58105                       0                         0   \n",
       "34684                       0                         0   \n",
       "\n",
       "       C_Continental Air Lines Inc.  C_Delta Air Lines Inc.  \\\n",
       "33285                             0                       0   \n",
       "44745                             0                       0   \n",
       "987                               0                       0   \n",
       "58105                             0                       0   \n",
       "34684                             0                       0   \n",
       "\n",
       "       C_Endeavor Air Inc.  C_Envoy Air  C_ExpressJet Airlines Inc.  \\\n",
       "33285                    0            0                           0   \n",
       "44745                    0            0                           1   \n",
       "987                      0            0                           1   \n",
       "58105                    0            0                           0   \n",
       "34684                    0            0                           0   \n",
       "\n",
       "       C_Frontier Airlines Inc.  C_Hawaiian Airlines Inc.  C_JetBlue Airways  \\\n",
       "33285                         0                         0                  0   \n",
       "44745                         0                         0                  0   \n",
       "987                           0                         0                  0   \n",
       "58105                         0                         0                  0   \n",
       "34684                         1                         0                  0   \n",
       "\n",
       "                ...             C_Hawaiian Airlines Inc.*O_MDW  \\\n",
       "33285           ...                                        0.0   \n",
       "44745           ...                                        0.0   \n",
       "987             ...                                        0.0   \n",
       "58105           ...                                        0.0   \n",
       "34684           ...                                        0.0   \n",
       "\n",
       "       C_United Air Lines Inc.*O_MDW  C_Frontier Airlines Inc.*D_MDW  \\\n",
       "33285                            0.0                             0.0   \n",
       "44745                            0.0                             0.0   \n",
       "987                              0.0                             0.0   \n",
       "58105                            0.0                             0.0   \n",
       "34684                            0.0                             0.0   \n",
       "\n",
       "       C_American Airlines Inc.*D_MDW  C_Frontier Airlines Inc.*O_MDW  \\\n",
       "33285                             0.0                             0.0   \n",
       "44745                             0.0                             0.0   \n",
       "987                               0.0                             0.0   \n",
       "58105                             0.0                             0.0   \n",
       "34684                             0.0                             0.0   \n",
       "\n",
       "       C_American Airlines Inc.*O_MDW  C_Virgin America*O_MDW  \\\n",
       "33285                             0.0                     0.0   \n",
       "44745                             0.0                     0.0   \n",
       "987                               0.0                     0.0   \n",
       "58105                             0.0                     0.0   \n",
       "34684                             0.0                     0.0   \n",
       "\n",
       "       C_SkyWest Airlines Inc.*O_MDW  C_Southwest Airlines Co.*D_MDW  \\\n",
       "33285                            0.0                             0.0   \n",
       "44745                            0.0                             0.0   \n",
       "987                              0.0                             0.0   \n",
       "58105                            0.0                             0.0   \n",
       "34684                            0.0                             0.0   \n",
       "\n",
       "       C_US Airways Inc.*D_MDW  \n",
       "33285                      0.0  \n",
       "44745                      0.0  \n",
       "987                        0.0  \n",
       "58105                      0.0  \n",
       "34684                      0.0  \n",
       "\n",
       "[5 rows x 1430 columns]"
      ]
     },
     "execution_count": 47,
     "metadata": {},
     "output_type": "execute_result"
    }
   ],
   "source": [
    "OnTime_XTrainFrames[0].head()"
   ]
  },
  {
   "cell_type": "code",
   "execution_count": 48,
   "metadata": {
    "collapsed": false
   },
   "outputs": [
    {
     "data": {
      "text/plain": [
       "pandas.sparse.frame.SparseDataFrame"
      ]
     },
     "execution_count": 48,
     "metadata": {},
     "output_type": "execute_result"
    }
   ],
   "source": [
    "type(OnTime_XTrainFrames[0])"
   ]
  },
  {
   "cell_type": "code",
   "execution_count": null,
   "metadata": {
    "collapsed": true
   },
   "outputs": [],
   "source": []
  }
 ],
 "metadata": {
  "kernelspec": {
   "display_name": "Python 2",
   "language": "python",
   "name": "python2"
  },
  "language_info": {
   "codemirror_mode": {
    "name": "ipython",
    "version": 2
   },
   "file_extension": ".py",
   "mimetype": "text/x-python",
   "name": "python",
   "nbconvert_exporter": "python",
   "pygments_lexer": "ipython2",
   "version": "2.7.11"
  }
 },
 "nbformat": 4,
 "nbformat_minor": 0
}
