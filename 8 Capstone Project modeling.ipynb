{
 "cells": [
  {
   "cell_type": "code",
   "execution_count": 1,
   "metadata": {
    "collapsed": false
   },
   "outputs": [
    {
     "name": "stderr",
     "output_type": "stream",
     "text": [
      "C:\\Users\\Will\\Anaconda2\\lib\\site-packages\\matplotlib\\__init__.py:872: UserWarning: axes.color_cycle is deprecated and replaced with axes.prop_cycle; please use the latter.\n",
      "  warnings.warn(self.msg_depr % (key, alt_key))\n"
     ]
    }
   ],
   "source": [
    "#Initial commands\n",
    "\n",
    "import pandas as pd\n",
    "import numpy as np\n",
    "import matplotlib.pyplot as plt\n",
    "%matplotlib inline\n",
    "import seaborn as sns"
   ]
  },
  {
   "cell_type": "code",
   "execution_count": 2,
   "metadata": {
    "collapsed": false
   },
   "outputs": [],
   "source": [
    "#Import data in batches instead of all at once\n",
    "\n",
    "OnTimeDataFrames = []\n",
    "for n in range(15):\n",
    "    #100,001 rows total: 100,000 of data, plus first row for column names!  Easy to mess up...\n",
    "    OnTimeDataFrames.append(pd.read_csv('Sample_2011_2016_car-mark-lat-long', nrows=100001,\n",
    "                                        skiprows=range(1, 1 + 100000*n) if n > 0 else None))"
   ]
  },
  {
   "cell_type": "code",
   "execution_count": 3,
   "metadata": {
    "collapsed": false
   },
   "outputs": [
    {
     "name": "stdout",
     "output_type": "stream",
     "text": [
      "(100001, 79)\n",
      "(100001, 79)\n",
      "(100001, 79)\n",
      "(100001, 79)\n",
      "(100001, 79)\n",
      "(100001, 79)\n",
      "(100001, 79)\n",
      "(100001, 79)\n",
      "(100001, 79)\n",
      "(100001, 79)\n",
      "(100001, 79)\n",
      "(100001, 79)\n",
      "(100001, 79)\n",
      "(100001, 79)\n",
      "(90434, 79)\n"
     ]
    }
   ],
   "source": [
    "#Check shapes of all data frames - all except the last should have 100,000 rows, all should have same no. of columns\n",
    "for X in OnTimeDataFrames: print X.shape"
   ]
  },
  {
   "cell_type": "code",
   "execution_count": 4,
   "metadata": {
    "collapsed": false
   },
   "outputs": [
    {
     "data": {
      "text/plain": [
       "Index([u'Unnamed: 0', u'Unnamed: 0.1', u'Year', u'Quarter', u'Month',\n",
       "       u'DayofMonth', u'DayOfWeek', u'FlightDate', u'UniqueCarrier',\n",
       "       u'AirlineID', u'Carrier', u'TailNum', u'FlightNum', u'OriginAirportID',\n",
       "       u'OriginAirportSeqID', u'OriginCityMarketID', u'Origin',\n",
       "       u'OriginCityName', u'OriginState', u'OriginStateFips',\n",
       "       u'OriginStateName', u'OriginWac', u'DestAirportID', u'DestAirportSeqID',\n",
       "       u'DestCityMarketID', u'Dest', u'DestCityName', u'DestState',\n",
       "       u'DestStateFips', u'DestStateName', u'DestWac', u'CRSDepTime',\n",
       "       u'DepTime', u'DepDelay', u'DepDelayMinutes', u'DepDel15',\n",
       "       u'DepartureDelayGroups', u'DepTimeBlk', u'TaxiOut', u'WheelsOff',\n",
       "       u'WheelsOn', u'TaxiIn', u'CRSArrTime', u'ArrTime', u'ArrDelay',\n",
       "       u'ArrDelayMinutes', u'ArrDel15', u'ArrivalDelayGroups', u'ArrTimeBlk',\n",
       "       u'Cancelled', u'CancellationCode', u'CRSElapsedTime',\n",
       "       u'ActualElapsedTime', u'AirTime', u'Flights', u'Distance',\n",
       "       u'DistanceGroup', u'CarrierDelay', u'WeatherDelay', u'NASDelay',\n",
       "       u'SecurityDelay', u'LateAircraftDelay', u'FirstDepTime',\n",
       "       u'TotalAddGTime', u'LongestAddGTime', u'Carrier Name',\n",
       "       u'ArrFlightsPerCity', u'DestMarket', u'OrigMarket', u'iata_faa_x',\n",
       "       u'orig_lat', u'orig_long', u'orig_elev', u'orig_zone', u'iata_faa_y',\n",
       "       u'dest_lat', u'dest_long', u'dest_elev', u'dest_zone'],\n",
       "      dtype='object')"
      ]
     },
     "execution_count": 4,
     "metadata": {},
     "output_type": "execute_result"
    }
   ],
   "source": [
    "#Check column names of second data frame\n",
    "OnTimeDataFrames[1].columns"
   ]
  },
  {
   "cell_type": "code",
   "execution_count": 5,
   "metadata": {
    "collapsed": false
   },
   "outputs": [],
   "source": [
    "#Check that all data frames have same column names\n",
    "assert np.all(X.columns == OnTimeDataFrames[0].columns for X in OnTimeDataFrames)"
   ]
  },
  {
   "cell_type": "code",
   "execution_count": 6,
   "metadata": {
    "collapsed": false
   },
   "outputs": [],
   "source": [
    "#Correct ExpressJet Airways issue\n",
    "for X in OnTimeDataFrames:\n",
    "    X[\"Carrier Name\"] = X[\"Carrier Name\"].replace(\"ExpressJet Airlines Inc. (1)\",\n",
    "                                                               \"ExpressJet Airlines Inc.\")"
   ]
  },
  {
   "cell_type": "code",
   "execution_count": 7,
   "metadata": {
    "collapsed": false
   },
   "outputs": [
    {
     "name": "stdout",
     "output_type": "stream",
     "text": [
      "(97702, 79)\n",
      "(96767, 79)\n",
      "(98632, 79)\n",
      "(98305, 79)\n",
      "(98376, 79)\n",
      "(98125, 79)\n",
      "(98547, 79)\n",
      "(98774, 79)\n",
      "(98359, 79)\n",
      "(98305, 79)\n",
      "(98463, 79)\n",
      "(99112, 79)\n",
      "(98756, 79)\n",
      "(96987, 79)\n",
      "(88456, 79)\n"
     ]
    }
   ],
   "source": [
    "#Get rid of rows with null values for ArrDelay\n",
    "OnTimeDataNoNull = [X[np.isfinite(X.ArrDelay)] for X in OnTimeDataFrames]\n",
    "for X in OnTimeDataNoNull: print X.shape"
   ]
  },
  {
   "cell_type": "code",
   "execution_count": 8,
   "metadata": {
    "collapsed": true
   },
   "outputs": [],
   "source": [
    "#Compute interactions for airlines * airports with a certain %\n",
    "def interactions_aa(X, pct):\n",
    "    #dictionary of features with percentage \"1\"s\n",
    "    PercentageDict = {}\n",
    "    for feature in X.columns:\n",
    "        PercentageDict[feature] = X[feature].mean(axis=1)\n",
    "    #calculate interactions\n",
    "    X1 = X.copy()\n",
    "    for feat_A in [name for name in X.columns if name[0] == 'C']:\n",
    "        for feat_B in [name for name in X.columns if name[0] in list('DO') and PercentageDict[name] > pct]:\n",
    "            X1[feat_A + \"*\" + feat_B] = (X1[feat_A].to_dense() * X1[feat_B].to_dense()).to_sparse()\n",
    "    return X1"
   ]
  },
  {
   "cell_type": "code",
   "execution_count": 9,
   "metadata": {
    "collapsed": true
   },
   "outputs": [],
   "source": [
    "#Create dummy variables\n",
    "def DummyRegressors(data):\n",
    "    #Create dummies for airline, origin and destination airports, month, and time of day\n",
    "    #Drop first column in each data frame to avoid singular matrix\n",
    "    #Also include ArrDelay variable so we don't have to grab this separately from the old data frame\n",
    "    CarrierDummies = pd.get_dummies(data[\"Carrier Name\"], prefix=\"C\", sparse=True, drop_first=True)\n",
    "    OriginDummies = pd.get_dummies(data.Origin, prefix=\"O\", sparse=True, drop_first=True)\n",
    "    DestDummies = pd.get_dummies(data.Dest, prefix=\"D\", sparse=True, drop_first=True)\n",
    "    MonthDummies = pd.get_dummies(data.Month, prefix=\"M\", sparse=True, drop_first=True)\n",
    "    TimeDummies = pd.get_dummies(data.DepTimeBlk, prefix=\"T\", sparse=True, drop_first=True)\n",
    "    ArrDelay = data.ArrDelay\n",
    "    \n",
    "    return pd.concat([CarrierDummies, OriginDummies, DestDummies, MonthDummies, TimeDummies, ArrDelay], axis=1)"
   ]
  },
  {
   "cell_type": "code",
   "execution_count": 10,
   "metadata": {
    "collapsed": false
   },
   "outputs": [],
   "source": [
    "#Create list of data frames with dummies instead of raw data\n",
    "OnTimeDummies = [DummyRegressors(X) for X in OnTimeDataNoNull]"
   ]
  },
  {
   "cell_type": "code",
   "execution_count": 11,
   "metadata": {
    "collapsed": false
   },
   "outputs": [
    {
     "name": "stdout",
     "output_type": "stream",
     "text": [
      "(97702, 172)\n",
      "(96767, 205)\n",
      "(98632, 172)\n",
      "(98305, 186)\n",
      "(98376, 168)\n",
      "(98125, 166)\n",
      "(98547, 224)\n",
      "(98774, 222)\n",
      "(98359, 202)\n",
      "(98305, 220)\n",
      "(98463, 170)\n",
      "(99112, 182)\n",
      "(98756, 216)\n",
      "(96987, 235)\n",
      "(88456, 317)\n"
     ]
    }
   ],
   "source": [
    "for X in OnTimeDummies: print X.shape"
   ]
  },
  {
   "cell_type": "markdown",
   "metadata": {},
   "source": [
    "Problem: not all airports and airlines are in all the data frames!  This makes sense and is a drawback of reading in the data in separate frames rather than splitting it up afterward.  We need to fix it by making sure if a column name appears in one dummy frame, it appears in all of them."
   ]
  },
  {
   "cell_type": "code",
   "execution_count": 12,
   "metadata": {
    "collapsed": false
   },
   "outputs": [
    {
     "data": {
      "text/plain": [
       "{'ArrDelay',\n",
       " 'C_Alaska Airlines Inc.',\n",
       " 'C_American Airlines Inc.',\n",
       " 'C_Continental Air Lines Inc.',\n",
       " 'C_Delta Air Lines Inc.',\n",
       " 'C_Endeavor Air Inc.',\n",
       " 'C_Envoy Air',\n",
       " 'C_ExpressJet Airlines Inc.',\n",
       " 'C_Frontier Airlines Inc.',\n",
       " 'C_Hawaiian Airlines Inc.',\n",
       " 'C_JetBlue Airways',\n",
       " 'C_Mesa Airlines Inc.',\n",
       " 'C_SkyWest Airlines Inc.',\n",
       " 'C_Southwest Airlines Co.',\n",
       " 'C_Spirit Air Lines',\n",
       " 'C_US Airways Inc.',\n",
       " 'C_United Air Lines Inc.',\n",
       " 'D_ABY',\n",
       " 'D_ACK',\n",
       " 'D_ACT',\n",
       " 'D_ACV',\n",
       " 'D_ADK',\n",
       " 'D_ADQ',\n",
       " 'D_AGS',\n",
       " 'D_AKN',\n",
       " 'D_APN',\n",
       " 'D_AZA',\n",
       " 'D_BET',\n",
       " 'D_BFL',\n",
       " 'D_BGM',\n",
       " 'D_BGR',\n",
       " 'D_BJI',\n",
       " 'D_BLI',\n",
       " 'D_BPT',\n",
       " 'D_BQK',\n",
       " 'D_BQN',\n",
       " 'D_BRD',\n",
       " 'D_BRO',\n",
       " 'D_BRW',\n",
       " 'D_BTM',\n",
       " 'D_BTR',\n",
       " 'D_CDC',\n",
       " 'D_CDV',\n",
       " 'D_CEC',\n",
       " 'D_CIC',\n",
       " 'D_CIU',\n",
       " 'D_CLD',\n",
       " 'D_CLL',\n",
       " 'D_CNY',\n",
       " 'D_CPR',\n",
       " 'D_CRP',\n",
       " 'D_CSG',\n",
       " 'D_CYS',\n",
       " 'D_DAB',\n",
       " 'D_DHN',\n",
       " 'D_DIK',\n",
       " 'D_DLG',\n",
       " 'D_DRO',\n",
       " 'D_DRT',\n",
       " 'D_DVL',\n",
       " 'D_ECP',\n",
       " 'D_EKO',\n",
       " 'D_ESC',\n",
       " 'D_EUG',\n",
       " 'D_EWN',\n",
       " 'D_EYW',\n",
       " 'D_FAT',\n",
       " 'D_FAY',\n",
       " 'D_FLG',\n",
       " 'D_FSM',\n",
       " 'D_GCC',\n",
       " 'D_GCK',\n",
       " 'D_GFK',\n",
       " 'D_GGG',\n",
       " 'D_GJT',\n",
       " 'D_GNV',\n",
       " 'D_GRI',\n",
       " 'D_GRK',\n",
       " 'D_GST',\n",
       " 'D_GTF',\n",
       " 'D_GTR',\n",
       " 'D_GUM',\n",
       " 'D_HIB',\n",
       " 'D_HLN',\n",
       " 'D_HOB',\n",
       " 'D_HRL',\n",
       " 'D_HYA',\n",
       " 'D_HYS',\n",
       " 'D_IAG',\n",
       " 'D_IDA',\n",
       " 'D_IMT',\n",
       " 'D_INL',\n",
       " 'D_IPL',\n",
       " 'D_ISN',\n",
       " 'D_ITH',\n",
       " 'D_ITO',\n",
       " 'D_IYK',\n",
       " 'D_JLN',\n",
       " 'D_JMS',\n",
       " 'D_JNU',\n",
       " 'D_KOA',\n",
       " 'D_KTN',\n",
       " 'D_LAR',\n",
       " 'D_LAW',\n",
       " 'D_LBB',\n",
       " 'D_LCH',\n",
       " 'D_LFT',\n",
       " 'D_LIH',\n",
       " 'D_LMT',\n",
       " 'D_LRD',\n",
       " 'D_LWB',\n",
       " 'D_LWS',\n",
       " 'D_MAF',\n",
       " 'D_MDW',\n",
       " 'D_MEI',\n",
       " 'D_MFE',\n",
       " 'D_MFR',\n",
       " 'D_MGM',\n",
       " 'D_MLB',\n",
       " 'D_MLU',\n",
       " 'D_MMH',\n",
       " 'D_MOD',\n",
       " 'D_MOT',\n",
       " 'D_MRY',\n",
       " 'D_MVY',\n",
       " 'D_OAJ',\n",
       " 'D_OME',\n",
       " 'D_ORH',\n",
       " 'D_OTH',\n",
       " 'D_OTZ',\n",
       " 'D_PBG',\n",
       " 'D_PHF',\n",
       " 'D_PIB',\n",
       " 'D_PIH',\n",
       " 'D_PLN',\n",
       " 'D_PPG',\n",
       " 'D_PSC',\n",
       " 'D_PSE',\n",
       " 'D_PSG',\n",
       " 'D_PUB',\n",
       " 'D_RDD',\n",
       " 'D_RDM',\n",
       " 'D_RFD',\n",
       " 'D_RHI',\n",
       " 'D_RKS',\n",
       " 'D_SAF',\n",
       " 'D_SBA',\n",
       " 'D_SBP',\n",
       " 'D_SCC',\n",
       " 'D_SGU',\n",
       " 'D_SHD',\n",
       " 'D_SHV',\n",
       " 'D_SIT',\n",
       " 'D_SJT',\n",
       " 'D_SMX',\n",
       " 'D_SPS',\n",
       " 'D_STX',\n",
       " 'D_SUN',\n",
       " 'D_SWF',\n",
       " 'D_TLH',\n",
       " 'D_TWF',\n",
       " 'D_TYR',\n",
       " 'D_VEL',\n",
       " 'D_VLD',\n",
       " 'D_WRG',\n",
       " 'D_WYS',\n",
       " 'D_YAK',\n",
       " 'D_YUM',\n",
       " 'M_10',\n",
       " 'M_11',\n",
       " 'M_12',\n",
       " 'M_2',\n",
       " 'M_3',\n",
       " 'M_4',\n",
       " 'M_5',\n",
       " 'M_6',\n",
       " 'M_7',\n",
       " 'M_8',\n",
       " 'M_9',\n",
       " 'O_ACV',\n",
       " 'O_ALB',\n",
       " 'O_ANC',\n",
       " 'O_APN',\n",
       " 'O_ATL',\n",
       " 'O_AUS',\n",
       " 'O_BDL',\n",
       " 'O_BHM',\n",
       " 'O_BKG',\n",
       " 'O_BNA',\n",
       " 'O_BOI',\n",
       " 'O_BOS',\n",
       " 'O_BRD',\n",
       " 'O_BRW',\n",
       " 'O_BUF',\n",
       " 'O_BWI',\n",
       " 'O_CAK',\n",
       " 'O_CDV',\n",
       " 'O_CEC',\n",
       " 'O_CHS',\n",
       " 'O_CLE',\n",
       " 'O_CLT',\n",
       " 'O_CMH',\n",
       " 'O_DAL',\n",
       " 'O_DAY',\n",
       " 'O_DCA',\n",
       " 'O_DEN',\n",
       " 'O_DFW',\n",
       " 'O_DSM',\n",
       " 'O_DTW',\n",
       " 'O_DVL',\n",
       " 'O_ESC',\n",
       " 'O_EUG',\n",
       " 'O_EWR',\n",
       " 'O_FAI',\n",
       " 'O_FLL',\n",
       " 'O_FNT',\n",
       " 'O_GCC',\n",
       " 'O_GEG',\n",
       " 'O_GRR',\n",
       " 'O_GSP',\n",
       " 'O_GST',\n",
       " 'O_HIB',\n",
       " 'O_HNL',\n",
       " 'O_HOU',\n",
       " 'O_IAD',\n",
       " 'O_IAH',\n",
       " 'O_ICT',\n",
       " 'O_ILG',\n",
       " 'O_IMT',\n",
       " 'O_IND',\n",
       " 'O_INL',\n",
       " 'O_ISP',\n",
       " 'O_ITO',\n",
       " 'O_JAN',\n",
       " 'O_JAX',\n",
       " 'O_JFK',\n",
       " 'O_JMS',\n",
       " 'O_JNU',\n",
       " 'O_KTN',\n",
       " 'O_LAS',\n",
       " 'O_LAX',\n",
       " 'O_LGA',\n",
       " 'O_LIT',\n",
       " 'O_MCI',\n",
       " 'O_MCO',\n",
       " 'O_MDT',\n",
       " 'O_MEI',\n",
       " 'O_MEM',\n",
       " 'O_MHT',\n",
       " 'O_MIA',\n",
       " 'O_MSP',\n",
       " 'O_MSY',\n",
       " 'O_MYR',\n",
       " 'O_OAK',\n",
       " 'O_OGG',\n",
       " 'O_OKC',\n",
       " 'O_OMA',\n",
       " 'O_OME',\n",
       " 'O_ONT',\n",
       " 'O_ORF',\n",
       " 'O_OTZ',\n",
       " 'O_PDX',\n",
       " 'O_PHL',\n",
       " 'O_PHX',\n",
       " 'O_PIB',\n",
       " 'O_PIT',\n",
       " 'O_PLN',\n",
       " 'O_PNS',\n",
       " 'O_PSG',\n",
       " 'O_PVD',\n",
       " 'O_PWM',\n",
       " 'O_RDU',\n",
       " 'O_RHI',\n",
       " 'O_RKS',\n",
       " 'O_RNO',\n",
       " 'O_ROA',\n",
       " 'O_ROC',\n",
       " 'O_RSW',\n",
       " 'O_SAN',\n",
       " 'O_SAT',\n",
       " 'O_SCC',\n",
       " 'O_SDF',\n",
       " 'O_SEA',\n",
       " 'O_SFO',\n",
       " 'O_SIT',\n",
       " 'O_SJC',\n",
       " 'O_SJU',\n",
       " 'O_SLC',\n",
       " 'O_SMF',\n",
       " 'O_SNA',\n",
       " 'O_SRQ',\n",
       " 'O_STL',\n",
       " 'O_TPA',\n",
       " 'O_TTN',\n",
       " 'O_TUL',\n",
       " 'O_TUS',\n",
       " 'O_TYS',\n",
       " 'O_WRG',\n",
       " 'O_YAK',\n",
       " 'T_0600-0659',\n",
       " 'T_0700-0759',\n",
       " 'T_0800-0859',\n",
       " 'T_0900-0959',\n",
       " 'T_1000-1059',\n",
       " 'T_1100-1159',\n",
       " 'T_1200-1259',\n",
       " 'T_1300-1359',\n",
       " 'T_1400-1459',\n",
       " 'T_1500-1559',\n",
       " 'T_1600-1659',\n",
       " 'T_1700-1759',\n",
       " 'T_1800-1859',\n",
       " 'T_1900-1959',\n",
       " 'T_2000-2059',\n",
       " 'T_2100-2159',\n",
       " 'T_2200-2259',\n",
       " 'T_2300-2359'}"
      ]
     },
     "execution_count": 12,
     "metadata": {},
     "output_type": "execute_result"
    }
   ],
   "source": [
    "#create set of dummies that appear in any data frame, so each only appears once\n",
    "DummySet = set([name for name in X.columns for X in OnTimeDummies])\n",
    "DummySet"
   ]
  },
  {
   "cell_type": "code",
   "execution_count": 13,
   "metadata": {
    "collapsed": false
   },
   "outputs": [
    {
     "data": {
      "text/plain": [
       "317"
      ]
     },
     "execution_count": 13,
     "metadata": {},
     "output_type": "execute_result"
    }
   ],
   "source": [
    "len(DummySet) # This seems wrong - only taking the dummies from the last frame"
   ]
  },
  {
   "cell_type": "code",
   "execution_count": 14,
   "metadata": {
    "collapsed": false
   },
   "outputs": [
    {
     "data": {
      "text/plain": [
       "706"
      ]
     },
     "execution_count": 14,
     "metadata": {},
     "output_type": "execute_result"
    }
   ],
   "source": [
    "#Try it the less efficient but more correct way\n",
    "DummyList = []\n",
    "for X in OnTimeDummies:\n",
    "    for name in X.columns:\n",
    "        DummyList.append(name)\n",
    "DummySet = set(DummyList)\n",
    "len(DummySet)"
   ]
  },
  {
   "cell_type": "code",
   "execution_count": 15,
   "metadata": {
    "collapsed": false
   },
   "outputs": [
    {
     "name": "stdout",
     "output_type": "stream",
     "text": [
      "706\n",
      "706\n",
      "706\n",
      "706\n",
      "706\n",
      "706\n",
      "706\n",
      "706\n",
      "706\n",
      "706\n",
      "706\n",
      "706\n",
      "706\n",
      "706\n",
      "706\n"
     ]
    }
   ],
   "source": [
    "#Now add dummies for all variables in set to OnTimeDummies frames\n",
    "for X in OnTimeDummies:\n",
    "    for name in DummySet:\n",
    "        if name not in X.columns:\n",
    "            X[name] = 0\n",
    "#This code raised Memory Error - not sure why"
   ]
  },
  {
   "cell_type": "code",
   "execution_count": null,
   "metadata": {
    "collapsed": true
   },
   "outputs": [],
   "source": [
    "#Now check shapes of dummy frames again\n",
    "for X in OnTimeDummies: print X.shape"
   ]
  },
  {
   "cell_type": "code",
   "execution_count": 66,
   "metadata": {
    "collapsed": false
   },
   "outputs": [
    {
     "ename": "KeyboardInterrupt",
     "evalue": "",
     "output_type": "error",
     "traceback": [
      "\u001b[1;31m---------------------------------------------------------------------------\u001b[0m",
      "\u001b[1;31mKeyboardInterrupt\u001b[0m                         Traceback (most recent call last)",
      "\u001b[1;32m<ipython-input-66-1165c25122ba>\u001b[0m in \u001b[0;36m<module>\u001b[1;34m()\u001b[0m\n\u001b[0;32m      1\u001b[0m \u001b[1;31m#create list of data frames with interactions included\u001b[0m\u001b[1;33m\u001b[0m\u001b[1;33m\u001b[0m\u001b[0m\n\u001b[0;32m      2\u001b[0m \u001b[1;31m#airport threshold: 1.5% of flights\u001b[0m\u001b[1;33m\u001b[0m\u001b[1;33m\u001b[0m\u001b[0m\n\u001b[1;32m----> 3\u001b[1;33m \u001b[0mOnTimeDummies_Inter\u001b[0m \u001b[1;33m=\u001b[0m \u001b[1;33m[\u001b[0m\u001b[0minteractions_aa\u001b[0m\u001b[1;33m(\u001b[0m\u001b[0mX\u001b[0m\u001b[1;33m,\u001b[0m \u001b[1;36m.015\u001b[0m\u001b[1;33m)\u001b[0m \u001b[1;32mfor\u001b[0m \u001b[0mX\u001b[0m \u001b[1;32min\u001b[0m \u001b[0mOnTimeDummies\u001b[0m\u001b[1;33m]\u001b[0m\u001b[1;33m\u001b[0m\u001b[0m\n\u001b[0m",
      "\u001b[1;32m<ipython-input-11-6b304c002e1d>\u001b[0m in \u001b[0;36minteractions_aa\u001b[1;34m(X, pct)\u001b[0m\n\u001b[0;32m      9\u001b[0m     \u001b[1;32mfor\u001b[0m \u001b[0mfeat_A\u001b[0m \u001b[1;32min\u001b[0m \u001b[1;33m[\u001b[0m\u001b[0mname\u001b[0m \u001b[1;32mfor\u001b[0m \u001b[0mname\u001b[0m \u001b[1;32min\u001b[0m \u001b[0mX\u001b[0m\u001b[1;33m.\u001b[0m\u001b[0mcolumns\u001b[0m \u001b[1;32mif\u001b[0m \u001b[0mname\u001b[0m\u001b[1;33m[\u001b[0m\u001b[1;36m0\u001b[0m\u001b[1;33m]\u001b[0m \u001b[1;33m==\u001b[0m \u001b[1;34m'C'\u001b[0m\u001b[1;33m]\u001b[0m\u001b[1;33m:\u001b[0m\u001b[1;33m\u001b[0m\u001b[0m\n\u001b[0;32m     10\u001b[0m         \u001b[1;32mfor\u001b[0m \u001b[0mfeat_B\u001b[0m \u001b[1;32min\u001b[0m \u001b[1;33m[\u001b[0m\u001b[0mname\u001b[0m \u001b[1;32mfor\u001b[0m \u001b[0mname\u001b[0m \u001b[1;32min\u001b[0m \u001b[0mX\u001b[0m\u001b[1;33m.\u001b[0m\u001b[0mcolumns\u001b[0m \u001b[1;32mif\u001b[0m \u001b[0mname\u001b[0m\u001b[1;33m[\u001b[0m\u001b[1;36m0\u001b[0m\u001b[1;33m]\u001b[0m \u001b[1;32min\u001b[0m \u001b[0mlist\u001b[0m\u001b[1;33m(\u001b[0m\u001b[1;34m'DO'\u001b[0m\u001b[1;33m)\u001b[0m \u001b[1;32mand\u001b[0m \u001b[0mPercentageDict\u001b[0m\u001b[1;33m[\u001b[0m\u001b[0mname\u001b[0m\u001b[1;33m]\u001b[0m \u001b[1;33m>\u001b[0m \u001b[0mpct\u001b[0m\u001b[1;33m]\u001b[0m\u001b[1;33m:\u001b[0m\u001b[1;33m\u001b[0m\u001b[0m\n\u001b[1;32m---> 11\u001b[1;33m             \u001b[0mX1\u001b[0m\u001b[1;33m[\u001b[0m\u001b[0mfeat_A\u001b[0m \u001b[1;33m+\u001b[0m \u001b[1;34m\"*\"\u001b[0m \u001b[1;33m+\u001b[0m \u001b[0mfeat_B\u001b[0m\u001b[1;33m]\u001b[0m \u001b[1;33m=\u001b[0m \u001b[1;33m(\u001b[0m\u001b[0mX1\u001b[0m\u001b[1;33m[\u001b[0m\u001b[0mfeat_A\u001b[0m\u001b[1;33m]\u001b[0m\u001b[1;33m.\u001b[0m\u001b[0mto_dense\u001b[0m\u001b[1;33m(\u001b[0m\u001b[1;33m)\u001b[0m \u001b[1;33m*\u001b[0m \u001b[0mX1\u001b[0m\u001b[1;33m[\u001b[0m\u001b[0mfeat_B\u001b[0m\u001b[1;33m]\u001b[0m\u001b[1;33m.\u001b[0m\u001b[0mto_dense\u001b[0m\u001b[1;33m(\u001b[0m\u001b[1;33m)\u001b[0m\u001b[1;33m)\u001b[0m\u001b[1;33m.\u001b[0m\u001b[0mto_sparse\u001b[0m\u001b[1;33m(\u001b[0m\u001b[1;33m)\u001b[0m\u001b[1;33m\u001b[0m\u001b[0m\n\u001b[0m\u001b[0;32m     12\u001b[0m     \u001b[1;32mreturn\u001b[0m \u001b[0mX1\u001b[0m\u001b[1;33m\u001b[0m\u001b[0m\n",
      "\u001b[1;32mC:\\Users\\Will\\Anaconda2\\lib\\site-packages\\pandas\\core\\frame.pyc\u001b[0m in \u001b[0;36m__setitem__\u001b[1;34m(self, key, value)\u001b[0m\n\u001b[0;32m   2417\u001b[0m         \u001b[1;32melse\u001b[0m\u001b[1;33m:\u001b[0m\u001b[1;33m\u001b[0m\u001b[0m\n\u001b[0;32m   2418\u001b[0m             \u001b[1;31m# set column\u001b[0m\u001b[1;33m\u001b[0m\u001b[1;33m\u001b[0m\u001b[0m\n\u001b[1;32m-> 2419\u001b[1;33m             \u001b[0mself\u001b[0m\u001b[1;33m.\u001b[0m\u001b[0m_set_item\u001b[0m\u001b[1;33m(\u001b[0m\u001b[0mkey\u001b[0m\u001b[1;33m,\u001b[0m \u001b[0mvalue\u001b[0m\u001b[1;33m)\u001b[0m\u001b[1;33m\u001b[0m\u001b[0m\n\u001b[0m\u001b[0;32m   2420\u001b[0m \u001b[1;33m\u001b[0m\u001b[0m\n\u001b[0;32m   2421\u001b[0m     \u001b[1;32mdef\u001b[0m \u001b[0m_setitem_slice\u001b[0m\u001b[1;33m(\u001b[0m\u001b[0mself\u001b[0m\u001b[1;33m,\u001b[0m \u001b[0mkey\u001b[0m\u001b[1;33m,\u001b[0m \u001b[0mvalue\u001b[0m\u001b[1;33m)\u001b[0m\u001b[1;33m:\u001b[0m\u001b[1;33m\u001b[0m\u001b[0m\n",
      "\u001b[1;32mC:\\Users\\Will\\Anaconda2\\lib\\site-packages\\pandas\\core\\frame.pyc\u001b[0m in \u001b[0;36m_set_item\u001b[1;34m(self, key, value)\u001b[0m\n\u001b[0;32m   2484\u001b[0m         \u001b[0mself\u001b[0m\u001b[1;33m.\u001b[0m\u001b[0m_ensure_valid_index\u001b[0m\u001b[1;33m(\u001b[0m\u001b[0mvalue\u001b[0m\u001b[1;33m)\u001b[0m\u001b[1;33m\u001b[0m\u001b[0m\n\u001b[0;32m   2485\u001b[0m         \u001b[0mvalue\u001b[0m \u001b[1;33m=\u001b[0m \u001b[0mself\u001b[0m\u001b[1;33m.\u001b[0m\u001b[0m_sanitize_column\u001b[0m\u001b[1;33m(\u001b[0m\u001b[0mkey\u001b[0m\u001b[1;33m,\u001b[0m \u001b[0mvalue\u001b[0m\u001b[1;33m)\u001b[0m\u001b[1;33m\u001b[0m\u001b[0m\n\u001b[1;32m-> 2486\u001b[1;33m         \u001b[0mNDFrame\u001b[0m\u001b[1;33m.\u001b[0m\u001b[0m_set_item\u001b[0m\u001b[1;33m(\u001b[0m\u001b[0mself\u001b[0m\u001b[1;33m,\u001b[0m \u001b[0mkey\u001b[0m\u001b[1;33m,\u001b[0m \u001b[0mvalue\u001b[0m\u001b[1;33m)\u001b[0m\u001b[1;33m\u001b[0m\u001b[0m\n\u001b[0m\u001b[0;32m   2487\u001b[0m \u001b[1;33m\u001b[0m\u001b[0m\n\u001b[0;32m   2488\u001b[0m         \u001b[1;31m# check if we are modifying a copy\u001b[0m\u001b[1;33m\u001b[0m\u001b[1;33m\u001b[0m\u001b[0m\n",
      "\u001b[1;32mC:\\Users\\Will\\Anaconda2\\lib\\site-packages\\pandas\\core\\generic.pyc\u001b[0m in \u001b[0;36m_set_item\u001b[1;34m(self, key, value)\u001b[0m\n\u001b[0;32m   1498\u001b[0m \u001b[1;33m\u001b[0m\u001b[0m\n\u001b[0;32m   1499\u001b[0m     \u001b[1;32mdef\u001b[0m \u001b[0m_set_item\u001b[0m\u001b[1;33m(\u001b[0m\u001b[0mself\u001b[0m\u001b[1;33m,\u001b[0m \u001b[0mkey\u001b[0m\u001b[1;33m,\u001b[0m \u001b[0mvalue\u001b[0m\u001b[1;33m)\u001b[0m\u001b[1;33m:\u001b[0m\u001b[1;33m\u001b[0m\u001b[0m\n\u001b[1;32m-> 1500\u001b[1;33m         \u001b[0mself\u001b[0m\u001b[1;33m.\u001b[0m\u001b[0m_data\u001b[0m\u001b[1;33m.\u001b[0m\u001b[0mset\u001b[0m\u001b[1;33m(\u001b[0m\u001b[0mkey\u001b[0m\u001b[1;33m,\u001b[0m \u001b[0mvalue\u001b[0m\u001b[1;33m)\u001b[0m\u001b[1;33m\u001b[0m\u001b[0m\n\u001b[0m\u001b[0;32m   1501\u001b[0m         \u001b[0mself\u001b[0m\u001b[1;33m.\u001b[0m\u001b[0m_clear_item_cache\u001b[0m\u001b[1;33m(\u001b[0m\u001b[1;33m)\u001b[0m\u001b[1;33m\u001b[0m\u001b[0m\n\u001b[0;32m   1502\u001b[0m \u001b[1;33m\u001b[0m\u001b[0m\n",
      "\u001b[1;32mC:\\Users\\Will\\Anaconda2\\lib\\site-packages\\pandas\\core\\internals.pyc\u001b[0m in \u001b[0;36mset\u001b[1;34m(self, item, value, check)\u001b[0m\n\u001b[0;32m   3667\u001b[0m         \u001b[1;32mexcept\u001b[0m \u001b[0mKeyError\u001b[0m\u001b[1;33m:\u001b[0m\u001b[1;33m\u001b[0m\u001b[0m\n\u001b[0;32m   3668\u001b[0m             \u001b[1;31m# This item wasn't present, just insert at end\u001b[0m\u001b[1;33m\u001b[0m\u001b[1;33m\u001b[0m\u001b[0m\n\u001b[1;32m-> 3669\u001b[1;33m             \u001b[0mself\u001b[0m\u001b[1;33m.\u001b[0m\u001b[0minsert\u001b[0m\u001b[1;33m(\u001b[0m\u001b[0mlen\u001b[0m\u001b[1;33m(\u001b[0m\u001b[0mself\u001b[0m\u001b[1;33m.\u001b[0m\u001b[0mitems\u001b[0m\u001b[1;33m)\u001b[0m\u001b[1;33m,\u001b[0m \u001b[0mitem\u001b[0m\u001b[1;33m,\u001b[0m \u001b[0mvalue\u001b[0m\u001b[1;33m)\u001b[0m\u001b[1;33m\u001b[0m\u001b[0m\n\u001b[0m\u001b[0;32m   3670\u001b[0m             \u001b[1;32mreturn\u001b[0m\u001b[1;33m\u001b[0m\u001b[0m\n\u001b[0;32m   3671\u001b[0m \u001b[1;33m\u001b[0m\u001b[0m\n",
      "\u001b[1;32mC:\\Users\\Will\\Anaconda2\\lib\\site-packages\\pandas\\core\\internals.pyc\u001b[0m in \u001b[0;36minsert\u001b[1;34m(self, loc, item, value, allow_duplicates)\u001b[0m\n\u001b[0;32m   3782\u001b[0m             \u001b[1;31m# np.append is a lot faster (at least in numpy 1.7.1), let's use it\u001b[0m\u001b[1;33m\u001b[0m\u001b[1;33m\u001b[0m\u001b[0m\n\u001b[0;32m   3783\u001b[0m             \u001b[1;31m# if we can.\u001b[0m\u001b[1;33m\u001b[0m\u001b[1;33m\u001b[0m\u001b[0m\n\u001b[1;32m-> 3784\u001b[1;33m             \u001b[0mself\u001b[0m\u001b[1;33m.\u001b[0m\u001b[0m_blklocs\u001b[0m \u001b[1;33m=\u001b[0m \u001b[0mnp\u001b[0m\u001b[1;33m.\u001b[0m\u001b[0mappend\u001b[0m\u001b[1;33m(\u001b[0m\u001b[0mself\u001b[0m\u001b[1;33m.\u001b[0m\u001b[0m_blklocs\u001b[0m\u001b[1;33m,\u001b[0m \u001b[1;36m0\u001b[0m\u001b[1;33m)\u001b[0m\u001b[1;33m\u001b[0m\u001b[0m\n\u001b[0m\u001b[0;32m   3785\u001b[0m             \u001b[0mself\u001b[0m\u001b[1;33m.\u001b[0m\u001b[0m_blknos\u001b[0m \u001b[1;33m=\u001b[0m \u001b[0mnp\u001b[0m\u001b[1;33m.\u001b[0m\u001b[0mappend\u001b[0m\u001b[1;33m(\u001b[0m\u001b[0mself\u001b[0m\u001b[1;33m.\u001b[0m\u001b[0m_blknos\u001b[0m\u001b[1;33m,\u001b[0m \u001b[0mlen\u001b[0m\u001b[1;33m(\u001b[0m\u001b[0mself\u001b[0m\u001b[1;33m.\u001b[0m\u001b[0mblocks\u001b[0m\u001b[1;33m)\u001b[0m\u001b[1;33m)\u001b[0m\u001b[1;33m\u001b[0m\u001b[0m\n\u001b[0;32m   3786\u001b[0m         \u001b[1;32melse\u001b[0m\u001b[1;33m:\u001b[0m\u001b[1;33m\u001b[0m\u001b[0m\n",
      "\u001b[1;32mC:\\Users\\Will\\Anaconda2\\lib\\site-packages\\numpy\\lib\\function_base.pyc\u001b[0m in \u001b[0;36mappend\u001b[1;34m(arr, values, axis)\u001b[0m\n\u001b[0;32m   4573\u001b[0m         \u001b[0mvalues\u001b[0m \u001b[1;33m=\u001b[0m \u001b[0mravel\u001b[0m\u001b[1;33m(\u001b[0m\u001b[0mvalues\u001b[0m\u001b[1;33m)\u001b[0m\u001b[1;33m\u001b[0m\u001b[0m\n\u001b[0;32m   4574\u001b[0m         \u001b[0maxis\u001b[0m \u001b[1;33m=\u001b[0m \u001b[0marr\u001b[0m\u001b[1;33m.\u001b[0m\u001b[0mndim\u001b[0m\u001b[1;33m-\u001b[0m\u001b[1;36m1\u001b[0m\u001b[1;33m\u001b[0m\u001b[0m\n\u001b[1;32m-> 4575\u001b[1;33m     \u001b[1;32mreturn\u001b[0m \u001b[0mconcatenate\u001b[0m\u001b[1;33m(\u001b[0m\u001b[1;33m(\u001b[0m\u001b[0marr\u001b[0m\u001b[1;33m,\u001b[0m \u001b[0mvalues\u001b[0m\u001b[1;33m)\u001b[0m\u001b[1;33m,\u001b[0m \u001b[0maxis\u001b[0m\u001b[1;33m=\u001b[0m\u001b[0maxis\u001b[0m\u001b[1;33m)\u001b[0m\u001b[1;33m\u001b[0m\u001b[0m\n\u001b[0m\u001b[0;32m   4576\u001b[0m \u001b[1;33m\u001b[0m\u001b[0m\n",
      "\u001b[1;31mKeyboardInterrupt\u001b[0m: "
     ]
    }
   ],
   "source": [
    "#create list of data frames with interactions included\n",
    "#airport threshold: 1.5% of flights\n",
    "OnTimeDummies_Inter = [interactions_aa(X, .015) for X in OnTimeDummies]"
   ]
  },
  {
   "cell_type": "code",
   "execution_count": null,
   "metadata": {
    "collapsed": false
   },
   "outputs": [],
   "source": [
    "for X in OnTimeDummies_Inter: print X.shape"
   ]
  },
  {
   "cell_type": "code",
   "execution_count": 29,
   "metadata": {
    "collapsed": false
   },
   "outputs": [],
   "source": [
    "#Divide each interaction data set into training and test data sets\n",
    "from sklearn.model_selection import train_test_split"
   ]
  },
  {
   "cell_type": "code",
   "execution_count": 37,
   "metadata": {
    "collapsed": false
   },
   "outputs": [],
   "source": [
    "OnTime_XTrainFrames, OnTime_XTestFrames, OnTime_YTrainFrames, OnTime_YTestFrames = [], [], [], []\n",
    "for D in OnTimeDummies_Inter:\n",
    "    X_train, X_test, Y_train, Y_test = train_test_split(D.drop(\"ArrDelay\", axis=1), D.ArrDelay)\n",
    "    OnTime_XTrainFrames.append(X_train)\n",
    "    OnTime_XTestFrames.append(X_test)\n",
    "    OnTime_YTrainFrames.append(Y_train)\n",
    "    OnTime_YTestFrames.append(Y_test)"
   ]
  },
  {
   "cell_type": "code",
   "execution_count": 38,
   "metadata": {
    "collapsed": true
   },
   "outputs": [],
   "source": [
    "#import modeling formulas\n",
    "from sklearn.linear_model import SGDRegressor, SGDClassifier"
   ]
  },
  {
   "cell_type": "code",
   "execution_count": 39,
   "metadata": {
    "collapsed": true
   },
   "outputs": [],
   "source": [
    "\"\"\"1. linear regression model using SGDRegressor, penalty = L1\"\"\"\n",
    "linear = SGDRegressor(penalty='l1')"
   ]
  },
  {
   "cell_type": "code",
   "execution_count": 40,
   "metadata": {
    "collapsed": false
   },
   "outputs": [
    {
     "ename": "ValueError",
     "evalue": "Number of features 612 does not match previous data 441.",
     "output_type": "error",
     "traceback": [
      "\u001b[1;31m---------------------------------------------------------------------------\u001b[0m",
      "\u001b[1;31mValueError\u001b[0m                                Traceback (most recent call last)",
      "\u001b[1;32m<ipython-input-40-53332d942baa>\u001b[0m in \u001b[0;36m<module>\u001b[1;34m()\u001b[0m\n\u001b[0;32m      1\u001b[0m \u001b[1;31m#Use SGDRegressor partial_fit function to train model on training data\u001b[0m\u001b[1;33m\u001b[0m\u001b[1;33m\u001b[0m\u001b[0m\n\u001b[0;32m      2\u001b[0m \u001b[1;32mfor\u001b[0m \u001b[0mn\u001b[0m \u001b[1;32min\u001b[0m \u001b[0mrange\u001b[0m\u001b[1;33m(\u001b[0m\u001b[0mlen\u001b[0m\u001b[1;33m(\u001b[0m\u001b[0mOnTime_XTrainFrames\u001b[0m\u001b[1;33m)\u001b[0m\u001b[1;33m)\u001b[0m\u001b[1;33m:\u001b[0m\u001b[1;33m\u001b[0m\u001b[0m\n\u001b[1;32m----> 3\u001b[1;33m     \u001b[0mlinear\u001b[0m\u001b[1;33m.\u001b[0m\u001b[0mpartial_fit\u001b[0m\u001b[1;33m(\u001b[0m\u001b[0mOnTime_XTrainFrames\u001b[0m\u001b[1;33m[\u001b[0m\u001b[0mn\u001b[0m\u001b[1;33m]\u001b[0m\u001b[1;33m,\u001b[0m \u001b[0mOnTime_YTrainFrames\u001b[0m\u001b[1;33m[\u001b[0m\u001b[0mn\u001b[0m\u001b[1;33m]\u001b[0m\u001b[1;33m)\u001b[0m\u001b[1;33m\u001b[0m\u001b[0m\n\u001b[0m",
      "\u001b[1;32mC:\\Users\\Will\\Anaconda2\\lib\\site-packages\\sklearn\\linear_model\\stochastic_gradient.pyc\u001b[0m in \u001b[0;36mpartial_fit\u001b[1;34m(self, X, y, sample_weight)\u001b[0m\n\u001b[0;32m    916\u001b[0m                                  \u001b[0mlearning_rate\u001b[0m\u001b[1;33m=\u001b[0m\u001b[0mself\u001b[0m\u001b[1;33m.\u001b[0m\u001b[0mlearning_rate\u001b[0m\u001b[1;33m,\u001b[0m \u001b[0mn_iter\u001b[0m\u001b[1;33m=\u001b[0m\u001b[1;36m1\u001b[0m\u001b[1;33m,\u001b[0m\u001b[1;33m\u001b[0m\u001b[0m\n\u001b[0;32m    917\u001b[0m                                  \u001b[0msample_weight\u001b[0m\u001b[1;33m=\u001b[0m\u001b[0msample_weight\u001b[0m\u001b[1;33m,\u001b[0m\u001b[1;33m\u001b[0m\u001b[0m\n\u001b[1;32m--> 918\u001b[1;33m                                  coef_init=None, intercept_init=None)\n\u001b[0m\u001b[0;32m    919\u001b[0m \u001b[1;33m\u001b[0m\u001b[0m\n\u001b[0;32m    920\u001b[0m     def _fit(self, X, y, alpha, C, loss, learning_rate, coef_init=None,\n",
      "\u001b[1;32mC:\\Users\\Will\\Anaconda2\\lib\\site-packages\\sklearn\\linear_model\\stochastic_gradient.pyc\u001b[0m in \u001b[0;36m_partial_fit\u001b[1;34m(self, X, y, alpha, C, loss, learning_rate, n_iter, sample_weight, coef_init, intercept_init)\u001b[0m\n\u001b[0;32m    879\u001b[0m         \u001b[1;32melif\u001b[0m \u001b[0mn_features\u001b[0m \u001b[1;33m!=\u001b[0m \u001b[0mself\u001b[0m\u001b[1;33m.\u001b[0m\u001b[0mcoef_\u001b[0m\u001b[1;33m.\u001b[0m\u001b[0mshape\u001b[0m\u001b[1;33m[\u001b[0m\u001b[1;33m-\u001b[0m\u001b[1;36m1\u001b[0m\u001b[1;33m]\u001b[0m\u001b[1;33m:\u001b[0m\u001b[1;33m\u001b[0m\u001b[0m\n\u001b[0;32m    880\u001b[0m             raise ValueError(\"Number of features %d does not match previous \"\n\u001b[1;32m--> 881\u001b[1;33m                              \"data %d.\" % (n_features, self.coef_.shape[-1]))\n\u001b[0m\u001b[0;32m    882\u001b[0m         \u001b[1;32mif\u001b[0m \u001b[0mself\u001b[0m\u001b[1;33m.\u001b[0m\u001b[0maverage\u001b[0m \u001b[1;33m>\u001b[0m \u001b[1;36m0\u001b[0m \u001b[1;32mand\u001b[0m \u001b[0mself\u001b[0m\u001b[1;33m.\u001b[0m\u001b[0maverage_coef_\u001b[0m \u001b[1;32mis\u001b[0m \u001b[0mNone\u001b[0m\u001b[1;33m:\u001b[0m\u001b[1;33m\u001b[0m\u001b[0m\n\u001b[0;32m    883\u001b[0m             self.average_coef_ = np.zeros(n_features,\n",
      "\u001b[1;31mValueError\u001b[0m: Number of features 612 does not match previous data 441."
     ]
    }
   ],
   "source": [
    "#Use SGDRegressor partial_fit function to train model on training data\n",
    "for n in range(len(OnTime_XTrainFrames)):\n",
    "    linear.partial_fit(OnTime_XTrainFrames[n], OnTime_YTrainFrames[n])"
   ]
  },
  {
   "cell_type": "code",
   "execution_count": null,
   "metadata": {
    "collapsed": true
   },
   "outputs": [],
   "source": []
  }
 ],
 "metadata": {
  "kernelspec": {
   "display_name": "Python 2",
   "language": "python",
   "name": "python2"
  },
  "language_info": {
   "codemirror_mode": {
    "name": "ipython",
    "version": 2
   },
   "file_extension": ".py",
   "mimetype": "text/x-python",
   "name": "python",
   "nbconvert_exporter": "python",
   "pygments_lexer": "ipython2",
   "version": "2.7.11"
  }
 },
 "nbformat": 4,
 "nbformat_minor": 0
}
