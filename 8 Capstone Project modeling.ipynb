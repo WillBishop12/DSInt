{
 "cells": [
  {
   "cell_type": "code",
   "execution_count": 10,
   "metadata": {
    "collapsed": false
   },
   "outputs": [
    {
     "name": "stderr",
     "output_type": "stream",
     "text": [
      "C:\\Users\\Will\\Anaconda2\\lib\\site-packages\\matplotlib\\__init__.py:872: UserWarning: axes.color_cycle is deprecated and replaced with axes.prop_cycle; please use the latter.\n",
      "  warnings.warn(self.msg_depr % (key, alt_key))\n"
     ]
    }
   ],
   "source": [
    "#Initial commands\n",
    "\n",
    "import pandas as pd\n",
    "import numpy as np\n",
    "import matplotlib.pyplot as plt\n",
    "%matplotlib inline\n",
    "import seaborn as sns"
   ]
  },
  {
   "cell_type": "markdown",
   "metadata": {},
   "source": [
    "Before next step, make sure lines in CSV file are randomly shuffled.  Use code from http://stackoverflow.com/questions/4618298/randomly-mix-lines-of-3-million-line-file.  But make sure to keep the first line intact so you don't forget the column names!\n",
    "\n",
    "Code needs to modified in the following way: <br>\n",
    "data = lines[1:] <br>\n",
    "newlines = [lines[0]] + data <br>\n",
    "write(newlines)"
   ]
  },
  {
   "cell_type": "code",
   "execution_count": 11,
   "metadata": {
    "collapsed": false
   },
   "outputs": [],
   "source": [
    "#Import data in batches instead of all at once\n",
    "\n",
    "OnTimeDataFrames = []\n",
    "for n in range(15):\n",
    "    #100,001 rows total: 100,000 of data, plus first row for column names!  Easy to mess up...\n",
    "    #Note we aren't using lat/long data in the model at the present time, but can change this later\n",
    "    OnTimeDataFrames.append(pd.read_csv('Sample_2011_2016_carr_mark.csv', nrows=100001,\n",
    "                                        skiprows=range(1, 1 + 100000*n) if n > 0 else None))"
   ]
  },
  {
   "cell_type": "code",
   "execution_count": 12,
   "metadata": {
    "collapsed": false
   },
   "outputs": [
    {
     "name": "stdout",
     "output_type": "stream",
     "text": [
      "(100001, 68)\n",
      "(100001, 68)\n",
      "(100001, 68)\n",
      "(100001, 68)\n",
      "(100001, 68)\n",
      "(100001, 68)\n",
      "(100001, 68)\n",
      "(100001, 68)\n",
      "(100001, 68)\n",
      "(100001, 68)\n",
      "(100001, 68)\n",
      "(100001, 68)\n",
      "(100001, 68)\n",
      "(100001, 68)\n",
      "(90434, 68)\n"
     ]
    }
   ],
   "source": [
    "#Check shapes of all data frames - all except the last should have 100,000 rows, all should have same no. of columns\n",
    "for X in OnTimeDataFrames: print X.shape"
   ]
  },
  {
   "cell_type": "code",
   "execution_count": 13,
   "metadata": {
    "collapsed": false
   },
   "outputs": [
    {
     "data": {
      "text/plain": [
       "Index([u'Unnamed: 0', u'Year', u'Quarter', u'Month', u'DayofMonth',\n",
       "       u'DayOfWeek', u'FlightDate', u'UniqueCarrier', u'AirlineID', u'Carrier',\n",
       "       u'TailNum', u'FlightNum', u'OriginAirportID', u'OriginAirportSeqID',\n",
       "       u'OriginCityMarketID', u'Origin', u'OriginCityName', u'OriginState',\n",
       "       u'OriginStateFips', u'OriginStateName', u'OriginWac', u'DestAirportID',\n",
       "       u'DestAirportSeqID', u'DestCityMarketID', u'Dest', u'DestCityName',\n",
       "       u'DestState', u'DestStateFips', u'DestStateName', u'DestWac',\n",
       "       u'CRSDepTime', u'DepTime', u'DepDelay', u'DepDelayMinutes', u'DepDel15',\n",
       "       u'DepartureDelayGroups', u'DepTimeBlk', u'TaxiOut', u'WheelsOff',\n",
       "       u'WheelsOn', u'TaxiIn', u'CRSArrTime', u'ArrTime', u'ArrDelay',\n",
       "       u'ArrDelayMinutes', u'ArrDel15', u'ArrivalDelayGroups', u'ArrTimeBlk',\n",
       "       u'Cancelled', u'CancellationCode', u'CRSElapsedTime',\n",
       "       u'ActualElapsedTime', u'AirTime', u'Flights', u'Distance',\n",
       "       u'DistanceGroup', u'CarrierDelay', u'WeatherDelay', u'NASDelay',\n",
       "       u'SecurityDelay', u'LateAircraftDelay', u'FirstDepTime',\n",
       "       u'TotalAddGTime', u'LongestAddGTime', u'Carrier Name',\n",
       "       u'ArrFlightsPerCity', u'DestMarket', u'OrigMarket'],\n",
       "      dtype='object')"
      ]
     },
     "execution_count": 13,
     "metadata": {},
     "output_type": "execute_result"
    }
   ],
   "source": [
    "#Check column names of second data frame\n",
    "OnTimeDataFrames[1].columns"
   ]
  },
  {
   "cell_type": "code",
   "execution_count": 14,
   "metadata": {
    "collapsed": false
   },
   "outputs": [],
   "source": [
    "#Check that all data frames have same column names\n",
    "assert np.all(X.columns == OnTimeDataFrames[0].columns for X in OnTimeDataFrames)"
   ]
  },
  {
   "cell_type": "code",
   "execution_count": 15,
   "metadata": {
    "collapsed": false
   },
   "outputs": [],
   "source": [
    "#Correct ExpressJet Airways issue\n",
    "for X in OnTimeDataFrames:\n",
    "    X[\"Carrier Name\"] = X[\"Carrier Name\"].replace(\"ExpressJet Airlines Inc. (1)\",\n",
    "                                                               \"ExpressJet Airlines Inc.\")"
   ]
  },
  {
   "cell_type": "code",
   "execution_count": 16,
   "metadata": {
    "collapsed": false
   },
   "outputs": [
    {
     "name": "stdout",
     "output_type": "stream",
     "text": [
      "(98231, 68)\n",
      "(98163, 68)\n",
      "(98252, 68)\n",
      "(98174, 68)\n",
      "(98197, 68)\n",
      "(98184, 68)\n",
      "(98200, 68)\n",
      "(98205, 68)\n",
      "(98198, 68)\n",
      "(98190, 68)\n",
      "(98234, 68)\n",
      "(98315, 68)\n",
      "(98177, 68)\n",
      "(98145, 68)\n",
      "(88801, 68)\n"
     ]
    }
   ],
   "source": [
    "#Get rid of rows with null values for ArrDelay\n",
    "OnTimeDataNoNull = [X[np.isfinite(X.ArrDelay)] for X in OnTimeDataFrames]\n",
    "for X in OnTimeDataNoNull: print X.shape"
   ]
  },
  {
   "cell_type": "code",
   "execution_count": 17,
   "metadata": {
    "collapsed": true
   },
   "outputs": [],
   "source": [
    "#Compute interactions for airlines * airports with a certain %\n",
    "def interactions_aa(X, pct):\n",
    "    #dictionary of features with percentage \"1\"s\n",
    "    PercentageDict = {}\n",
    "    for feature in X.columns:\n",
    "        PercentageDict[feature] = X[feature].mean(axis=1)\n",
    "    #calculate interactions\n",
    "    X1 = X.copy()\n",
    "    for feat_A in [name for name in X.columns if name[0] == 'C']:\n",
    "        for feat_B in [name for name in X.columns if name[0] in list('DO') and PercentageDict[name] > pct]:\n",
    "            X1[feat_A + \"*\" + feat_B] = (X1[feat_A].to_dense() * X1[feat_B].to_dense()).to_sparse()\n",
    "    return X1"
   ]
  },
  {
   "cell_type": "code",
   "execution_count": 18,
   "metadata": {
    "collapsed": true
   },
   "outputs": [],
   "source": [
    "#Create dummy variables\n",
    "def DummyRegressors(data):\n",
    "    #Create dummies for airline, origin and destination airports, month, and time of day\n",
    "    #Drop first column in each data frame to avoid singular matrix\n",
    "    #Also include ArrDelay variable so we don't have to grab this separately from the old data frame\n",
    "    CarrierDummies = pd.get_dummies(data[\"Carrier Name\"], prefix=\"C\", sparse=True, drop_first=True)\n",
    "    OriginDummies = pd.get_dummies(data.Origin, prefix=\"O\", sparse=True, drop_first=True)\n",
    "    DestDummies = pd.get_dummies(data.Dest, prefix=\"D\", sparse=True, drop_first=True)\n",
    "    MonthDummies = pd.get_dummies(data.Month, prefix=\"M\", sparse=True, drop_first=True)\n",
    "    TimeDummies = pd.get_dummies(data.DepTimeBlk, prefix=\"T\", sparse=True, drop_first=True)\n",
    "    ArrDelay = data.ArrDelay\n",
    "    ArrDel15 = data.ArrDel15\n",
    "    \n",
    "    return pd.concat([CarrierDummies, OriginDummies, DestDummies, MonthDummies, TimeDummies,\n",
    "                      ArrDelay, ArrDel15], axis=1)"
   ]
  },
  {
   "cell_type": "code",
   "execution_count": 19,
   "metadata": {
    "collapsed": false
   },
   "outputs": [],
   "source": [
    "DummyTest = DummyRegressors(OnTimeDataNoNull[0])"
   ]
  },
  {
   "cell_type": "code",
   "execution_count": 20,
   "metadata": {
    "collapsed": false
   },
   "outputs": [
    {
     "data": {
      "text/plain": [
       "[]"
      ]
     },
     "execution_count": 20,
     "metadata": {},
     "output_type": "execute_result"
    }
   ],
   "source": [
    "DummyTest.columns[pd.isnull(DummyTest).any()].tolist()"
   ]
  },
  {
   "cell_type": "code",
   "execution_count": 21,
   "metadata": {
    "collapsed": false
   },
   "outputs": [],
   "source": [
    "#Create list of data frames with dummies instead of raw data\n",
    "OnTimeDummies = [DummyRegressors(X) for X in OnTimeDataNoNull]"
   ]
  },
  {
   "cell_type": "code",
   "execution_count": 22,
   "metadata": {
    "collapsed": false
   },
   "outputs": [
    {
     "name": "stdout",
     "output_type": "stream",
     "text": [
      "(98231, 702)\n",
      "(98163, 706)\n",
      "(98252, 703)\n",
      "(98174, 703)\n",
      "(98197, 705)\n",
      "(98184, 705)\n",
      "(98200, 696)\n",
      "(98205, 707)\n",
      "(98198, 707)\n",
      "(98190, 704)\n",
      "(98234, 699)\n",
      "(98315, 698)\n",
      "(98177, 707)\n",
      "(98145, 708)\n",
      "(88801, 701)\n"
     ]
    }
   ],
   "source": [
    "for X in OnTimeDummies: print X.shape"
   ]
  },
  {
   "cell_type": "markdown",
   "metadata": {},
   "source": [
    "Problem: not all airports and airlines are in all the data frames!  This makes sense and is a drawback of reading in the data in separate frames rather than splitting it up afterward.  We need to fix it by making sure if a column name appears in one dummy frame, it appears in all of them."
   ]
  },
  {
   "cell_type": "code",
   "execution_count": 23,
   "metadata": {
    "collapsed": false
   },
   "outputs": [
    {
     "data": {
      "text/plain": [
       "718"
      ]
     },
     "execution_count": 23,
     "metadata": {},
     "output_type": "execute_result"
    }
   ],
   "source": [
    "#create set of dummies that appear in any data frame, so each only appears once\n",
    "#Try it the less efficient way, but this seems to work\n",
    "DummyList = []\n",
    "for X in OnTimeDummies:\n",
    "    for name in X.columns:\n",
    "        DummyList.append(name)\n",
    "DummySet = set(DummyList)\n",
    "len(DummySet)"
   ]
  },
  {
   "cell_type": "code",
   "execution_count": 24,
   "metadata": {
    "collapsed": false
   },
   "outputs": [
    {
     "data": {
      "text/plain": [
       "718"
      ]
     },
     "execution_count": 24,
     "metadata": {},
     "output_type": "execute_result"
    }
   ],
   "source": [
    "len(DummySet)"
   ]
  },
  {
   "cell_type": "code",
   "execution_count": 25,
   "metadata": {
    "collapsed": false
   },
   "outputs": [
    {
     "name": "stdout",
     "output_type": "stream",
     "text": [
      "98231 98231\n",
      "98163 98163\n",
      "98252 98252\n",
      "98174 98174\n",
      "98197 98197\n",
      "98184 98184\n",
      "98200 98200\n",
      "98205 98205\n",
      "98198 98198\n",
      "98190 98190\n",
      "98234 98234\n",
      "98315 98315\n",
      "98177 98177\n",
      "98145 98145\n",
      "88801 88801\n"
     ]
    }
   ],
   "source": [
    "#Now add dummies for all variables in set to OnTimeDummies frames\n",
    "for X in OnTimeDummies:\n",
    "    SparseZeroes = pd.SparseSeries([0 for n in range(len(X))], index=X.index)\n",
    "    print len(SparseZeroes), len(X)\n",
    "    for name in DummySet:\n",
    "        if name not in X.columns:\n",
    "            X[name] = SparseZeroes.copy()\n",
    "            if pd.isnull(X[name]).any(): print name"
   ]
  },
  {
   "cell_type": "code",
   "execution_count": 26,
   "metadata": {
    "collapsed": false
   },
   "outputs": [
    {
     "name": "stdout",
     "output_type": "stream",
     "text": [
      "(98231, 718)\n",
      "(98163, 718)\n",
      "(98252, 718)\n",
      "(98174, 718)\n",
      "(98197, 718)\n",
      "(98184, 718)\n",
      "(98200, 718)\n",
      "(98205, 718)\n",
      "(98198, 718)\n",
      "(98190, 718)\n",
      "(98234, 718)\n",
      "(98315, 718)\n",
      "(98177, 718)\n",
      "(98145, 718)\n",
      "(88801, 718)\n"
     ]
    }
   ],
   "source": [
    "#Now check shapes of dummy frames again\n",
    "for X in OnTimeDummies: print X.shape"
   ]
  },
  {
   "cell_type": "code",
   "execution_count": 27,
   "metadata": {
    "collapsed": false
   },
   "outputs": [],
   "source": [
    "#create list of data frames with interactions included\n",
    "#airport threshold: 1.5% of flights\n",
    "OnTimeDummies_Inter = [interactions_aa(X, .015) for X in OnTimeDummies]"
   ]
  },
  {
   "cell_type": "code",
   "execution_count": 28,
   "metadata": {
    "collapsed": false
   },
   "outputs": [
    {
     "name": "stdout",
     "output_type": "stream",
     "text": [
      "(98231, 1398)\n",
      "(98163, 1398)\n",
      "(98252, 1398)\n",
      "(98174, 1398)\n",
      "(98197, 1398)\n",
      "(98184, 1415)\n",
      "(98200, 1415)\n",
      "(98205, 1398)\n",
      "(98198, 1398)\n",
      "(98190, 1415)\n",
      "(98234, 1398)\n",
      "(98315, 1398)\n",
      "(98177, 1398)\n",
      "(98145, 1398)\n",
      "(88801, 1415)\n"
     ]
    }
   ],
   "source": [
    "for X in OnTimeDummies_Inter: print X.shape"
   ]
  },
  {
   "cell_type": "code",
   "execution_count": 29,
   "metadata": {
    "collapsed": false
   },
   "outputs": [
    {
     "data": {
      "text/plain": [
       "1432"
      ]
     },
     "execution_count": 29,
     "metadata": {},
     "output_type": "execute_result"
    }
   ],
   "source": [
    "#Once again the number of dummies is not precisely the same between batches.  We need to do the DummySet procedure again.\n",
    "InterList = []\n",
    "for X in OnTimeDummies_Inter:\n",
    "    for name in X.columns:\n",
    "        InterList.append(name)\n",
    "InterSet = set(InterList)\n",
    "len(InterSet)"
   ]
  },
  {
   "cell_type": "code",
   "execution_count": 30,
   "metadata": {
    "collapsed": false
   },
   "outputs": [],
   "source": [
    "#Add interactions to all frames\n",
    "for X in OnTimeDummies_Inter:\n",
    "    SparseZeroes = pd.SparseSeries([0 for n in range(len(X))], index=X.index)\n",
    "    for name in InterSet:\n",
    "        if name not in X.columns:\n",
    "            X[name] = SparseZeroes.copy()"
   ]
  },
  {
   "cell_type": "code",
   "execution_count": 31,
   "metadata": {
    "collapsed": false
   },
   "outputs": [
    {
     "name": "stdout",
     "output_type": "stream",
     "text": [
      "(98231, 1432)\n",
      "(98163, 1432)\n",
      "(98252, 1432)\n",
      "(98174, 1432)\n",
      "(98197, 1432)\n",
      "(98184, 1432)\n",
      "(98200, 1432)\n",
      "(98205, 1432)\n",
      "(98198, 1432)\n",
      "(98190, 1432)\n",
      "(98234, 1432)\n",
      "(98315, 1432)\n",
      "(98177, 1432)\n",
      "(98145, 1432)\n",
      "(88801, 1432)\n"
     ]
    }
   ],
   "source": [
    "#Now check shapes again\n",
    "for X in OnTimeDummies_Inter: print X.shape"
   ]
  },
  {
   "cell_type": "code",
   "execution_count": 32,
   "metadata": {
    "collapsed": false
   },
   "outputs": [],
   "source": [
    "#Divide each interaction data set into training and test data sets\n",
    "from sklearn.model_selection import train_test_split"
   ]
  },
  {
   "cell_type": "code",
   "execution_count": 33,
   "metadata": {
    "collapsed": false
   },
   "outputs": [],
   "source": [
    "OnTime_XTrainFrames, OnTime_XTestFrames, OnTime_YTrainFrames, OnTime_YTestFrames = [], [], [], []\n",
    "for D in OnTimeDummies_Inter:\n",
    "    X_train, X_test, Y_train, Y_test = train_test_split(D.drop([\"ArrDelay\", \"ArrDel15\"], axis=1), D.ArrDelay)\n",
    "    OnTime_XTrainFrames.append(X_train)\n",
    "    OnTime_XTestFrames.append(X_test)\n",
    "    OnTime_YTrainFrames.append(Y_train)\n",
    "    OnTime_YTestFrames.append(Y_test)"
   ]
  },
  {
   "cell_type": "code",
   "execution_count": 34,
   "metadata": {
    "collapsed": true
   },
   "outputs": [],
   "source": [
    "#import modeling formulas\n",
    "from sklearn.linear_model import SGDRegressor, SGDClassifier"
   ]
  },
  {
   "cell_type": "code",
   "execution_count": 35,
   "metadata": {
    "collapsed": true
   },
   "outputs": [],
   "source": [
    "\"\"\"1. linear regression model using SGDRegressor, penalty = L1\"\"\"\n",
    "linear = SGDRegressor(penalty='l1')"
   ]
  },
  {
   "cell_type": "code",
   "execution_count": 36,
   "metadata": {
    "collapsed": false
   },
   "outputs": [
    {
     "name": "stdout",
     "output_type": "stream",
     "text": [
      "0\n",
      "1\n",
      "2\n",
      "3\n",
      "4\n",
      "5\n",
      "6\n",
      "7\n",
      "8\n",
      "9\n",
      "10\n",
      "11\n",
      "12\n",
      "13\n",
      "14\n"
     ]
    }
   ],
   "source": [
    "#Use SGDRegressor partial_fit function to train model on training data\n",
    "for n in range(len(OnTime_XTrainFrames)):\n",
    "    print n\n",
    "    linear.partial_fit(OnTime_XTrainFrames[n], OnTime_YTrainFrames[n])"
   ]
  },
  {
   "cell_type": "code",
   "execution_count": 37,
   "metadata": {
    "collapsed": false
   },
   "outputs": [],
   "source": [
    "#Aggregate test data into one frame\n",
    "# OnTime_XTest = pd.concat(OnTime_XTestFrames, axis=1)"
   ]
  },
  {
   "cell_type": "code",
   "execution_count": 38,
   "metadata": {
    "collapsed": false
   },
   "outputs": [
    {
     "name": "stdout",
     "output_type": "stream",
     "text": [
      "0 0.0173533826785\n",
      "1 0.0145501650826\n",
      "2 0.0162519987916\n",
      "3 0.0145889920052\n",
      "4 0.0144677253264\n",
      "5 0.0094413997919\n",
      "6 0.00292301015743\n",
      "7 0.0174479090113\n",
      "8 0.0164113958237\n",
      "9 0.0109301080865\n",
      "10 0.0156791256877\n",
      "11 0.01125074783\n",
      "12 0.0157822455306\n",
      "13 0.0124434661253\n",
      "14 0.0256869339656\n"
     ]
    }
   ],
   "source": [
    "for n in range(len(OnTime_XTestFrames)):\n",
    "    print n, linear.score(OnTime_XTestFrames[n], OnTime_YTestFrames[n])"
   ]
  },
  {
   "cell_type": "code",
   "execution_count": 39,
   "metadata": {
    "collapsed": false
   },
   "outputs": [
    {
     "data": {
      "text/plain": [
       "array([-4.74342204,  0.70887702,  0.68215968, ...,  0.        ,\n",
       "        0.        ,  0.        ])"
      ]
     },
     "execution_count": 39,
     "metadata": {},
     "output_type": "execute_result"
    }
   ],
   "source": [
    "linear.coef_"
   ]
  },
  {
   "cell_type": "code",
   "execution_count": 40,
   "metadata": {
    "collapsed": false
   },
   "outputs": [
    {
     "data": {
      "text/plain": [
       "(1430L,)"
      ]
     },
     "execution_count": 40,
     "metadata": {},
     "output_type": "execute_result"
    }
   ],
   "source": [
    "linear.coef_.shape"
   ]
  },
  {
   "cell_type": "code",
   "execution_count": 41,
   "metadata": {
    "collapsed": false
   },
   "outputs": [
    {
     "data": {
      "text/plain": [
       "array([ 1.66835961])"
      ]
     },
     "execution_count": 41,
     "metadata": {},
     "output_type": "execute_result"
    }
   ],
   "source": [
    "linear.intercept_"
   ]
  },
  {
   "cell_type": "code",
   "execution_count": 42,
   "metadata": {
    "collapsed": false
   },
   "outputs": [
    {
     "data": {
      "text/plain": [
       "(73673, 1430)"
      ]
     },
     "execution_count": 42,
     "metadata": {},
     "output_type": "execute_result"
    }
   ],
   "source": [
    "OnTime_XTrainFrames[0].shape"
   ]
  },
  {
   "cell_type": "code",
   "execution_count": 43,
   "metadata": {
    "collapsed": false
   },
   "outputs": [],
   "source": [
    "#Assuming coefficients are returned in same order as columns...\n",
    "LinearCoefDict = {OnTime_XTrainFrames[0].columns[n]: linear.coef_[n] for n in range(1430)}"
   ]
  },
  {
   "cell_type": "code",
   "execution_count": 44,
   "metadata": {
    "collapsed": false
   },
   "outputs": [
    {
     "data": {
      "text/plain": [
       "[('O_AZA', 10.550971638263549),\n",
       " ('T_2300-2359', 10.5399039196757),\n",
       " ('D_DLG', 10.435385739845476),\n",
       " ('O_RFD', 10.135992017095649),\n",
       " ('C_SkyWest Airlines Inc.*D_SFO', 8.8443834470344473),\n",
       " ('C_Spirit Air Lines', 8.7320006403883585),\n",
       " ('T_1900-1959', 7.340729768682472),\n",
       " ('O_SHD', 7.2736079840995282),\n",
       " ('T_2200-2259', 7.1230964783926316),\n",
       " ('T_2100-2159', 6.5533369897754605)]"
      ]
     },
     "execution_count": 44,
     "metadata": {},
     "output_type": "execute_result"
    }
   ],
   "source": [
    "#Find largest 10 positive coefficients\n",
    "sorted(LinearCoefDict.items(), key=lambda x:x[1], reverse=True)[:10]"
   ]
  },
  {
   "cell_type": "code",
   "execution_count": 45,
   "metadata": {
    "collapsed": false
   },
   "outputs": [
    {
     "data": {
      "text/plain": [
       "[('C_Alaska Airlines Inc.', -4.7434220356156596),\n",
       " ('C_SkyWest Airlines Inc.*D_SLC', -4.2936157073568513),\n",
       " ('M_10', -3.856472795553485),\n",
       " ('C_Hawaiian Airlines Inc.', -3.6967818985592071),\n",
       " ('M_12', -3.4511231358271846),\n",
       " ('D_PIA', -3.1608316897493931),\n",
       " ('M_9', -3.1527925796645917),\n",
       " ('M_8', -3.0619844382036807),\n",
       " ('T_0600-0659', -2.870705283183197),\n",
       " ('C_SkyWest Airlines Inc.*O_SLC', -2.8655559396976051)]"
      ]
     },
     "execution_count": 45,
     "metadata": {},
     "output_type": "execute_result"
    }
   ],
   "source": [
    "#Find 10 largest negative coefficients\n",
    "sorted(LinearCoefDict.items(), key=lambda x:x[1])[:10]"
   ]
  },
  {
   "cell_type": "code",
   "execution_count": 46,
   "metadata": {
    "collapsed": true
   },
   "outputs": [],
   "source": [
    "#Calculate predicted values so they can be used in future analysis\n",
    "LinearPredList = []\n",
    "for i in range(15):\n",
    "    LinearPredList.append(np.array(linear.predict(OnTime_XTestFrames[i])))"
   ]
  },
  {
   "cell_type": "code",
   "execution_count": 47,
   "metadata": {
    "collapsed": true
   },
   "outputs": [],
   "source": [
    "#Concatenate arrays of predicted values and actual values\n",
    "LinearPredicted = np.concatenate(LinearPredList)\n",
    "LinearActual = np.array(np.concatenate(list(OnTime_YTestFrames[i] for i in range(15))))"
   ]
  },
  {
   "cell_type": "code",
   "execution_count": 48,
   "metadata": {
    "collapsed": false
   },
   "outputs": [
    {
     "data": {
      "text/plain": [
       "<matplotlib.axes._subplots.AxesSubplot at 0x920fe358>"
      ]
     },
     "execution_count": 48,
     "metadata": {},
     "output_type": "execute_result"
    },
    {
     "data": {
      "image/png": "[encoded data removed]",
      "text/plain": [
       "<matplotlib.figure.Figure at 0x8457de80>"
      ]
     },
     "metadata": {},
     "output_type": "display_data"
    }
   ],
   "source": [
    "#Regression plot\n",
    "sns.regplot(x=LinearPredicted, y=LinearActual)"
   ]
  },
  {
   "cell_type": "code",
   "execution_count": 49,
   "metadata": {
    "collapsed": false
   },
   "outputs": [
    {
     "data": {
      "text/plain": [
       "<matplotlib.axes._subplots.AxesSubplot at 0x9368cd30>"
      ]
     },
     "execution_count": 49,
     "metadata": {},
     "output_type": "execute_result"
    },
    {
     "data": {
      "image/png": "[encoded data removed]",
      "text/plain": [
       "<matplotlib.figure.Figure at 0x936dee10>"
      ]
     },
     "metadata": {},
     "output_type": "display_data"
    }
   ],
   "source": [
    "#Residuals vs fitted plot\n",
    "sns.residplot(x=LinearPredicted, y=LinearActual)"
   ]
  },
  {
   "cell_type": "markdown",
   "metadata": {},
   "source": [
    "As we see above, a few flights with extreme delays have very large residuals.  There are no corresponding outliers on the negative side - it's hard to have a residual of -1500 minutes as no flights are predicted to be delayed that much.  This could make it appear as if the average residual is not zero, but hopefully the subsequent analysis will show otherwise..."
   ]
  },
  {
   "cell_type": "code",
   "execution_count": 50,
   "metadata": {
    "collapsed": false
   },
   "outputs": [
    {
     "data": {
      "text/plain": [
       "(365923L,)"
      ]
     },
     "execution_count": 50,
     "metadata": {},
     "output_type": "execute_result"
    }
   ],
   "source": [
    "#Generate Residuals\n",
    "LinearTestResiduals = np.array(LinearActual - LinearPredicted)\n",
    "LinearTestResiduals.shape"
   ]
  },
  {
   "cell_type": "code",
   "execution_count": 51,
   "metadata": {
    "collapsed": false
   },
   "outputs": [
    {
     "data": {
      "text/plain": [
       "<matplotlib.axes._subplots.AxesSubplot at 0x9356c8d0>"
      ]
     },
     "execution_count": 51,
     "metadata": {},
     "output_type": "execute_result"
    },
    {
     "data": {
      "image/png": "[encoded data removed]",
      "text/plain": [
       "<matplotlib.figure.Figure at 0x939f0048>"
      ]
     },
     "metadata": {},
     "output_type": "display_data"
    }
   ],
   "source": [
    "#Histogram of residuals\n",
    "sns.distplot(LinearTestResiduals)"
   ]
  },
  {
   "cell_type": "markdown",
   "metadata": {},
   "source": [
    "The peak is a bit below zero, which is good since there is a long tail above zero.  But just to be sure:"
   ]
  },
  {
   "cell_type": "code",
   "execution_count": 53,
   "metadata": {
    "collapsed": false
   },
   "outputs": [
    {
     "data": {
      "text/plain": [
       "-0.53066107524321815"
      ]
     },
     "execution_count": 53,
     "metadata": {},
     "output_type": "execute_result"
    }
   ],
   "source": [
    "np.mean(LinearTestResiduals)"
   ]
  },
  {
   "cell_type": "markdown",
   "metadata": {},
   "source": [
    "The average residual is actually slightly negative.  Since we are looking at the test data, which is not the data used to fit the model, the value may not be exactly zero.  But the negative value reinforces the fact that the high outliers are not pulling up the average."
   ]
  },
  {
   "cell_type": "code",
   "execution_count": 54,
   "metadata": {
    "collapsed": false
   },
   "outputs": [
    {
     "name": "stderr",
     "output_type": "stream",
     "text": [
      "C:\\Users\\Will\\Anaconda2\\lib\\site-packages\\matplotlib\\__init__.py:892: UserWarning: axes.color_cycle is deprecated and replaced with axes.prop_cycle; please use the latter.\n",
      "  warnings.warn(self.msg_depr % (key, alt_key))\n"
     ]
    },
    {
     "data": {
      "text/plain": [
       "<matplotlib.axes._subplots.AxesSubplot at 0x93fb40b8>"
      ]
     },
     "execution_count": 54,
     "metadata": {},
     "output_type": "execute_result"
    },
    {
     "data": {
      "image/png": "[encoded data removed]",
      "text/plain": [
       "<matplotlib.figure.Figure at 0x93f929e8>"
      ]
     },
     "metadata": {},
     "output_type": "display_data"
    }
   ],
   "source": [
    "sns.violinplot(LinearTestResiduals)"
   ]
  },
  {
   "cell_type": "code",
   "execution_count": 55,
   "metadata": {
    "collapsed": false
   },
   "outputs": [],
   "source": [
    "\"\"\"2. Logistic regression using SGDClassifier\"\"\"\n",
    "#Training and testing sets for logistic regression\n",
    "OnTime_X2TrainFrames, OnTime_X2TestFrames, OnTime_Y2TrainFrames, OnTime_Y2TestFrames = [], [], [], []\n",
    "for D in OnTimeDummies_Inter:\n",
    "    X2_train, X2_test, Y2_train, Y2_test = train_test_split(D.drop([\"ArrDelay\", \"ArrDel15\"], axis=1), D.ArrDel15)\n",
    "    OnTime_X2TrainFrames.append(X2_train)\n",
    "    OnTime_X2TestFrames.append(X2_test)\n",
    "    OnTime_Y2TrainFrames.append(Y2_train)\n",
    "    OnTime_Y2TestFrames.append(Y2_test)"
   ]
  },
  {
   "cell_type": "code",
   "execution_count": 56,
   "metadata": {
    "collapsed": true
   },
   "outputs": [],
   "source": [
    "logistic = SGDClassifier(penalty='l1', loss='log')"
   ]
  },
  {
   "cell_type": "code",
   "execution_count": 57,
   "metadata": {
    "collapsed": false
   },
   "outputs": [
    {
     "data": {
      "text/plain": [
       "SGDClassifier(alpha=0.0001, average=False, class_weight=None, epsilon=0.1,\n",
       "       eta0=0.0, fit_intercept=True, l1_ratio=0.15,\n",
       "       learning_rate='optimal', loss='log', n_iter=5, n_jobs=1,\n",
       "       penalty='l1', power_t=0.5, random_state=None, shuffle=True,\n",
       "       verbose=0, warm_start=False)"
      ]
     },
     "execution_count": 57,
     "metadata": {},
     "output_type": "execute_result"
    }
   ],
   "source": [
    "logistic"
   ]
  },
  {
   "cell_type": "code",
   "execution_count": 58,
   "metadata": {
    "collapsed": false
   },
   "outputs": [
    {
     "name": "stdout",
     "output_type": "stream",
     "text": [
      "0\n",
      "1\n",
      "2\n",
      "3\n",
      "4\n",
      "5\n",
      "6\n",
      "7\n",
      "8\n",
      "9\n",
      "10\n",
      "11\n",
      "12\n",
      "13\n",
      "14\n"
     ]
    }
   ],
   "source": [
    "for n in range(len(OnTime_X2TrainFrames)):\n",
    "    print n\n",
    "    logistic.partial_fit(OnTime_X2TrainFrames[n], OnTime_Y2TrainFrames[n],\n",
    "                        classes=np.array([0, 1]))"
   ]
  },
  {
   "cell_type": "code",
   "execution_count": 59,
   "metadata": {
    "collapsed": false
   },
   "outputs": [
    {
     "name": "stdout",
     "output_type": "stream",
     "text": [
      "0 0.81533512501\n",
      "1 0.812151094087\n",
      "2 0.812075072263\n",
      "3 0.812255541069\n",
      "4 0.817881873727\n",
      "5 0.812759716451\n",
      "6 0.809775967413\n",
      "7 0.812805474096\n",
      "8 0.814215885947\n",
      "9 0.811226983868\n",
      "10 0.810171423918\n",
      "11 0.814068920623\n",
      "12 0.812385414545\n",
      "13 0.813017076252\n",
      "14 0.812080536913\n"
     ]
    }
   ],
   "source": [
    "for n in range(len(OnTime_X2TestFrames)):\n",
    "    print n, logistic.score(OnTime_X2TestFrames[n], OnTime_Y2TestFrames[n])"
   ]
  },
  {
   "cell_type": "code",
   "execution_count": 60,
   "metadata": {
    "collapsed": false
   },
   "outputs": [
    {
     "name": "stdout",
     "output_type": "stream",
     "text": [
      "0.185739687538\n",
      "0.189413490533\n",
      "0.188644166701\n",
      "0.18743718593\n",
      "0.188276508208\n",
      "0.190350090986\n",
      "0.191581805838\n",
      "0.189523848316\n",
      "0.190269932653\n",
      "0.18865593004\n",
      "0.18690193417\n",
      "0.187411847673\n",
      "0.190080399826\n",
      "0.188688729486\n",
      "0.187402402402\n"
     ]
    }
   ],
   "source": [
    "for n in range(15):\n",
    "    print OnTime_Y2TrainFrames[n].mean()"
   ]
  },
  {
   "cell_type": "code",
   "execution_count": 61,
   "metadata": {
    "collapsed": true
   },
   "outputs": [],
   "source": [
    "#So this model looks good, but it isn't really any better than just predicting \"0\" for every observation"
   ]
  },
  {
   "cell_type": "code",
   "execution_count": 62,
   "metadata": {
    "collapsed": false
   },
   "outputs": [
    {
     "data": {
      "text/plain": [
       "array([[-0.32106618,  0.07347354,  0.        , ...,  0.        ,\n",
       "         0.        ,  0.        ]])"
      ]
     },
     "execution_count": 62,
     "metadata": {},
     "output_type": "execute_result"
    }
   ],
   "source": [
    "logistic.coef_"
   ]
  },
  {
   "cell_type": "code",
   "execution_count": 63,
   "metadata": {
    "collapsed": false
   },
   "outputs": [
    {
     "data": {
      "text/plain": [
       "(1L, 1430L)"
      ]
     },
     "execution_count": 63,
     "metadata": {},
     "output_type": "execute_result"
    }
   ],
   "source": [
    "logistic.coef_.shape"
   ]
  },
  {
   "cell_type": "code",
   "execution_count": 64,
   "metadata": {
    "collapsed": false
   },
   "outputs": [
    {
     "data": {
      "text/plain": [
       "array([-1.75569319])"
      ]
     },
     "execution_count": 64,
     "metadata": {},
     "output_type": "execute_result"
    }
   ],
   "source": [
    "logistic.intercept_"
   ]
  },
  {
   "cell_type": "code",
   "execution_count": 65,
   "metadata": {
    "collapsed": false
   },
   "outputs": [],
   "source": [
    "#Assuming coefficients are returned in same order as columns...\n",
    "LogisticCoefDict = {OnTime_X2TrainFrames[0].columns[n]: logistic.coef_[0][n] for n in range(1430)}"
   ]
  },
  {
   "cell_type": "code",
   "execution_count": 66,
   "metadata": {
    "collapsed": false
   },
   "outputs": [
    {
     "data": {
      "text/plain": [
       "[('O_SHD', 0.81329387529857133),\n",
       " ('T_2300-2359', 0.8052687456024864),\n",
       " ('O_AZA', 0.73518923975802297),\n",
       " ('O_RFD', 0.67419782767666547),\n",
       " ('D_DLG', 0.62069568903923589),\n",
       " ('T_1600-1659', 0.61951811913380606),\n",
       " ('T_1800-1859', 0.60481877914597348),\n",
       " ('C_Spirit Air Lines', 0.58809694977285187),\n",
       " ('T_1900-1959', 0.57829215676634271),\n",
       " ('T_1700-1759', 0.54412943548026738)]"
      ]
     },
     "execution_count": 66,
     "metadata": {},
     "output_type": "execute_result"
    }
   ],
   "source": [
    "#Find largest 10 positive coefficients\n",
    "sorted(LogisticCoefDict.items(), key=lambda x:x[1], reverse=True)[:10]"
   ]
  },
  {
   "cell_type": "code",
   "execution_count": 67,
   "metadata": {
    "collapsed": false
   },
   "outputs": [
    {
     "data": {
      "text/plain": [
       "[('C_Hawaiian Airlines Inc.', -0.81626094205906263),\n",
       " ('M_12', -0.7288034506261678),\n",
       " ('T_0600-0659', -0.40877782487346592),\n",
       " ('T_0700-0759', -0.36460966232894376),\n",
       " ('D_SJT', -0.32882914446592043),\n",
       " ('C_Alaska Airlines Inc.', -0.32106618489964822),\n",
       " ('D_PHF', -0.31716655940182675),\n",
       " ('M_8', -0.27559304260182654),\n",
       " ('C_Delta Air Lines Inc.', -0.23966268012992942),\n",
       " ('M_10', -0.21223600816165056)]"
      ]
     },
     "execution_count": 67,
     "metadata": {},
     "output_type": "execute_result"
    }
   ],
   "source": [
    "#Find 10 largest negative coefficients\n",
    "sorted(LogisticCoefDict.items(), key=lambda x:x[1])[:10]"
   ]
  },
  {
   "cell_type": "code",
   "execution_count": 68,
   "metadata": {
    "collapsed": false
   },
   "outputs": [],
   "source": [
    "#Calculate predicted values so they can be used in future analysis\n",
    "LogisticPredList = []\n",
    "for i in range(15):\n",
    "    LogisticPredList.append(np.array(logistic.predict(OnTime_X2TestFrames[i])))"
   ]
  },
  {
   "cell_type": "code",
   "execution_count": 69,
   "metadata": {
    "collapsed": true
   },
   "outputs": [],
   "source": [
    "#Concatenate arrays of predicted values and actual values\n",
    "LogisticPredicted = np.concatenate(LogisticPredList)\n",
    "LogisticActual = np.array(np.concatenate(list(OnTime_Y2TestFrames[i] for i in range(15))))"
   ]
  },
  {
   "cell_type": "code",
   "execution_count": 71,
   "metadata": {
    "collapsed": false
   },
   "outputs": [],
   "source": [
    "#Create ROC curves for each batch\n",
    "from sklearn.metrics import roc_curve\n",
    "ROC = roc_curve(y_true=LogisticActual, y_score=LogisticPredicted)"
   ]
  },
  {
   "cell_type": "code",
   "execution_count": 72,
   "metadata": {
    "collapsed": false
   },
   "outputs": [
    {
     "data": {
      "text/plain": [
       "<matplotlib.text.Text at 0x9c1ce630>"
      ]
     },
     "execution_count": 72,
     "metadata": {},
     "output_type": "execute_result"
    },
    {
     "data": {
      "image/png": "[encoded data removed]",
      "text/plain": [
       "<matplotlib.figure.Figure at 0x9227af98>"
      ]
     },
     "metadata": {},
     "output_type": "display_data"
    }
   ],
   "source": [
    "#Plot ROC curve\n",
    "plt.figure()\n",
    "plt.plot(ROC[0], ROC[1], label='ROC curve')\n",
    "plt.legend(loc='lower right')\n",
    "plt.xlabel('False Positive Rate')\n",
    "plt.ylabel('True Positive Rate')"
   ]
  },
  {
   "cell_type": "code",
   "execution_count": 73,
   "metadata": {
    "collapsed": false
   },
   "outputs": [
    {
     "name": "stdout",
     "output_type": "stream",
     "text": [
      "The F1 score is 0.0002\n"
     ]
    }
   ],
   "source": [
    "#Print F1 score\n",
    "# F1 = 2 * (precision * recall) / (precision + recall)\n",
    "from sklearn.metrics import f1_score\n",
    "print \"The F1 score is %0.4f\" %(f1_score(y_true=LogisticActual, y_pred=LogisticPredicted))"
   ]
  },
  {
   "cell_type": "code",
   "execution_count": 74,
   "metadata": {
    "collapsed": false
   },
   "outputs": [
    {
     "name": "stdout",
     "output_type": "stream",
     "text": [
      "[[297422     19]\n",
      " [ 68475      7]]\n"
     ]
    }
   ],
   "source": [
    "#Confusion matrix\n",
    "from sklearn.metrics import confusion_matrix\n",
    "print confusion_matrix(y_true=LogisticActual, y_pred=LogisticPredicted)"
   ]
  },
  {
   "cell_type": "code",
   "execution_count": 75,
   "metadata": {
    "collapsed": true
   },
   "outputs": [],
   "source": [
    "#Do probabilistic predictions and rerun ROC curves, confusion matrices based on different probabilities\n",
    "LogisticProbList = []\n",
    "for i in range(15):\n",
    "    LogisticProbList.append(np.array(logistic.predict_proba(OnTime_X2TestFrames[i])))\n",
    "LogisticProbabilities = np.concatenate(LogisticProbList)"
   ]
  },
  {
   "cell_type": "code",
   "execution_count": 89,
   "metadata": {
    "collapsed": false
   },
   "outputs": [],
   "source": [
    "#Create dictionary of arrays of \"predicted\" values where the value is 1 if probability > p\n",
    "LogisticProbGreater = {}\n",
    "\n",
    "#Test\n",
    "p = .5\n",
    "LogisticProbGreater[p] = map(lambda x: 1 if x[1] > p else 0, LogisticProbabilities)\n",
    "assert all(LogisticProbGreater[.5] == LogisticPredicted)\n",
    "\n",
    "#Actual\n",
    "prob_tests = [.01, .05, .1, .15, .2, .25, .3]\n",
    "prob_tests.reverse()\n",
    "for p in prob_tests:\n",
    "    LogisticProbGreater[p] = map(lambda x: 1 if x[1] > p else 0, LogisticProbabilities)"
   ]
  },
  {
   "cell_type": "code",
   "execution_count": 91,
   "metadata": {
    "collapsed": false
   },
   "outputs": [
    {
     "name": "stdout",
     "output_type": "stream",
     "text": [
      "Confusion matrix: cutoff 0.30:\n",
      "[[276348  21093]\n",
      " [ 60097   8385]]\n",
      "Confusion matrix: cutoff 0.25:\n",
      "[[238926  58515]\n",
      " [ 48209  20273]]\n",
      "Confusion matrix: cutoff 0.20:\n",
      "[[174377 123064]\n",
      " [ 31105  37377]]\n",
      "Confusion matrix: cutoff 0.15:\n",
      "[[ 91979 205462]\n",
      " [ 13761  54721]]\n",
      "Confusion matrix: cutoff 0.10:\n",
      "[[ 22632 274809]\n",
      " [  2612  65870]]\n",
      "Confusion matrix: cutoff 0.05:\n",
      "[[   584 296857]\n",
      " [    57  68425]]\n",
      "Confusion matrix: cutoff 0.01:\n",
      "[[     0 297441]\n",
      " [     0  68482]]\n"
     ]
    }
   ],
   "source": [
    "#Create confusion matrices for each definition of \"positive\" by probability\n",
    "for p in prob_tests:\n",
    "    print \"Confusion matrix: cutoff %0.2f:\" %p\n",
    "    print confusion_matrix(y_true=LogisticActual, y_pred=LogisticProbGreater[p])"
   ]
  },
  {
   "cell_type": "code",
   "execution_count": 92,
   "metadata": {
    "collapsed": false
   },
   "outputs": [
    {
     "data": {
      "image/png": "[encoded data removed]",
      "text/plain": [
       "<matplotlib.figure.Figure at 0x940bb908>"
      ]
     },
     "metadata": {},
     "output_type": "display_data"
    },
    {
     "data": {
      "image/png": "[encoded data removed]",
      "text/plain": [
       "<matplotlib.figure.Figure at 0xa412c438>"
      ]
     },
     "metadata": {},
     "output_type": "display_data"
    },
    {
     "data": {
      "image/png": "[encoded data removed]",
      "text/plain": [
       "<matplotlib.figure.Figure at 0xa4a9a8d0>"
      ]
     },
     "metadata": {},
     "output_type": "display_data"
    },
    {
     "data": {
      "image/png": "[encoded data removed]",
      "text/plain": [
       "<matplotlib.figure.Figure at 0xa4b932e8>"
      ]
     },
     "metadata": {},
     "output_type": "display_data"
    },
    {
     "data": {
      "image/png": "[encoded data removed]",
      "text/plain": [
       "<matplotlib.figure.Figure at 0xa4c1ff60>"
      ]
     },
     "metadata": {},
     "output_type": "display_data"
    },
    {
     "data": {
      "image/png": "[encoded data removed]",
      "text/plain": [
       "<matplotlib.figure.Figure at 0xa4d19978>"
      ]
     },
     "metadata": {},
     "output_type": "display_data"
    },
    {
     "data": {
      "image/png": "[encoded data removed]",
      "text/plain": [
       "<matplotlib.figure.Figure at 0xa4dd6630>"
      ]
     },
     "metadata": {},
     "output_type": "display_data"
    }
   ],
   "source": [
    "#Create ROC curve for each definition of \"positive\" by probability\n",
    "for p in prob_tests:\n",
    "    ROC_new = roc_curve(y_true=LogisticActual, y_score=LogisticProbGreater[p])\n",
    "    plt.figure()\n",
    "    plt.plot(ROC_new[0], ROC_new[1], label='ROC curve: cutoff %0.2f' %p)\n",
    "    plt.legend(loc='lower right')\n",
    "    plt.xlabel('False Positive Rate')\n",
    "    plt.ylabel('True Positive Rate')"
   ]
  },
  {
   "cell_type": "code",
   "execution_count": 100,
   "metadata": {
    "collapsed": false
   },
   "outputs": [
    {
     "data": {
      "text/plain": [
       "<matplotlib.text.Text at 0xa50ec438>"
      ]
     },
     "execution_count": 100,
     "metadata": {},
     "output_type": "execute_result"
    },
    {
     "data": {
      "image/png": "[encoded data removed]",
      "text/plain": [
       "<matplotlib.figure.Figure at 0xa2f78cf8>"
      ]
     },
     "metadata": {},
     "output_type": "display_data"
    }
   ],
   "source": [
    "#Create ROC curve using probabilities instead of predicted values\n",
    "ROC_prob = roc_curve(y_true=LogisticActual, y_score=LogisticProbabilities[:,1])\n",
    "plt.figure()\n",
    "plt.plot(ROC_prob[0], ROC_prob[1], label='ROC curve: probabilities')\n",
    "plt.legend(loc='lower right')\n",
    "plt.xlabel('False Positive Rate')\n",
    "plt.ylabel('True Positive Rate')"
   ]
  },
  {
   "cell_type": "code",
   "execution_count": null,
   "metadata": {
    "collapsed": true
   },
   "outputs": [],
   "source": []
  },
  {
   "cell_type": "code",
   "execution_count": null,
   "metadata": {
    "collapsed": true
   },
   "outputs": [],
   "source": []
  }
 ],
 "metadata": {
  "kernelspec": {
   "display_name": "Python 2",
   "language": "python",
   "name": "python2"
  },
  "language_info": {
   "codemirror_mode": {
    "name": "ipython",
    "version": 2
   },
   "file_extension": ".py",
   "mimetype": "text/x-python",
   "name": "python",
   "nbconvert_exporter": "python",
   "pygments_lexer": "ipython2",
   "version": "2.7.11"
  }
 },
 "nbformat": 4,
 "nbformat_minor": 0
}
